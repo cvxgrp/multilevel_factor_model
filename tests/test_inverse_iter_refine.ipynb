{
 "cells": [
  {
   "cell_type": "code",
   "execution_count": 1,
   "metadata": {},
   "outputs": [
    {
     "name": "stderr",
     "output_type": "stream",
     "text": [
      "/Users/parshakova.tanya/opt/anaconda3/envs/routing/lib/python3.9/site-packages/tqdm/auto.py:22: TqdmWarning: IProgress not found. Please update jupyter and ipywidgets. See https://ipywidgets.readthedocs.io/en/stable/user_install.html\n",
      "  from .autonotebook import tqdm as notebook_tqdm\n"
     ]
    }
   ],
   "source": [
    "import numpy as np\n",
    "\n",
    "import matplotlib.pyplot as plt\n",
    "\n",
    "import copy, time\n",
    "import random\n",
    "\n",
    "import mlrfit as mf\n",
    "import mfmodel as mfm"
   ]
  },
  {
   "cell_type": "code",
   "execution_count": 2,
   "metadata": {},
   "outputs": [],
   "source": [
    "# np.random.seed(1001)\n",
    "# random.seed(1001)"
   ]
  },
  {
   "cell_type": "markdown",
   "metadata": {},
   "source": [
    "# True model is MLR factor model with SNR = 4 \n",
    "\n",
    "Let $\\Sigma = FF^T + D$ be MLR. We generate samples using \n",
    "$$\n",
    "y = Fz + e, \\qquad z \\sim N(0, I), \\qquad N(0, D).\n",
    "$$"
   ]
  },
  {
   "cell_type": "code",
   "execution_count": 3,
   "metadata": {},
   "outputs": [],
   "source": [
    "mtype = \"small_mlr_hier\"\n",
    "n = 1500\n",
    "signal_to_noise = 4\n",
    "\n",
    "\n",
    "nsamples = 20\n",
    "L = 10\n",
    "\n",
    "# ranks = np.array([5, 4, 3, 3, 2, 2, 2, 2, 1])\n",
    "ranks = np.array([5, 5, 5, 4, 3, 3, 3, 3, 2, 1])\n",
    "# ranks = np.array([10, 10, 10, 4, 3, 3, 3, 3, 2, 1])\n",
    "rank = ranks.sum()"
   ]
  },
  {
   "cell_type": "code",
   "execution_count": 4,
   "metadata": {},
   "outputs": [
    {
     "name": "stdout",
     "output_type": "stream",
     "text": [
      "level=0, num_groups=1, mean_size=1500.0\n",
      "level=1, num_groups=4, mean_size=375.0\n",
      "level=2, num_groups=8, mean_size=187.5\n",
      "level=3, num_groups=16, mean_size=93.8\n",
      "level=4, num_groups=32, mean_size=46.9\n",
      "level=5, num_groups=64, mean_size=23.4\n",
      "level=6, num_groups=128, mean_size=11.7\n",
      "level=7, num_groups=256, mean_size=5.9\n",
      "level=8, num_groups=512, mean_size=2.9\n",
      "level=9, num_groups=1500, mean_size=1.0\n"
     ]
    }
   ],
   "source": [
    "pi_rows = np.random.permutation(n)\n",
    "hpart = {'rows':{'pi':pi_rows, 'lk':[]}, 'cols':{'pi':pi_rows, 'lk':[]}} \n",
    "# for ngroups in [2, 5, 9, 17, 33, 65, 129, 257, n+1]:\n",
    "for ngroups in [2, 5, 9, 17, 33, 65, 129, 257, 513, n+1]:\n",
    "       hpart['rows']['lk'] += [ np.linspace(0, n, ngroups, endpoint=True, dtype=int)]\n",
    "hpart['cols']['lk'] = hpart['rows']['lk']\n",
    "part_sizes = mfm.print_hpart_numgroups(hpart)\n",
    "mfm.valid_hpart(hpart)"
   ]
  },
  {
   "cell_type": "code",
   "execution_count": 5,
   "metadata": {},
   "outputs": [
    {
     "name": "stdout",
     "output_type": "stream",
     "text": [
      "signal_var=32.88061988734488, noise_var=8.242153957034303\n",
      "SNR=3.9893236717912517, signal_to_noise=4\n"
     ]
    }
   ],
   "source": [
    "true_mlr, true_sparse_F, true_D_noise = mfm.generate_mlr_model(n, hpart, ranks, signal_to_noise, debug=True)\n",
    "true_compressed_F = true_mlr.B[:, :-1]"
   ]
  },
  {
   "cell_type": "code",
   "execution_count": 6,
   "metadata": {},
   "outputs": [
    {
     "data": {
      "image/png": "[encoded data removed]",
      "text/plain": [
       "<Figure size 1000x400 with 2 Axes>"
      ]
     },
     "metadata": {},
     "output_type": "display_data"
    },
    {
     "name": "stdout",
     "output_type": "stream",
     "text": [
      "(1500, 2593)\n"
     ]
    }
   ],
   "source": [
    "plt.figure(figsize=(10, 4)) \n",
    "plt.matshow(true_sparse_F.T, aspect='auto', fignum=1, cmap='hot') \n",
    "plt.colorbar() \n",
    "plt.show()\n",
    "print(true_sparse_F.shape)"
   ]
  },
  {
   "cell_type": "code",
   "execution_count": 7,
   "metadata": {},
   "outputs": [],
   "source": [
    "filename = \"%s_r%d_%d\"%(mtype, rank, n)"
   ]
  },
  {
   "cell_type": "code",
   "execution_count": 8,
   "metadata": {},
   "outputs": [
    {
     "name": "stdout",
     "output_type": "stream",
     "text": [
      "num_levels=10, num_sparsities=512\n",
      "(512, 9) [  0   3   7  15  31  63 127 255 511]\n"
     ]
    }
   ],
   "source": [
    "row_selectors, si_groups, F_hpart, groups_all = mfm.row_col_selections(hpart, return_groups=True)"
   ]
  },
  {
   "cell_type": "code",
   "execution_count": 9,
   "metadata": {},
   "outputs": [
    {
     "name": "stdout",
     "output_type": "stream",
     "text": [
      "signal_var=33.160387436617846, noise_var=8.170880182078161\n",
      "SNR=4.05836173064331, signal_to_noise=4\n",
      "1353.5034813680807 1353.5034813680775\n",
      "signal_var=32.78821449269656, noise_var=8.029390964041237\n",
      "SNR=4.083524471474243, signal_to_noise=4\n",
      "283.84969490465943 283.8496949046588\n",
      "signal_var=33.225009366227724, noise_var=8.387865776012518\n",
      "SNR=3.9610802382227033, signal_to_noise=4\n",
      "2270.3323815728113 2270.3323815728118\n",
      "signal_var=32.84058656229013, noise_var=8.290078687774013\n",
      "SNR=3.9614324301556447, signal_to_noise=4\n",
      "597.5344850628019 597.5344850628012\n",
      "signal_var=32.970915186976406, noise_var=8.444015309083511\n",
      "SNR=3.9046489116982634, signal_to_noise=4\n",
      "83.83672640902975 83.83672640902965\n",
      "PASSED\n"
     ]
    }
   ],
   "source": [
    "for _ in range(5):\n",
    "    true_mlr, true_sparse_F, true_D_noise = mfm.generate_mlr_model(n, hpart, ranks, signal_to_noise, debug=False)\n",
    "    true_compressed_F = true_mlr.B[:, :-1]\n",
    "    F_Lm1, D = true_compressed_F+0, true_D_noise+0\n",
    "    pi = F_hpart['pi']\n",
    "    F_hpart['pi_inv'] = mf.inv_permutation(pi, pi)[0]\n",
    "\n",
    "    ranks_F = ranks + 0\n",
    "    true_mfm = mfm.MFModel(hpart=F_hpart, ranks=ranks, F=F_Lm1, D=D)\n",
    "    true_mfm.inv_coefficients() \n",
    "\n",
    "    F_Lm1 = true_mfm.F \n",
    "    D = true_mfm.D \n",
    "\n",
    "    B_L = true_mfm.inv_B + 0\n",
    "    B_L[:, :-1] /= 3\n",
    "    C_L = true_mfm.inv_C \n",
    "    F_L = np.concatenate([F_Lm1, np.sqrt(D).reshape(-1, 1)], axis=1)\n",
    "\n",
    "    reldiff = mfm.sp_loss_iter_refinement(F_Lm1, B_L, C_L, D, F_hpart, true_mfm.inv_hpart, ranks_F, true_mfm.inv_ranks)\n",
    "    reldiff2 = mfm.loss_iter_refinement(F_L, B_L, C_L, F_hpart, true_mfm.inv_hpart, ranks_F, true_mfm.inv_ranks, \n",
    "                                        true_mfm.si_groups, true_mfm.row_selectors, debug=True)\n",
    "    print(reldiff, reldiff2)\n",
    "    assert np.allclose(reldiff, reldiff2)\n",
    "\n",
    "print(\"PASSED\")"
   ]
  },
  {
   "cell_type": "markdown",
   "metadata": {},
   "source": [
    "# $$ \\Delta = \\tilde \\Sigma^{-1}(I - \\Sigma \\tilde \\Sigma^{-1}) $$"
   ]
  },
  {
   "cell_type": "code",
   "execution_count": 10,
   "metadata": {},
   "outputs": [
    {
     "name": "stdout",
     "output_type": "stream",
     "text": [
      "reldiff=0.0, ranks.sum()=34\n",
      "t=0, reldiff=9.837985363253421e-10, ranks.sum()=133\n",
      "t=1, reldiff=0.0, ranks.sum()=430\n",
      "terminated with reldiff=0.0\n"
     ]
    }
   ],
   "source": [
    "true_mfm = mfm.MFModel(hpart=F_hpart, ranks=ranks, F=F_Lm1, D=D)\n",
    "true_mfm.inv_coefficients(refine=True, printing=True, eps=-1e-16, max_iter=2) "
   ]
  },
  {
   "cell_type": "code",
   "execution_count": 11,
   "metadata": {},
   "outputs": [
    {
     "data": {
      "text/plain": [
       "True"
      ]
     },
     "execution_count": 11,
     "metadata": {},
     "output_type": "execute_result"
    }
   ],
   "source": [
    "tilde_B = mf.convert_compressed_to_sparse(true_mfm.inv_B, hpart[\"rows\"], true_mfm.inv_ranks)\n",
    "tilde_C = mf.convert_compressed_to_sparse(true_mfm.inv_C, hpart[\"rows\"], true_mfm.inv_ranks)\n",
    "Sigma_inv = tilde_B @ tilde_C.T\n",
    "\n",
    "np.allclose(Sigma_inv.toarray(), Sigma_inv.T.toarray())"
   ]
  },
  {
   "cell_type": "code",
   "execution_count": 12,
   "metadata": {},
   "outputs": [
    {
     "name": "stdout",
     "output_type": "stream",
     "text": [
      "[65 65 65 52 39 39 39 39 26  1] [5 5 5 4 3 3 3 3 2 1]\n",
      "reldiff=3.5651134979259225e-16\n",
      "reldiff=5.745818370951445e-16\n",
      "reldiff=4.604987763255074e-16\n",
      "reldiff=3.801977021152301e-16\n",
      "reldiff=2.830205004249465e-16\n",
      "reldiff=4.542517639905722e-16\n",
      "reldiff=3.1912863362131255e-16\n",
      "reldiff=3.889625828843917e-16\n",
      "reldiff=3.507236723777819e-16\n",
      "reldiff=2.631947639215111e-16\n"
     ]
    }
   ],
   "source": [
    "mlr_inv = mf.MLRMatrix(B=true_mfm.inv_B, C=true_mfm.inv_C, hpart=hpart, ranks=true_mfm.inv_ranks)\n",
    "mlr_inv.construct_sparse_format()\n",
    "true_mlr.construct_sparse_format()\n",
    "print(mlr_inv.ranks, true_mlr.ranks)\n",
    "\n",
    "for _ in range(10):\n",
    "    v = np.random.randn(n, 1)\n",
    "    hat_x = mlr_inv.matvec(v)\n",
    "    reldiff = np.linalg.norm(hat_x - np.linalg.solve(true_mlr.matrix(), v)) / np.linalg.norm(v)\n",
    "    print(f\"{reldiff=}\")\n",
    "    assert reldiff < 1e-9"
   ]
  },
  {
   "cell_type": "code",
   "execution_count": 13,
   "metadata": {},
   "outputs": [
    {
     "name": "stdout",
     "output_type": "stream",
     "text": [
      "[65 65 65 52 39 39 39 39 26  1] [5 5 5 4 3 3 3 3 2 1]\n",
      "reldiff=5.880431093687226e-16\n",
      "reldiff=3.562761126057941e-16\n",
      "reldiff=3.270008274606209e-16\n",
      "reldiff=3.642500526379138e-16\n",
      "reldiff=3.4663587468977976e-16\n",
      "reldiff=3.7680145167350916e-16\n",
      "reldiff=4.0523401580180394e-16\n",
      "reldiff=3.5702059541056613e-16\n",
      "reldiff=3.628554939463387e-16\n",
      "reldiff=3.573144166702746e-16\n"
     ]
    }
   ],
   "source": [
    "true_mlr.construct_sparse_format()\n",
    "print(true_mfm.inv_ranks, true_mlr.ranks)\n",
    "\n",
    "for _ in range(10):\n",
    "    v = np.random.randn(n, 1)\n",
    "    hat_x = true_mfm.solve(v)\n",
    "    reldiff = np.linalg.norm(hat_x - np.linalg.solve(true_mlr.matrix(), v)) / np.linalg.norm(v)\n",
    "    print(f\"{reldiff=}\")\n",
    "    assert reldiff < 1e-9"
   ]
  },
  {
   "cell_type": "code",
   "execution_count": 14,
   "metadata": {},
   "outputs": [
    {
     "name": "stdout",
     "output_type": "stream",
     "text": [
      "signal_var=33.20501268791207, noise_var=8.04435932223118\n",
      "SNR=4.12773862501984, signal_to_noise=4\n",
      "1.937936430495712e-12 0.0\n",
      "signal_var=33.1718326218639, noise_var=8.413843768728768\n",
      "SNR=3.9425301364819343, signal_to_noise=4\n",
      "7.75164649175339e-14 2.9071551306788197e-09\n",
      "signal_var=32.93831220717182, noise_var=8.144486383509609\n",
      "SNR=4.044246703372607, signal_to_noise=4\n",
      "6.927213145747236e-14 0.0\n",
      "signal_var=33.33418505780639, noise_var=8.46087967532418\n",
      "SNR=3.939801337090777, signal_to_noise=4\n",
      "1.89455877251732e-13 0.0\n",
      "signal_var=32.52442716507926, noise_var=8.162795047530867\n",
      "SNR=3.984471859907526, signal_to_noise=4\n",
      "1.169067407290065e-13 0.0\n",
      "PASSED\n"
     ]
    }
   ],
   "source": [
    "for _ in range(5):\n",
    "    true_mlr, true_sparse_F, true_D_noise = mfm.generate_mlr_model(n, hpart, ranks, signal_to_noise, debug=False)\n",
    "    true_compressed_F = true_mlr.B[:, :-1]\n",
    "    F_Lm1, D = true_compressed_F+0, true_D_noise+0\n",
    "    pi = F_hpart['pi']\n",
    "    F_hpart['pi_inv'] = mf.inv_permutation(pi, pi)[0]\n",
    "\n",
    "    ranks_F = ranks + 0\n",
    "    true_mfm = mfm.MFModel(hpart=F_hpart, ranks=ranks, F=F_Lm1, D=D)\n",
    "    true_mfm.inv_coefficients() \n",
    "\n",
    "    F_Lm1 = true_mfm.F \n",
    "    D = true_mfm.D \n",
    "\n",
    "    B_L = true_mfm.inv_B \n",
    "    C_L = true_mfm.inv_C \n",
    "    F_L = np.concatenate([F_Lm1, np.sqrt(D).reshape(-1, 1)], axis=1)\n",
    "\n",
    "    reldiff = mfm.sp_loss_iter_refinement(F_Lm1, B_L, C_L, D, F_hpart, hpart[\"rows\"], ranks_F, true_mfm.inv_ranks)\n",
    "    reldiff2 = mfm.loss_iter_refinement(F_L, B_L, C_L, F_hpart, hpart[\"rows\"], ranks_F, true_mfm.inv_ranks, \n",
    "                                        si_groups, row_selectors, debug=True)\n",
    "    print(reldiff, reldiff2)\n",
    "    assert np.allclose(reldiff, reldiff2)\n",
    "\n",
    "print(\"PASSED\")"
   ]
  },
  {
   "cell_type": "code",
   "execution_count": null,
   "metadata": {},
   "outputs": [],
   "source": []
  }
 ],
 "metadata": {
  "kernelspec": {
   "display_name": "routing",
   "language": "python",
   "name": "python3"
  },
  "language_info": {
   "codemirror_mode": {
    "name": "ipython",
    "version": 3
   },
   "file_extension": ".py",
   "mimetype": "text/x-python",
   "name": "python",
   "nbconvert_exporter": "python",
   "pygments_lexer": "ipython3",
   "version": "3.9.16"
  }
 },
 "nbformat": 4,
 "nbformat_minor": 2
}
