{
 "cells": [
  {
   "cell_type": "code",
   "execution_count": 1,
   "metadata": {},
   "outputs": [
    {
     "name": "stderr",
     "output_type": "stream",
     "text": [
      "/Users/parshakova.tanya/opt/anaconda3/envs/routing/lib/python3.9/site-packages/tqdm/auto.py:22: TqdmWarning: IProgress not found. Please update jupyter and ipywidgets. See https://ipywidgets.readthedocs.io/en/stable/user_install.html\n",
      "  from .autonotebook import tqdm as notebook_tqdm\n"
     ]
    }
   ],
   "source": [
    "import numpy as np\n",
    "\n",
    "import matplotlib.pyplot as plt\n",
    "\n",
    "import mlrfit as mf\n",
    "import mfmodel as mfm"
   ]
  },
  {
   "cell_type": "code",
   "execution_count": 2,
   "metadata": {},
   "outputs": [],
   "source": [
    "# np.random.seed(1001)\n",
    "# random.seed(1001)"
   ]
  },
  {
   "cell_type": "markdown",
   "metadata": {},
   "source": [
    "# True model is MLR factor model with SNR = 4 \n",
    "\n",
    "Let $\\Sigma = FF^T + D$ be MLR. We generate samples using \n",
    "$$\n",
    "y = Fz + e, \\qquad z \\sim N(0, I), \\qquad N(0, D).\n",
    "$$"
   ]
  },
  {
   "cell_type": "code",
   "execution_count": 3,
   "metadata": {},
   "outputs": [],
   "source": [
    "mtype = \"small_mlr_hier\"\n",
    "n = 1500\n",
    "signal_to_noise = 4\n",
    "\n",
    "\n",
    "nsamples = 20\n",
    "L = 10\n",
    "\n",
    "# ranks = np.array([5, 4, 3, 3, 2, 2, 2, 2, 1])\n",
    "ranks = np.array([5, 5, 5, 4, 3, 3, 3, 3, 2, 1])\n",
    "# ranks = np.array([10, 10, 10, 4, 3, 3, 3, 3, 2, 1])\n",
    "rank = ranks.sum()"
   ]
  },
  {
   "cell_type": "code",
   "execution_count": 4,
   "metadata": {},
   "outputs": [
    {
     "name": "stdout",
     "output_type": "stream",
     "text": [
      "level=0, num_groups=1, mean_size=1500.0\n",
      "level=1, num_groups=4, mean_size=375.0\n",
      "level=2, num_groups=8, mean_size=187.5\n",
      "level=3, num_groups=16, mean_size=93.8\n",
      "level=4, num_groups=32, mean_size=46.9\n",
      "level=5, num_groups=64, mean_size=23.4\n",
      "level=6, num_groups=128, mean_size=11.7\n",
      "level=7, num_groups=256, mean_size=5.9\n",
      "level=8, num_groups=512, mean_size=2.9\n",
      "level=9, num_groups=1500, mean_size=1.0\n"
     ]
    }
   ],
   "source": [
    "pi_rows = np.random.permutation(n)\n",
    "hpart = {'rows':{'pi':pi_rows, 'lk':[]}, 'cols':{'pi':pi_rows, 'lk':[]}} \n",
    "# for ngroups in [2, 5, 9, 17, 33, 65, 129, 257, n+1]:\n",
    "for ngroups in [2, 5, 9, 17, 33, 65, 129, 257, 513, n+1]:\n",
    "       hpart['rows']['lk'] += [ np.linspace(0, n, ngroups, endpoint=True, dtype=int)]\n",
    "hpart['cols']['lk'] = hpart['rows']['lk']\n",
    "part_sizes = mfm.print_hpart_numgroups(hpart)\n",
    "mfm.valid_hpart(hpart)"
   ]
  },
  {
   "cell_type": "code",
   "execution_count": 5,
   "metadata": {},
   "outputs": [
    {
     "name": "stdout",
     "output_type": "stream",
     "text": [
      "signal_var=32.8048623455216, noise_var=8.074922524438765\n",
      "SNR=4.062560630920933, signal_to_noise=4\n"
     ]
    }
   ],
   "source": [
    "true_mlr, true_sparse_F, true_D_noise = mfm.generate_mlr_model(n, hpart, ranks, signal_to_noise, debug=True)\n",
    "true_compressed_F = true_mlr.B[:, :-1]"
   ]
  },
  {
   "cell_type": "code",
   "execution_count": 6,
   "metadata": {},
   "outputs": [
    {
     "data": {
      "image/png": "[encoded data removed]",
      "text/plain": [
       "<Figure size 1000x400 with 2 Axes>"
      ]
     },
     "metadata": {},
     "output_type": "display_data"
    },
    {
     "name": "stdout",
     "output_type": "stream",
     "text": [
      "(1500, 2593)\n"
     ]
    }
   ],
   "source": [
    "plt.figure(figsize=(10, 4)) \n",
    "plt.matshow(true_sparse_F.T, aspect='auto', fignum=1, cmap='hot') \n",
    "plt.colorbar() \n",
    "plt.show()\n",
    "print(true_sparse_F.shape)"
   ]
  },
  {
   "cell_type": "code",
   "execution_count": 7,
   "metadata": {},
   "outputs": [],
   "source": [
    "filename = \"%s_r%d_%d\"%(mtype, rank, n)"
   ]
  },
  {
   "cell_type": "code",
   "execution_count": 8,
   "metadata": {},
   "outputs": [
    {
     "name": "stdout",
     "output_type": "stream",
     "text": [
      "num_levels=10, num_sparsities=512\n",
      "(512, 9) [  0   3   7  15  31  63 127 255 511]\n"
     ]
    }
   ],
   "source": [
    "row_selectors, si_groups, F_hpart, groups_all = mfm.row_col_selections(hpart, return_groups=True)"
   ]
  },
  {
   "cell_type": "code",
   "execution_count": 10,
   "metadata": {},
   "outputs": [
    {
     "name": "stdout",
     "output_type": "stream",
     "text": [
      "signal_var=33.35739815607043, noise_var=8.409143814058654\n",
      "SNR=3.9668007699312446, signal_to_noise=4\n",
      "114.36906174240958 114.36906174240966\n",
      "signal_var=33.12866699900297, noise_var=8.161161143192647\n",
      "SNR=4.059308034449988, signal_to_noise=4\n",
      "1112.0017548164515 1112.0017548164512\n",
      "signal_var=32.77547432470262, noise_var=8.143127502141372\n",
      "SNR=4.024924614785138, signal_to_noise=4\n",
      "176.9354674667122 176.93546746671217\n",
      "signal_var=33.21406159421827, noise_var=8.217243115837416\n",
      "SNR=4.041995730928723, signal_to_noise=4\n",
      "232.5227303609111 232.52273036091148\n",
      "signal_var=32.820732686718664, noise_var=8.144352209418003\n",
      "SNR=4.029876390753985, signal_to_noise=4\n",
      "2028.6526452962153 2028.652645296216\n",
      "PASSED\n"
     ]
    }
   ],
   "source": [
    "for _ in range(5):\n",
    "    true_mlr, true_sparse_F, true_D_noise = mfm.generate_mlr_model(n, hpart, ranks, signal_to_noise, debug=False)\n",
    "    true_compressed_F = true_mlr.B[:, :-1]\n",
    "    F_Lm1, D = true_compressed_F+0, true_D_noise+0\n",
    "    pi = F_hpart['pi']\n",
    "    F_hpart['pi_inv'] = mf.inv_permutation(pi, pi)[0]\n",
    "\n",
    "    ranks_F = ranks + 0\n",
    "    true_mfm = mfm.MFModel(hpart=F_hpart, ranks=ranks, F=F_Lm1, D=D)\n",
    "    true_mfm.inv_coefficients() \n",
    "\n",
    "    F_Lm1 = true_mfm.F \n",
    "    D = true_mfm.D \n",
    "\n",
    "    B_L = true_mfm.inv_B + 0\n",
    "    B_L[:, :-1] /= 3\n",
    "    C_L = true_mfm.inv_C \n",
    "    F_L = np.concatenate([F_Lm1, np.sqrt(D).reshape(-1, 1)], axis=1)\n",
    "\n",
    "    reldiff = mfm.sp_loss_iter_refinement(F_Lm1, B_L, C_L, D, F_hpart, true_mfm.inv_hpart, ranks_F, true_mfm.inv_ranks)\n",
    "    reldiff2 = mfm.loss_iter_refinement(F_L, B_L, C_L, F_hpart, true_mfm.inv_hpart, ranks_F, true_mfm.inv_ranks, \n",
    "                                        si_groups, row_selectors, debug=True)\n",
    "    print(reldiff, reldiff2)\n",
    "    assert np.allclose(reldiff, reldiff2)\n",
    "\n",
    "print(\"PASSED\")"
   ]
  },
  {
   "cell_type": "markdown",
   "metadata": {},
   "source": [
    "# $$ \\Delta = \\tilde \\Sigma^{-1}(I - \\Sigma \\tilde \\Sigma^{-1}) $$"
   ]
  },
  {
   "cell_type": "code",
   "execution_count": 11,
   "metadata": {},
   "outputs": [
    {
     "name": "stdout",
     "output_type": "stream",
     "text": [
      "reldiff=0.0, ranks.sum()=34\n",
      "t=0, reldiff=0.0, ranks.sum()=133\n",
      "t=1, reldiff=0.0, ranks.sum()=430\n",
      "terminated with reldiff=0.0\n"
     ]
    }
   ],
   "source": [
    "true_mfm = mfm.MFModel(hpart=F_hpart, ranks=ranks, F=F_Lm1, D=D)\n",
    "true_mfm.inv_coefficients(refine=True, printing=True, eps=-1e-16, max_iter=2) "
   ]
  },
  {
   "cell_type": "code",
   "execution_count": 12,
   "metadata": {},
   "outputs": [
    {
     "data": {
      "text/plain": [
       "True"
      ]
     },
     "execution_count": 12,
     "metadata": {},
     "output_type": "execute_result"
    }
   ],
   "source": [
    "tilde_B = mf.convert_compressed_to_sparse(true_mfm.inv_B, hpart[\"rows\"], true_mfm.inv_ranks)\n",
    "tilde_C = mf.convert_compressed_to_sparse(true_mfm.inv_C, hpart[\"rows\"], true_mfm.inv_ranks)\n",
    "Sigma_inv = tilde_B @ tilde_C.T\n",
    "\n",
    "np.allclose(Sigma_inv.toarray(), Sigma_inv.T.toarray())"
   ]
  },
  {
   "cell_type": "code",
   "execution_count": 13,
   "metadata": {},
   "outputs": [
    {
     "name": "stdout",
     "output_type": "stream",
     "text": [
      "[65 65 65 52 39 39 39 39 26  1] [5 5 5 4 3 3 3 3 2 1]\n",
      "reldiff=5.249014783733304e-15\n",
      "reldiff=1.413503765111829e-14\n",
      "reldiff=1.2879682975523282e-14\n",
      "reldiff=1.0707514322239081e-14\n",
      "reldiff=1.0096713616439261e-14\n",
      "reldiff=1.037349432909501e-14\n",
      "reldiff=9.236202340904463e-15\n",
      "reldiff=3.179852139365793e-14\n",
      "reldiff=1.5382725439846852e-14\n",
      "reldiff=1.8528799028679584e-14\n"
     ]
    }
   ],
   "source": [
    "mlr_inv = mf.MLRMatrix(B=true_mfm.inv_B, C=true_mfm.inv_C, hpart=hpart, ranks=true_mfm.inv_ranks)\n",
    "mlr_inv.construct_sparse_format()\n",
    "true_mlr.construct_sparse_format()\n",
    "print(mlr_inv.ranks, true_mlr.ranks)\n",
    "\n",
    "for _ in range(10):\n",
    "    v = np.random.randn(n, 1)\n",
    "    hat_x = mlr_inv.matvec(v)\n",
    "    reldiff = np.linalg.norm(hat_x - np.linalg.solve(true_mlr.matrix(), v)) / np.linalg.norm(v)\n",
    "    print(f\"{reldiff=}\")\n",
    "    assert reldiff < 1e-9"
   ]
  },
  {
   "cell_type": "code",
   "execution_count": 14,
   "metadata": {},
   "outputs": [
    {
     "name": "stdout",
     "output_type": "stream",
     "text": [
      "[65 65 65 52 39 39 39 39 26  1] [5 5 5 4 3 3 3 3 2 1]\n",
      "reldiff=1.0490137131143265e-14\n",
      "reldiff=5.5019569566002585e-15\n",
      "reldiff=6.781341787644078e-15\n",
      "reldiff=1.2290504630553983e-14\n",
      "reldiff=3.5996862335275105e-15\n",
      "reldiff=9.158327542517347e-15\n",
      "reldiff=1.1532801912310344e-14\n",
      "reldiff=1.870756365833556e-14\n",
      "reldiff=1.5476518476883112e-14\n",
      "reldiff=9.45918948641581e-15\n"
     ]
    }
   ],
   "source": [
    "true_mlr.construct_sparse_format()\n",
    "print(true_mfm.inv_ranks, true_mlr.ranks)\n",
    "\n",
    "for _ in range(10):\n",
    "    v = np.random.randn(n, 1)\n",
    "    hat_x = true_mfm.solve(v)\n",
    "    reldiff = np.linalg.norm(hat_x - np.linalg.solve(true_mlr.matrix(), v)) / np.linalg.norm(v)\n",
    "    print(f\"{reldiff=}\")\n",
    "    assert reldiff < 1e-9"
   ]
  },
  {
   "cell_type": "code",
   "execution_count": 15,
   "metadata": {},
   "outputs": [
    {
     "name": "stdout",
     "output_type": "stream",
     "text": [
      "signal_var=32.743048047787255, noise_var=8.162841757589495\n",
      "SNR=4.011231507378424, signal_to_noise=4\n",
      "1.480400872141634e-11 0.0\n",
      "signal_var=33.02413365903145, noise_var=8.419617718565032\n",
      "SNR=3.922284213238579, signal_to_noise=4\n",
      "1.3821839703308944e-10 5.6524115461564106e-09\n",
      "signal_var=33.20497776656362, noise_var=8.282458356675411\n",
      "SNR=4.00907270965044, signal_to_noise=4\n",
      "3.0305882940232204e-12 0.0\n",
      "signal_var=33.45913172433949, noise_var=8.341686008582172\n",
      "SNR=4.0110754216732385, signal_to_noise=4\n",
      "4.450208280414907e-13 6.926618503805472e-10\n",
      "signal_var=32.8116515626674, noise_var=8.35273779125263\n",
      "SNR=3.928251117499374, signal_to_noise=4\n",
      "2.7031407863924708e-12 0.0\n",
      "PASSED\n"
     ]
    }
   ],
   "source": [
    "for _ in range(5):\n",
    "    true_mlr, true_sparse_F, true_D_noise = mfm.generate_mlr_model(n, hpart, ranks, signal_to_noise, debug=False)\n",
    "    true_compressed_F = true_mlr.B[:, :-1]\n",
    "    F_Lm1, D = true_compressed_F+0, true_D_noise+0\n",
    "    pi = F_hpart['pi']\n",
    "    F_hpart['pi_inv'] = mf.inv_permutation(pi, pi)[0]\n",
    "\n",
    "    ranks_F = ranks + 0\n",
    "    true_mfm = mfm.MFModel(hpart=F_hpart, ranks=ranks, F=F_Lm1, D=D)\n",
    "    true_mfm.inv_coefficients() \n",
    "\n",
    "    F_Lm1 = true_mfm.F \n",
    "    D = true_mfm.D \n",
    "\n",
    "    B_L = true_mfm.inv_B \n",
    "    C_L = true_mfm.inv_C \n",
    "    F_L = np.concatenate([F_Lm1, np.sqrt(D).reshape(-1, 1)], axis=1)\n",
    "\n",
    "    reldiff = mfm.sp_loss_iter_refinement(F_Lm1, B_L, C_L, D, F_hpart, hpart[\"rows\"], ranks_F, true_mfm.inv_ranks)\n",
    "    reldiff2 = mfm.loss_iter_refinement(F_L, B_L, C_L, F_hpart, hpart[\"rows\"], ranks_F, true_mfm.inv_ranks, \n",
    "                                        si_groups, row_selectors, debug=True)\n",
    "    print(reldiff, reldiff2)\n",
    "    assert np.allclose(reldiff, reldiff2)\n",
    "\n",
    "print(\"PASSED\")"
   ]
  },
  {
   "cell_type": "code",
   "execution_count": null,
   "metadata": {},
   "outputs": [],
   "source": []
  },
  {
   "cell_type": "code",
   "execution_count": null,
   "metadata": {},
   "outputs": [],
   "source": []
  }
 ],
 "metadata": {
  "kernelspec": {
   "display_name": "routing",
   "language": "python",
   "name": "python3"
  },
  "language_info": {
   "codemirror_mode": {
    "name": "ipython",
    "version": 3
   },
   "file_extension": ".py",
   "mimetype": "text/x-python",
   "name": "python",
   "nbconvert_exporter": "python",
   "pygments_lexer": "ipython3",
   "version": "3.9.16"
  }
 },
 "nbformat": 4,
 "nbformat_minor": 2
}
