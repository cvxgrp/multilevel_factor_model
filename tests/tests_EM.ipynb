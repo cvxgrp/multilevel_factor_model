{
 "cells": [
  {
   "cell_type": "code",
   "execution_count": 1,
   "id": "6d72e5d4",
   "metadata": {},
   "outputs": [
    {
     "name": "stderr",
     "output_type": "stream",
     "text": [
      "/Users/parshakova.tanya/opt/anaconda3/envs/routing/lib/python3.9/site-packages/tqdm/auto.py:22: TqdmWarning: IProgress not found. Please update jupyter and ipywidgets. See https://ipywidgets.readthedocs.io/en/stable/user_install.html\n",
      "  from .autonotebook import tqdm as notebook_tqdm\n"
     ]
    }
   ],
   "source": [
    "import numpy as np\n",
    "\n",
    "import seaborn as sns\n",
    "import matplotlib.pyplot as plt\n",
    "\n",
    "import copy, time\n",
    "import random\n",
    "import pickle\n",
    "import scipy\n",
    "\n",
    "import mlrfit as mf\n",
    "from tqdm import tqdm\n",
    "\n",
    "import hfmfit as hf"
   ]
  },
  {
   "cell_type": "code",
   "execution_count": 2,
   "id": "4759ee57",
   "metadata": {},
   "outputs": [],
   "source": [
    "np.random.seed(1001)\n",
    "random.seed(1001)"
   ]
  },
  {
   "cell_type": "code",
   "execution_count": 3,
   "id": "b63e70b4",
   "metadata": {},
   "outputs": [
    {
     "name": "stdout",
     "output_type": "stream",
     "text": [
      "num_levels=10, num_sparsities=256\n",
      "(256, 9) [  0   1   3   7  15  31  63 127 255]\n"
     ]
    },
    {
     "name": "stderr",
     "output_type": "stream",
     "text": [
      "100%|██████████| 256/256 [00:00<00:00, 1048.66it/s]\n"
     ]
    },
    {
     "name": "stdout",
     "output_type": "stream",
     "text": [
      "num_levels=10, num_sparsities=256\n",
      "(256, 9) [  0   1   3   7  15  31  63 127 255]\n"
     ]
    },
    {
     "name": "stderr",
     "output_type": "stream",
     "text": [
      "100%|██████████| 256/256 [00:00<00:00, 1135.98it/s]\n"
     ]
    },
    {
     "name": "stdout",
     "output_type": "stream",
     "text": [
      "num_levels=10, num_sparsities=256\n",
      "(256, 9) [  0   1   3   7  15  31  63 127 255]\n"
     ]
    },
    {
     "name": "stderr",
     "output_type": "stream",
     "text": [
      "100%|██████████| 256/256 [00:00<00:00, 1161.74it/s]\n"
     ]
    },
    {
     "name": "stdout",
     "output_type": "stream",
     "text": [
      "num_levels=10, num_sparsities=256\n",
      "(256, 9) [  0   1   3   7  15  31  63 127 255]\n"
     ]
    },
    {
     "name": "stderr",
     "output_type": "stream",
     "text": [
      "100%|██████████| 256/256 [00:00<00:00, 1151.35it/s]\n"
     ]
    },
    {
     "name": "stdout",
     "output_type": "stream",
     "text": [
      "num_levels=10, num_sparsities=256\n",
      "(256, 9) [  0   1   3   7  15  31  63 127 255]\n"
     ]
    },
    {
     "name": "stderr",
     "output_type": "stream",
     "text": [
      "100%|██████████| 256/256 [00:00<00:00, 1024.02it/s]\n"
     ]
    }
   ],
   "source": [
    "M = 5\n",
    "m = 300\n",
    "N = 50\n",
    "rank = 40\n",
    "\n",
    "# for _ in tqdm(range(M)):\n",
    "for _ in range(M):\n",
    "    # num_levels = int(np.ceil(np.log2(min(m, m))) + 1)\n",
    "    hpart = mf.random_hpartition(m,  m, level_list=None, symm=True)\n",
    "    ranks = mf.uniform_capped_ranks(rank, hpart)\n",
    "    hat_A = mf.MLRMatrix(hpart=hpart, ranks=ranks, debug=True)\n",
    "    hat_A.construct_sparse_format()\n",
    "    hat_A.B[:, -1] = np.abs(hat_A.B[:, -1]) + 1e-3\n",
    "    hat_A.C = hat_A.B\n",
    "    # hat_A.C[:, -1] = np.abs(hat_A.C[:, -1]) + 1e-3\n",
    "\n",
    "    part_sizes = []\n",
    "    for level in range(len(hat_A.hpart['rows']['lk'])):\n",
    "        part_sizes += [hat_A.hpart['rows']['lk'][level].size-1]\n",
    "\n",
    "    F0, D0 = hat_A.B[:, :-1], np.square(hat_A.B[:, -1:])\n",
    "    assert F0.shape[1] == rank-1 and np.allclose(np.concatenate([F0, np.sqrt(D0)], axis=1), hat_A.B)\n",
    "    D0 = D0[:, 0]\n",
    "    F_hpart = {\"lk\": hat_A.hpart['rows']['lk'][:-1], \"pi\":hat_A.hpart['rows']['pi']}\n",
    "\n",
    "    tilde_F0 = mf.convert_compressed_to_sparse(F0, F_hpart, ranks[:-1])\n",
    "    Sigma0 = hf.perm_hat_Sigma(F0, D0, F_hpart, ranks) \n",
    "    assert np.allclose(Sigma0, tilde_F0 @ tilde_F0.T + np.diag(D0.flatten()))\n",
    "    assert np.allclose(Sigma0[hat_A.pi_inv_rows, :][:, hat_A.pi_inv_cols], hat_A.matrix())\n",
    "\n",
    "    row_selectors, si_groups, F_hpart = hf.row_col_selections(hat_A.hpart)\n",
    "    num_sparsities = row_selectors.size - 1\n",
    "    lu, piv = scipy.linalg.lu_factor(Sigma0)\n",
    "    Y = np.random.randn(N, m)\n",
    "    for si in tqdm(range(num_sparsities)):\n",
    "        r1, r2 = row_selectors[si: si+2]\n",
    "        si_col = hf.group_to_indices(si_groups[si], part_sizes, ranks)\n",
    "        ri_F0_ciT = F0[r1:r2, :]\n",
    "        # test column selection in group_to_indices\n",
    "        assert np.allclose(ri_F0_ciT, tilde_F0[r1:r2, si_col].todense())\n",
    "        ri_At_ci_t, ci_B_ci, r1, r2 = hf.EM_intermediate_matrices(tilde_F0, Y, lu, piv, ranks, si, part_sizes, si_groups, row_selectors)\n",
    "\n",
    "        # computation of diagonal D\n",
    "        M1 = (1/N) * np.diag(Y[:, r1:r2].T @ Y[:, r1:r2] - 2 * ri_F0_ciT @ ri_At_ci_t + ri_F0_ciT @ ci_B_ci @ ri_F0_ciT.T)\n",
    "        M2 = (1/N) * ( np.einsum('ij,ji->i', Y[:, r1:r2].T, Y[:, r1:r2]) \\\n",
    "                            - 2 * np.einsum('ij,ji->i', ri_F0_ciT, ri_At_ci_t) \\\n",
    "                            + np.einsum('ij,jk,ki->i', ri_F0_ciT, ci_B_ci, ri_F0_ciT.T))\n",
    "        assert np.allclose(M1, M2)\n",
    "        assert np.allclose(np.sum(M1 * np.power(D0[r1:r2], -1)), \n",
    "                           np.trace(np.diag(M1) @ np.diag(np.power(D0[r1:r2], -1))))"
   ]
  },
  {
   "cell_type": "code",
   "execution_count": 4,
   "id": "1a51e229",
   "metadata": {},
   "outputs": [
    {
     "name": "stdout",
     "output_type": "stream",
     "text": [
      "num_levels=10, num_sparsities=256\n",
      "(256, 9) [  0   1   3   7  15  31  63 127 255]\n",
      "loglikelihoods[1]=-753.6372539527067, loglikelihoods[-1]=-282.20986713667537\n",
      "num_levels=10, num_sparsities=256\n",
      "(256, 9) [  0   1   3   7  15  31  63 127 255]\n",
      "loglikelihoods[1]=-752.7646024883942, loglikelihoods[-1]=-282.1563629965833\n",
      "num_levels=10, num_sparsities=256\n",
      "(256, 9) [  0   1   3   7  15  31  63 127 255]\n",
      "loglikelihoods[1]=-751.400231782786, loglikelihoods[-1]=-282.212993628843\n",
      "num_levels=10, num_sparsities=256\n",
      "(256, 9) [  0   1   3   7  15  31  63 127 255]\n",
      "loglikelihoods[1]=-755.4589770856064, loglikelihoods[-1]=-283.76682463295174\n",
      "num_levels=10, num_sparsities=256\n",
      "(256, 9) [  0   1   3   7  15  31  63 127 255]\n",
      "loglikelihoods[1]=-754.0996929944714, loglikelihoods[-1]=-279.8664037410366\n",
      "num_levels=10, num_sparsities=256\n",
      "(256, 9) [  0   1   3   7  15  31  63 127 255]\n",
      "loglikelihoods[1]=-753.3954847697074, loglikelihoods[-1]=-283.00241186930197\n",
      "num_levels=10, num_sparsities=256\n",
      "(256, 9) [  0   1   3   7  15  31  63 127 255]\n",
      "loglikelihoods[1]=-756.4043018268551, loglikelihoods[-1]=-282.67501697737515\n",
      "num_levels=10, num_sparsities=256\n",
      "(256, 9) [  0   1   3   7  15  31  63 127 255]\n",
      "loglikelihoods[1]=-753.1093454397273, loglikelihoods[-1]=-282.8810844706726\n",
      "num_levels=10, num_sparsities=256\n",
      "(256, 9) [  0   1   3   7  15  31  63 127 255]\n",
      "loglikelihoods[1]=-753.0485752095937, loglikelihoods[-1]=-283.6235270511996\n",
      "num_levels=10, num_sparsities=256\n",
      "(256, 9) [  0   1   3   7  15  31  63 127 255]\n",
      "loglikelihoods[1]=-750.1701539180785, loglikelihoods[-1]=-283.6169155682936\n",
      "num_levels=10, num_sparsities=256\n",
      "(256, 9) [  0   1   3   7  15  31  63 127 255]\n",
      "loglikelihoods[1]=-751.5902860986612, loglikelihoods[-1]=-283.76531048758466\n",
      "num_levels=10, num_sparsities=256\n",
      "(256, 9) [  0   1   3   7  15  31  63 127 255]\n",
      "loglikelihoods[1]=-752.5277071235093, loglikelihoods[-1]=-284.2193568530296\n",
      "num_levels=10, num_sparsities=256\n",
      "(256, 9) [  0   1   3   7  15  31  63 127 255]\n",
      "loglikelihoods[1]=-753.3985102383793, loglikelihoods[-1]=-282.94239175279733\n",
      "num_levels=10, num_sparsities=256\n",
      "(256, 9) [  0   1   3   7  15  31  63 127 255]\n",
      "loglikelihoods[1]=-753.9915110815471, loglikelihoods[-1]=-282.6524784234874\n",
      "num_levels=10, num_sparsities=256\n",
      "(256, 9) [  0   1   3   7  15  31  63 127 255]\n",
      "loglikelihoods[1]=-748.2072956436034, loglikelihoods[-1]=-282.0771743730091\n",
      "num_levels=10, num_sparsities=256\n",
      "(256, 9) [  0   1   3   7  15  31  63 127 255]\n",
      "loglikelihoods[1]=-754.3308253707248, loglikelihoods[-1]=-285.6019269805465\n",
      "num_levels=10, num_sparsities=256\n",
      "(256, 9) [  0   1   3   7  15  31  63 127 255]\n",
      "loglikelihoods[1]=-754.5163472667806, loglikelihoods[-1]=-281.1055071436465\n",
      "num_levels=10, num_sparsities=256\n",
      "(256, 9) [  0   1   3   7  15  31  63 127 255]\n",
      "loglikelihoods[1]=-753.7365215195919, loglikelihoods[-1]=-282.81940398059146\n",
      "num_levels=10, num_sparsities=256\n",
      "(256, 9) [  0   1   3   7  15  31  63 127 255]\n",
      "loglikelihoods[1]=-752.1749641945232, loglikelihoods[-1]=-284.1913270280457\n",
      "num_levels=10, num_sparsities=256\n",
      "(256, 9) [  0   1   3   7  15  31  63 127 255]\n",
      "loglikelihoods[1]=-750.7638461357293, loglikelihoods[-1]=-283.5094031508002\n",
      "num_levels=10, num_sparsities=256\n",
      "(256, 9) [  0   1   3   7  15  31  63 127 255]\n",
      "loglikelihoods[1]=-750.6106229598968, loglikelihoods[-1]=-280.7444049062289\n",
      "num_levels=10, num_sparsities=256\n",
      "(256, 9) [  0   1   3   7  15  31  63 127 255]\n",
      "loglikelihoods[1]=-752.316811236019, loglikelihoods[-1]=-281.5858121048239\n",
      "num_levels=10, num_sparsities=256\n",
      "(256, 9) [  0   1   3   7  15  31  63 127 255]\n",
      "loglikelihoods[1]=-756.1344987620793, loglikelihoods[-1]=-281.3867713182372\n",
      "num_levels=10, num_sparsities=256\n",
      "(256, 9) [  0   1   3   7  15  31  63 127 255]\n",
      "loglikelihoods[1]=-751.2766323251785, loglikelihoods[-1]=-284.3367252032536\n",
      "num_levels=10, num_sparsities=256\n",
      "(256, 9) [  0   1   3   7  15  31  63 127 255]\n",
      "loglikelihoods[1]=-752.9201311894476, loglikelihoods[-1]=-282.8859900557152\n",
      "num_levels=10, num_sparsities=256\n",
      "(256, 9) [  0   1   3   7  15  31  63 127 255]\n",
      "loglikelihoods[1]=-750.4953758339158, loglikelihoods[-1]=-281.4070724966428\n",
      "num_levels=10, num_sparsities=256\n",
      "(256, 9) [  0   1   3   7  15  31  63 127 255]\n",
      "loglikelihoods[1]=-751.4678759946806, loglikelihoods[-1]=-284.98646417140225\n",
      "num_levels=10, num_sparsities=256\n",
      "(256, 9) [  0   1   3   7  15  31  63 127 255]\n",
      "loglikelihoods[1]=-754.1956531686712, loglikelihoods[-1]=-283.0165383041203\n",
      "num_levels=10, num_sparsities=256\n",
      "(256, 9) [  0   1   3   7  15  31  63 127 255]\n",
      "loglikelihoods[1]=-750.6003290052774, loglikelihoods[-1]=-282.761559243625\n",
      "num_levels=10, num_sparsities=256\n",
      "(256, 9) [  0   1   3   7  15  31  63 127 255]\n",
      "loglikelihoods[1]=-754.3161252551929, loglikelihoods[-1]=-282.2275826499134\n",
      "num_levels=10, num_sparsities=256\n",
      "(256, 9) [  0   1   3   7  15  31  63 127 255]\n",
      "loglikelihoods[1]=-751.0960213577465, loglikelihoods[-1]=-281.13475363828934\n",
      "num_levels=10, num_sparsities=256\n",
      "(256, 9) [  0   1   3   7  15  31  63 127 255]\n",
      "loglikelihoods[1]=-751.3566813192369, loglikelihoods[-1]=-279.97371847390366\n",
      "num_levels=10, num_sparsities=256\n",
      "(256, 9) [  0   1   3   7  15  31  63 127 255]\n",
      "loglikelihoods[1]=-749.8665170930176, loglikelihoods[-1]=-283.17908942938755\n",
      "num_levels=10, num_sparsities=256\n",
      "(256, 9) [  0   1   3   7  15  31  63 127 255]\n",
      "loglikelihoods[1]=-753.6159402660928, loglikelihoods[-1]=-283.82701893475087\n",
      "num_levels=10, num_sparsities=256\n",
      "(256, 9) [  0   1   3   7  15  31  63 127 255]\n",
      "loglikelihoods[1]=-754.7695478060233, loglikelihoods[-1]=-282.05436287340996\n",
      "num_levels=10, num_sparsities=256\n",
      "(256, 9) [  0   1   3   7  15  31  63 127 255]\n",
      "loglikelihoods[1]=-755.0027204628268, loglikelihoods[-1]=-283.62791896509947\n",
      "num_levels=10, num_sparsities=256\n",
      "(256, 9) [  0   1   3   7  15  31  63 127 255]\n",
      "loglikelihoods[1]=-749.9012664226082, loglikelihoods[-1]=-282.47946262284\n",
      "num_levels=10, num_sparsities=256\n",
      "(256, 9) [  0   1   3   7  15  31  63 127 255]\n",
      "loglikelihoods[1]=-752.9988906384995, loglikelihoods[-1]=-284.01554701600634\n",
      "num_levels=10, num_sparsities=256\n",
      "(256, 9) [  0   1   3   7  15  31  63 127 255]\n",
      "loglikelihoods[1]=-751.0115027304913, loglikelihoods[-1]=-282.6438323769125\n",
      "num_levels=10, num_sparsities=256\n",
      "(256, 9) [  0   1   3   7  15  31  63 127 255]\n",
      "loglikelihoods[1]=-747.6256394097296, loglikelihoods[-1]=-281.0311858901422\n",
      "num_levels=10, num_sparsities=256\n",
      "(256, 9) [  0   1   3   7  15  31  63 127 255]\n",
      "loglikelihoods[1]=-754.0892241686715, loglikelihoods[-1]=-282.1810206320591\n",
      "num_levels=10, num_sparsities=256\n",
      "(256, 9) [  0   1   3   7  15  31  63 127 255]\n",
      "loglikelihoods[1]=-753.9718870840462, loglikelihoods[-1]=-282.4909151982842\n",
      "num_levels=10, num_sparsities=256\n",
      "(256, 9) [  0   1   3   7  15  31  63 127 255]\n",
      "loglikelihoods[1]=-748.6084527821395, loglikelihoods[-1]=-280.45138150343837\n",
      "num_levels=10, num_sparsities=256\n",
      "(256, 9) [  0   1   3   7  15  31  63 127 255]\n",
      "loglikelihoods[1]=-750.4410312499787, loglikelihoods[-1]=-283.4655111971888\n",
      "num_levels=10, num_sparsities=256\n",
      "(256, 9) [  0   1   3   7  15  31  63 127 255]\n",
      "loglikelihoods[1]=-748.5039491763916, loglikelihoods[-1]=-282.1316765437183\n",
      "num_levels=10, num_sparsities=256\n",
      "(256, 9) [  0   1   3   7  15  31  63 127 255]\n",
      "loglikelihoods[1]=-753.576810544831, loglikelihoods[-1]=-281.7717676961865\n",
      "num_levels=10, num_sparsities=256\n",
      "(256, 9) [  0   1   3   7  15  31  63 127 255]\n",
      "loglikelihoods[1]=-753.4733875270335, loglikelihoods[-1]=-283.75154213854296\n",
      "num_levels=10, num_sparsities=256\n",
      "(256, 9) [  0   1   3   7  15  31  63 127 255]\n",
      "loglikelihoods[1]=-752.3638566921811, loglikelihoods[-1]=-280.92339353230545\n",
      "num_levels=10, num_sparsities=256\n",
      "(256, 9) [  0   1   3   7  15  31  63 127 255]\n",
      "loglikelihoods[1]=-751.4283730498346, loglikelihoods[-1]=-285.3021908073063\n",
      "num_levels=10, num_sparsities=256\n",
      "(256, 9) [  0   1   3   7  15  31  63 127 255]\n",
      "loglikelihoods[1]=-752.6114126388939, loglikelihoods[-1]=-284.16064509940156\n",
      "num_levels=10, num_sparsities=256\n",
      "(256, 9) [  0   1   3   7  15  31  63 127 255]\n",
      "loglikelihoods[1]=-747.5362226131687, loglikelihoods[-1]=-283.8000631110484\n",
      "num_levels=10, num_sparsities=256\n",
      "(256, 9) [  0   1   3   7  15  31  63 127 255]\n",
      "loglikelihoods[1]=-751.1736439635575, loglikelihoods[-1]=-281.9197878298265\n",
      "num_levels=10, num_sparsities=256\n",
      "(256, 9) [  0   1   3   7  15  31  63 127 255]\n",
      "loglikelihoods[1]=-753.6403684599483, loglikelihoods[-1]=-280.36258403868675\n",
      "num_levels=10, num_sparsities=256\n",
      "(256, 9) [  0   1   3   7  15  31  63 127 255]\n",
      "loglikelihoods[1]=-753.7596059791557, loglikelihoods[-1]=-285.49024161921204\n",
      "num_levels=10, num_sparsities=256\n",
      "(256, 9) [  0   1   3   7  15  31  63 127 255]\n",
      "loglikelihoods[1]=-749.5670759708894, loglikelihoods[-1]=-280.0789829974647\n",
      "num_levels=10, num_sparsities=256\n",
      "(256, 9) [  0   1   3   7  15  31  63 127 255]\n",
      "loglikelihoods[1]=-748.8659228054682, loglikelihoods[-1]=-282.1503500981354\n",
      "num_levels=10, num_sparsities=256\n",
      "(256, 9) [  0   1   3   7  15  31  63 127 255]\n",
      "loglikelihoods[1]=-753.8019591676328, loglikelihoods[-1]=-280.1991390179265\n",
      "num_levels=10, num_sparsities=256\n",
      "(256, 9) [  0   1   3   7  15  31  63 127 255]\n",
      "loglikelihoods[1]=-749.6100090266212, loglikelihoods[-1]=-282.1408812954566\n",
      "num_levels=10, num_sparsities=256\n",
      "(256, 9) [  0   1   3   7  15  31  63 127 255]\n",
      "loglikelihoods[1]=-754.992411420068, loglikelihoods[-1]=-282.01909340689895\n",
      "num_levels=10, num_sparsities=256\n",
      "(256, 9) [  0   1   3   7  15  31  63 127 255]\n",
      "loglikelihoods[1]=-752.8582425744462, loglikelihoods[-1]=-283.74558386262856\n",
      "num_levels=10, num_sparsities=256\n",
      "(256, 9) [  0   1   3   7  15  31  63 127 255]\n",
      "loglikelihoods[1]=-754.7993135058651, loglikelihoods[-1]=-282.5386717424875\n",
      "num_levels=10, num_sparsities=256\n",
      "(256, 9) [  0   1   3   7  15  31  63 127 255]\n",
      "loglikelihoods[1]=-748.6334290339714, loglikelihoods[-1]=-281.1305893339343\n",
      "num_levels=10, num_sparsities=256\n",
      "(256, 9) [  0   1   3   7  15  31  63 127 255]\n",
      "loglikelihoods[1]=-751.5955032752664, loglikelihoods[-1]=-282.61395845896067\n",
      "num_levels=10, num_sparsities=256\n",
      "(256, 9) [  0   1   3   7  15  31  63 127 255]\n",
      "loglikelihoods[1]=-752.8833831368594, loglikelihoods[-1]=-282.80359956131963\n",
      "num_levels=10, num_sparsities=256\n",
      "(256, 9) [  0   1   3   7  15  31  63 127 255]\n",
      "loglikelihoods[1]=-748.4521295284286, loglikelihoods[-1]=-284.5939458488161\n",
      "num_levels=10, num_sparsities=256\n",
      "(256, 9) [  0   1   3   7  15  31  63 127 255]\n",
      "loglikelihoods[1]=-751.9317115223507, loglikelihoods[-1]=-280.9139303322572\n",
      "num_levels=10, num_sparsities=256\n",
      "(256, 9) [  0   1   3   7  15  31  63 127 255]\n",
      "loglikelihoods[1]=-747.7468482892139, loglikelihoods[-1]=-282.37422203252436\n",
      "num_levels=10, num_sparsities=256\n",
      "(256, 9) [  0   1   3   7  15  31  63 127 255]\n",
      "loglikelihoods[1]=-753.4309440802132, loglikelihoods[-1]=-282.76156265386845\n",
      "num_levels=10, num_sparsities=256\n",
      "(256, 9) [  0   1   3   7  15  31  63 127 255]\n",
      "loglikelihoods[1]=-752.0745628974025, loglikelihoods[-1]=-282.2382128914248\n",
      "num_levels=10, num_sparsities=256\n",
      "(256, 9) [  0   1   3   7  15  31  63 127 255]\n",
      "loglikelihoods[1]=-752.6498490606323, loglikelihoods[-1]=-281.8609650281702\n",
      "num_levels=10, num_sparsities=256\n",
      "(256, 9) [  0   1   3   7  15  31  63 127 255]\n",
      "loglikelihoods[1]=-747.5109224224929, loglikelihoods[-1]=-284.9161110927426\n",
      "num_levels=10, num_sparsities=256\n",
      "(256, 9) [  0   1   3   7  15  31  63 127 255]\n",
      "loglikelihoods[1]=-755.2484258373499, loglikelihoods[-1]=-282.7149493182977\n",
      "num_levels=10, num_sparsities=256\n",
      "(256, 9) [  0   1   3   7  15  31  63 127 255]\n",
      "loglikelihoods[1]=-755.0397761155724, loglikelihoods[-1]=-282.34142806862036\n",
      "num_levels=10, num_sparsities=256\n",
      "(256, 9) [  0   1   3   7  15  31  63 127 255]\n",
      "loglikelihoods[1]=-750.4346857269705, loglikelihoods[-1]=-285.3790702875399\n",
      "num_levels=10, num_sparsities=256\n",
      "(256, 9) [  0   1   3   7  15  31  63 127 255]\n",
      "loglikelihoods[1]=-753.9115049199936, loglikelihoods[-1]=-281.61853685239635\n",
      "num_levels=10, num_sparsities=256\n",
      "(256, 9) [  0   1   3   7  15  31  63 127 255]\n",
      "loglikelihoods[1]=-750.9126455823434, loglikelihoods[-1]=-282.710249407745\n",
      "num_levels=10, num_sparsities=256\n",
      "(256, 9) [  0   1   3   7  15  31  63 127 255]\n",
      "loglikelihoods[1]=-753.302154581758, loglikelihoods[-1]=-281.50354139474143\n",
      "num_levels=10, num_sparsities=256\n",
      "(256, 9) [  0   1   3   7  15  31  63 127 255]\n",
      "loglikelihoods[1]=-748.6856112198227, loglikelihoods[-1]=-280.258866606105\n",
      "num_levels=10, num_sparsities=256\n",
      "(256, 9) [  0   1   3   7  15  31  63 127 255]\n",
      "loglikelihoods[1]=-753.8738030389017, loglikelihoods[-1]=-282.7769678126917\n",
      "num_levels=10, num_sparsities=256\n",
      "(256, 9) [  0   1   3   7  15  31  63 127 255]\n",
      "loglikelihoods[1]=-752.0699780032851, loglikelihoods[-1]=-284.0585843689906\n",
      "num_levels=10, num_sparsities=256\n",
      "(256, 9) [  0   1   3   7  15  31  63 127 255]\n",
      "loglikelihoods[1]=-756.4610609137161, loglikelihoods[-1]=-282.2356617084956\n",
      "num_levels=10, num_sparsities=256\n",
      "(256, 9) [  0   1   3   7  15  31  63 127 255]\n",
      "loglikelihoods[1]=-753.3549686878134, loglikelihoods[-1]=-281.859452362419\n",
      "num_levels=10, num_sparsities=256\n",
      "(256, 9) [  0   1   3   7  15  31  63 127 255]\n",
      "loglikelihoods[1]=-758.0346332595037, loglikelihoods[-1]=-282.17017732571156\n",
      "num_levels=10, num_sparsities=256\n",
      "(256, 9) [  0   1   3   7  15  31  63 127 255]\n",
      "loglikelihoods[1]=-748.6259061725899, loglikelihoods[-1]=-284.02465572872376\n",
      "num_levels=10, num_sparsities=256\n",
      "(256, 9) [  0   1   3   7  15  31  63 127 255]\n",
      "loglikelihoods[1]=-753.7930053702102, loglikelihoods[-1]=-281.11715775794164\n",
      "num_levels=10, num_sparsities=256\n",
      "(256, 9) [  0   1   3   7  15  31  63 127 255]\n",
      "loglikelihoods[1]=-752.5686413365949, loglikelihoods[-1]=-286.8810538763239\n",
      "num_levels=10, num_sparsities=256\n",
      "(256, 9) [  0   1   3   7  15  31  63 127 255]\n",
      "loglikelihoods[1]=-748.3987817928304, loglikelihoods[-1]=-281.4056830678517\n",
      "num_levels=10, num_sparsities=256\n",
      "(256, 9) [  0   1   3   7  15  31  63 127 255]\n",
      "loglikelihoods[1]=-750.2958486026733, loglikelihoods[-1]=-282.62617356250047\n",
      "num_levels=10, num_sparsities=256\n",
      "(256, 9) [  0   1   3   7  15  31  63 127 255]\n",
      "loglikelihoods[1]=-752.6985449429026, loglikelihoods[-1]=-281.96070462409307\n",
      "num_levels=10, num_sparsities=256\n",
      "(256, 9) [  0   1   3   7  15  31  63 127 255]\n",
      "loglikelihoods[1]=-755.427989860561, loglikelihoods[-1]=-282.8425469801966\n",
      "num_levels=10, num_sparsities=256\n",
      "(256, 9) [  0   1   3   7  15  31  63 127 255]\n",
      "loglikelihoods[1]=-752.5835022740496, loglikelihoods[-1]=-283.7542787730166\n",
      "num_levels=10, num_sparsities=256\n",
      "(256, 9) [  0   1   3   7  15  31  63 127 255]\n",
      "loglikelihoods[1]=-750.8969438631082, loglikelihoods[-1]=-283.2330047823442\n",
      "num_levels=10, num_sparsities=256\n",
      "(256, 9) [  0   1   3   7  15  31  63 127 255]\n",
      "loglikelihoods[1]=-754.0531209163379, loglikelihoods[-1]=-281.48185429930317\n",
      "num_levels=10, num_sparsities=256\n",
      "(256, 9) [  0   1   3   7  15  31  63 127 255]\n",
      "loglikelihoods[1]=-750.5776341096014, loglikelihoods[-1]=-285.19730685462883\n",
      "num_levels=10, num_sparsities=256\n",
      "(256, 9) [  0   1   3   7  15  31  63 127 255]\n",
      "loglikelihoods[1]=-752.1500677998395, loglikelihoods[-1]=-280.8898858111476\n",
      "num_levels=10, num_sparsities=256\n",
      "(256, 9) [  0   1   3   7  15  31  63 127 255]\n",
      "loglikelihoods[1]=-752.9654188454291, loglikelihoods[-1]=-282.9689328919282\n",
      "num_levels=10, num_sparsities=256\n",
      "(256, 9) [  0   1   3   7  15  31  63 127 255]\n",
      "loglikelihoods[1]=-750.8598120844481, loglikelihoods[-1]=-280.81811867905856\n",
      "num_levels=10, num_sparsities=256\n",
      "(256, 9) [  0   1   3   7  15  31  63 127 255]\n",
      "loglikelihoods[1]=-748.5084587553018, loglikelihoods[-1]=-283.7012871890945\n",
      "num_levels=10, num_sparsities=256\n",
      "(256, 9) [  0   1   3   7  15  31  63 127 255]\n",
      "loglikelihoods[1]=-748.8040764537931, loglikelihoods[-1]=-279.81441337140245\n",
      "num_levels=10, num_sparsities=256\n",
      "(256, 9) [  0   1   3   7  15  31  63 127 255]\n",
      "loglikelihoods[1]=-749.9988847229475, loglikelihoods[-1]=-282.13315444670224\n"
     ]
    }
   ],
   "source": [
    "M = 100\n",
    "m = 300\n",
    "N = 50\n",
    "rank = 40\n",
    "\n",
    "# for _ in tqdm(range(M)):\n",
    "for _ in range(M):\n",
    "    # num_levels = int(np.ceil(np.log2(min(m, m))) + 1)\n",
    "    hpart = mf.random_hpartition(m,  m, level_list=None, symm=True)\n",
    "    ranks = mf.uniform_capped_ranks(rank, hpart)\n",
    "    hat_A = mf.MLRMatrix(hpart=hpart, ranks=ranks, debug=True)\n",
    "\n",
    "    F0, D0 = np.random.randn(m, rank-1), np.square(np.random.rand(m)) + 1\n",
    "\n",
    "    row_selectors, si_groups, F_hpart = hf.row_col_selections(hat_A.hpart)\n",
    "    loglikelihoods = [-np.inf]\n",
    "    for t in range(20):\n",
    "        Sigma0 = hf.perm_hat_Sigma(F0, D0, F_hpart, ranks)\n",
    "        lu, piv = scipy.linalg.lu_factor(Sigma0)\n",
    "        loglikelihoods += [hf.loglikelihood_value(Sigma0, lu, piv, Y)]\n",
    "        if t > 0:\n",
    "            q_00 = hf.q_thetap_theta_value(F0, D0, F0, lu, piv, Y, row_selectors, si_groups, ranks, part_sizes, F_hpart)\n",
    "            q_10 = hf.q_thetap_theta_value(F1, D1, F0, lu, piv, Y, row_selectors, si_groups, ranks, part_sizes, F_hpart)\n",
    "            assert q_10 + 1e-4 >= q_00, print(q_10, q_00)\n",
    "        # print(f\"{t=}, {loglikelihoods[-1]}\")\n",
    "        F1 = hf.EM_get_F(F0, lu, piv, Y, ranks, part_sizes, F_hpart, row_selectors, si_groups)\n",
    "        D1 = hf.EM_get_D(F0, F1, lu, piv, Y, ranks, part_sizes, F_hpart, row_selectors, si_groups)\n",
    "        F0, D0 = F1, D1\n",
    "        assert D1.min() >= -1e-8 and loglikelihoods[-2] - 1e-8 <= loglikelihoods[-1], print(loglikelihoods[-5:])\n",
    "    print(f\"{loglikelihoods[1]=}, {loglikelihoods[-1]=}\")"
   ]
  },
  {
   "cell_type": "code",
   "execution_count": 5,
   "id": "0edd8e04",
   "metadata": {},
   "outputs": [
    {
     "data": {
      "image/png": "[encoded data removed]",
      "text/plain": [
       "<Figure size 480x960 with 1 Axes>"
      ]
     },
     "metadata": {},
     "output_type": "display_data"
    }
   ],
   "source": [
    "fig, ax = plt.subplots(figsize=(4, 8), dpi=120)\n",
    "cax = ax.matshow(tilde_F0.toarray(), cmap='hot')\n",
    "# fig.colorbar(cax)\n",
    "plt.show()"
   ]
  },
  {
   "cell_type": "markdown",
   "id": "97e15014",
   "metadata": {},
   "source": [
    "F0.shape, len(F_hpart[\"lk\"])"
   ]
  },
  {
   "cell_type": "code",
   "execution_count": 6,
   "id": "0876b08f",
   "metadata": {},
   "outputs": [
    {
     "data": {
      "text/plain": [
       "1.375358436547794"
      ]
     },
     "execution_count": 6,
     "metadata": {},
     "output_type": "execute_result"
    }
   ],
   "source": [
    "-(11946.49498228716 - 12110.802108897806) / 11946.49498228716 * 100"
   ]
  },
  {
   "cell_type": "code",
   "execution_count": 7,
   "id": "17e3d533",
   "metadata": {},
   "outputs": [
    {
     "data": {
      "text/plain": [
       "2.559430695751294"
      ]
     },
     "execution_count": 7,
     "metadata": {},
     "output_type": "execute_result"
    }
   ],
   "source": [
    "(12110.802108897806 - 11808.569944996309) / 11808.569944996309 * 100"
   ]
  },
  {
   "cell_type": "code",
   "execution_count": null,
   "id": "2a52cc27",
   "metadata": {},
   "outputs": [],
   "source": []
  }
 ],
 "metadata": {
  "kernelspec": {
   "display_name": "Python 3 (ipykernel)",
   "language": "python",
   "name": "python3"
  },
  "language_info": {
   "codemirror_mode": {
    "name": "ipython",
    "version": 3
   },
   "file_extension": ".py",
   "mimetype": "text/x-python",
   "name": "python",
   "nbconvert_exporter": "python",
   "pygments_lexer": "ipython3",
   "version": "3.9.16"
  },
  "vscode": {
   "interpreter": {
    "hash": "cbb24b48ae2642bb0fe3c3a73dd180d2cf6b4e8df7de3f3850c06f8dd008ecd7"
   }
  }
 },
 "nbformat": 4,
 "nbformat_minor": 5
}
