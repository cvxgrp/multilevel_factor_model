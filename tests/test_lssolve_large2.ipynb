{
 "cells": [
  {
   "cell_type": "code",
   "execution_count": 1,
   "metadata": {},
   "outputs": [],
   "source": [
    "import numpy as np\n",
    "\n",
    "import seaborn as sns\n",
    "import matplotlib.pyplot as plt\n",
    "\n",
    "import copy, time\n",
    "import random\n",
    "\n",
    "from matplotlib.colors import ListedColormap\n",
    "\n",
    "import mlrfit as mf\n",
    "import mfmodel as mfm"
   ]
  },
  {
   "cell_type": "code",
   "execution_count": 2,
   "metadata": {},
   "outputs": [],
   "source": [
    "np.random.seed(1001)\n",
    "random.seed(1001)"
   ]
  },
  {
   "cell_type": "markdown",
   "metadata": {},
   "source": [
    "# True model is MLR factor model with SNR = 4 \n",
    "\n",
    "Let $\\Sigma = FF^T + D$ be MLR. We generate samples using \n",
    "$$\n",
    "y = Fz + e, \\qquad z \\sim N(0, I), \\qquad N(0, D).\n",
    "$$"
   ]
  },
  {
   "cell_type": "code",
   "execution_count": 3,
   "metadata": {},
   "outputs": [
    {
     "data": {
      "text/plain": [
       "264"
      ]
     },
     "execution_count": 3,
     "metadata": {},
     "output_type": "execute_result"
    }
   ],
   "source": [
    "mtype = \"small_mlr_hier\"\n",
    "n = 100000\n",
    "signal_to_noise = 4\n",
    "\n",
    "\n",
    "\n",
    "L = 5\n",
    "\n",
    "# ranks = np.array([5, 4, 3, 2, 1])\n",
    "ranks = np.array([30, 20, 10, 5, 1])\n",
    "rank = ranks.sum()\n",
    "\n",
    "nsamples = rank * 4\n",
    "nsamples"
   ]
  },
  {
   "cell_type": "code",
   "execution_count": 4,
   "metadata": {},
   "outputs": [
    {
     "name": "stdout",
     "output_type": "stream",
     "text": [
      "level=0, num_groups=1, mean_size=100000.0\n",
      "level=1, num_groups=3, mean_size=33333.3\n",
      "level=2, num_groups=6, mean_size=16666.7\n",
      "level=3, num_groups=16, mean_size=6250.0\n",
      "level=4, num_groups=100000, mean_size=1.0\n"
     ]
    }
   ],
   "source": [
    "pi_rows = np.random.permutation(n)\n",
    "hpart = {'rows':{'pi':pi_rows, 'lk':[]}, 'cols':{'pi':pi_rows, 'lk':[]}} \n",
    "for ngroups in [2, 5, 9, 17, n+1]:\n",
    "       hpart['rows']['lk'] += [ np.linspace(0, n, ngroups, endpoint=True, dtype=int)]\n",
    "hpart['rows']['lk'][1] = np.delete(hpart['rows']['lk'][1], -2)\n",
    "hpart['rows']['lk'][2] = np.delete(hpart['rows']['lk'][2], 3)\n",
    "hpart['rows']['lk'][2] = np.delete(hpart['rows']['lk'][2], -4)\n",
    "hpart['cols']['lk'] = hpart['rows']['lk']\n",
    "part_sizes = mfm.print_hpart_numgroups(hpart)\n",
    "mfm.valid_hpart(hpart)"
   ]
  },
  {
   "cell_type": "code",
   "execution_count": 5,
   "metadata": {},
   "outputs": [
    {
     "name": "stdout",
     "output_type": "stream",
     "text": [
      "signal_var=81.15506713197232, noise_var=16.242432778950498\n",
      "SNR=3.9964847160793444, signal_to_noise=4\n"
     ]
    }
   ],
   "source": [
    "F_hpart = {\"pi\": hpart['rows'][\"pi\"], \"lk\": hpart['rows'][\"lk\"][:-1]}\n",
    "true_mfm = mfm.MFModel()\n",
    "true_mfm = mfm.generate_mfmodel(true_mfm, n, F_hpart, ranks, signal_to_noise, debug=False)\n",
    "F_hpart[\"pi_inv\"] = true_mfm.pi_inv"
   ]
  },
  {
   "cell_type": "code",
   "execution_count": 6,
   "metadata": {},
   "outputs": [
    {
     "name": "stdout",
     "output_type": "stream",
     "text": [
      "(100000, 230)\n"
     ]
    },
    {
     "data": {
      "image/png": "[encoded data removed]",
      "text/plain": [
       "<Figure size 800x300 with 1 Axes>"
      ]
     },
     "metadata": {},
     "output_type": "display_data"
    }
   ],
   "source": [
    "true_sparse_F = mf.convert_compressed_to_sparse(true_mfm.F, \n",
    "                                             F_hpart, \n",
    "                                             ranks[:-1]).toarray()\n",
    "print(true_sparse_F.shape)\n",
    "cmap = ListedColormap(['white', 'green'])\n",
    "plt.figure(figsize=(8, 3)) \n",
    "plt.matshow(true_sparse_F!=0, aspect='auto', fignum=1, cmap=cmap) \n",
    "plt.axis('off')\n",
    "# plt.show()\n",
    "\n",
    "# Save the figure to a PDF file\n",
    "plt.savefig('large_F_sparsity.pdf', bbox_inches='tight', pad_inches=0)\n",
    "# plt.close()\n",
    "del true_sparse_F"
   ]
  },
  {
   "cell_type": "code",
   "execution_count": 7,
   "metadata": {},
   "outputs": [
    {
     "data": {
      "text/plain": [
       "(74.50580596923828, 37.25290298461914)"
      ]
     },
     "execution_count": 7,
     "metadata": {},
     "output_type": "execute_result"
    }
   ],
   "source": [
    "n * n * 4 * 2 / 2**30, n * n * 4 / 2**30"
   ]
  },
  {
   "cell_type": "code",
   "execution_count": 8,
   "metadata": {},
   "outputs": [
    {
     "data": {
      "text/plain": [
       "5.555555555555555"
      ]
     },
     "execution_count": 8,
     "metadata": {},
     "output_type": "execute_result"
    }
   ],
   "source": [
    "n**3 / 10**12 / 3 / 60"
   ]
  },
  {
   "cell_type": "code",
   "execution_count": 9,
   "metadata": {},
   "outputs": [
    {
     "data": {
      "text/plain": [
       "-53.150849518197795"
      ]
     },
     "execution_count": 9,
     "metadata": {},
     "output_type": "execute_result"
    }
   ],
   "source": [
    "np.log2(10**(-16))"
   ]
  },
  {
   "cell_type": "code",
   "execution_count": 10,
   "metadata": {},
   "outputs": [
    {
     "data": {
      "text/plain": [
       "(100000, 230, 5, 66)"
      ]
     },
     "execution_count": 10,
     "metadata": {},
     "output_type": "execute_result"
    }
   ],
   "source": [
    "n, true_mfm.num_factors(), L, ranks.sum()"
   ]
  },
  {
   "cell_type": "code",
   "execution_count": 11,
   "metadata": {},
   "outputs": [
    {
     "name": "stderr",
     "output_type": "stream",
     "text": [
      "/Users/parshakova.tanya/opt/anaconda3/envs/multilevel/lib/python3.11/site-packages/numpy/core/fromnumeric.py:88: RuntimeWarning: overflow encountered in reduce\n",
      "  return ufunc.reduce(obj, axis, dtype, out, **passkwargs)\n"
     ]
    },
    {
     "name": "stdout",
     "output_type": "stream",
     "text": [
      "solve reldiff=3.683848177015007e-11\n"
     ]
    }
   ],
   "source": [
    "v = np.random.randn(n, 1)\n",
    "\n",
    "\n",
    "hat_x = true_mfm.solve(v, eps=1e-12, max_iter=1, printing=False)\n",
    "reldiff = np.linalg.norm(true_mfm.matvec(hat_x) - v) / np.linalg.norm(v)\n",
    "print(f\"solve {reldiff=}\")"
   ]
  },
  {
   "cell_type": "code",
   "execution_count": 12,
   "metadata": {},
   "outputs": [
    {
     "name": "stdout",
     "output_type": "stream",
     "text": [
      "solve reldiff=3.64614912558468e-11\n"
     ]
    }
   ],
   "source": [
    "v = np.random.randn(n, 1)\n",
    "\n",
    "\n",
    "hat_x = true_mfm.solve(v, eps=1e-9, max_iter=1, printing=False)\n",
    "reldiff = np.linalg.norm(true_mfm.matvec(hat_x) - v) / np.linalg.norm(v)\n",
    "print(f\"solve {reldiff=}\")"
   ]
  },
  {
   "cell_type": "code",
   "execution_count": 13,
   "metadata": {},
   "outputs": [
    {
     "name": "stdout",
     "output_type": "stream",
     "text": [
      "22.3 ms ± 2.33 ms per loop (mean ± std. dev. of 7 runs, 10 loops each)\n"
     ]
    }
   ],
   "source": [
    "%timeit true_mfm.solve(v, eps=1e-9, max_iter=1, printing=False)"
   ]
  },
  {
   "cell_type": "code",
   "execution_count": 14,
   "metadata": {},
   "outputs": [
    {
     "data": {
      "text/plain": [
       "(0.0006785230567792892, 32.456283388481424)"
      ]
     },
     "execution_count": 14,
     "metadata": {},
     "output_type": "execute_result"
    }
   ],
   "source": [
    "true_mfm.D.min(), true_mfm.D.max()"
   ]
  },
  {
   "cell_type": "markdown",
   "metadata": {},
   "source": [
    "# EM"
   ]
  },
  {
   "cell_type": "code",
   "execution_count": 15,
   "metadata": {},
   "outputs": [
    {
     "name": "stdout",
     "output_type": "stream",
     "text": [
      "num_levels=5, num_sparsities=16\n",
      "(16, 4) [ 0  2  5 15]\n"
     ]
    }
   ],
   "source": [
    "C = mfm.sample_data(nsamples, true_mfm)\n",
    "\n",
    "Z = (C - C.mean(axis=1, keepdims=True))[F_hpart[\"pi\"], :]\n",
    "# unpermuted_A = (Z @ Z.T / (Z.shape[1]-1))[true_mfm.pi_inv, :][:, true_mfm.pi_inv]\n",
    "\n",
    "# permute to put clusters on diagonal\n",
    "Y = Z.T\n",
    "N = Y.shape[0]\n",
    "\n",
    "permuted_F_hpart = {\"pi_inv\":np.arange(n), \"pi\":np.arange(n), \"lk\":F_hpart[\"lk\"]}\n",
    "row_selectors, si_groups, F_hpart, groups_all = mfm.row_col_selections(hpart, return_groups=True)\n",
    "\n",
    "\n",
    "mfm_Sigma = mfm.MFModel(hpart=F_hpart, ranks=ranks)\n",
    "mfm_Sigma.init_FD(ranks, F_hpart, init_type=\"random\", Y=Y)\n",
    "F0, D0 = mfm_Sigma.F, mfm_Sigma.D"
   ]
  },
  {
   "cell_type": "code",
   "execution_count": 16,
   "metadata": {},
   "outputs": [
    {
     "data": {
      "text/plain": [
       "(66, 230)"
      ]
     },
     "execution_count": 16,
     "metadata": {},
     "output_type": "execute_result"
    }
   ],
   "source": [
    "rank, mfm_Sigma.num_factors()"
   ]
  },
  {
   "cell_type": "code",
   "execution_count": 17,
   "metadata": {},
   "outputs": [
    {
     "name": "stdout",
     "output_type": "stream",
     "text": [
      "t=0, obj=-308843.1641465371,  D1.min()=3.2801200210560775, np.percentile(D1, 1)=19.11795479258116, var_exp=2916.00%\n",
      "t=1, obj=-287810.38248439576,  D1.min()=3.0461095696222276, np.percentile(D1, 1)=6.93532313581013, var_exp=4025.84%\n",
      "t=2, obj=-279783.9096935963,  D1.min()=1.4148390622427667, np.percentile(D1, 1)=3.945450172680878, var_exp=4756.23%\n",
      "t=3, obj=-275388.10530920094,  D1.min()=0.5224587521143996, np.percentile(D1, 1)=2.755266658037406, var_exp=5272.63%\n",
      "t=4, obj=-272547.90706561645,  D1.min()=0.2766904011445645, np.percentile(D1, 1)=2.1697810770591195, var_exp=5659.29%\n",
      "t=5, obj=-270455.1907465481,  D1.min()=0.16978477108641804, np.percentile(D1, 1)=1.8220275340521337, var_exp=5973.75%\n",
      "t=6, obj=-268744.8347693211,  D1.min()=0.10321471964202415, np.percentile(D1, 1)=1.569045083155315, var_exp=6263.24%\n",
      "t=7, obj=-267314.2461512554,  D1.min()=0.08765068693486627, np.percentile(D1, 1)=1.3600204529468152, var_exp=6543.28%\n",
      "t=8, obj=-266088.07884288207,  D1.min()=0.07680714924533112, np.percentile(D1, 1)=1.2295581284973067, var_exp=6808.60%\n",
      "t=9, obj=-264905.9394984744,  D1.min()=0.08075914584551494, np.percentile(D1, 1)=1.118748498594436, var_exp=7069.52%\n",
      "t=10, obj=-263738.2789573338,  D1.min()=0.07594011832667423, np.percentile(D1, 1)=0.9736170861053464, var_exp=7346.73%\n",
      "t=11, obj=-262855.71893196384,  D1.min()=0.06662466082829352, np.percentile(D1, 1)=0.8277898692629998, var_exp=7597.34%\n",
      "t=12, obj=-262269.62855037156,  D1.min()=0.04144301222945477, np.percentile(D1, 1)=0.7496782947101128, var_exp=7768.13%\n",
      "t=13, obj=-261775.8641951622,  D1.min()=0.027453386442747422, np.percentile(D1, 1)=0.7258008749603002, var_exp=7897.28%\n",
      "t=14, obj=-261296.8306023734,  D1.min()=0.020718974416888268, np.percentile(D1, 1)=0.7007984698001138, var_exp=8010.15%\n",
      "t=15, obj=-260831.54096707792,  D1.min()=0.01701311490457115, np.percentile(D1, 1)=0.6835398810402598, var_exp=8115.54%\n",
      "t=16, obj=-260417.8301238237,  D1.min()=0.014701436132292767, np.percentile(D1, 1)=0.6509303135227451, var_exp=8210.74%\n",
      "t=17, obj=-260081.1456786652,  D1.min()=0.013432759561386443, np.percentile(D1, 1)=0.6301633987742202, var_exp=8290.75%\n",
      "t=18, obj=-259816.05057739667,  D1.min()=0.01301824699568456, np.percentile(D1, 1)=0.6122614546388688, var_exp=8355.40%\n",
      "t=19, obj=-259603.20655317098,  D1.min()=0.013218672557431175, np.percentile(D1, 1)=0.5952355670394067, var_exp=8407.60%\n",
      "t=20, obj=-259420.67759259214,  D1.min()=0.013822176932053206, np.percentile(D1, 1)=0.5747442096989482, var_exp=8450.68%\n",
      "t=21, obj=-259250.7576740854,  D1.min()=0.014542537169132409, np.percentile(D1, 1)=0.5707940646739165, var_exp=8487.64%\n",
      "t=22, obj=-259085.0101300275,  D1.min()=0.01435485778886852, np.percentile(D1, 1)=0.5672144145172473, var_exp=8520.57%\n",
      "t=23, obj=-258925.02845523242,  D1.min()=0.013581485922624339, np.percentile(D1, 1)=0.5646236742754563, var_exp=8550.41%\n",
      "t=24, obj=-258777.93790253825,  D1.min()=0.013058486361518535, np.percentile(D1, 1)=0.5551829965421856, var_exp=8577.20%\n",
      "t=25, obj=-258649.9703684054,  D1.min()=0.012687888339066625, np.percentile(D1, 1)=0.5497734923583415, var_exp=8600.78%\n",
      "t=26, obj=-258542.58135409025,  D1.min()=0.012437889854564592, np.percentile(D1, 1)=0.5394652509462291, var_exp=8621.35%\n",
      "t=27, obj=-258452.4449829889,  D1.min()=0.01215086834484723, np.percentile(D1, 1)=0.536450625334835, var_exp=8639.62%\n",
      "t=28, obj=-258373.5774476917,  D1.min()=0.011333307497669453, np.percentile(D1, 1)=0.5307373945738414, var_exp=8656.52%\n",
      "t=29, obj=-258299.2961894227,  D1.min()=0.010616673867754358, np.percentile(D1, 1)=0.5271852584355058, var_exp=8673.20%\n",
      "t=30, obj=-258223.06323659816,  D1.min()=0.009978580104037368, np.percentile(D1, 1)=0.524693614297732, var_exp=8690.84%\n",
      "t=31, obj=-258138.47612443654,  D1.min()=0.009362545785189937, np.percentile(D1, 1)=0.521612741808397, var_exp=8710.92%\n",
      "t=32, obj=-258039.0932360078,  D1.min()=0.008758682331545337, np.percentile(D1, 1)=0.518153185327806, var_exp=8735.13%\n",
      "t=33, obj=-257918.36155110973,  D1.min()=0.008189793198915031, np.percentile(D1, 1)=0.5152633531772666, var_exp=8765.76%\n",
      "t=34, obj=-257766.01332346638,  D1.min()=0.007623856591284163, np.percentile(D1, 1)=0.5055401323454229, var_exp=8807.31%\n",
      "t=35, obj=-257548.40383040922,  D1.min()=0.007117457977804434, np.percentile(D1, 1)=0.4933274934511178, var_exp=8875.71%\n",
      "t=36, obj=-257264.93091548438,  D1.min()=0.006711510308205658, np.percentile(D1, 1)=0.47338742309303916, var_exp=8984.05%\n",
      "t=37, obj=-257023.26653948243,  D1.min()=0.0063926861627847265, np.percentile(D1, 1)=0.4545887314045875, var_exp=9070.75%\n",
      "t=38, obj=-256820.30966129046,  D1.min()=0.006166065790397845, np.percentile(D1, 1)=0.43920077368344407, var_exp=9132.00%\n",
      "t=39, obj=-256638.10260668595,  D1.min()=0.0059723767470297225, np.percentile(D1, 1)=0.4287429167416692, var_exp=9180.63%\n",
      "t=40, obj=-256475.0891439204,  D1.min()=0.005838557420764284, np.percentile(D1, 1)=0.4253391811979451, var_exp=9221.07%\n",
      "t=41, obj=-256335.8885648051,  D1.min()=0.005690252438805119, np.percentile(D1, 1)=0.42246434934781274, var_exp=9254.49%\n",
      "t=42, obj=-256223.81803652563,  D1.min()=0.004937367600846163, np.percentile(D1, 1)=0.4156774477059414, var_exp=9281.47%\n",
      "t=43, obj=-256137.80769950277,  D1.min()=0.004277426908794785, np.percentile(D1, 1)=0.4119064332375186, var_exp=9303.12%\n",
      "t=44, obj=-256073.49583297654,  D1.min()=0.003812086082868491, np.percentile(D1, 1)=0.40678492242569203, var_exp=9320.65%\n",
      "t=45, obj=-256025.38452062718,  D1.min()=0.003469076335353417, np.percentile(D1, 1)=0.4047517265510871, var_exp=9335.11%\n",
      "t=46, obj=-255988.43720045174,  D1.min()=0.0031971366799525367, np.percentile(D1, 1)=0.4029206753507968, var_exp=9347.48%\n",
      "t=47, obj=-255958.77767158055,  D1.min()=0.002952004776447707, np.percentile(D1, 1)=0.401119795379969, var_exp=9358.46%\n",
      "t=48, obj=-255933.71299878607,  D1.min()=0.002775357499303661, np.percentile(D1, 1)=0.39922138601060453, var_exp=9368.31%\n",
      "t=49, obj=-255911.48075431303,  D1.min()=0.002620514067626628, np.percentile(D1, 1)=0.3969929013992486, var_exp=9377.42%\n",
      "PASSED\n"
     ]
    }
   ],
   "source": [
    "loglikelihoods = [-np.inf]\n",
    "N = Y.shape[0]\n",
    "eps = 1e-12\n",
    "mfm_Sigma = mfm.MFModel(hpart=F_hpart, ranks=ranks, F=F0, D=D0)\n",
    "mfm_Sigma.inv_coefficients(det=True)\n",
    "diag_Sigma = np.einsum('ij,ji->i', Y.T, Y) / N\n",
    "for t in range(50):\n",
    "    F1 = mfm.fast_EM_get_F(F0, D0, Y, ranks, permuted_F_hpart, row_selectors, si_groups)\n",
    "    D1 = mfm.fast_EM_get_D(F0, D0, F1, Y, ranks, permuted_F_hpart, row_selectors, si_groups)\n",
    "    F0, D0 = F1, D1\n",
    "    mfm_Sigma = mfm.MFModel(hpart=F_hpart, ranks=ranks, F=F0, D=D0)\n",
    "    mfm_Sigma.inv_coefficients(det=True)\n",
    "    obj = mfm.fast_loglikelihood_value(mfm_Sigma, Y[:, mfm_Sigma.pi_inv])\n",
    "    loglikelihoods += [obj]\n",
    "    assert D1.min() >= -1e-8 and loglikelihoods[-2] - 1e-8 <= loglikelihoods[-1]\n",
    "\n",
    "    if t % 1 == 0:\n",
    "        print(f\"{t=}, {obj=},  {D1.min()=}, {np.percentile(D1, 1)=}, var_exp={(np.divide(np.square(mfm_Sigma.F).sum(axis=1), diag_Sigma)).mean()*100:.2f}%\")\n",
    "        \n",
    "print(\"PASSED\")"
   ]
  },
  {
   "cell_type": "code",
   "execution_count": 18,
   "metadata": {},
   "outputs": [
    {
     "data": {
      "text/plain": [
       "1991.1897194798214"
      ]
     },
     "execution_count": 18,
     "metadata": {},
     "output_type": "execute_result"
    }
   ],
   "source": [
    "(np.divide(np.square(mfm_Sigma.F).sum(axis=1), mfm_Sigma.D)).mean()"
   ]
  },
  {
   "cell_type": "code",
   "execution_count": 19,
   "metadata": {},
   "outputs": [
    {
     "data": {
      "text/plain": [
       "0.0019067607022949947"
      ]
     },
     "execution_count": 19,
     "metadata": {},
     "output_type": "execute_result"
    }
   ],
   "source": [
    "(np.divide(mfm_Sigma.D, np.square(mfm_Sigma.F).sum(axis=1))).mean()"
   ]
  },
  {
   "cell_type": "code",
   "execution_count": 20,
   "metadata": {},
   "outputs": [
    {
     "data": {
      "text/plain": [
       "array([[5.60090005e+03, 1.63807985e+01],\n",
       "       [4.19688943e+03, 1.05263578e+01],\n",
       "       [1.81706199e+04, 2.45136691e+00],\n",
       "       ...,\n",
       "       [8.33040800e+03, 3.83560033e-01],\n",
       "       [1.06132967e+04, 1.10626927e+01],\n",
       "       [5.73580969e+03, 8.91781882e+00]])"
      ]
     },
     "execution_count": 20,
     "metadata": {},
     "output_type": "execute_result"
    }
   ],
   "source": [
    "np.concatenate([np.square(mfm_Sigma.F).sum(axis=1, keepdims=True), mfm_Sigma.D.reshape(-1, 1)], axis=1)"
   ]
  },
  {
   "cell_type": "code",
   "execution_count": 21,
   "metadata": {},
   "outputs": [
    {
     "data": {
      "text/plain": [
       "0.2580894530311084"
      ]
     },
     "execution_count": 21,
     "metadata": {},
     "output_type": "execute_result"
    }
   ],
   "source": [
    "(np.divide(true_mfm.D, np.square(true_mfm.F).sum(axis=1))).mean()"
   ]
  },
  {
   "cell_type": "code",
   "execution_count": 22,
   "metadata": {},
   "outputs": [
    {
     "data": {
      "text/plain": [
       "93.77419093011173"
      ]
     },
     "execution_count": 22,
     "metadata": {},
     "output_type": "execute_result"
    }
   ],
   "source": [
    "diag_Sigma = np.einsum('ij,ji->i', Y.T, Y) / N\n",
    "(np.divide(np.square(mfm_Sigma.F).sum(axis=1), diag_Sigma)).mean()"
   ]
  },
  {
   "cell_type": "code",
   "execution_count": null,
   "metadata": {},
   "outputs": [],
   "source": []
  }
 ],
 "metadata": {
  "kernelspec": {
   "display_name": "multilevel",
   "language": "python",
   "name": "python3"
  },
  "language_info": {
   "codemirror_mode": {
    "name": "ipython",
    "version": 3
   },
   "file_extension": ".py",
   "mimetype": "text/x-python",
   "name": "python",
   "nbconvert_exporter": "python",
   "pygments_lexer": "ipython3",
   "version": "3.11.8"
  }
 },
 "nbformat": 4,
 "nbformat_minor": 2
}
