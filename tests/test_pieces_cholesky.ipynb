{
 "cells": [
  {
   "cell_type": "code",
   "execution_count": 1,
   "metadata": {},
   "outputs": [
    {
     "name": "stderr",
     "output_type": "stream",
     "text": [
      "/Users/parshakova.tanya/opt/anaconda3/envs/routing/lib/python3.9/site-packages/tqdm/auto.py:22: TqdmWarning: IProgress not found. Please update jupyter and ipywidgets. See https://ipywidgets.readthedocs.io/en/stable/user_install.html\n",
      "  from .autonotebook import tqdm as notebook_tqdm\n"
     ]
    }
   ],
   "source": [
    "import numpy as np\n",
    "\n",
    "import seaborn as sns\n",
    "import matplotlib.pyplot as plt\n",
    "\n",
    "import copy, time\n",
    "import random \n",
    "import mfmodel as mfm\n",
    "\n",
    "from scipy.linalg import pinvh\n",
    "import mlrfit as mf \n",
    "import scipy.linalg as sc_la"
   ]
  },
  {
   "cell_type": "code",
   "execution_count": 2,
   "metadata": {},
   "outputs": [],
   "source": [
    "np.random.seed(1001)\n",
    "random.seed(1001)"
   ]
  },
  {
   "cell_type": "markdown",
   "metadata": {},
   "source": [
    "# True model is MLR factor model with SNR = 4 \n",
    "\n",
    "Let $\\Sigma = FF^T + D$ be MLR. We generate samples using \n",
    "$$\n",
    "y = Fz + e, \\qquad z \\sim N(0, I), \\qquad N(0, D).\n",
    "$$"
   ]
  },
  {
   "cell_type": "code",
   "execution_count": 3,
   "metadata": {},
   "outputs": [],
   "source": [
    "mtype = \"small_mlr_hier\"\n",
    "n = 200\n",
    "signal_to_noise = 4\n",
    "\n",
    "\n",
    "L = 5\n",
    "\n",
    "ranks = np.array([4, 3, 2, 2, 1])\n",
    "rank = ranks.sum()\n",
    "\n",
    "\n",
    "nsamples = 4 * rank"
   ]
  },
  {
   "cell_type": "code",
   "execution_count": 4,
   "metadata": {},
   "outputs": [
    {
     "name": "stdout",
     "output_type": "stream",
     "text": [
      "level=0, num_groups=1, mean_size=200.0\n",
      "level=1, num_groups=3, mean_size=66.7\n",
      "level=2, num_groups=15, mean_size=13.3\n",
      "level=3, num_groups=32, mean_size=6.2\n",
      "level=4, num_groups=200, mean_size=1.0\n"
     ]
    }
   ],
   "source": [
    "pi_rows = np.random.permutation(n)\n",
    "hpart = {'rows':{'pi':pi_rows, 'lk':[]}, 'cols':{'pi':pi_rows, 'lk':[]}} \n",
    "for ngroups in [2, 5, 17, 33, n+1]:\n",
    "       hpart['rows']['lk'] += [ np.linspace(0, n, ngroups, endpoint=True, dtype=int)]\n",
    "hpart['rows']['lk'][1] = np.delete(hpart['rows']['lk'][1], -2)\n",
    "hpart['rows']['lk'][2] = np.delete(hpart['rows']['lk'][2], -4)\n",
    "hpart['cols']['lk'] = hpart['rows']['lk']\n",
    "part_sizes = mfm.print_hpart_numgroups(hpart)"
   ]
  },
  {
   "cell_type": "code",
   "execution_count": 5,
   "metadata": {},
   "outputs": [
    {
     "data": {
      "text/plain": [
       "[array([  0, 200]),\n",
       " array([  0,  50, 100, 200]),\n",
       " array([  0,  12,  25,  37,  50,  62,  75,  87, 100, 112, 125, 137, 150,\n",
       "        175, 187, 200]),\n",
       " array([  0,   6,  12,  18,  25,  31,  37,  43,  50,  56,  62,  68,  75,\n",
       "         81,  87,  93, 100, 106, 112, 118, 125, 131, 137, 143, 150, 156,\n",
       "        162, 168, 175, 181, 187, 193, 200])]"
      ]
     },
     "execution_count": 5,
     "metadata": {},
     "output_type": "execute_result"
    }
   ],
   "source": [
    "hpart['rows']['lk'][:-1]"
   ]
  },
  {
   "cell_type": "code",
   "execution_count": 6,
   "metadata": {},
   "outputs": [
    {
     "name": "stdout",
     "output_type": "stream",
     "text": [
      "signal_var=11.119582352955492, noise_var=2.8730043099170963\n",
      "SNR=3.8703674458728394, signal_to_noise=4\n"
     ]
    }
   ],
   "source": [
    "true_mlr, true_sparse_F, true_D_noise = mfm.generate_mlr_model(n, hpart, ranks, signal_to_noise)\n",
    "true_compressed_F = true_mlr.B[:, :-1]"
   ]
  },
  {
   "cell_type": "code",
   "execution_count": 7,
   "metadata": {},
   "outputs": [
    {
     "data": {
      "image/png": "[encoded data removed]",
      "text/plain": [
       "<Figure size 1000x400 with 2 Axes>"
      ]
     },
     "metadata": {},
     "output_type": "display_data"
    },
    {
     "name": "stdout",
     "output_type": "stream",
     "text": [
      "(200, 107)\n"
     ]
    }
   ],
   "source": [
    "plt.figure(figsize=(10, 4)) \n",
    "plt.matshow(true_sparse_F.T, aspect='auto', fignum=1, cmap='hot') \n",
    "plt.colorbar() \n",
    "plt.show()\n",
    "print(true_sparse_F.shape)"
   ]
  },
  {
   "cell_type": "code",
   "execution_count": 8,
   "metadata": {},
   "outputs": [
    {
     "data": {
      "text/plain": [
       "numpy.ndarray"
      ]
     },
     "execution_count": 8,
     "metadata": {},
     "output_type": "execute_result"
    }
   ],
   "source": [
    "type(true_sparse_F)"
   ]
  },
  {
   "cell_type": "code",
   "execution_count": 9,
   "metadata": {},
   "outputs": [],
   "source": [
    "filename = \"%s_r%d_%d\"%(mtype, rank, n)"
   ]
  },
  {
   "cell_type": "code",
   "execution_count": 10,
   "metadata": {},
   "outputs": [
    {
     "name": "stdout",
     "output_type": "stream",
     "text": [
      "num_levels=5, num_sparsities=32\n",
      "(32, 4) [ 0  2 14 31]\n"
     ]
    }
   ],
   "source": [
    "row_selectors, si_groups, F_hpart, groups_all = mfm.row_col_selections(hpart, return_groups=True)"
   ]
  },
  {
   "cell_type": "code",
   "execution_count": 11,
   "metadata": {},
   "outputs": [],
   "source": [
    "F_Lm1, D = true_compressed_F+0, true_D_noise+0"
   ]
  },
  {
   "cell_type": "code",
   "execution_count": 12,
   "metadata": {},
   "outputs": [],
   "source": [
    "s_lps = np.cumsum(np.array([ranks[lp]*(F_hpart['lk'][lp].size - 1) for lp in reversed(range(0, L-1))]))\n",
    "for l in reversed(range(0, L-1)):\n",
    "    assert s_lps[l] == sum([ranks[lp]*(F_hpart['lk'][lp].size - 1) for lp in reversed(range(L-2-l, L-1))])"
   ]
  },
  {
   "cell_type": "code",
   "execution_count": 13,
   "metadata": {},
   "outputs": [
    {
     "data": {
      "image/png": "[encoded data removed]",
      "text/plain": [
       "<Figure size 1000x800 with 2 Axes>"
      ]
     },
     "metadata": {},
     "output_type": "display_data"
    }
   ],
   "source": [
    "sparse_Fls = np.concatenate([mfm.block_diag_lk(F_hpart['lk'][lp], \n",
    "                                            F_Lm1[:, ranks[:lp].sum():ranks[:lp+1].sum()]) \n",
    "                                            for lp in reversed(range(0, L-1))], axis=1)\n",
    "expanded_E = np.block([[np.diag(D), sparse_Fls],\n",
    "              [sparse_Fls.T, -np.eye(s_lps[-1])]])\n",
    "\n",
    "\n",
    "plt.figure(figsize=(10, 8)) \n",
    "plt.matshow(expanded_E!=0, aspect='auto', fignum=1, cmap='hot') \n",
    "plt.colorbar() \n",
    "plt.show()"
   ]
  },
  {
   "cell_type": "code",
   "execution_count": 14,
   "metadata": {},
   "outputs": [],
   "source": [
    "assert np.allclose(true_sparse_F @ true_sparse_F.T, sparse_Fls @ sparse_Fls.T)"
   ]
  },
  {
   "cell_type": "code",
   "execution_count": 15,
   "metadata": {},
   "outputs": [
    {
     "name": "stdout",
     "output_type": "stream",
     "text": [
      "0 1 2\n",
      "0 1 3\n",
      "0 2 3\n",
      "1 2 3\n",
      "PASSED\n"
     ]
    }
   ],
   "source": [
    "for l2 in range(L-1): \n",
    "    for l1 in range(l2):\n",
    "        for l3 in range(l2+1, L-1):\n",
    "            print(l1, l2, l3)\n",
    "            lk_1 = F_hpart['lk'][l1]\n",
    "            lk_2 = F_hpart['lk'][l2]\n",
    "            lk_3 = F_hpart['lk'][l3]\n",
    "            F1 = true_compressed_F[:,ranks[:l1].sum():ranks[:l1+1].sum()]\n",
    "            F2 = true_compressed_F[:,ranks[:l2].sum():ranks[:l2+1].sum()]\n",
    "            F3 = true_compressed_F[:,ranks[:l3].sum():ranks[:l3+1].sum()]\n",
    "            \n",
    "            F2tF1 = mfm.block_diag_lk(lk_2, F2).T @  mfm.block_diag_lk(lk_1, F1)\n",
    "            res1 = mfm.mult_blockdiag_refined_AtB(F2, lk_2, F1, lk_1)\n",
    "            # indices of groups in F2 that refine groups in F1\n",
    "            indices_F2_F1 = np.searchsorted(lk_2, lk_1, side='left') * ranks[l2]\n",
    "            assert np.allclose(F2tF1, mfm.block_diag_lk(indices_F2_F1, res1)) \n",
    "\n",
    "\n",
    "            F2tF3 = mfm.block_diag_lk(lk_2, F2).T @  mfm.block_diag_lk(lk_3, F3)\n",
    "            res2 = mfm.mult_blockdiag_refined_CtB(F2, lk_2, F3, lk_3)\n",
    "            # indices of groups in F2 that are refined by groups in F3\n",
    "            indices_F2_F3 = np.searchsorted(lk_3, lk_2, side='left') * ranks[l3]\n",
    "            assert np.allclose(F2tF3, mfm.block_diag_lk(indices_F2_F3, res2, col=True)) \n",
    "\n",
    "            \n",
    "            F1_F2_F2t_F3 = F2tF1.T @ F2tF3\n",
    "            res = mfm.mult_blockdiag_refined_CtB_vh(res1, \n",
    "                                                indices_F2_F1,\n",
    "                                                res2, \n",
    "                                                indices_F2_F3)\n",
    "            indices = np.searchsorted(lk_3, lk_1, side='left') * ranks[l3]\n",
    "            assert np.allclose(F1_F2_F2t_F3, mfm.block_diag_lk(indices, res, col=True))\n",
    "\n",
    "print(\"PASSED\")"
   ]
  },
  {
   "cell_type": "code",
   "execution_count": 16,
   "metadata": {},
   "outputs": [],
   "source": [
    "s_all = (ranks * np.array([hpart[\"rows\"][\"lk\"][level].size-1 for level in range(L)]))[::-1]\n",
    "s_all\n",
    "\n",
    "def sparse_chol_row_block(row_block, hpart, level, L, s_all):\n",
    "    res = []\n",
    "    for tilde_l in reversed(range(level, L)):\n",
    "        lk_level_tilde_l = np.searchsorted(hpart[\"rows\"]['lk'][tilde_l], hpart[\"rows\"]['lk'][level], side='left') * ranks[tilde_l]\n",
    "        res += [mfm.block_diag_lk(lk_level_tilde_l, \n",
    "                                  row_block[:, s_all[:L-1-tilde_l].sum():s_all[:L-1-tilde_l+1].sum()], \n",
    "                                  col=True)]\n",
    "    return np.concatenate(res, axis=1)"
   ]
  },
  {
   "cell_type": "code",
   "execution_count": 30,
   "metadata": {},
   "outputs": [],
   "source": [
    "def lu(A):\n",
    "    \"Compute LU decomposition of matrix A.\"\n",
    "    m,n = A.shape\n",
    "    L = np.eye(m)\n",
    "    U = A.copy()\n",
    "    # Keep track of the row index of the pivot entry\n",
    "    pivot = 0\n",
    "    for j in range(0,n):\n",
    "        # Check if the pivot entry is 0\n",
    "        if U[pivot,j] == 0:\n",
    "            if np.any(U[pivot+1:,j]):\n",
    "                # LU decomposition does not exist if entries below 0 pivot are nonzero\n",
    "                print(\"LU decomposition for A does not exist.\")\n",
    "                return np.eye(m),A\n",
    "            else:\n",
    "                # All entries below 0 pivot are 0 therefore continue to next column\n",
    "                # Row index of pivot remains the same\n",
    "                continue\n",
    "        # Use nonzero pivot entry to create 0 in each entry below\n",
    "        for i in range(pivot+1,m):\n",
    "            c = -U[i,j]/U[pivot,j]\n",
    "            U[i,:] = c*U[pivot,:] + U[i,:]\n",
    "            L[i,pivot] = -c\n",
    "        # Move pivot to the next row\n",
    "        pivot += 1\n",
    "    return L,U\n",
    "\n",
    "\n",
    "true_L, true_U = lu(expanded_E)\n",
    "assert np.allclose(true_L @ true_U, expanded_E)\n",
    "\n",
    "true_Chol_D = np.diag(true_U)\n",
    "assert np.allclose((true_L * true_Chol_D) @ true_L.T, expanded_E) "
   ]
  },
  {
   "cell_type": "code",
   "execution_count": 52,
   "metadata": {},
   "outputs": [
    {
     "name": "stdout",
     "output_type": "stream",
     "text": [
      "prev_El_recurrence.shape=(11, 200)\n",
      "level=3, L-2-level=0\n",
      "tilde_l=4, l_prime=0 0 4 0 200\n",
      "tilde_l=4, l_prime=1 4 7 0 200\n",
      "tilde_l=4, l_prime=2 7 9 0 200\n",
      "passed\n",
      "passed\n",
      "level=2, L-2-level=1\n"
     ]
    },
    {
     "ename": "AssertionError",
     "evalue": "",
     "output_type": "error",
     "traceback": [
      "\u001b[0;31m---------------------------------------------------------------------------\u001b[0m",
      "\u001b[0;31mAssertionError\u001b[0m                            Traceback (most recent call last)",
      "Cell \u001b[0;32mIn [52], line 59\u001b[0m\n\u001b[1;32m     57\u001b[0m Chol_L[L\u001b[38;5;241m-\u001b[39m\u001b[38;5;241m1\u001b[39m\u001b[38;5;241m-\u001b[39mlevel] \u001b[38;5;241m=\u001b[39m np\u001b[38;5;241m.\u001b[39mconcatenate([prev_El_recurrence[ranks[:level]\u001b[38;5;241m.\u001b[39msum():ranks[:level\u001b[38;5;241m+\u001b[39m\u001b[38;5;241m1\u001b[39m]\u001b[38;5;241m.\u001b[39msum(), :], Chol_Rl], axis\u001b[38;5;241m=\u001b[39m\u001b[38;5;241m1\u001b[39m)\n\u001b[1;32m     58\u001b[0m Chol_D[n \u001b[38;5;241m+\u001b[39m s_lps[L\u001b[38;5;241m-\u001b[39m\u001b[38;5;241m2\u001b[39m\u001b[38;5;241m-\u001b[39mlevel] \u001b[38;5;241m-\u001b[39m ranks[level]\u001b[38;5;241m*\u001b[39m(F_hpart[\u001b[38;5;124m'\u001b[39m\u001b[38;5;124mlk\u001b[39m\u001b[38;5;124m'\u001b[39m][level]\u001b[38;5;241m.\u001b[39msize \u001b[38;5;241m-\u001b[39m \u001b[38;5;241m1\u001b[39m) : n \u001b[38;5;241m+\u001b[39m s_lps[L\u001b[38;5;241m-\u001b[39m\u001b[38;5;241m2\u001b[39m\u001b[38;5;241m-\u001b[39mlevel]] \u001b[38;5;241m=\u001b[39m \u001b[38;5;241m-\u001b[39mChol_Vl \n\u001b[0;32m---> 59\u001b[0m \u001b[38;5;28;01massert\u001b[39;00m np\u001b[38;5;241m.\u001b[39mallclose(true_L[s_all[:L\u001b[38;5;241m-\u001b[39m\u001b[38;5;241m1\u001b[39m\u001b[38;5;241m-\u001b[39mlevel]\u001b[38;5;241m.\u001b[39msum():s_all[:L\u001b[38;5;241m-\u001b[39m\u001b[38;5;241m1\u001b[39m\u001b[38;5;241m-\u001b[39mlevel\u001b[38;5;241m+\u001b[39m\u001b[38;5;241m1\u001b[39m]\u001b[38;5;241m.\u001b[39msum(), :s_all[:L\u001b[38;5;241m-\u001b[39m\u001b[38;5;241m1\u001b[39m\u001b[38;5;241m-\u001b[39mlevel\u001b[38;5;241m+\u001b[39m\u001b[38;5;241m1\u001b[39m]\u001b[38;5;241m.\u001b[39msum()], \n\u001b[1;32m     60\u001b[0m                    sparse_chol_row_block(Chol_L[L\u001b[38;5;241m-\u001b[39m\u001b[38;5;241m1\u001b[39m\u001b[38;5;241m-\u001b[39mlevel], hpart, level, L, s_all))\n\u001b[1;32m     63\u001b[0m \u001b[38;5;28;01mdel\u001b[39;00m FlTM0, Chol_Rl, Chol_Vl\n\u001b[1;32m     64\u001b[0m H_Lm1[:, ranks[:level]\u001b[38;5;241m.\u001b[39msum():ranks[:level\u001b[38;5;241m+\u001b[39m\u001b[38;5;241m1\u001b[39m]\u001b[38;5;241m.\u001b[39msum()] \u001b[38;5;241m=\u001b[39m mfm\u001b[38;5;241m.\u001b[39mmult_blockdiag_refined_AB(M0, \n\u001b[1;32m     65\u001b[0m                                                                                 F_hpart[\u001b[38;5;124m'\u001b[39m\u001b[38;5;124mlk\u001b[39m\u001b[38;5;124m'\u001b[39m][level],\n\u001b[1;32m     66\u001b[0m                                                                                 sqrt_M2, \n\u001b[1;32m     67\u001b[0m                                                                                 np\u001b[38;5;241m.\u001b[39mlinspace(\u001b[38;5;241m0\u001b[39m, pl\u001b[38;5;241m*\u001b[39mrl, num\u001b[38;5;241m=\u001b[39mpl\u001b[38;5;241m+\u001b[39m\u001b[38;5;241m1\u001b[39m, endpoint\u001b[38;5;241m=\u001b[39m\u001b[38;5;28;01mTrue\u001b[39;00m, dtype\u001b[38;5;241m=\u001b[39m\u001b[38;5;28mint\u001b[39m))\n",
      "\u001b[0;31mAssertionError\u001b[0m: "
     ]
    }
   ],
   "source": [
    "prev_l_inv_recurrence = (1/D[:, np.newaxis]) * F_Lm1\n",
    "H_Lm1 = np.zeros(F_Lm1.shape)\n",
    "L = len(F_hpart['lk']) + 1\n",
    "\n",
    "# cumulative sums: [p_{L-1} r_{L-1}, ... , p_{L-1} r_{L-1} + ... + p_1 r_1]\n",
    "s_lps = np.cumsum(np.array([ranks[lp]*(F_hpart['lk'][lp].size - 1) for lp in reversed(range(0, L-1))]))\n",
    "# for level L size: (r_1 + ... + r_{L-1}) x n\n",
    "prev_El_recurrence = F_Lm1.T * 1/D[np.newaxis, :]\n",
    "print(f\"{prev_El_recurrence.shape=}\")\n",
    "Chol_L = [np.ones((1, n))] + [None] * (L-1)\n",
    "# [np.zeros(ranks[lp], n + s_lps[lp]) for lp in reversed(range(0, L-1))]\n",
    "Chol_D = np.zeros(n + s_lps[L-2])\n",
    "Chol_D[:n] = D\n",
    "\n",
    "assert prev_El_recurrence.shape == (ranks[:-1].sum(), n)\n",
    "for level in reversed(range(0, L-1)):\n",
    "    pl = F_hpart['lk'][level].size - 1\n",
    "    rl = ranks[level]\n",
    "    if rl == 0: continue\n",
    "    # M0 same sparsity as Fl\n",
    "    M0 = prev_l_inv_recurrence[:, -ranks[level]:]\n",
    "    # M1 = M0.T @ rec_term, same sparsity as rec_term\n",
    "    M1 = np.zeros((rl * pl, ranks[:level].sum()))\n",
    "    for lp in range(level):\n",
    "        M1[:, ranks[:lp].sum() : ranks[:lp+1].sum()] = mfm.mult_blockdiag_refined_AtB(M0, \n",
    "                                                                            F_hpart['lk'][level], \n",
    "                                                                            F_Lm1[:, ranks[:lp].sum():ranks[:lp+1].sum()], \n",
    "                                                                            F_hpart['lk'][lp])\n",
    "    M1_lks = [np.searchsorted(F_hpart['lk'][level], lk_B, side='left') * rl for lk_B in F_hpart['lk'][:level]]\n",
    "\n",
    "    # M2 = (I + Fl^T M0)^{-1}, blockdiagonal with pl blocks of size (rl x rl)\n",
    "    FlTM0 = mfm.mult_blockdiag_refined_AtB(F_Lm1[:, ranks[:level].sum() : ranks[:level+1].sum()], \n",
    "                                    F_hpart['lk'][level], \n",
    "                                    M0, \n",
    "                                    F_hpart['lk'][level])\n",
    "\n",
    "    M2 = np.zeros((pl*rl, rl))\n",
    "    sqrt_M2 = np.zeros((pl*rl, rl))\n",
    "    for k in range(pl):\n",
    "        np.fill_diagonal(FlTM0[k*rl : (k+1)*rl], FlTM0[k*rl : (k+1)*rl].diagonal() + 1)\n",
    "        eigvals, eigvecs = np.linalg.eigh(FlTM0[k*rl : (k+1)*rl])\n",
    "        sqrt_M2[k*rl : (k+1)*rl] = ((1 / np.sqrt(eigvals)) * eigvecs) @ eigvecs.T\n",
    "        M2[k*rl : (k+1)*rl] = ((1/eigvals) * eigvecs) @ eigvecs.T\n",
    "        del eigvals, eigvecs\n",
    "\n",
    "    # Cholesky decomposition of M2^{-1}\n",
    "    Chol_Rl = np.zeros((rl, pl*rl))\n",
    "    Chol_Vl = np.zeros((pl*rl))\n",
    "    for k in range(pl):\n",
    "        Chol_Rl[:, k*rl : (k+1)*rl] = np.linalg.cholesky(FlTM0[k*rl : (k+1)*rl])\n",
    "        Chol_Vl[k*rl : (k+1)*rl] = np.square(np.diag(Chol_Rl[:, k*rl : (k+1)*rl]))\n",
    "        Chol_Rl[:, k*rl : (k+1)*rl] *= Chol_Vl[k*rl : (k+1)*rl]**(-1/2)\n",
    "        assert np.allclose(FlTM0[k*rl : (k+1)*rl], Chol_Rl[:, k*rl : (k+1)*rl] * Chol_Vl[k*rl : (k+1)*rl] @ Chol_Rl[:, k*rl : (k+1)*rl].T)\n",
    "\n",
    "    # Cholesky new factors L^{(l)}, D^{(l)}\n",
    "    print(f\"{level=}, {L-2-level=}\")\n",
    "    Chol_L[L-1-level] = np.concatenate([prev_El_recurrence[ranks[:level].sum():ranks[:level+1].sum(), :], Chol_Rl], axis=1)\n",
    "    Chol_D[n + s_lps[L-2-level] - ranks[level]*(F_hpart['lk'][level].size - 1) : n + s_lps[L-2-level]] = -Chol_Vl \n",
    "    assert np.allclose(true_L[s_all[:L-1-level].sum():s_all[:L-1-level+1].sum(), :s_all[:L-1-level+1].sum()], \n",
    "                       sparse_chol_row_block(Chol_L[L-1-level], hpart, level, L, s_all))\n",
    "\n",
    "\n",
    "    del FlTM0, Chol_Rl, Chol_Vl\n",
    "    H_Lm1[:, ranks[:level].sum():ranks[:level+1].sum()] = mfm.mult_blockdiag_refined_AB(M0, \n",
    "                                                                                    F_hpart['lk'][level],\n",
    "                                                                                    sqrt_M2, \n",
    "                                                                                    np.linspace(0, pl*rl, num=pl+1, endpoint=True, dtype=int))\n",
    "    del sqrt_M2\n",
    "    # M3 = M2 @ M1, same sparsity as M1\n",
    "    M3 = np.zeros((rl * pl, ranks[:level].sum()))\n",
    "    for lp in range(level):\n",
    "        M3[:, ranks[:lp].sum():ranks[:lp+1].sum()] = mfm.mult_blockdiag_refined_AtB(M2, \n",
    "                                                                                    np.linspace(0, pl*rl, num=pl+1, endpoint=True, dtype=int), \n",
    "                                                                                    M1[:, ranks[:lp].sum():ranks[:lp+1].sum()], \n",
    "                                                                                    M1_lks[lp])\n",
    "    del M1, M2\n",
    "\n",
    "    if level >= 1:\n",
    "        old_El_rec = prev_El_recurrence + 0\n",
    "        # Cholesky recurrent term\n",
    "        # (r_1 + ... + r_{l-1}) x (n + p_{L-1} r_{L-1} + ... + p_l r_l)\n",
    "        prev_El_last_rowblock = prev_El_recurrence[-ranks[level]:, :] + 0\n",
    "        prev_El_recurrence = np.concatenate([prev_El_recurrence[:ranks[:level].sum(), :], M3.T], axis=1)\n",
    "        El_row_lks = [np.searchsorted(F_hpart['lk'][tilde_l], F_hpart['lk'][level], side='left') * ranks[tilde_l] \\\n",
    "                      for tilde_l in reversed(range(level, L-1))]\n",
    "        sparse_M3 = mfm.inv_rec_term_to_sparse_H(M3, M1_lks, ranks[:level])\n",
    "        sparse_row = sparse_chol_row_block(prev_El_last_rowblock, hpart, level, L, s_all)\n",
    "        res = []\n",
    "        for l_prime in range(level):\n",
    "            res_row = []\n",
    "\n",
    "            tilde_l = L-1 \n",
    "            rank1, rank2 = ranks[:l_prime].sum(), ranks[:l_prime+1].sum()\n",
    "            block1, block2 = 0, n\n",
    "            indices = np.searchsorted(hpart[\"rows\"]['lk'][tilde_l], F_hpart['lk'][level], side='left') * ranks[tilde_l]\n",
    "            print(f\"{tilde_l=}, {l_prime=}\", rank1, rank2, block1, block2)\n",
    "            prod = mfm.mult_blockdiag_refined_CtB_vh(M3[:, rank1 : rank2], \n",
    "                                                M1_lks[l_prime],\n",
    "                                                prev_El_last_rowblock[:, block1: block2], \n",
    "                                                indices)\n",
    "            prev_El_recurrence[rank1 : rank2, block1: block2] = old_El_rec[rank1 : rank2, block1: block2] - prod\n",
    "            indices = np.searchsorted(hpart[\"rows\"]['lk'][tilde_l], F_hpart['lk'][l_prime], side='left') * ranks[tilde_l]\n",
    "            res_row += [mfm.block_diag_lk(indices, prod, col=True)]\n",
    "\n",
    "            for tilde_l in reversed(range(level+1, L-1)):\n",
    "                rank1, rank2 = ranks[:l_prime].sum(), ranks[:l_prime+1].sum()\n",
    "                if tilde_l == L-1:\n",
    "                    block1, block2 = 0, n\n",
    "                else:\n",
    "                    block1, block2 = n + s_lps[L-2-tilde_l] - ranks[tilde_l]*(F_hpart['lk'][tilde_l].size - 1), \\\n",
    "                                 n + s_lps[L-2-tilde_l]\n",
    "                print(f\"{tilde_l=}, {l_prime=}\", rank1, rank2, block1, block2)\n",
    "                prod = mfm.mult_blockdiag_refined_CtB_vh(M3[:, rank1 : rank2], \n",
    "                                                M1_lks[l_prime],\n",
    "                                                prev_El_last_rowblock[:, block1: block2], \n",
    "                                                El_row_lks[L-2-tilde_l])\n",
    "                prev_El_recurrence[rank1 : rank2, block1: block2] = old_El_rec[rank1 : rank2, block1: block2] - prod\n",
    "                indices = np.searchsorted(F_hpart['lk'][tilde_l], F_hpart['lk'][l_prime], side='left') * ranks[tilde_l]\n",
    "                res_row += [mfm.block_diag_lk(indices, prod, col=True)]\n",
    "\n",
    "            if res_row:  \n",
    "                res += [np.concatenate(res_row, axis=1)]\n",
    "        if res:      \n",
    "            assert np.allclose(sparse_M3.T @ sparse_row, np.concatenate(res, axis=0))\n",
    "            print(\"passed\")\n",
    "                \n",
    "\n",
    "    # M4 = M0 @ M3, same sparsity as current rec_term\n",
    "    M4 = np.zeros((n, ranks[:level].sum()))\n",
    "    for lp in range(level):\n",
    "        M4[:, ranks[:lp].sum() : ranks[:lp+1].sum()] = mfm.mult_blockdiag_refined_AB(M0, \n",
    "                                                                                    F_hpart[\"lk\"][level], \n",
    "                                                                                    M3[:, ranks[:lp].sum():ranks[:lp+1].sum()], \n",
    "                                                                                    M1_lks[lp])\n",
    "    del M0, M3\n",
    "\n",
    "    # M5  \n",
    "    prev_l_inv_recurrence = prev_l_inv_recurrence[:, :ranks[:level].sum()] - M4\n",
    "    del M4\n",
    "\n",
    "    if level >= 1:\n",
    "        # Cholesky recurrent term\n",
    "        assert np.allclose(prev_El_recurrence[:, :n], prev_l_inv_recurrence.T)\n",
    "        print(\"passed\")\n",
    "        prev_El_recurrence[:, :n] = prev_l_inv_recurrence.T\n",
    "        assert prev_El_recurrence.shape == (ranks[:level].sum(), n + s_lps[L-2-level])"
   ]
  },
  {
   "cell_type": "code",
   "execution_count": 51,
   "metadata": {},
   "outputs": [
    {
     "data": {
      "text/plain": [
       "(2, 200)"
      ]
     },
     "execution_count": 51,
     "metadata": {},
     "output_type": "execute_result"
    }
   ],
   "source": [
    "prev_El_recurrence[ranks[:level].sum():ranks[:level+1].sum(), :].shape"
   ]
  },
  {
   "cell_type": "code",
   "execution_count": 18,
   "metadata": {},
   "outputs": [],
   "source": [
    "sparse_Chol_L = np.zeros((n + s_lps[-1], n + s_lps[-1]))"
   ]
  },
  {
   "cell_type": "code",
   "execution_count": 19,
   "metadata": {},
   "outputs": [],
   "source": [
    "for level in reversed(range(L)):\n",
    "\n",
    "    sparse_Chol_L[s_all[:L-1-level].sum():s_all[:L-1-level+1].sum(), :s_all[:L-1-level+1].sum()] = sparse_chol_row_block(Chol_L[L-1-level], \n",
    "                                                                                                                         hpart, level, L, s_all)\n",
    "\n",
    "    assert np.allclose(sparse_Chol_L, np.tril(sparse_Chol_L)), print(f\"{level=}, {tilde_l=}\")"
   ]
  },
  {
   "cell_type": "code",
   "execution_count": 20,
   "metadata": {},
   "outputs": [
    {
     "data": {
      "image/png": "[encoded data removed]",
      "text/plain": [
       "<Figure size 1000x800 with 2 Axes>"
      ]
     },
     "metadata": {},
     "output_type": "display_data"
    }
   ],
   "source": [
    "plt.figure(figsize=(10, 8)) \n",
    "plt.matshow(np.abs(sparse_Chol_L)[:]!=0, aspect='auto', fignum=1, cmap='hot') \n",
    "plt.colorbar() \n",
    "plt.show()"
   ]
  },
  {
   "cell_type": "code",
   "execution_count": 21,
   "metadata": {},
   "outputs": [
    {
     "name": "stdout",
     "output_type": "stream",
     "text": [
      "3.1521937233239696\n"
     ]
    },
    {
     "ename": "AssertionError",
     "evalue": "",
     "output_type": "error",
     "traceback": [
      "\u001b[0;31m---------------------------------------------------------------------------\u001b[0m",
      "\u001b[0;31mAssertionError\u001b[0m                            Traceback (most recent call last)",
      "Cell \u001b[0;32mIn [21], line 3\u001b[0m\n\u001b[1;32m      1\u001b[0m \u001b[38;5;28mprint\u001b[39m(mf\u001b[38;5;241m.\u001b[39mrel_diff(expanded_E, (sparse_Chol_L \u001b[38;5;241m@\u001b[39m  np\u001b[38;5;241m.\u001b[39mdiag(Chol_D)) \u001b[38;5;241m@\u001b[39m sparse_Chol_L\u001b[38;5;241m.\u001b[39mT))\n\u001b[1;32m      2\u001b[0m \u001b[38;5;28;01massert\u001b[39;00m (Chol_D \u001b[38;5;241m>\u001b[39m \u001b[38;5;241m0\u001b[39m)\u001b[38;5;241m.\u001b[39msum() \u001b[38;5;241m==\u001b[39m n\n\u001b[0;32m----> 3\u001b[0m \u001b[38;5;28;01massert\u001b[39;00m np\u001b[38;5;241m.\u001b[39mallclose(expanded_E, (sparse_Chol_L \u001b[38;5;241m*\u001b[39m Chol_D) \u001b[38;5;241m@\u001b[39m sparse_Chol_L\u001b[38;5;241m.\u001b[39mT)\n",
      "\u001b[0;31mAssertionError\u001b[0m: "
     ]
    }
   ],
   "source": [
    "print(mf.rel_diff(expanded_E, (sparse_Chol_L @  np.diag(Chol_D)) @ sparse_Chol_L.T))\n",
    "assert (Chol_D > 0).sum() == n\n",
    "assert np.allclose(expanded_E, (sparse_Chol_L * Chol_D) @ sparse_Chol_L.T)"
   ]
  },
  {
   "cell_type": "code",
   "execution_count": 23,
   "metadata": {},
   "outputs": [],
   "source": []
  },
  {
   "cell_type": "code",
   "execution_count": 24,
   "metadata": {},
   "outputs": [],
   "source": [
    "assert np.allclose(true_Chol_D, Chol_D)"
   ]
  },
  {
   "cell_type": "code",
   "execution_count": 40,
   "metadata": {},
   "outputs": [
    {
     "data": {
      "image/png": "[encoded data removed]",
      "text/plain": [
       "<Figure size 1000x800 with 2 Axes>"
      ]
     },
     "metadata": {},
     "output_type": "display_data"
    }
   ],
   "source": [
    "diff = true_L[s_all[:L-1-level].sum():s_all[:L-1-level+1].sum(), :s_all[:L-1-level+1].sum()] -sparse_chol_row_block(Chol_L[L-1-level], hpart, level, L, s_all)\n",
    "\n",
    "plt.figure(figsize=(10, 8)) \n",
    "plt.matshow(np.abs(diff)>1e-8, aspect='auto', fignum=1, cmap='hot') \n",
    "plt.colorbar() \n",
    "plt.show()"
   ]
  },
  {
   "cell_type": "code",
   "execution_count": 26,
   "metadata": {},
   "outputs": [
    {
     "data": {
      "image/png": "[encoded data removed]",
      "text/plain": [
       "<Figure size 1000x800 with 2 Axes>"
      ]
     },
     "metadata": {},
     "output_type": "display_data"
    }
   ],
   "source": [
    "plt.figure(figsize=(10, 8)) \n",
    "plt.matshow(np.abs(true_L - sparse_Chol_L)>1e-8, aspect='auto', fignum=1, cmap='hot') \n",
    "plt.colorbar() \n",
    "plt.show()"
   ]
  },
  {
   "cell_type": "code",
   "execution_count": 27,
   "metadata": {},
   "outputs": [
    {
     "data": {
      "text/plain": [
       "0"
      ]
     },
     "execution_count": 27,
     "metadata": {},
     "output_type": "execute_result"
    }
   ],
   "source": [
    "((np.abs(true_L)>1e-8).astype(int) - (np.abs(sparse_Chol_L)>1e-8).astype(int)).sum()"
   ]
  },
  {
   "cell_type": "code",
   "execution_count": null,
   "metadata": {},
   "outputs": [],
   "source": []
  }
 ],
 "metadata": {
  "kernelspec": {
   "display_name": "routing",
   "language": "python",
   "name": "python3"
  },
  "language_info": {
   "codemirror_mode": {
    "name": "ipython",
    "version": 3
   },
   "file_extension": ".py",
   "mimetype": "text/x-python",
   "name": "python",
   "nbconvert_exporter": "python",
   "pygments_lexer": "ipython3",
   "version": "3.9.16"
  }
 },
 "nbformat": 4,
 "nbformat_minor": 2
}
