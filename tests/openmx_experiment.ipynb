{
 "cells": [
  {
   "cell_type": "code",
   "execution_count": 2,
   "metadata": {},
   "outputs": [
    {
     "name": "stderr",
     "output_type": "stream",
     "text": [
      "/Users/parshakova.tanya/opt/anaconda3/envs/routing/lib/python3.9/site-packages/tqdm/auto.py:22: TqdmWarning: IProgress not found. Please update jupyter and ipywidgets. See https://ipywidgets.readthedocs.io/en/stable/user_install.html\n",
      "  from .autonotebook import tqdm as notebook_tqdm\n"
     ]
    }
   ],
   "source": [
    "import numpy as np\n",
    "\n",
    "\n",
    "import seaborn as sns\n",
    "import matplotlib.pyplot as plt\n",
    "\n",
    "import copy, time\n",
    "import random\n",
    "import pickle\n",
    "import scipy\n",
    "\n",
    "import mlrfit as mf\n",
    "import hfmfit as hf"
   ]
  },
  {
   "cell_type": "code",
   "execution_count": 3,
   "metadata": {},
   "outputs": [
    {
     "name": "stdout",
     "output_type": "stream",
     "text": [
      "level=0, 1\n",
      "level=1, 11\n",
      "level=2, 24\n",
      "level=3, 69\n",
      "level=4, 157\n",
      "level=5, 5000\n"
     ]
    }
   ],
   "source": [
    "rank = 30\n",
    "mtype = 'assetcov_gics'\n",
    "\n",
    "with open(\"../../mlr_fitting_private/data_finance/crsp_gics_5k_hpart.pkl\", \"rb\") as f:\n",
    "       gics_hpart = pickle.load(f)\n",
    "\n",
    "with open('../../mlr_fitting_private/data_finance/crsp_gics_5k_C.npy', 'rb') as f:\n",
    "       C = np.load(f)\n",
    "\n",
    "m = n = gics_hpart['rows']['pi'].size\n",
    "part_sizes = []\n",
    "for level in range(len(gics_hpart['rows']['lk'])):\n",
    "    part_sizes += [gics_hpart['rows']['lk'][level].size-1]\n",
    "    print(f\"{level=}, {gics_hpart['rows']['lk'][level].size-1}\")\n",
    "\n",
    "Z = mf.demean_clip(C)\n",
    "# features are presented in general order\n",
    "unpermuted_A = Z @ Z.T / (Z.shape[1]-1)"
   ]
  },
  {
   "cell_type": "code",
   "execution_count": 4,
   "metadata": {},
   "outputs": [],
   "source": [
    "# permute to put clusters on diagonal\n",
    "Y = Z[gics_hpart[\"rows\"][\"pi\"], :].T\n",
    "N = Y.shape[0]"
   ]
  },
  {
   "cell_type": "code",
   "execution_count": 5,
   "metadata": {},
   "outputs": [
    {
     "data": {
      "text/plain": [
       "(-0.00027599359051962765,\n",
       " 1.7531290483245723,\n",
       " -0.6189932233333333,\n",
       " -0.0006269800000000001)"
      ]
     },
     "execution_count": 5,
     "metadata": {},
     "output_type": "execute_result"
    }
   ],
   "source": [
    "Y.mean(), Y.max(), Y.min(), np.median(Y)"
   ]
  },
  {
   "cell_type": "code",
   "execution_count": 6,
   "metadata": {},
   "outputs": [
    {
     "name": "stdout",
     "output_type": "stream",
     "text": [
      "num_levels=6, num_sparsities=157\n"
     ]
    }
   ],
   "source": [
    "num_levels = len(gics_hpart['rows']['lk'])\n",
    "L = num_levels - 1\n",
    "num_sparsities = len(gics_hpart['rows']['lk'][L - 1]) - 1\n",
    "print(f\"{num_levels=}, {num_sparsities=}\")\n",
    "# row selector for each sparsity pattern\n",
    "row_selectors = gics_hpart['rows']['lk'][L - 1]\n",
    "# traverse hpart tree and assign to each leaf  \n",
    "# set of group indices \n",
    "# from each level to which it belongs\n",
    "S = []\n",
    "for level in range(L):\n",
    "    num_blocks = gics_hpart['rows']['lk'][level].size - 1\n",
    "    diff = np.diff(gics_hpart['rows']['lk'][level])\n",
    "    # for each level assign group index to each feature\n",
    "    S += [np.repeat(np.arange(num_blocks), diff)]\n",
    "# n x (L-1)\n",
    "groups_all = np.stack(S, axis=1)"
   ]
  },
  {
   "cell_type": "code",
   "execution_count": 21,
   "metadata": {},
   "outputs": [
    {
     "data": {
      "text/plain": [
       "array([[  0,   0,   0,   0],\n",
       "       [  0,   0,   0,   0],\n",
       "       [  0,   0,   0,   0],\n",
       "       ...,\n",
       "       [156,  68,  23,  10],\n",
       "       [156,  68,  23,  10],\n",
       "       [156,  68,  23,  10]])"
      ]
     },
     "execution_count": 21,
     "metadata": {},
     "output_type": "execute_result"
    }
   ],
   "source": [
    "groups_all[:, ::-1][:, :-1]"
   ]
  },
  {
   "cell_type": "code",
   "execution_count": 23,
   "metadata": {},
   "outputs": [],
   "source": [
    "np.savetxt('asset_cov_Y.dat', Y)"
   ]
  },
  {
   "cell_type": "code",
   "execution_count": 24,
   "metadata": {},
   "outputs": [
    {
     "data": {
      "text/plain": [
       "((300, 5000), (5000, 4))"
      ]
     },
     "execution_count": 24,
     "metadata": {},
     "output_type": "execute_result"
    }
   ],
   "source": [
    "Y.shape, groups_all[:, ::-1][:, :-1].shape"
   ]
  },
  {
   "cell_type": "code",
   "execution_count": 27,
   "metadata": {},
   "outputs": [],
   "source": [
    "np.savetxt('asset_cov_gics.dat', groups_all[:, ::-1].T)"
   ]
  },
  {
   "cell_type": "code",
   "execution_count": 26,
   "metadata": {},
   "outputs": [
    {
     "data": {
      "text/plain": [
       "array([ 1,  2,  3,  4,  6, 14])"
      ]
     },
     "execution_count": 26,
     "metadata": {},
     "output_type": "execute_result"
    }
   ],
   "source": [
    "np.array([14, 6, 4, 3, 2, 1])[::-1]"
   ]
  },
  {
   "cell_type": "code",
   "execution_count": null,
   "metadata": {},
   "outputs": [],
   "source": []
  }
 ],
 "metadata": {
  "kernelspec": {
   "display_name": "routing",
   "language": "python",
   "name": "python3"
  },
  "language_info": {
   "codemirror_mode": {
    "name": "ipython",
    "version": 3
   },
   "file_extension": ".py",
   "mimetype": "text/x-python",
   "name": "python",
   "nbconvert_exporter": "python",
   "pygments_lexer": "ipython3",
   "version": "3.9.16"
  }
 },
 "nbformat": 4,
 "nbformat_minor": 2
}
