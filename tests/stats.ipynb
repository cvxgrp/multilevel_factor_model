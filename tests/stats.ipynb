{
 "cells": [
  {
   "cell_type": "code",
   "execution_count": 1,
   "metadata": {},
   "outputs": [
    {
     "name": "stderr",
     "output_type": "stream",
     "text": [
      "/Users/parshakova.tanya/opt/anaconda3/envs/routing/lib/python3.9/site-packages/tqdm/auto.py:22: TqdmWarning: IProgress not found. Please update jupyter and ipywidgets. See https://ipywidgets.readthedocs.io/en/stable/user_install.html\n",
      "  from .autonotebook import tqdm as notebook_tqdm\n"
     ]
    }
   ],
   "source": [
    "import numpy as np\n",
    "import mlrfit as mf"
   ]
  },
  {
   "cell_type": "code",
   "execution_count": 62,
   "metadata": {},
   "outputs": [],
   "source": []
  },
  {
   "cell_type": "markdown",
   "metadata": {},
   "source": [
    "# Check asymptotics"
   ]
  },
  {
   "cell_type": "code",
   "execution_count": 2,
   "metadata": {},
   "outputs": [
    {
     "data": {
      "text/plain": [
       "(0.006317528382544317, 0.007071067811865475)"
      ]
     },
     "execution_count": 2,
     "metadata": {},
     "output_type": "execute_result"
    }
   ],
   "source": [
    "d = 50\n",
    "ns = 1000000\n",
    "D_noise = np.random.uniform(0, 1, d)\n",
    "E = np.random.multivariate_normal(np.zeros(D_noise.size), np.diag(D_noise), size=ns).T\n",
    "Z = E - E.mean(axis=1, keepdims=True)\n",
    "A = Z @ Z.T / (ns-1)\n",
    "\n",
    "np.linalg.norm(A - np.diag(D_noise), 'fro') / np.linalg.norm(np.diag(D_noise), 'fro') , np.sqrt(d/ns)"
   ]
  },
  {
   "cell_type": "code",
   "execution_count": 4,
   "metadata": {},
   "outputs": [
    {
     "name": "stdout",
     "output_type": "stream",
     "text": [
      "10 0.002112071766842613 0.002298285414544774 0.0031622776601683794\n",
      "20 0.0033243775198434143 0.004314828866670062 0.00447213595499958\n",
      "30 0.0031258518405309133 0.0035082903209570936 0.005477225575051661\n",
      "50 0.004760510750993555 0.004208915676902205 0.007071067811865475\n"
     ]
    }
   ],
   "source": [
    "for K in [10, 20, 30, 50]:\n",
    "    ns = 10**6\n",
    "    true_D_noise = np.exp(np.random.randn(K))\n",
    "    E = np.random.multivariate_normal(np.zeros(K), np.diag(true_D_noise[:K]), size=ns).T \n",
    "    E2 = np.diag(np.sqrt(true_D_noise[:K])) @ np.random.randn(K, ns)\n",
    "    print(K, mf.rel_diff(np.diag(true_D_noise[:K]), (E @ E.T) / (ns - 1)), mf.rel_diff(np.diag(true_D_noise[:K]), (E2 @ E2.T) / (ns - 1)), np.sqrt(K / ns))"
   ]
  },
  {
   "cell_type": "code",
   "execution_count": null,
   "metadata": {},
   "outputs": [],
   "source": []
  },
  {
   "cell_type": "code",
   "execution_count": null,
   "metadata": {},
   "outputs": [],
   "source": []
  },
  {
   "cell_type": "code",
   "execution_count": 1,
   "metadata": {},
   "outputs": [],
   "source": [
    "import matplotlib.pyplot as plt\n",
    "import numpy as np\n",
    "import mfmodel as mfm\n",
    "\n",
    "plt.rcParams['text.usetex'] = True"
   ]
  },
  {
   "cell_type": "markdown",
   "metadata": {},
   "source": [
    "# FactorAnalysis"
   ]
  },
  {
   "cell_type": "code",
   "execution_count": 2,
   "metadata": {},
   "outputs": [],
   "source": []
  },
  {
   "cell_type": "code",
   "execution_count": 74,
   "metadata": {},
   "outputs": [],
   "source": [
    "from sklearn.datasets import load_iris, load_wine, load_breast_cancer, load_diabetes"
   ]
  },
  {
   "cell_type": "code",
   "execution_count": 75,
   "metadata": {},
   "outputs": [
    {
     "data": {
      "text/plain": [
       "(442, 10)"
      ]
     },
     "execution_count": 75,
     "metadata": {},
     "output_type": "execute_result"
    }
   ],
   "source": [
    "# data = load_iris()\n",
    "# data = load_wine()\n",
    "# data = load_breast_cancer()\n",
    "data = load_diabetes()\n",
    "data.data.shape"
   ]
  },
  {
   "cell_type": "code",
   "execution_count": 90,
   "metadata": {},
   "outputs": [],
   "source": [
    "n_factors = 3"
   ]
  },
  {
   "cell_type": "markdown",
   "metadata": {},
   "source": [
    "## `sklearn.decomposition.FactorAnalysis`"
   ]
  },
  {
   "cell_type": "code",
   "execution_count": 91,
   "metadata": {},
   "outputs": [],
   "source": [
    "\n",
    "from sklearn.decomposition import PCA, FactorAnalysis\n",
    "from sklearn.preprocessing import StandardScaler\n",
    "\n",
    "X = StandardScaler().fit_transform(data[\"data\"])\n",
    "\n",
    "X0 = mfm.standardize_matrix(data[\"data\"], debug=True)\n",
    "assert np.allclose(X, X0)\n",
    "\n",
    "Sigma = X.T @ X / X.shape[0]\n",
    "assert np.allclose(1, np.diag(Sigma))\n",
    "assert np.allclose(0, X.sum(axis=0))\n",
    "\n",
    "\n",
    "feature_names = data[\"feature_names\"]"
   ]
  },
  {
   "cell_type": "code",
   "execution_count": 93,
   "metadata": {},
   "outputs": [
    {
     "name": "stdout",
     "output_type": "stream",
     "text": [
      "PCA [0.1 0.1 0.1]\n",
      "Unrotated FA [0.27181476 0.22381484 0.07900778]\n",
      "Varimax FA [0.2329281  0.19076863 0.15094065]\n"
     ]
    },
    {
     "data": {
      "image/png": "[encoded data removed]",
      "text/plain": [
       "<Figure size 960x480 with 3 Axes>"
      ]
     },
     "metadata": {},
     "output_type": "display_data"
    }
   ],
   "source": [
    "methods = [ (\"PCA\", PCA()),  (\"Unrotated FA\", FactorAnalysis()), (\"Varimax FA\", FactorAnalysis(rotation=\"varimax\")),]\n",
    "fig, axes = plt.subplots(ncols=len(methods), figsize=(8, 4), sharey=True, dpi=120)\n",
    "\n",
    "for ax, (method, fa) in zip(axes, methods):\n",
    "    fa.set_params(n_components=n_factors)\n",
    "    fa.fit(X)\n",
    "    components = fa.components_.T\n",
    "    vmax = np.abs(components).max()\n",
    "    ax.imshow(components, cmap=\"RdBu_r\", vmax=vmax, vmin=-vmax)\n",
    "    ax.set_yticks(np.arange(len(feature_names))); ax.set_yticklabels(feature_names)\n",
    "    ax.set_title(str(method))\n",
    "    ax.set_xticks([0, 1]); ax.set_xticklabels([\"F1\", \"F2\"])\n",
    "    print(method, (components**2).sum(axis=0) / components.shape[0])\n",
    "    if method == \"Varimax FA\":\n",
    "        loadings1 = components\n",
    "fig.suptitle(\"Factors\")\n",
    "plt.tight_layout()\n",
    "plt.show()"
   ]
  },
  {
   "cell_type": "markdown",
   "metadata": {},
   "source": [
    "## `factor_analyzer.FactorAnalyzer`"
   ]
  },
  {
   "cell_type": "code",
   "execution_count": 94,
   "metadata": {},
   "outputs": [
    {
     "data": {
      "text/plain": [
       "dict_keys(['data', 'target', 'frame', 'DESCR', 'feature_names', 'data_filename', 'target_filename', 'data_module'])"
      ]
     },
     "execution_count": 94,
     "metadata": {},
     "output_type": "execute_result"
    }
   ],
   "source": [
    "data.keys()"
   ]
  },
  {
   "cell_type": "code",
   "execution_count": 95,
   "metadata": {},
   "outputs": [
    {
     "name": "stdout",
     "output_type": "stream",
     "text": [
      "fa.get_communalities()=array([0.21336595, 0.15322813, 0.3418804 , 0.47935317, 1.02343393,\n",
      "       0.81927255, 0.98528641, 0.93007742, 0.51392438, 0.41431341])\n",
      "fa.get_uniquenesses()=array([ 0.78663405,  0.84677187,  0.6581196 ,  0.52064683, -0.02343393,\n",
      "        0.18072745,  0.01471359,  0.06992258,  0.48607562,  0.58568659])\n",
      "\n",
      "Factor Variance (Eigenvalues): [2.16464388 1.95777909 1.75171278]\n",
      "Proportion of Variance Explained: [0.21646439 0.19577791 0.17517128]\n",
      "Cumulative Variance Explained: [0.21646439 0.4122423  0.58741358]\n"
     ]
    }
   ],
   "source": [
    "import numpy as np\n",
    "import pandas as pd\n",
    "from factor_analyzer import FactorAnalyzer\n",
    "\n",
    "df = pd.DataFrame(data.data, columns=data.feature_names)\n",
    "\n",
    "\n",
    "fa = FactorAnalyzer(n_factors=n_factors, rotation='varimax')\n",
    "\n",
    "\n",
    "fa.fit(df)\n",
    "loadings = fa.loadings_\n",
    "loadings2 = loadings\n",
    "# print(\"Factor Loadings:\\n\", loadings)\n",
    "\n",
    "print(f\"{fa.get_communalities()=}\")\n",
    "print(f\"{fa.get_uniquenesses()=}\")\n",
    "\n",
    "variance, prop_var, cum_var = fa.get_factor_variance()\n",
    "print(\"\\nFactor Variance (Eigenvalues):\", variance)\n",
    "print(\"Proportion of Variance Explained:\", prop_var)\n",
    "print(\"Cumulative Variance Explained:\", cum_var)\n"
   ]
  },
  {
   "cell_type": "code",
   "execution_count": 96,
   "metadata": {},
   "outputs": [
    {
     "data": {
      "text/plain": [
       "array([0.21646439, 0.19577791, 0.17517128])"
      ]
     },
     "execution_count": 96,
     "metadata": {},
     "output_type": "execute_result"
    }
   ],
   "source": [
    "(loadings2**2).sum(axis=0) / loadings2.shape[0]"
   ]
  },
  {
   "cell_type": "markdown",
   "metadata": {},
   "source": [
    "## `mfmodel`"
   ]
  },
  {
   "cell_type": "code",
   "execution_count": 104,
   "metadata": {},
   "outputs": [
    {
     "name": "stdout",
     "output_type": "stream",
     "text": [
      "N=442, n=10\n",
      "level=0, num_groups=1, mean_size=10.0\n",
      "level=1, num_groups=10, mean_size=1.0\n"
     ]
    }
   ],
   "source": [
    "Y = mfm.standardize_matrix(data[\"data\"], debug=True)\n",
    "N, n = Y.shape\n",
    "print(f\"{N=}, {n=}\")\n",
    "\n",
    "L = 2\n",
    "ranks = np.array([n_factors, 1])\n",
    "\n",
    "pi_rows = np.arange(n)\n",
    "hpart = {'rows':{'pi':pi_rows, 'lk':[]}, 'cols':{'pi':pi_rows, 'lk':[]}} \n",
    "for ngroups in [2, n+1]:\n",
    "       hpart['rows']['lk'] += [ np.linspace(0, n, ngroups, endpoint=True, dtype=int)]\n",
    "hpart['cols']['lk'] = hpart['rows']['lk']\n",
    "part_sizes = mfm.print_hpart_numgroups(hpart)\n",
    "mfm.valid_hpart(hpart)"
   ]
  },
  {
   "cell_type": "code",
   "execution_count": 105,
   "metadata": {},
   "outputs": [
    {
     "name": "stdout",
     "output_type": "stream",
     "text": [
      "num_levels=2, num_sparsities=1\n",
      "(1, 1) [0]\n"
     ]
    }
   ],
   "source": [
    "row_selectors, si_groups, F_hpart = mfm.row_col_selections(hpart)"
   ]
  },
  {
   "cell_type": "code",
   "execution_count": 116,
   "metadata": {},
   "outputs": [
    {
     "name": "stdout",
     "output_type": "stream",
     "text": [
      "t=0, obj=-14.034969229292962, np.percentile(D0, 1)=0.9694574948865876\n",
      "t=100, obj=-10.515523989539526, np.percentile(D0, 1)=0.0024671480502891775\n",
      "t=200, obj=-10.508102471636857, np.percentile(D0, 1)=0.0014341991274032218\n",
      "t=300, obj=-10.505479651129967, np.percentile(D0, 1)=0.0010274071256373633\n",
      "terminating at t=393\n",
      "t=393, obj=-10.504213285408087, np.percentile(D1, 1)=0.0008163739483511504\n"
     ]
    }
   ],
   "source": [
    "fitted_mfm, loglikelihoods = mfm.fit(Y, ranks, F_hpart, printing=True, max_iter=2000, freq=100, init_type=\"Y\", eps=1e-6)"
   ]
  },
  {
   "cell_type": "code",
   "execution_count": 117,
   "metadata": {},
   "outputs": [
    {
     "data": {
      "text/plain": [
       "(0.5527576592105896, 0.42511598126886063)"
      ]
     },
     "execution_count": 117,
     "metadata": {},
     "output_type": "execute_result"
    }
   ],
   "source": [
    "F, D = fitted_mfm.F, fitted_mfm.D \n",
    "\n",
    "communalities = (F**2).sum(axis=1)\n",
    "communalities.sum() / n, fitted_mfm.D.sum() / n"
   ]
  },
  {
   "cell_type": "code",
   "execution_count": 118,
   "metadata": {},
   "outputs": [
    {
     "data": {
      "text/plain": [
       "array([0.34499078, 0.13315256, 0.07461432])"
      ]
     },
     "execution_count": 118,
     "metadata": {},
     "output_type": "execute_result"
    }
   ],
   "source": [
    "variance = (F**2).sum(axis=0)\n",
    "variance / n"
   ]
  },
  {
   "cell_type": "code",
   "execution_count": 119,
   "metadata": {},
   "outputs": [
    {
     "data": {
      "image/png": "[encoded data removed]",
      "text/plain": [
       "<Figure size 1200x480 with 3 Axes>"
      ]
     },
     "metadata": {},
     "output_type": "display_data"
    }
   ],
   "source": [
    "methods = [ (\"MFM\",fitted_mfm.F ),  (\"FA1\", loadings1),  (\"FA2\", loadings2)]\n",
    "fig, axes = plt.subplots(ncols=len(methods), figsize=(10, 4), sharey=True, dpi=120)\n",
    "\n",
    "for ax, (method, F_load) in zip(axes, methods):\n",
    "    vmax = np.abs(F_load).max()\n",
    "    ax.imshow(F_load, cmap=\"RdBu_r\", vmax=vmax, vmin=-vmax)\n",
    "    ax.set_yticks(np.arange(len(feature_names))); ax.set_yticklabels(feature_names)\n",
    "    ax.set_title(str(method))\n",
    "    ax.set_xticks([0, 1]); ax.set_xticklabels([\"F1\", \"F2\"])\n",
    "fig.suptitle(\"Factors\")\n",
    "plt.tight_layout()\n",
    "plt.show()"
   ]
  },
  {
   "cell_type": "code",
   "execution_count": null,
   "metadata": {},
   "outputs": [],
   "source": []
  },
  {
   "cell_type": "code",
   "execution_count": null,
   "metadata": {},
   "outputs": [],
   "source": []
  }
 ],
 "metadata": {
  "kernelspec": {
   "display_name": "multilevel",
   "language": "python",
   "name": "python3"
  },
  "language_info": {
   "codemirror_mode": {
    "name": "ipython",
    "version": 3
   },
   "file_extension": ".py",
   "mimetype": "text/x-python",
   "name": "python",
   "nbconvert_exporter": "python",
   "pygments_lexer": "ipython3",
   "version": "3.11.8"
  }
 },
 "nbformat": 4,
 "nbformat_minor": 2
}
