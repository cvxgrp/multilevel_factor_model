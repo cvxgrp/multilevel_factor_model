{
 "cells": [
  {
   "cell_type": "code",
   "execution_count": 1,
   "metadata": {},
   "outputs": [
    {
     "name": "stderr",
     "output_type": "stream",
     "text": [
      "/Users/parshakova.tanya/opt/anaconda3/envs/routing/lib/python3.9/site-packages/tqdm/auto.py:22: TqdmWarning: IProgress not found. Please update jupyter and ipywidgets. See https://ipywidgets.readthedocs.io/en/stable/user_install.html\n",
      "  from .autonotebook import tqdm as notebook_tqdm\n"
     ]
    }
   ],
   "source": [
    "import numpy as np\n",
    "import mlrfit as mf"
   ]
  },
  {
   "cell_type": "code",
   "execution_count": null,
   "metadata": {},
   "outputs": [],
   "source": []
  },
  {
   "cell_type": "markdown",
   "metadata": {},
   "source": [
    "# Check asymptotics"
   ]
  },
  {
   "cell_type": "code",
   "execution_count": 2,
   "metadata": {},
   "outputs": [
    {
     "data": {
      "text/plain": [
       "(0.006317528382544317, 0.007071067811865475)"
      ]
     },
     "execution_count": 2,
     "metadata": {},
     "output_type": "execute_result"
    }
   ],
   "source": [
    "d = 50\n",
    "ns = 1000000\n",
    "D_noise = np.random.uniform(0, 1, d)\n",
    "E = np.random.multivariate_normal(np.zeros(D_noise.size), np.diag(D_noise), size=ns).T\n",
    "Z = E - E.mean(axis=1, keepdims=True)\n",
    "A = Z @ Z.T / (ns-1)\n",
    "\n",
    "np.linalg.norm(A - np.diag(D_noise), 'fro') / np.linalg.norm(np.diag(D_noise), 'fro') , np.sqrt(d/ns)"
   ]
  },
  {
   "cell_type": "code",
   "execution_count": 4,
   "metadata": {},
   "outputs": [
    {
     "name": "stdout",
     "output_type": "stream",
     "text": [
      "10 0.002112071766842613 0.002298285414544774 0.0031622776601683794\n",
      "20 0.0033243775198434143 0.004314828866670062 0.00447213595499958\n",
      "30 0.0031258518405309133 0.0035082903209570936 0.005477225575051661\n",
      "50 0.004760510750993555 0.004208915676902205 0.007071067811865475\n"
     ]
    }
   ],
   "source": [
    "for K in [10, 20, 30, 50]:\n",
    "    ns = 10**6\n",
    "    true_D_noise = np.exp(np.random.randn(K))\n",
    "    E = np.random.multivariate_normal(np.zeros(K), np.diag(true_D_noise[:K]), size=ns).T \n",
    "    E2 = np.diag(np.sqrt(true_D_noise[:K])) @ np.random.randn(K, ns)\n",
    "    print(K, mf.rel_diff(np.diag(true_D_noise[:K]), (E @ E.T) / (ns - 1)), mf.rel_diff(np.diag(true_D_noise[:K]), (E2 @ E2.T) / (ns - 1)), np.sqrt(K / ns))"
   ]
  },
  {
   "cell_type": "code",
   "execution_count": null,
   "metadata": {},
   "outputs": [],
   "source": []
  }
 ],
 "metadata": {
  "kernelspec": {
   "display_name": "routing",
   "language": "python",
   "name": "python3"
  },
  "language_info": {
   "codemirror_mode": {
    "name": "ipython",
    "version": 3
   },
   "file_extension": ".py",
   "mimetype": "text/x-python",
   "name": "python",
   "nbconvert_exporter": "python",
   "pygments_lexer": "ipython3",
   "version": "3.9.16"
  }
 },
 "nbformat": 4,
 "nbformat_minor": 2
}
