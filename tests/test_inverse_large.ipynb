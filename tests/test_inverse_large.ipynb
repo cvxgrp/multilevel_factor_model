{
 "cells": [
  {
   "cell_type": "code",
   "execution_count": 1,
   "metadata": {},
   "outputs": [
    {
     "name": "stderr",
     "output_type": "stream",
     "text": [
      "/Users/parshakova.tanya/opt/anaconda3/envs/routing/lib/python3.9/site-packages/tqdm/auto.py:22: TqdmWarning: IProgress not found. Please update jupyter and ipywidgets. See https://ipywidgets.readthedocs.io/en/stable/user_install.html\n",
      "  from .autonotebook import tqdm as notebook_tqdm\n"
     ]
    }
   ],
   "source": [
    "import numpy as np\n",
    "\n",
    "import seaborn as sns\n",
    "import matplotlib.pyplot as plt\n",
    "\n",
    "import copy, time\n",
    "import random\n",
    "import pickle\n",
    "import scipy\n",
    "\n",
    "import timeit\n",
    "\n",
    "import mlrfit as mf\n",
    "import mfmodel as mfm\n",
    "import numba as nb\n",
    "\n",
    "from scipy.sparse import coo_matrix\n",
    "from scipy.linalg import block_diag, pinvh"
   ]
  },
  {
   "cell_type": "code",
   "execution_count": 2,
   "metadata": {},
   "outputs": [],
   "source": [
    "np.random.seed(1001)\n",
    "random.seed(1001)"
   ]
  },
  {
   "cell_type": "markdown",
   "metadata": {},
   "source": [
    "# True model is MLR factor model with SNR = 4 \n",
    "\n",
    "Let $\\Sigma = FF^T + D$ be MLR. We generate samples using \n",
    "$$\n",
    "y = Fz + e, \\qquad z \\sim N(0, I), \\qquad N(0, D).\n",
    "$$"
   ]
  },
  {
   "cell_type": "code",
   "execution_count": 3,
   "metadata": {},
   "outputs": [
    {
     "data": {
      "text/plain": [
       "264"
      ]
     },
     "execution_count": 3,
     "metadata": {},
     "output_type": "execute_result"
    }
   ],
   "source": [
    "mtype = \"small_mlr_hier\"\n",
    "n = 100000\n",
    "signal_to_noise = 4\n",
    "\n",
    "\n",
    "\n",
    "L = 5\n",
    "\n",
    "# ranks = np.array([5, 4, 3, 2, 1])\n",
    "ranks = np.array([30, 20, 10, 5, 1])\n",
    "rank = ranks.sum()\n",
    "\n",
    "nsamples = rank * 4\n",
    "nsamples"
   ]
  },
  {
   "cell_type": "code",
   "execution_count": 4,
   "metadata": {},
   "outputs": [
    {
     "name": "stdout",
     "output_type": "stream",
     "text": [
      "level=0, num_groups=1, mean_size=100000.0\n",
      "level=1, num_groups=3, mean_size=33333.3\n",
      "level=2, num_groups=7, mean_size=14285.7\n",
      "level=3, num_groups=16, mean_size=6250.0\n",
      "level=4, num_groups=100000, mean_size=1.0\n"
     ]
    }
   ],
   "source": [
    "pi_rows = np.random.permutation(n)\n",
    "hpart = {'rows':{'pi':pi_rows, 'lk':[]}, 'cols':{'pi':pi_rows, 'lk':[]}} \n",
    "for ngroups in [2, 5, 9, 17, n+1]:\n",
    "       hpart['rows']['lk'] += [ np.linspace(0, n, ngroups, endpoint=True, dtype=int)]\n",
    "hpart['rows']['lk'][1] = np.delete(hpart['rows']['lk'][1], -2)\n",
    "hpart['rows']['lk'][2] = np.delete(hpart['rows']['lk'][2], -4)\n",
    "hpart['cols']['lk'] = hpart['rows']['lk']\n",
    "part_sizes = mfm.print_hpart_numgroups(hpart)\n",
    "mfm.valid_hpart(hpart)"
   ]
  },
  {
   "cell_type": "code",
   "execution_count": 5,
   "metadata": {},
   "outputs": [
    {
     "name": "stdout",
     "output_type": "stream",
     "text": [
      "signal_var=81.15506713197232, noise_var=16.242432778950498\n",
      "SNR=3.9964847160793444, signal_to_noise=4\n"
     ]
    }
   ],
   "source": [
    "F_hpart = {\"pi\": hpart['rows'][\"pi\"], \"lk\": hpart['rows'][\"lk\"][:-1]}\n",
    "true_mfm = mfm.MFModel()\n",
    "true_mfm = mfm.generate_mfmodel(true_mfm, n, F_hpart, ranks, signal_to_noise, debug=False)\n",
    "F_hpart[\"pi_inv\"] = true_mfm.pi_inv"
   ]
  },
  {
   "cell_type": "code",
   "execution_count": 6,
   "metadata": {},
   "outputs": [
    {
     "data": {
      "text/plain": [
       "(100000, 240, 5, 66)"
      ]
     },
     "execution_count": 6,
     "metadata": {},
     "output_type": "execute_result"
    }
   ],
   "source": [
    "n, true_mfm.num_factors(), L, ranks.sum()"
   ]
  },
  {
   "cell_type": "code",
   "execution_count": 7,
   "metadata": {},
   "outputs": [
    {
     "name": "stdout",
     "output_type": "stream",
     "text": [
      "solve reldiff=9.744615586746802e-13\n"
     ]
    }
   ],
   "source": [
    "v = np.random.randn(n, 1)\n",
    "\n",
    "\n",
    "hat_x = true_mfm.solve(v, eps=1e-12, max_iter=20, printing=False)\n",
    "reldiff = np.linalg.norm(true_mfm.matvec(hat_x) - v) / np.linalg.norm(v)\n",
    "print(f\"solve {reldiff=}\")"
   ]
  },
  {
   "cell_type": "code",
   "execution_count": 8,
   "metadata": {},
   "outputs": [
    {
     "name": "stdout",
     "output_type": "stream",
     "text": [
      "2.56 s ± 103 ms per loop (mean ± std. dev. of 7 runs, 1 loop each)\n"
     ]
    }
   ],
   "source": [
    "%timeit true_mfm.solve(v, eps=1e-12, max_iter=20, printing=False)"
   ]
  },
  {
   "cell_type": "code",
   "execution_count": 9,
   "metadata": {},
   "outputs": [
    {
     "data": {
      "text/plain": [
       "(0.0006785230567792892, 32.456283388481424)"
      ]
     },
     "execution_count": 9,
     "metadata": {},
     "output_type": "execute_result"
    }
   ],
   "source": [
    "true_mfm.D.min(), true_mfm.D.max()"
   ]
  },
  {
   "cell_type": "markdown",
   "metadata": {},
   "source": [
    "# EM"
   ]
  },
  {
   "cell_type": "code",
   "execution_count": 10,
   "metadata": {},
   "outputs": [
    {
     "name": "stdout",
     "output_type": "stream",
     "text": [
      "num_levels=5, num_sparsities=16\n",
      "(16, 4) [ 0  2  6 15]\n"
     ]
    }
   ],
   "source": [
    "C = mfm.sample_data(nsamples, true_mfm)\n",
    "\n",
    "Z = (C - C.mean(axis=1, keepdims=True))[F_hpart[\"pi\"], :]\n",
    "# unpermuted_A = (Z @ Z.T / (Z.shape[1]-1))[true_mfm.pi_inv, :][:, true_mfm.pi_inv]\n",
    "\n",
    "# permute to put clusters on diagonal\n",
    "Y = Z.T\n",
    "N = Y.shape[0]\n",
    "\n",
    "permuted_F_hpart = {\"pi_inv\":np.arange(n), \"pi\":np.arange(n), \"lk\":F_hpart[\"lk\"]}\n",
    "row_selectors, si_groups, F_hpart, groups_all = mfm.row_col_selections(hpart, return_groups=True)\n",
    "\n",
    "\n",
    "mfm_Sigma = mfm.MFModel(hpart=F_hpart, ranks=ranks)\n",
    "mfm_Sigma.init_FD(ranks, F_hpart, init_type=\"Y\", Y=Y)\n",
    "F0, D0 = mfm_Sigma.F, mfm_Sigma.D"
   ]
  },
  {
   "cell_type": "code",
   "execution_count": 12,
   "metadata": {},
   "outputs": [
    {
     "data": {
      "text/plain": [
       "(66, 240)"
      ]
     },
     "execution_count": 12,
     "metadata": {},
     "output_type": "execute_result"
    }
   ],
   "source": [
    "rank, mfm_Sigma.num_factors()"
   ]
  },
  {
   "cell_type": "code",
   "execution_count": null,
   "metadata": {},
   "outputs": [],
   "source": []
  },
  {
   "cell_type": "code",
   "execution_count": 37,
   "metadata": {},
   "outputs": [
    {
     "data": {
      "text/plain": [
       "array([1.05368833, 1.05523631, 1.05674229, 1.05750556, 1.05773613,\n",
       "       1.06071419, 1.06110294, 1.06155948, 1.06194614, 1.06248022,\n",
       "       1.06332585, 1.06386022, 1.06448366, 1.06477398, 1.06535907,\n",
       "       1.06644549, 1.0667757 , 1.06691082, 1.0677316 , 1.06928968,\n",
       "       1.07014855, 1.07072819, 1.07101891, 1.07129875, 1.07236872,\n",
       "       1.07272367, 1.07321637, 1.07352292, 1.07394081, 1.07414381,\n",
       "       1.07505886, 1.07527753, 1.07610143, 1.07660426, 1.07709938,\n",
       "       1.07746462, 1.07867053, 1.07965749, 1.08060884, 1.08068068,\n",
       "       1.08099143, 1.08230649, 1.08271157, 1.08343153, 1.0847472 ,\n",
       "       1.08538202, 1.08574303, 1.08590256, 1.08626487, 1.08648889,\n",
       "       1.08762985, 1.08890723, 1.08935738, 1.08994899, 1.09035206,\n",
       "       1.0910507 , 1.09126126, 1.09170935, 1.09188081, 1.09216296,\n",
       "       1.09276781, 1.09332395, 1.09360047, 1.09398573, 1.09468198,\n",
       "       1.09528424, 1.09563682, 1.09609575, 1.09650034, 1.09662218,\n",
       "       1.09690574, 1.09712681, 1.0973437 , 1.09805473, 1.09934557,\n",
       "       1.09995722, 1.10017448, 1.10087288, 1.10104857, 1.10143199,\n",
       "       1.10178971, 1.10226894, 1.10325011, 1.10380491, 1.10397605,\n",
       "       1.10475203, 1.10591794, 1.10604715, 1.10702725, 1.10782021,\n",
       "       1.10834091, 1.10853234, 1.10914354, 1.11078607, 1.1121055 ,\n",
       "       1.11232605, 1.11296401, 1.11318728, 1.11364932, 1.11424969,\n",
       "       1.11507374, 1.11587727, 1.11725355, 1.11758707, 1.11775998,\n",
       "       1.11922579, 1.11926722, 1.12030163, 1.12087291, 1.12322111,\n",
       "       1.12347052, 1.12461323, 1.1251617 , 1.12616549, 1.12650211,\n",
       "       1.12750831, 1.12863361, 1.12960276, 1.13085752, 1.13330859,\n",
       "       1.13463926, 1.13521278, 1.13549306, 1.13715927, 1.13800973,\n",
       "       1.13846218, 1.13974327, 1.13998834, 1.1411126 , 1.14280966,\n",
       "       1.14381771, 1.14429833, 1.14606893, 1.14779534, 1.14988123,\n",
       "       1.15165913, 1.15250245, 1.15276743, 1.15338056, 1.15375642,\n",
       "       1.15587039, 1.15643272, 1.15723307, 1.15776978, 1.1593797 ,\n",
       "       1.15995287, 1.16100189, 1.16274155, 1.16348374, 1.16513911,\n",
       "       1.1687442 , 1.17175174, 1.17278164, 1.17385994, 1.1745873 ,\n",
       "       1.17854863, 1.17946964, 1.18175366, 1.18363623, 1.18465832,\n",
       "       1.18676125, 1.19157503, 1.19455509, 1.19484212, 1.20085571,\n",
       "       1.2026974 , 1.2077637 , 1.20855987, 1.2096795 , 1.21137082,\n",
       "       1.21410704, 1.21802288, 1.22057239, 1.22294006, 1.22722412,\n",
       "       1.22878948, 1.23074   , 1.23239208, 1.23662122, 1.23919976,\n",
       "       1.24614553, 1.24756686, 1.2531926 , 1.25772066, 1.25917551,\n",
       "       1.26383444, 1.26834548, 1.27637557, 1.2808261 , 1.28285686,\n",
       "       1.28754166, 1.29152278, 1.29382309, 1.29832524, 1.2990984 ,\n",
       "       1.31279641, 1.31627807, 1.3204117 , 1.32707573, 1.33630085,\n",
       "       1.34121005, 1.35373456, 1.35835682, 1.36616644, 1.37130516,\n",
       "       1.37253573, 1.37760409, 1.38133534, 1.3951344 , 1.47244008,\n",
       "       1.48014655, 1.48051177, 1.48543993, 1.48828127, 1.49201718,\n",
       "       1.49422399, 1.49581361, 1.49888418, 1.5014231 , 1.50341122,\n",
       "       1.51058388, 1.51429096, 1.51569606, 1.52190057, 1.52294595,\n",
       "       1.52408573, 1.52773367, 1.53351843, 1.5349582 , 1.53861462,\n",
       "       1.54169192, 1.54514535, 1.54996805, 1.55291248, 1.55764376,\n",
       "       1.56541515, 1.56892636, 1.57702438, 1.58048449])"
      ]
     },
     "execution_count": 37,
     "metadata": {},
     "output_type": "execute_result"
    }
   ],
   "source": [
    "sigmas+1"
   ]
  },
  {
   "cell_type": "code",
   "execution_count": 32,
   "metadata": {},
   "outputs": [
    {
     "data": {
      "text/plain": [
       "(100000, 240)"
      ]
     },
     "execution_count": 32,
     "metadata": {},
     "output_type": "execute_result"
    }
   ],
   "source": [
    "rescaled_sparse_F.shape"
   ]
  },
  {
   "cell_type": "code",
   "execution_count": 33,
   "metadata": {},
   "outputs": [],
   "source": []
  },
  {
   "cell_type": "code",
   "execution_count": 34,
   "metadata": {},
   "outputs": [
    {
     "data": {
      "text/plain": [
       "array([0.0516795])"
      ]
     },
     "execution_count": 34,
     "metadata": {},
     "output_type": "execute_result"
    }
   ],
   "source": []
  },
  {
   "cell_type": "code",
   "execution_count": null,
   "metadata": {},
   "outputs": [],
   "source": [
    "rescaled_sparse_F"
   ]
  },
  {
   "cell_type": "code",
   "execution_count": 35,
   "metadata": {},
   "outputs": [
    {
     "data": {
      "text/plain": [
       "array([0.05368833, 0.05523631, 0.05674229, 0.05750556, 0.05773613,\n",
       "       0.06071419, 0.06110294, 0.06155948, 0.06194614, 0.06248022,\n",
       "       0.06332585, 0.06386022, 0.06448366, 0.06477398, 0.06535907,\n",
       "       0.06644549, 0.0667757 , 0.06691082, 0.0677316 , 0.06928968,\n",
       "       0.07014855, 0.07072819, 0.07101891, 0.07129875, 0.07236872,\n",
       "       0.07272367, 0.07321637, 0.07352292, 0.07394081, 0.07414381,\n",
       "       0.07505886, 0.07527753, 0.07610143, 0.07660426, 0.07709938,\n",
       "       0.07746462, 0.07867053, 0.07965749, 0.08060884, 0.08068068,\n",
       "       0.08099143, 0.08230649, 0.08271157, 0.08343153, 0.0847472 ,\n",
       "       0.08538202, 0.08574303, 0.08590256, 0.08626487, 0.08648889,\n",
       "       0.08762985, 0.08890723, 0.08935738, 0.08994899, 0.09035206,\n",
       "       0.0910507 , 0.09126126, 0.09170935, 0.09188081, 0.09216296,\n",
       "       0.09276781, 0.09332395, 0.09360047, 0.09398573, 0.09468198,\n",
       "       0.09528424, 0.09563682, 0.09609575, 0.09650034, 0.09662218,\n",
       "       0.09690574, 0.09712681, 0.0973437 , 0.09805473, 0.09934557,\n",
       "       0.09995722, 0.10017448, 0.10087288, 0.10104857, 0.10143199,\n",
       "       0.10178971, 0.10226894, 0.10325011, 0.10380491, 0.10397605,\n",
       "       0.10475203, 0.10591794, 0.10604715, 0.10702725, 0.10782021,\n",
       "       0.10834091, 0.10853234, 0.10914354, 0.11078607, 0.1121055 ,\n",
       "       0.11232605, 0.11296401, 0.11318728, 0.11364932, 0.11424969,\n",
       "       0.11507374, 0.11587727, 0.11725355, 0.11758707, 0.11775998,\n",
       "       0.11922579, 0.11926722, 0.12030163, 0.12087291, 0.12322111,\n",
       "       0.12347052, 0.12461323, 0.1251617 , 0.12616549, 0.12650211,\n",
       "       0.12750831, 0.12863361, 0.12960276, 0.13085752, 0.13330859,\n",
       "       0.13463926, 0.13521278, 0.13549306, 0.13715927, 0.13800973,\n",
       "       0.13846218, 0.13974327, 0.13998834, 0.1411126 , 0.14280966,\n",
       "       0.14381771, 0.14429833, 0.14606893, 0.14779534, 0.14988123,\n",
       "       0.15165913, 0.15250245, 0.15276743, 0.15338056, 0.15375642,\n",
       "       0.15587039, 0.15643272, 0.15723307, 0.15776978, 0.1593797 ,\n",
       "       0.15995287, 0.16100189, 0.16274155, 0.16348374, 0.16513911,\n",
       "       0.1687442 , 0.17175174, 0.17278164, 0.17385994, 0.1745873 ,\n",
       "       0.17854863, 0.17946964, 0.18175366, 0.18363623, 0.18465832,\n",
       "       0.18676125, 0.19157503, 0.19455509, 0.19484212, 0.20085571,\n",
       "       0.2026974 , 0.2077637 , 0.20855987, 0.2096795 , 0.21137082,\n",
       "       0.21410704, 0.21802288, 0.22057239, 0.22294006, 0.22722412,\n",
       "       0.22878948, 0.23074   , 0.23239208, 0.23662122, 0.23919976,\n",
       "       0.24614553, 0.24756686, 0.2531926 , 0.25772066, 0.25917551,\n",
       "       0.26383444, 0.26834548, 0.27637557, 0.2808261 , 0.28285686,\n",
       "       0.28754166, 0.29152278, 0.29382309, 0.29832524, 0.2990984 ,\n",
       "       0.31279641, 0.31627807, 0.3204117 , 0.32707573, 0.33630085,\n",
       "       0.34121005, 0.35373456, 0.35835682, 0.36616644, 0.37130516,\n",
       "       0.37253573, 0.37760409, 0.38133534, 0.3951344 , 0.47244008,\n",
       "       0.48014655, 0.48051177, 0.48543993, 0.48828127, 0.49201718,\n",
       "       0.49422399, 0.49581361, 0.49888418, 0.5014231 , 0.50341122,\n",
       "       0.51058388, 0.51429096, 0.51569606, 0.52190057, 0.52294595,\n",
       "       0.52408573, 0.52773367, 0.53351843, 0.5349582 , 0.53861462,\n",
       "       0.54169192, 0.54514535, 0.54996805, 0.55291248, 0.55764376,\n",
       "       0.56541515, 0.56892636, 0.57702438, 0.58048449])"
      ]
     },
     "execution_count": 35,
     "metadata": {},
     "output_type": "execute_result"
    }
   ],
   "source": [
    "sigmas"
   ]
  },
  {
   "cell_type": "code",
   "execution_count": 11,
   "metadata": {},
   "outputs": [
    {
     "name": "stdout",
     "output_type": "stream",
     "text": [
      "t=0,  D1.min()=2.804383284514381, D1.max()=66.71522417869596\n",
      "t=1,  D1.min()=0.3804383003692127, D1.max()=44.27694622515326\n",
      "t=2,  D1.min()=0.16481087561646057, D1.max()=41.762775694112534\n",
      "t=3,  D1.min()=0.06653720385368918, D1.max()=40.55538386773556\n",
      "t=4,  D1.min()=0.044201850472883525, D1.max()=41.11083985415371\n"
     ]
    },
    {
     "ename": "KeyboardInterrupt",
     "evalue": "",
     "output_type": "error",
     "traceback": [
      "\u001b[0;31m---------------------------------------------------------------------------\u001b[0m",
      "\u001b[0;31mKeyboardInterrupt\u001b[0m                         Traceback (most recent call last)",
      "Cell \u001b[0;32mIn [11], line 5\u001b[0m\n\u001b[1;32m      3\u001b[0m eps \u001b[38;5;241m=\u001b[39m \u001b[38;5;241m1e-12\u001b[39m\n\u001b[1;32m      4\u001b[0m \u001b[38;5;28;01mfor\u001b[39;00m t \u001b[38;5;129;01min\u001b[39;00m \u001b[38;5;28mrange\u001b[39m(\u001b[38;5;241m10\u001b[39m):\n\u001b[0;32m----> 5\u001b[0m     F1 \u001b[38;5;241m=\u001b[39m \u001b[43mmfm\u001b[49m\u001b[38;5;241;43m.\u001b[39;49m\u001b[43mfast_EM_get_F\u001b[49m\u001b[43m(\u001b[49m\u001b[43mF0\u001b[49m\u001b[43m,\u001b[49m\u001b[43m \u001b[49m\u001b[43mD0\u001b[49m\u001b[43m,\u001b[49m\u001b[43m \u001b[49m\u001b[43mY\u001b[49m\u001b[43m,\u001b[49m\u001b[43m \u001b[49m\u001b[43mranks\u001b[49m\u001b[43m,\u001b[49m\u001b[43m \u001b[49m\u001b[43mpermuted_F_hpart\u001b[49m\u001b[43m,\u001b[49m\u001b[43m \u001b[49m\u001b[43mrow_selectors\u001b[49m\u001b[43m,\u001b[49m\u001b[43m \u001b[49m\u001b[43msi_groups\u001b[49m\u001b[43m)\u001b[49m\n\u001b[1;32m      6\u001b[0m     D1 \u001b[38;5;241m=\u001b[39m mfm\u001b[38;5;241m.\u001b[39mfast_EM_get_D(F0, D0, F1, Y, ranks, permuted_F_hpart, row_selectors, si_groups)\n\u001b[1;32m      7\u001b[0m     F0, D0 \u001b[38;5;241m=\u001b[39m F1, D1\n",
      "File \u001b[0;32m~/Documents/projects/MLR_Matrices/hierarchical_factor_model/mfmodel/fast_em_algorithm.py:46\u001b[0m, in \u001b[0;36mfast_EM_get_F\u001b[0;34m(F0, D0, Y, ranks, F_hpart, row_selectors, si_groups)\u001b[0m\n\u001b[1;32m     44\u001b[0m \u001b[38;5;66;03m# for si in tqdm(range(num_sparsities)):\u001b[39;00m\n\u001b[1;32m     45\u001b[0m \u001b[38;5;28;01mfor\u001b[39;00m si \u001b[38;5;129;01min\u001b[39;00m \u001b[38;5;28mrange\u001b[39m(num_sparsities):\n\u001b[0;32m---> 46\u001b[0m     ri_At_ci_t, ci_B_ci, r1, r2 \u001b[38;5;241m=\u001b[39m \u001b[43mfast_EM_intermediate_matrices\u001b[49m\u001b[43m(\u001b[49m\u001b[43mF0\u001b[49m\u001b[43m,\u001b[49m\u001b[43m \u001b[49m\u001b[43mD0\u001b[49m\u001b[43m,\u001b[49m\u001b[43m \u001b[49m\u001b[43mF_hpart\u001b[49m\u001b[43m,\u001b[49m\u001b[43m \u001b[49m\u001b[43mY\u001b[49m\u001b[43m,\u001b[49m\u001b[43m \u001b[49m\u001b[43mranks\u001b[49m\u001b[43m,\u001b[49m\u001b[43m \u001b[49m\u001b[43msi\u001b[49m\u001b[43m,\u001b[49m\u001b[43m \u001b[49m\u001b[43msi_groups\u001b[49m\u001b[43m,\u001b[49m\u001b[43m \u001b[49m\u001b[43mrow_selectors\u001b[49m\u001b[43m)\u001b[49m\n\u001b[1;32m     47\u001b[0m     F1[r1:r2, :] \u001b[38;5;241m=\u001b[39m np\u001b[38;5;241m.\u001b[39mlinalg\u001b[38;5;241m.\u001b[39msolve(ci_B_ci, ri_At_ci_t)\u001b[38;5;241m.\u001b[39mT\n\u001b[1;32m     48\u001b[0m \u001b[38;5;28;01mreturn\u001b[39;00m F1\n",
      "File \u001b[0;32m~/Documents/projects/MLR_Matrices/hierarchical_factor_model/mfmodel/fast_em_algorithm.py:27\u001b[0m, in \u001b[0;36mfast_EM_intermediate_matrices\u001b[0;34m(F_Lm1, D, F_hpart, Y, ranks, si, si_groups, row_selectors)\u001b[0m\n\u001b[1;32m     25\u001b[0m Sigma0_inv_F_ci \u001b[38;5;241m=\u001b[39m np\u001b[38;5;241m.\u001b[39mzeros(tilde_F_ci\u001b[38;5;241m.\u001b[39mshape)\n\u001b[1;32m     26\u001b[0m \u001b[38;5;28;01mfor\u001b[39;00m j \u001b[38;5;129;01min\u001b[39;00m \u001b[38;5;28mrange\u001b[39m(tilde_F_ci\u001b[38;5;241m.\u001b[39mshape[\u001b[38;5;241m1\u001b[39m]):\n\u001b[0;32m---> 27\u001b[0m     Sigma0_inv_F_ci[:, j:j\u001b[38;5;241m+\u001b[39m\u001b[38;5;241m1\u001b[39m] \u001b[38;5;241m=\u001b[39m \u001b[43miterative_refinement\u001b[49m\u001b[43m(\u001b[49m\u001b[43mranks\u001b[49m\u001b[43m,\u001b[49m\u001b[43m \u001b[49m\u001b[43mtilde_F_ci\u001b[49m\u001b[43m[\u001b[49m\u001b[43m:\u001b[49m\u001b[43m,\u001b[49m\u001b[43m \u001b[49m\u001b[43mj\u001b[49m\u001b[43m:\u001b[49m\u001b[43mj\u001b[49m\u001b[38;5;241;43m+\u001b[39;49m\u001b[38;5;241;43m1\u001b[39;49m\u001b[43m]\u001b[49m\u001b[43m,\u001b[49m\u001b[43m \u001b[49m\u001b[43mF_Lm1\u001b[49m\u001b[43m,\u001b[49m\u001b[43m \u001b[49m\u001b[43mD\u001b[49m\u001b[43m,\u001b[49m\u001b[43m \u001b[49m\u001b[43mF_hpart\u001b[49m\u001b[43m,\u001b[49m\u001b[43m \u001b[49m\n\u001b[1;32m     28\u001b[0m \u001b[43m                                                     \u001b[49m\u001b[43meps\u001b[49m\u001b[38;5;241;43m=\u001b[39;49m\u001b[38;5;241;43m1e-12\u001b[39;49m\u001b[43m,\u001b[49m\u001b[43m \u001b[49m\u001b[43mmax_iter\u001b[49m\u001b[38;5;241;43m=\u001b[39;49m\u001b[38;5;241;43m20\u001b[39;49m\u001b[43m,\u001b[49m\u001b[43m \u001b[49m\u001b[43mprinting\u001b[49m\u001b[38;5;241;43m=\u001b[39;49m\u001b[38;5;28;43;01mFalse\u001b[39;49;00m\u001b[43m)\u001b[49m\n\u001b[1;32m     29\u001b[0m F_ciT_Sigma0_inv_F_ci \u001b[38;5;241m=\u001b[39m tilde_F_ci\u001b[38;5;241m.\u001b[39mT \u001b[38;5;241m@\u001b[39m Sigma0_inv_F_ci \u001b[38;5;66;03m# (r-1) x (r-1)\u001b[39;00m\n\u001b[1;32m     30\u001b[0m \u001b[38;5;28;01mdel\u001b[39;00m tilde_F_ci\n",
      "File \u001b[0;32m~/Documents/projects/MLR_Matrices/hierarchical_factor_model/mfmodel/inverse.py:173\u001b[0m, in \u001b[0;36miterative_refinement\u001b[0;34m(ranks, v, F_Lm1, D, F_hpart, eps, max_iter, printing)\u001b[0m\n\u001b[1;32m    171\u001b[0m \u001b[38;5;28;01mwhile\u001b[39;00m residual \u001b[38;5;241m/\u001b[39m v_norm \u001b[38;5;241m>\u001b[39m eps \u001b[38;5;129;01mand\u001b[39;00m t \u001b[38;5;241m<\u001b[39m max_iter:\n\u001b[1;32m    172\u001b[0m     delta \u001b[38;5;241m=\u001b[39m fast_SMW_inverse(ranks, v \u001b[38;5;241m-\u001b[39m Ax, F_Lm1, D, F_hpart)\n\u001b[0;32m--> 173\u001b[0m     x \u001b[38;5;241m+\u001b[39m\u001b[38;5;241m=\u001b[39m delta\n\u001b[1;32m    174\u001b[0m     Ax \u001b[38;5;241m=\u001b[39m mfm_matvec(F_Lm1, D, F_hpart, ranks, x)\n\u001b[1;32m    175\u001b[0m     residual \u001b[38;5;241m=\u001b[39m np\u001b[38;5;241m.\u001b[39mlinalg\u001b[38;5;241m.\u001b[39mnorm(Ax \u001b[38;5;241m-\u001b[39m v)\n",
      "File \u001b[0;32m~/Documents/projects/MLR_Matrices/hierarchical_factor_model/mfmodel/inverse.py:46\u001b[0m, in \u001b[0;36mfast_SMW_inverse\u001b[0;34m(ranks, v0, F_Lm1, D, F_hpart)\u001b[0m\n\u001b[1;32m     43\u001b[0m \u001b[38;5;28;01mdef\u001b[39;00m \u001b[38;5;21mfast_SMW_inverse\u001b[39m(ranks, v0, F_Lm1, D, F_hpart):\n\u001b[1;32m     44\u001b[0m     sqrt_D \u001b[38;5;241m=\u001b[39m np\u001b[38;5;241m.\u001b[39mpower(D, \u001b[38;5;241m-\u001b[39m\u001b[38;5;241m0.5\u001b[39m)[:, np\u001b[38;5;241m.\u001b[39mnewaxis]\n\u001b[1;32m     45\u001b[0m     res \u001b[38;5;241m=\u001b[39m fast_SMW_inverse_basic(ranks, sqrt_D[F_hpart[\u001b[38;5;124m'\u001b[39m\u001b[38;5;124mpi_inv\u001b[39m\u001b[38;5;124m'\u001b[39m]] \u001b[38;5;241m*\u001b[39m v0, \n\u001b[0;32m---> 46\u001b[0m                                 sqrt_D \u001b[38;5;241m*\u001b[39m F_Lm1, np\u001b[38;5;241m.\u001b[39mones(D\u001b[38;5;241m.\u001b[39msize), F_hpart)\n\u001b[1;32m     47\u001b[0m     \u001b[38;5;28;01mreturn\u001b[39;00m sqrt_D[F_hpart[\u001b[38;5;124m'\u001b[39m\u001b[38;5;124mpi_inv\u001b[39m\u001b[38;5;124m'\u001b[39m]] \u001b[38;5;241m*\u001b[39m res\n",
      "File \u001b[0;32m~/Documents/projects/MLR_Matrices/hierarchical_factor_model/mfmodel/inverse.py:111\u001b[0m, in \u001b[0;36mfast_SMW_inverse_basic\u001b[0;34m(ranks, v0, F_Lm1, D, F_hpart)\u001b[0m\n\u001b[1;32m    105\u001b[0m     \u001b[38;5;28;01mif\u001b[39;00m lp \u001b[38;5;241m==\u001b[39m \u001b[38;5;241m0\u001b[39m:\n\u001b[1;32m    106\u001b[0m         M4[:, :\u001b[38;5;241m1\u001b[39m] \u001b[38;5;241m=\u001b[39m mult_blockdiag_refined_AB(M0, \n\u001b[1;32m    107\u001b[0m                                                 F_hpart[\u001b[38;5;124m\"\u001b[39m\u001b[38;5;124mlk\u001b[39m\u001b[38;5;124m\"\u001b[39m][level], \n\u001b[1;32m    108\u001b[0m                                                 M3[:, :\u001b[38;5;241m1\u001b[39m], \n\u001b[1;32m    109\u001b[0m                                                 M1_lks[lp])\n\u001b[1;32m    110\u001b[0m     \u001b[43mM4\u001b[49m\u001b[43m[\u001b[49m\u001b[43m:\u001b[49m\u001b[43m,\u001b[49m\u001b[43m \u001b[49m\u001b[38;5;241;43m1\u001b[39;49m\u001b[38;5;241;43m+\u001b[39;49m\u001b[43mranks\u001b[49m\u001b[43m[\u001b[49m\u001b[43m:\u001b[49m\u001b[43mlp\u001b[49m\u001b[43m]\u001b[49m\u001b[38;5;241;43m.\u001b[39;49m\u001b[43msum\u001b[49m\u001b[43m(\u001b[49m\u001b[43m)\u001b[49m\u001b[43m \u001b[49m\u001b[43m:\u001b[49m\u001b[43m \u001b[49m\u001b[38;5;241;43m1\u001b[39;49m\u001b[38;5;241;43m+\u001b[39;49m\u001b[43mranks\u001b[49m\u001b[43m[\u001b[49m\u001b[43m:\u001b[49m\u001b[43mlp\u001b[49m\u001b[38;5;241;43m+\u001b[39;49m\u001b[38;5;241;43m1\u001b[39;49m\u001b[43m]\u001b[49m\u001b[38;5;241;43m.\u001b[39;49m\u001b[43msum\u001b[49m\u001b[43m(\u001b[49m\u001b[43m)\u001b[49m\u001b[43m]\u001b[49m \u001b[38;5;241m=\u001b[39m mult_blockdiag_refined_AB(M0, \n\u001b[0;32m--> 111\u001b[0m                                                                                 F_hpart[\u001b[38;5;124m\"\u001b[39m\u001b[38;5;124mlk\u001b[39m\u001b[38;5;124m\"\u001b[39m][level], \n\u001b[1;32m    112\u001b[0m                                                                                 M3[:,\u001b[38;5;241m1\u001b[39m\u001b[38;5;241m+\u001b[39mranks[:lp]\u001b[38;5;241m.\u001b[39msum():\u001b[38;5;241m1\u001b[39m\u001b[38;5;241m+\u001b[39mranks[:lp\u001b[38;5;241m+\u001b[39m\u001b[38;5;241m1\u001b[39m]\u001b[38;5;241m.\u001b[39msum()], \n\u001b[1;32m    113\u001b[0m                                                                                 M1_lks[lp])\n\u001b[1;32m    114\u001b[0m \u001b[38;5;28;01mdel\u001b[39;00m M0, M3\n\u001b[1;32m    115\u001b[0m \u001b[38;5;66;03m# M5 \u001b[39;00m\n",
      "\u001b[0;31mKeyboardInterrupt\u001b[0m: "
     ]
    }
   ],
   "source": [
    "loglikelihoods = [-np.inf]\n",
    "N = Y.shape[0]\n",
    "eps = 1e-12\n",
    "for t in range(1):\n",
    "    F1 = mfm.fast_EM_get_F(F0, D0, Y, ranks, permuted_F_hpart, row_selectors, si_groups)\n",
    "    D1 = mfm.fast_EM_get_D(F0, D0, F1, Y, ranks, permuted_F_hpart, row_selectors, si_groups)\n",
    "    F0, D0 = F1, D1\n",
    "    assert D1.min() >= -1e-8 #and loglikelihoods[-2] - 1e-8 <= loglikelihoods[-1]\n",
    "    if t % 1 == 0:\n",
    "        print(f\"{t=},  {D1.min()=}, {D1.max()=}\")\n",
    "\n",
    "\n",
    "print(\"PASSED\")"
   ]
  },
  {
   "cell_type": "code",
   "execution_count": null,
   "metadata": {},
   "outputs": [],
   "source": []
  }
 ],
 "metadata": {
  "kernelspec": {
   "display_name": "routing",
   "language": "python",
   "name": "python3"
  },
  "language_info": {
   "codemirror_mode": {
    "name": "ipython",
    "version": 3
   },
   "file_extension": ".py",
   "mimetype": "text/x-python",
   "name": "python",
   "nbconvert_exporter": "python",
   "pygments_lexer": "ipython3",
   "version": "3.9.16"
  }
 },
 "nbformat": 4,
 "nbformat_minor": 2
}
