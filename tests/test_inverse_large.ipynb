{
 "cells": [
  {
   "cell_type": "code",
   "execution_count": 1,
   "metadata": {},
   "outputs": [
    {
     "name": "stderr",
     "output_type": "stream",
     "text": [
      "/Users/parshakova.tanya/opt/anaconda3/envs/routing/lib/python3.9/site-packages/tqdm/auto.py:22: TqdmWarning: IProgress not found. Please update jupyter and ipywidgets. See https://ipywidgets.readthedocs.io/en/stable/user_install.html\n",
      "  from .autonotebook import tqdm as notebook_tqdm\n"
     ]
    }
   ],
   "source": [
    "import numpy as np\n",
    "\n",
    "import seaborn as sns\n",
    "import matplotlib.pyplot as plt\n",
    "\n",
    "import copy, time\n",
    "import random\n",
    "import pickle\n",
    "import scipy\n",
    "\n",
    "import timeit\n",
    "\n",
    "import mlrfit as mf\n",
    "import mfmodel as mfm\n",
    "import numba as nb\n",
    "\n",
    "from scipy.sparse import coo_matrix\n",
    "from scipy.linalg import block_diag, pinvh"
   ]
  },
  {
   "cell_type": "code",
   "execution_count": 2,
   "metadata": {},
   "outputs": [],
   "source": [
    "np.random.seed(1001)\n",
    "random.seed(1001)"
   ]
  },
  {
   "cell_type": "markdown",
   "metadata": {},
   "source": [
    "# True model is MLR factor model with SNR = 4 \n",
    "\n",
    "Let $\\Sigma = FF^T + D$ be MLR. We generate samples using \n",
    "$$\n",
    "y = Fz + e, \\qquad z \\sim N(0, I), \\qquad N(0, D).\n",
    "$$"
   ]
  },
  {
   "cell_type": "code",
   "execution_count": 3,
   "metadata": {},
   "outputs": [
    {
     "data": {
      "text/plain": [
       "264"
      ]
     },
     "execution_count": 3,
     "metadata": {},
     "output_type": "execute_result"
    }
   ],
   "source": [
    "mtype = \"small_mlr_hier\"\n",
    "n = 100000\n",
    "signal_to_noise = 4\n",
    "\n",
    "\n",
    "\n",
    "L = 5\n",
    "\n",
    "# ranks = np.array([5, 4, 3, 2, 1])\n",
    "ranks = np.array([30, 20, 10, 5, 1])\n",
    "rank = ranks.sum()\n",
    "\n",
    "nsamples = rank * 4\n",
    "nsamples"
   ]
  },
  {
   "cell_type": "code",
   "execution_count": 4,
   "metadata": {},
   "outputs": [
    {
     "name": "stdout",
     "output_type": "stream",
     "text": [
      "level=0, num_groups=1, mean_size=100000.0\n",
      "level=1, num_groups=3, mean_size=33333.3\n",
      "level=2, num_groups=7, mean_size=14285.7\n",
      "level=3, num_groups=16, mean_size=6250.0\n",
      "level=4, num_groups=100000, mean_size=1.0\n"
     ]
    }
   ],
   "source": [
    "pi_rows = np.random.permutation(n)\n",
    "hpart = {'rows':{'pi':pi_rows, 'lk':[]}, 'cols':{'pi':pi_rows, 'lk':[]}} \n",
    "for ngroups in [2, 5, 9, 17, n+1]:\n",
    "       hpart['rows']['lk'] += [ np.linspace(0, n, ngroups, endpoint=True, dtype=int)]\n",
    "hpart['rows']['lk'][1] = np.delete(hpart['rows']['lk'][1], -2)\n",
    "hpart['rows']['lk'][2] = np.delete(hpart['rows']['lk'][2], -4)\n",
    "hpart['cols']['lk'] = hpart['rows']['lk']\n",
    "part_sizes = mfm.print_hpart_numgroups(hpart)\n",
    "mfm.valid_hpart(hpart)"
   ]
  },
  {
   "cell_type": "code",
   "execution_count": 5,
   "metadata": {},
   "outputs": [
    {
     "name": "stdout",
     "output_type": "stream",
     "text": [
      "signal_var=81.15506713197232, noise_var=16.242432778950498\n",
      "SNR=3.9964847160793444, signal_to_noise=4\n"
     ]
    }
   ],
   "source": [
    "F_hpart = {\"pi\": hpart['rows'][\"pi\"], \"lk\": hpart['rows'][\"lk\"][:-1]}\n",
    "true_mfm = mfm.MFModel()\n",
    "true_mfm = mfm.generate_mfmodel(true_mfm, n, F_hpart, ranks, signal_to_noise, debug=False)\n",
    "F_hpart[\"pi_inv\"] = true_mfm.pi_inv"
   ]
  },
  {
   "cell_type": "code",
   "execution_count": 6,
   "metadata": {},
   "outputs": [
    {
     "data": {
      "text/plain": [
       "(100000, 240, 5, 66)"
      ]
     },
     "execution_count": 6,
     "metadata": {},
     "output_type": "execute_result"
    }
   ],
   "source": [
    "n, true_mfm.num_factors(), L, ranks.sum()"
   ]
  },
  {
   "cell_type": "code",
   "execution_count": 7,
   "metadata": {},
   "outputs": [
    {
     "name": "stdout",
     "output_type": "stream",
     "text": [
      "solve reldiff=9.744615586746802e-13\n"
     ]
    }
   ],
   "source": [
    "v = np.random.randn(n, 1)\n",
    "\n",
    "\n",
    "hat_x = true_mfm.solve(v, eps=1e-12, max_iter=20, printing=False)\n",
    "reldiff = np.linalg.norm(true_mfm.matvec(hat_x) - v) / np.linalg.norm(v)\n",
    "print(f\"solve {reldiff=}\")"
   ]
  },
  {
   "cell_type": "code",
   "execution_count": 8,
   "metadata": {},
   "outputs": [
    {
     "name": "stdout",
     "output_type": "stream",
     "text": [
      "8.1 s ± 1.86 s per loop (mean ± std. dev. of 7 runs, 1 loop each)\n"
     ]
    }
   ],
   "source": [
    "%timeit true_mfm.solve(v, eps=1e-12, max_iter=20, printing=False)"
   ]
  },
  {
   "cell_type": "code",
   "execution_count": 9,
   "metadata": {},
   "outputs": [
    {
     "data": {
      "text/plain": [
       "(0.0006785230567792892, 32.456283388481424)"
      ]
     },
     "execution_count": 9,
     "metadata": {},
     "output_type": "execute_result"
    }
   ],
   "source": [
    "true_mfm.D.min(), true_mfm.D.max()"
   ]
  },
  {
   "cell_type": "markdown",
   "metadata": {},
   "source": [
    "# EM"
   ]
  },
  {
   "cell_type": "code",
   "execution_count": 10,
   "metadata": {},
   "outputs": [
    {
     "name": "stdout",
     "output_type": "stream",
     "text": [
      "num_levels=5, num_sparsities=16\n",
      "(16, 4) [ 0  2  6 15]\n"
     ]
    }
   ],
   "source": [
    "C = mfm.sample_data(nsamples, true_mfm)\n",
    "\n",
    "Z = (C - C.mean(axis=1, keepdims=True))[F_hpart[\"pi\"], :]\n",
    "# unpermuted_A = (Z @ Z.T / (Z.shape[1]-1))[true_mfm.pi_inv, :][:, true_mfm.pi_inv]\n",
    "\n",
    "# permute to put clusters on diagonal\n",
    "Y = Z.T\n",
    "N = Y.shape[0]\n",
    "\n",
    "permuted_F_hpart = {\"pi_inv\":np.arange(n), \"pi\":np.arange(n), \"lk\":F_hpart[\"lk\"]}\n",
    "row_selectors, si_groups, F_hpart, groups_all = mfm.row_col_selections(hpart, return_groups=True)\n",
    "\n",
    "\n",
    "mfm_Sigma = mfm.MFModel(hpart=F_hpart, ranks=ranks)\n",
    "mfm_Sigma.init_FD(ranks, F_hpart, init_type=\"Y\", Y=Y)\n",
    "F0, D0 = mfm_Sigma.F, mfm_Sigma.D"
   ]
  },
  {
   "cell_type": "code",
   "execution_count": 11,
   "metadata": {},
   "outputs": [
    {
     "data": {
      "text/plain": [
       "(66, 240)"
      ]
     },
     "execution_count": 11,
     "metadata": {},
     "output_type": "execute_result"
    }
   ],
   "source": [
    "rank, mfm_Sigma.num_factors()"
   ]
  },
  {
   "cell_type": "code",
   "execution_count": 12,
   "metadata": {},
   "outputs": [
    {
     "name": "stdout",
     "output_type": "stream",
     "text": [
      "t=0, obj=-285268.7084904851,  D1.min()=2.804383284514381, D1.max()=66.71522417869596\n",
      "t=1, obj=-274457.86434678646,  D1.min()=0.3804383003692127, D1.max()=44.27694622515326\n",
      "t=2, obj=-270917.18312209036,  D1.min()=0.16481087561646057, D1.max()=41.762775694112534\n",
      "PASSED\n"
     ]
    }
   ],
   "source": [
    "loglikelihoods = [-np.inf]\n",
    "N = Y.shape[0]\n",
    "eps = 1e-12\n",
    "for t in range(3):\n",
    "    F1 = mfm.fast_EM_get_F(F0, D0, Y, ranks, permuted_F_hpart, row_selectors, si_groups)\n",
    "    D1 = mfm.fast_EM_get_D(F0, D0, F1, Y, ranks, permuted_F_hpart, row_selectors, si_groups)\n",
    "    F0, D0 = F1, D1\n",
    "    assert D1.min() >= -1e-8 #and loglikelihoods[-2] - 1e-8 <= loglikelihoods[-1]\n",
    "    if t % 1 == 0:\n",
    "        obj = mfm.fast_loglikelihood_value(F0, D0, Y, ranks, permuted_F_hpart, mfm_Sigma.num_factors(),\n",
    "                                           tol=1e-5)\n",
    "        loglikelihoods += [obj]\n",
    "        print(f\"{t=}, {obj=},  {D1.min()=}, {D1.max()=}\")\n",
    "\n",
    "\n",
    "print(\"PASSED\")"
   ]
  },
  {
   "cell_type": "code",
   "execution_count": null,
   "metadata": {},
   "outputs": [],
   "source": []
  }
 ],
 "metadata": {
  "kernelspec": {
   "display_name": "routing",
   "language": "python",
   "name": "python3"
  },
  "language_info": {
   "codemirror_mode": {
    "name": "ipython",
    "version": 3
   },
   "file_extension": ".py",
   "mimetype": "text/x-python",
   "name": "python",
   "nbconvert_exporter": "python",
   "pygments_lexer": "ipython3",
   "version": "3.9.16"
  }
 },
 "nbformat": 4,
 "nbformat_minor": 2
}
