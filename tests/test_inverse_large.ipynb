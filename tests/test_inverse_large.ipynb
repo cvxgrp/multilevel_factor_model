{
 "cells": [
  {
   "cell_type": "code",
   "execution_count": 1,
   "metadata": {},
   "outputs": [
    {
     "name": "stderr",
     "output_type": "stream",
     "text": [
      "/Users/parshakova.tanya/opt/anaconda3/envs/routing/lib/python3.9/site-packages/tqdm/auto.py:22: TqdmWarning: IProgress not found. Please update jupyter and ipywidgets. See https://ipywidgets.readthedocs.io/en/stable/user_install.html\n",
      "  from .autonotebook import tqdm as notebook_tqdm\n"
     ]
    }
   ],
   "source": [
    "import numpy as np\n",
    "\n",
    "import seaborn as sns\n",
    "import matplotlib.pyplot as plt\n",
    "\n",
    "import copy, time\n",
    "import random\n",
    "import pickle\n",
    "import scipy\n",
    "\n",
    "import timeit\n",
    "\n",
    "import mlrfit as mf\n",
    "import mfmodel as mfm\n",
    "import numba as nb\n",
    "\n",
    "from scipy.sparse import coo_matrix\n",
    "from scipy.linalg import block_diag, pinvh"
   ]
  },
  {
   "cell_type": "code",
   "execution_count": 2,
   "metadata": {},
   "outputs": [],
   "source": [
    "np.random.seed(1001)\n",
    "random.seed(1001)"
   ]
  },
  {
   "cell_type": "markdown",
   "metadata": {},
   "source": [
    "# True model is MLR factor model with SNR = 4 \n",
    "\n",
    "Let $\\Sigma = FF^T + D$ be MLR. We generate samples using \n",
    "$$\n",
    "y = Fz + e, \\qquad z \\sim N(0, I), \\qquad N(0, D).\n",
    "$$"
   ]
  },
  {
   "cell_type": "code",
   "execution_count": 3,
   "metadata": {},
   "outputs": [],
   "source": [
    "mtype = \"small_mlr_hier\"\n",
    "n = 100000\n",
    "signal_to_noise = 4\n",
    "\n",
    "\n",
    "nsamples = 20\n",
    "L = 5\n",
    "\n",
    "# ranks = np.array([5, 4, 3, 2, 1])\n",
    "ranks = np.array([30, 20, 10, 5, 1])\n",
    "rank = ranks.sum()"
   ]
  },
  {
   "cell_type": "code",
   "execution_count": 4,
   "metadata": {},
   "outputs": [
    {
     "name": "stdout",
     "output_type": "stream",
     "text": [
      "level=0, num_groups=1, mean_size=100000.0\n",
      "level=1, num_groups=3, mean_size=33333.3\n",
      "level=2, num_groups=7, mean_size=14285.7\n",
      "level=3, num_groups=16, mean_size=6250.0\n",
      "level=4, num_groups=100000, mean_size=1.0\n"
     ]
    }
   ],
   "source": [
    "pi_rows = np.random.permutation(n)\n",
    "hpart = {'rows':{'pi':pi_rows, 'lk':[]}, 'cols':{'pi':pi_rows, 'lk':[]}} \n",
    "for ngroups in [2, 5, 9, 17, n+1]:\n",
    "       hpart['rows']['lk'] += [ np.linspace(0, n, ngroups, endpoint=True, dtype=int)]\n",
    "hpart['rows']['lk'][1] = np.delete(hpart['rows']['lk'][1], -2)\n",
    "hpart['rows']['lk'][2] = np.delete(hpart['rows']['lk'][2], -4)\n",
    "hpart['cols']['lk'] = hpart['rows']['lk']\n",
    "part_sizes = mfm.print_hpart_numgroups(hpart)\n",
    "mfm.valid_hpart(hpart)"
   ]
  },
  {
   "cell_type": "code",
   "execution_count": 5,
   "metadata": {},
   "outputs": [
    {
     "name": "stdout",
     "output_type": "stream",
     "text": [
      "signal_var=81.15506713197232, noise_var=16.242432778950498\n",
      "SNR=3.9964847160793444, signal_to_noise=4\n"
     ]
    }
   ],
   "source": [
    "F_hpart = {\"pi\": hpart['rows'][\"pi\"], \"lk\": hpart['rows'][\"lk\"][:-1]}\n",
    "true_mfm = mfm.MFModel()\n",
    "true_mfm = mfm.generate_mfmodel(true_mfm, n, F_hpart, ranks, signal_to_noise, debug=False)\n",
    "F_hpart[\"pi_inv\"] = true_mfm.pi_inv"
   ]
  },
  {
   "cell_type": "code",
   "execution_count": 6,
   "metadata": {},
   "outputs": [
    {
     "data": {
      "text/plain": [
       "(100000, 240, 5, 66)"
      ]
     },
     "execution_count": 6,
     "metadata": {},
     "output_type": "execute_result"
    }
   ],
   "source": [
    "n, true_mfm.num_factors(), L, ranks.sum()"
   ]
  },
  {
   "cell_type": "code",
   "execution_count": 7,
   "metadata": {},
   "outputs": [
    {
     "name": "stdout",
     "output_type": "stream",
     "text": [
      "solve reldiff=1.5558171315505062e-12\n"
     ]
    }
   ],
   "source": [
    "v = np.random.randn(n, 1)\n",
    "\n",
    "\n",
    "hat_x = true_mfm.solve(v, eps=1e-12, max_iter=20, printing=False)\n",
    "reldiff = np.linalg.norm(true_mfm.matvec(hat_x) - v) / np.linalg.norm(v)\n",
    "print(f\"solve {reldiff=}\")"
   ]
  },
  {
   "cell_type": "code",
   "execution_count": 8,
   "metadata": {},
   "outputs": [
    {
     "name": "stdout",
     "output_type": "stream",
     "text": [
      "2.96 s ± 75.7 ms per loop (mean ± std. dev. of 7 runs, 1 loop each)\n"
     ]
    }
   ],
   "source": [
    "%timeit true_mfm.solve(v, eps=1e-12, max_iter=20, printing=False)"
   ]
  },
  {
   "cell_type": "code",
   "execution_count": null,
   "metadata": {},
   "outputs": [],
   "source": []
  }
 ],
 "metadata": {
  "kernelspec": {
   "display_name": "routing",
   "language": "python",
   "name": "python3"
  },
  "language_info": {
   "codemirror_mode": {
    "name": "ipython",
    "version": 3
   },
   "file_extension": ".py",
   "mimetype": "text/x-python",
   "name": "python",
   "nbconvert_exporter": "python",
   "pygments_lexer": "ipython3",
   "version": "3.9.16"
  }
 },
 "nbformat": 4,
 "nbformat_minor": 2
}
