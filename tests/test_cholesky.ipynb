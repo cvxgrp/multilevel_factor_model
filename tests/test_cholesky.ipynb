{
 "cells": [
  {
   "cell_type": "code",
   "execution_count": 1,
   "metadata": {},
   "outputs": [
    {
     "name": "stderr",
     "output_type": "stream",
     "text": [
      "/Users/parshakova.tanya/opt/anaconda3/envs/routing/lib/python3.9/site-packages/tqdm/auto.py:22: TqdmWarning: IProgress not found. Please update jupyter and ipywidgets. See https://ipywidgets.readthedocs.io/en/stable/user_install.html\n",
      "  from .autonotebook import tqdm as notebook_tqdm\n"
     ]
    }
   ],
   "source": [
    "import numpy as np\n",
    "\n",
    "import seaborn as sns\n",
    "import matplotlib.pyplot as plt\n",
    "\n",
    "import copy, time\n",
    "import random \n",
    "import mfmodel as mfm\n",
    "\n",
    "from scipy.linalg import pinvh\n",
    "import mlrfit as mf \n",
    "import scipy.linalg as sc_la"
   ]
  },
  {
   "cell_type": "code",
   "execution_count": 2,
   "metadata": {},
   "outputs": [],
   "source": [
    "np.random.seed(1001)\n",
    "random.seed(1001)"
   ]
  },
  {
   "cell_type": "markdown",
   "metadata": {},
   "source": [
    "# True model is MLR factor model with SNR = 4 \n",
    "\n",
    "Let $\\Sigma = FF^T + D$ be MLR. We generate samples using \n",
    "$$\n",
    "y = Fz + e, \\qquad z \\sim N(0, I), \\qquad N(0, D).\n",
    "$$"
   ]
  },
  {
   "cell_type": "code",
   "execution_count": 3,
   "metadata": {},
   "outputs": [],
   "source": [
    "mtype = \"small_mlr_hier\"\n",
    "n = 200\n",
    "signal_to_noise = 4\n",
    "\n",
    "\n",
    "L = 6\n",
    "\n",
    "ranks = np.array([4, 3, 2, 2, 2, 1])\n",
    "rank = ranks.sum()\n",
    "\n",
    "\n",
    "nsamples = 4 * rank"
   ]
  },
  {
   "cell_type": "code",
   "execution_count": 4,
   "metadata": {},
   "outputs": [
    {
     "name": "stdout",
     "output_type": "stream",
     "text": [
      "level=0, num_groups=1, mean_size=200.0\n",
      "level=1, num_groups=3, mean_size=66.7\n",
      "level=2, num_groups=15, mean_size=13.3\n",
      "level=3, num_groups=32, mean_size=6.2\n",
      "level=4, num_groups=64, mean_size=3.1\n",
      "level=5, num_groups=200, mean_size=1.0\n"
     ]
    }
   ],
   "source": [
    "pi_rows = np.random.permutation(n)\n",
    "hpart = {'rows':{'pi':pi_rows, 'lk':[]}, 'cols':{'pi':pi_rows, 'lk':[]}} \n",
    "for ngroups in [2, 5, 17, 33, 65, n+1]:\n",
    "       hpart['rows']['lk'] += [ np.linspace(0, n, ngroups, endpoint=True, dtype=int)]\n",
    "hpart['rows']['lk'][1] = np.delete(hpart['rows']['lk'][1], -2)\n",
    "hpart['rows']['lk'][2] = np.delete(hpart['rows']['lk'][2], -4)\n",
    "hpart['cols']['lk'] = hpart['rows']['lk']\n",
    "part_sizes = mfm.print_hpart_numgroups(hpart)"
   ]
  },
  {
   "cell_type": "code",
   "execution_count": 5,
   "metadata": {},
   "outputs": [
    {
     "data": {
      "text/plain": [
       "[array([  0, 200]),\n",
       " array([  0,  50, 100, 200]),\n",
       " array([  0,  12,  25,  37,  50,  62,  75,  87, 100, 112, 125, 137, 150,\n",
       "        175, 187, 200]),\n",
       " array([  0,   6,  12,  18,  25,  31,  37,  43,  50,  56,  62,  68,  75,\n",
       "         81,  87,  93, 100, 106, 112, 118, 125, 131, 137, 143, 150, 156,\n",
       "        162, 168, 175, 181, 187, 193, 200]),\n",
       " array([  0,   3,   6,   9,  12,  15,  18,  21,  25,  28,  31,  34,  37,\n",
       "         40,  43,  46,  50,  53,  56,  59,  62,  65,  68,  71,  75,  78,\n",
       "         81,  84,  87,  90,  93,  96, 100, 103, 106, 109, 112, 115, 118,\n",
       "        121, 125, 128, 131, 134, 137, 140, 143, 146, 150, 153, 156, 159,\n",
       "        162, 165, 168, 171, 175, 178, 181, 184, 187, 190, 193, 196, 200])]"
      ]
     },
     "execution_count": 5,
     "metadata": {},
     "output_type": "execute_result"
    }
   ],
   "source": [
    "hpart['rows']['lk'][:-1]"
   ]
  },
  {
   "cell_type": "code",
   "execution_count": 6,
   "metadata": {},
   "outputs": [
    {
     "name": "stdout",
     "output_type": "stream",
     "text": [
      "signal_var=12.970723419787458, noise_var=3.2344552984255035\n",
      "SNR=4.01017241638846, signal_to_noise=4\n"
     ]
    }
   ],
   "source": [
    "true_mlr, true_sparse_F, true_D_noise = mfm.generate_mlr_model(n, hpart, ranks, signal_to_noise)\n",
    "true_compressed_F = true_mlr.B[:, :-1]"
   ]
  },
  {
   "cell_type": "code",
   "execution_count": 7,
   "metadata": {},
   "outputs": [
    {
     "data": {
      "image/png": "[encoded data removed]",
      "text/plain": [
       "<Figure size 1000x400 with 2 Axes>"
      ]
     },
     "metadata": {},
     "output_type": "display_data"
    },
    {
     "name": "stdout",
     "output_type": "stream",
     "text": [
      "(200, 235)\n"
     ]
    }
   ],
   "source": [
    "plt.figure(figsize=(10, 4)) \n",
    "plt.matshow(true_sparse_F.T, aspect='auto', fignum=1, cmap='hot') \n",
    "plt.colorbar() \n",
    "plt.show()\n",
    "print(true_sparse_F.shape)"
   ]
  },
  {
   "cell_type": "code",
   "execution_count": 8,
   "metadata": {},
   "outputs": [
    {
     "data": {
      "text/plain": [
       "numpy.ndarray"
      ]
     },
     "execution_count": 8,
     "metadata": {},
     "output_type": "execute_result"
    }
   ],
   "source": [
    "type(true_sparse_F)"
   ]
  },
  {
   "cell_type": "code",
   "execution_count": 9,
   "metadata": {},
   "outputs": [],
   "source": [
    "filename = \"%s_r%d_%d\"%(mtype, rank, n)"
   ]
  },
  {
   "cell_type": "code",
   "execution_count": 10,
   "metadata": {},
   "outputs": [
    {
     "name": "stdout",
     "output_type": "stream",
     "text": [
      "num_levels=6, num_sparsities=64\n",
      "(64, 5) [ 0  2 14 31 63]\n"
     ]
    }
   ],
   "source": [
    "row_selectors, si_groups, F_hpart, groups_all = mfm.row_col_selections(hpart, return_groups=True)"
   ]
  },
  {
   "cell_type": "code",
   "execution_count": 11,
   "metadata": {},
   "outputs": [],
   "source": [
    "F_Lm1, D = true_compressed_F+0, true_D_noise+0"
   ]
  },
  {
   "cell_type": "code",
   "execution_count": 12,
   "metadata": {},
   "outputs": [],
   "source": [
    "s_lps = np.cumsum(np.array([ranks[lp]*(F_hpart['lk'][lp].size - 1) for lp in reversed(range(0, L-1))]))\n",
    "for l in reversed(range(0, L-1)):\n",
    "    assert s_lps[l] == sum([ranks[lp]*(F_hpart['lk'][lp].size - 1) for lp in reversed(range(L-2-l, L-1))])"
   ]
  },
  {
   "cell_type": "code",
   "execution_count": 13,
   "metadata": {},
   "outputs": [
    {
     "data": {
      "image/png": "[encoded data removed]",
      "text/plain": [
       "<Figure size 1000x800 with 2 Axes>"
      ]
     },
     "metadata": {},
     "output_type": "display_data"
    }
   ],
   "source": [
    "sparse_Fls = np.concatenate([mfm.block_diag_lk(F_hpart['lk'][lp], \n",
    "                                            F_Lm1[:, ranks[:lp].sum():ranks[:lp+1].sum()]) \n",
    "                                            for lp in reversed(range(0, L-1))], axis=1)\n",
    "expanded_E = np.block([[np.diag(D), sparse_Fls],\n",
    "              [sparse_Fls.T, -np.eye(s_lps[-1])]])\n",
    "\n",
    "\n",
    "plt.figure(figsize=(10, 8)) \n",
    "plt.matshow(expanded_E!=0, aspect='auto', fignum=1, cmap='hot') \n",
    "plt.colorbar() \n",
    "plt.show()"
   ]
  },
  {
   "cell_type": "code",
   "execution_count": 14,
   "metadata": {},
   "outputs": [],
   "source": [
    "assert np.allclose(true_sparse_F @ true_sparse_F.T, sparse_Fls @ sparse_Fls.T)"
   ]
  },
  {
   "cell_type": "code",
   "execution_count": 15,
   "metadata": {},
   "outputs": [],
   "source": [
    "def lu(A):\n",
    "    \"Compute LU decomposition of matrix A.\"\n",
    "    # from https://ubcmath.github.io/MATH307/notebooks/02_LU_decomposition.html\n",
    "    m,n = A.shape\n",
    "    L = np.eye(m)\n",
    "    U = A.copy()\n",
    "    # Keep track of the row index of the pivot entry\n",
    "    pivot = 0\n",
    "    for j in range(0,n):\n",
    "        # Check if the pivot entry is 0\n",
    "        if U[pivot,j] == 0:\n",
    "            if np.any(U[pivot+1:,j]):\n",
    "                # LU decomposition does not exist if entries below 0 pivot are nonzero\n",
    "                print(\"LU decomposition for A does not exist.\")\n",
    "                return np.eye(m),A\n",
    "            else:\n",
    "                # All entries below 0 pivot are 0 therefore continue to next column\n",
    "                # Row index of pivot remains the same\n",
    "                continue\n",
    "        # Use nonzero pivot entry to create 0 in each entry below\n",
    "        for i in range(pivot+1,m):\n",
    "            c = -U[i,j]/U[pivot,j]\n",
    "            U[i,:] = c*U[pivot,:] + U[i,:]\n",
    "            L[i,pivot] = -c\n",
    "        # Move pivot to the next row\n",
    "        pivot += 1\n",
    "    return L,U\n",
    "\n",
    "\n",
    "true_L, true_U = lu(expanded_E)\n",
    "assert np.allclose(true_L @ true_U, expanded_E)\n",
    "\n",
    "true_Chol_D = np.diag(true_U)\n",
    "assert np.allclose((true_L * true_Chol_D) @ true_L.T, expanded_E) "
   ]
  },
  {
   "cell_type": "code",
   "execution_count": 16,
   "metadata": {},
   "outputs": [
    {
     "data": {
      "text/plain": [
       "array([200, 128,  64,  30,   9,   4])"
      ]
     },
     "execution_count": 16,
     "metadata": {},
     "output_type": "execute_result"
    }
   ],
   "source": [
    "s_all = (ranks * np.array([hpart[\"rows\"][\"lk\"][level].size-1 for level in range(L)]))[::-1]\n",
    "s_all_1L = (ranks * np.array([hpart[\"rows\"][\"lk\"][level].size-1 for level in range(L)]))\n",
    "s_all    "
   ]
  },
  {
   "cell_type": "code",
   "execution_count": 17,
   "metadata": {},
   "outputs": [
    {
     "data": {
      "text/plain": [
       "((200, 235),\n",
       " array([200, 128,  64,  30,   9,   4]),\n",
       " array([128, 192, 222, 231, 235]))"
      ]
     },
     "execution_count": 17,
     "metadata": {},
     "output_type": "execute_result"
    }
   ],
   "source": [
    "sparse_Fls.shape, s_all, s_lps"
   ]
  },
  {
   "cell_type": "code",
   "execution_count": 18,
   "metadata": {},
   "outputs": [],
   "source": [
    "prev_l_inv_recurrence = (1/D[:, np.newaxis]) * F_Lm1\n",
    "H_Lm1 = np.zeros(F_Lm1.shape)\n",
    "L = len(F_hpart['lk']) + 1\n",
    "\n",
    "# cumulative sums: [p_{L-1} r_{L-1}, ... , p_{L-1} r_{L-1} + ... + p_1 r_1]\n",
    "s_lps = np.cumsum(np.array([ranks[lp]*(F_hpart['lk'][lp].size - 1) for lp in reversed(range(0, L-1))]))\n",
    "# for level L size: (r_1 + ... + r_{L-1}) x n\n",
    "prev_DL_recurrence = F_Lm1.T * 1/D[np.newaxis, :]\n",
    "Chol_L = [np.ones((1, n))] + [None] * (L-1)\n",
    "# [np.zeros(ranks[lp], n + s_lps[lp]) for lp in reversed(range(0, L-1))]\n",
    "Chol_D = np.zeros(n + s_lps[L-2])\n",
    "Chol_D[:n] = D\n",
    "\n",
    "for level in reversed(range(0, L-1)):\n",
    "    pl = F_hpart['lk'][level].size - 1\n",
    "    rl = ranks[level]\n",
    "    if rl == 0: continue\n",
    "    # M0 same sparsity as Fl\n",
    "    M0 = prev_l_inv_recurrence[:, -ranks[level]:]\n",
    "    # M1 = M0.T @ rec_term, same sparsity as rec_term\n",
    "    M1 = np.zeros((rl * pl, ranks[:level].sum()))\n",
    "    for lp in range(level):\n",
    "        M1[:, ranks[:lp].sum() : ranks[:lp+1].sum()] = mfm.mult_blockdiag_refined_AtB(M0, \n",
    "                                                                            F_hpart['lk'][level], \n",
    "                                                                            F_Lm1[:, ranks[:lp].sum():ranks[:lp+1].sum()], \n",
    "                                                                            F_hpart['lk'][lp])\n",
    "    M1_lks = [np.searchsorted(F_hpart['lk'][level], lk_B, side='left') * rl for lk_B in F_hpart['lk'][:level]]\n",
    "\n",
    "    # M2 = (I + Fl^T M0)^{-1}, blockdiagonal with pl blocks of size (rl x rl)\n",
    "    FlTM0 = mfm.mult_blockdiag_refined_AtB(F_Lm1[:, ranks[:level].sum() : ranks[:level+1].sum()], \n",
    "                                    F_hpart['lk'][level], \n",
    "                                    M0, \n",
    "                                    F_hpart['lk'][level])\n",
    "\n",
    "    M2 = np.zeros((pl*rl, rl))\n",
    "    sqrt_M2 = np.zeros((pl*rl, rl))\n",
    "    for k in range(pl):\n",
    "        np.fill_diagonal(FlTM0[k*rl : (k+1)*rl], FlTM0[k*rl : (k+1)*rl].diagonal() + 1)\n",
    "        eigvals, eigvecs = np.linalg.eigh(FlTM0[k*rl : (k+1)*rl])\n",
    "        sqrt_M2[k*rl : (k+1)*rl] = ((1 / np.sqrt(eigvals)) * eigvecs) @ eigvecs.T\n",
    "        M2[k*rl : (k+1)*rl] = ((1/eigvals) * eigvecs) @ eigvecs.T\n",
    "        del eigvals, eigvecs\n",
    "\n",
    "    # Cholesky decomposition of M2^{-1}\n",
    "    Chol_Rl = np.zeros((rl, pl*rl))\n",
    "    Chol_Vl = np.zeros((pl*rl))\n",
    "    for k in range(pl):\n",
    "        Chol_Rl[:, k*rl : (k+1)*rl] = np.linalg.cholesky(FlTM0[k*rl : (k+1)*rl])\n",
    "        Chol_Vl[k*rl : (k+1)*rl] = np.square(np.diag(Chol_Rl[:, k*rl : (k+1)*rl]))\n",
    "        Chol_Rl[:, k*rl : (k+1)*rl] *= Chol_Vl[k*rl : (k+1)*rl]**(-1/2)\n",
    "\n",
    "    # Cholesky new factors L^{(l)}, D^{(l)}\n",
    "    Chol_L[L-1-level] = np.concatenate([prev_DL_recurrence[ranks[:level].sum():ranks[:level+1].sum(), :], Chol_Rl], axis=1)\n",
    "    Chol_D[n + s_lps[L-2-level] - ranks[level]*(F_hpart['lk'][level].size - 1) : n + s_lps[L-2-level]] = -Chol_Vl \n",
    "\n",
    "    del FlTM0, Chol_Vl\n",
    "    H_Lm1[:, ranks[:level].sum():ranks[:level+1].sum()] = mfm.mult_blockdiag_refined_AB(M0, \n",
    "                                                                                    F_hpart['lk'][level],\n",
    "                                                                                    sqrt_M2, \n",
    "                                                                                    np.linspace(0, pl*rl, num=pl+1, endpoint=True, dtype=int))\n",
    "    del sqrt_M2\n",
    "    # M3 = M2 @ M1, same sparsity as M1\n",
    "    M3 = np.zeros((rl * pl, ranks[:level].sum()))\n",
    "    for lp in range(level):\n",
    "        M3[:, ranks[:lp].sum():ranks[:lp+1].sum()] = mfm.mult_blockdiag_refined_AtB(M2, \n",
    "                                                                                    np.linspace(0, pl*rl, num=pl+1, endpoint=True, dtype=int), \n",
    "                                                                                    M1[:, ranks[:lp].sum():ranks[:lp+1].sum()], \n",
    "                                                                                    M1_lks[lp])\n",
    "    del M1, M2\n",
    "\n",
    "    if level >= 1:\n",
    "        # (r_1 + ... + r_{l-1}) x (p_l r_l)\n",
    "        M3TRl = np.zeros((ranks[:level].sum(), rl * pl))\n",
    "        indices = np.linspace(0, pl*rl, num=pl+1, endpoint=True, dtype=int)\n",
    "        for l_prime in range(level):\n",
    "            rank1, rank2 = ranks[:l_prime].sum(), ranks[:l_prime+1].sum()\n",
    "            M3TRl[rank1 : rank2] = mfm.mult_blockdiag_refined_CtB_vh(M3[:, rank1 : rank2], \n",
    "                                                M1_lks[l_prime],\n",
    "                                                Chol_Rl, \n",
    "                                                indices)\n",
    "        # Cholesky recurrent term\n",
    "        # (r_1 + ... + r_{l-1}) x (n + p_{L-1} r_{L-1} + ... + p_l r_l)\n",
    "        prev_DL_recurrence = np.concatenate([prev_DL_recurrence[:ranks[:level].sum(), :], M3TRl], axis=1)\n",
    "\n",
    "            \n",
    "    # M4 = M0 @ M3, same sparsity as current rec_term\n",
    "    M4 = np.zeros((n, ranks[:level].sum()))\n",
    "    for lp in range(level):\n",
    "        M4[:, ranks[:lp].sum() : ranks[:lp+1].sum()] = mfm.mult_blockdiag_refined_AB(M0, \n",
    "                                                                                    F_hpart[\"lk\"][level], \n",
    "                                                                                    M3[:, ranks[:lp].sum():ranks[:lp+1].sum()], \n",
    "                                                                                    M1_lks[lp])\n",
    "    del M0, M3\n",
    "\n",
    "    # M5  \n",
    "    prev_l_inv_recurrence = prev_l_inv_recurrence[:, :ranks[:level].sum()] - M4\n",
    "    del M4"
   ]
  },
  {
   "cell_type": "code",
   "execution_count": 19,
   "metadata": {},
   "outputs": [],
   "source": [
    "sparse_Chol_L = mfm.sparse_chol_factor(Chol_L, s_lps, s_all, hpart, L, n, ranks)"
   ]
  },
  {
   "cell_type": "code",
   "execution_count": 20,
   "metadata": {},
   "outputs": [
    {
     "data": {
      "image/png": "[encoded data removed]",
      "text/plain": [
       "<Figure size 1000x800 with 2 Axes>"
      ]
     },
     "metadata": {},
     "output_type": "display_data"
    }
   ],
   "source": [
    "plt.figure(figsize=(10, 8)) \n",
    "plt.matshow(np.abs(sparse_Chol_L)[:]!=0, aspect='auto', fignum=1, cmap='hot') \n",
    "plt.colorbar() \n",
    "plt.show()"
   ]
  },
  {
   "cell_type": "code",
   "execution_count": 21,
   "metadata": {},
   "outputs": [
    {
     "name": "stdout",
     "output_type": "stream",
     "text": [
      "1.788344705777104e-15\n"
     ]
    }
   ],
   "source": [
    "print(mf.rel_diff(expanded_E, (sparse_Chol_L * Chol_D) @ sparse_Chol_L.T))\n",
    "assert (Chol_D > 0).sum() == n\n",
    "assert np.allclose(expanded_E, (sparse_Chol_L * Chol_D) @ sparse_Chol_L.T)"
   ]
  },
  {
   "cell_type": "code",
   "execution_count": 22,
   "metadata": {},
   "outputs": [],
   "source": [
    "assert np.allclose(true_Chol_D, Chol_D)"
   ]
  },
  {
   "cell_type": "code",
   "execution_count": 23,
   "metadata": {},
   "outputs": [],
   "source": [
    "F_hpart = {\"pi\": hpart['rows'][\"pi\"], \"lk\": hpart['rows'][\"lk\"][:-1]}\n",
    "true_mfm = mfm.MFModel()"
   ]
  },
  {
   "cell_type": "code",
   "execution_count": 26,
   "metadata": {},
   "outputs": [
    {
     "name": "stdout",
     "output_type": "stream",
     "text": [
      "signal_var=15.71270142316888, noise_var=2.9763964200025748\n",
      "SNR=4.279102379499329, signal_to_noise=4\n",
      "2.3071727306800045e-14\n",
      "signal_var=15.416576590537035, noise_var=3.147595887221864\n",
      "SNR=3.8978894187538273, signal_to_noise=4\n",
      "2.7945898233754522e-14\n",
      "signal_var=15.814010707070807, noise_var=3.13490350106361\n",
      "SNR=4.0444968088189714, signal_to_noise=4\n",
      "4.506038574497618e-15\n",
      "signal_var=16.041244156477884, noise_var=3.251385081364359\n",
      "SNR=3.933664809013207, signal_to_noise=4\n",
      "9.67506293689845e-15\n",
      "signal_var=15.594873678110213, noise_var=3.125319165345818\n",
      "SNR=3.9898499490962007, signal_to_noise=4\n",
      "3.367293905572473e-15\n",
      "signal_var=16.23478594231714, noise_var=3.0671759922778405\n",
      "SNR=4.293072840681817, signal_to_noise=4\n",
      "3.322849596309923e-15\n",
      "signal_var=15.965840917536077, noise_var=3.0379921591308294\n",
      "SNR=4.255392404338499, signal_to_noise=4\n",
      "6.769040531547749e-15\n",
      "signal_var=16.151628478510105, noise_var=3.219331526825498\n",
      "SNR=4.017075235627199, signal_to_noise=4\n",
      "2.285202949055222e-15\n",
      "signal_var=17.02000566585415, noise_var=3.51441610117855\n",
      "SNR=3.842911361618943, signal_to_noise=4\n",
      "3.3821744562049108e-15\n",
      "signal_var=15.711887691555532, noise_var=3.064121730765438\n",
      "SNR=4.127696962493262, signal_to_noise=4\n",
      "1.4351134100510924e-14\n",
      "\n",
      "PASSED\n"
     ]
    }
   ],
   "source": [
    "for _ in range(10):\n",
    "    true_mfm = mfm.generate_mfmodel(true_mfm, n, F_hpart, ranks, signal_to_noise, debug=False)\n",
    "    F_hpart[\"pi_inv\"] = true_mfm.pi_inv\n",
    "\n",
    "    true_mfm.inv_coefficients(cholesky=True)\n",
    "    Chol_L, Chol_D = true_mfm.Chol_L, true_mfm.Chol_D\n",
    "\n",
    "\n",
    "    sparse_Chol_L = mfm.sparse_chol_factor(Chol_L, s_lps, s_all, hpart, L, n, ranks)\n",
    "    sparse_Fls = np.concatenate([mfm.block_diag_lk(F_hpart['lk'][lp], \n",
    "                                                true_mfm.F[:, ranks[:lp].sum():ranks[:lp+1].sum()]) \n",
    "                                                for lp in reversed(range(0, L-1))], axis=1)\n",
    "    expanded_E = np.block([[np.diag(true_mfm.D), sparse_Fls],\n",
    "                [sparse_Fls.T, -np.eye(s_lps[-1])]])\n",
    "\n",
    "    print(mf.rel_diff(expanded_E, (sparse_Chol_L * Chol_D) @ sparse_Chol_L.T))\n",
    "    assert (Chol_D > 0).sum() == n\n",
    "    assert np.allclose(expanded_E, (sparse_Chol_L * Chol_D) @ sparse_Chol_L.T)\n",
    "\n",
    "    assert np.allclose(np.linalg.det(true_mfm.matrix()), true_mfm.determinant)\n",
    "\n",
    "print(\"\\nPASSED\")"
   ]
  },
  {
   "cell_type": "code",
   "execution_count": null,
   "metadata": {},
   "outputs": [],
   "source": []
  }
 ],
 "metadata": {
  "kernelspec": {
   "display_name": "routing",
   "language": "python",
   "name": "python3"
  },
  "language_info": {
   "codemirror_mode": {
    "name": "ipython",
    "version": 3
   },
   "file_extension": ".py",
   "mimetype": "text/x-python",
   "name": "python",
   "nbconvert_exporter": "python",
   "pygments_lexer": "ipython3",
   "version": "3.9.16"
  }
 },
 "nbformat": 4,
 "nbformat_minor": 2
}
