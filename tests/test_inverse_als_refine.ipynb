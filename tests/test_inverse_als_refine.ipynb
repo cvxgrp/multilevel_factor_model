{
 "cells": [
  {
   "cell_type": "code",
   "execution_count": 1,
   "metadata": {},
   "outputs": [
    {
     "name": "stderr",
     "output_type": "stream",
     "text": [
      "/Users/parshakova.tanya/opt/anaconda3/envs/routing/lib/python3.9/site-packages/tqdm/auto.py:22: TqdmWarning: IProgress not found. Please update jupyter and ipywidgets. See https://ipywidgets.readthedocs.io/en/stable/user_install.html\n",
      "  from .autonotebook import tqdm as notebook_tqdm\n"
     ]
    }
   ],
   "source": [
    "import numpy as np\n",
    "\n",
    "import matplotlib.pyplot as plt\n",
    "\n",
    "import copy, time\n",
    "import random\n",
    "\n",
    "import mlrfit as mf\n",
    "import mfmodel as mfm"
   ]
  },
  {
   "cell_type": "code",
   "execution_count": 2,
   "metadata": {},
   "outputs": [],
   "source": [
    "np.random.seed(1001)\n",
    "random.seed(1001)"
   ]
  },
  {
   "cell_type": "markdown",
   "metadata": {},
   "source": [
    "# True model is MLR factor model with SNR = 4 \n",
    "\n",
    "Let $\\Sigma = FF^T + D$ be MLR. We generate samples using \n",
    "$$\n",
    "y = Fz + e, \\qquad z \\sim N(0, I), \\qquad N(0, D).\n",
    "$$"
   ]
  },
  {
   "cell_type": "code",
   "execution_count": 3,
   "metadata": {},
   "outputs": [],
   "source": [
    "mtype = \"small_mlr_hier\"\n",
    "n = 1500\n",
    "signal_to_noise = 4\n",
    "\n",
    "\n",
    "nsamples = 20\n",
    "L = 10\n",
    "\n",
    "# ranks = np.array([5, 4, 3, 3, 2, 2, 2, 2, 1])\n",
    "# ranks = np.array([5, 5, 5, 4, 3, 3, 3, 3, 2, 1])\n",
    "ranks = np.array([10, 10, 10, 4, 3, 3, 3, 3, 2, 1])\n",
    "\n",
    "rank = ranks.sum()"
   ]
  },
  {
   "cell_type": "code",
   "execution_count": 4,
   "metadata": {},
   "outputs": [
    {
     "name": "stdout",
     "output_type": "stream",
     "text": [
      "level=0, num_groups=1, mean_size=1500.0\n",
      "level=1, num_groups=4, mean_size=375.0\n",
      "level=2, num_groups=8, mean_size=187.5\n",
      "level=3, num_groups=16, mean_size=93.8\n",
      "level=4, num_groups=32, mean_size=46.9\n",
      "level=5, num_groups=64, mean_size=23.4\n",
      "level=6, num_groups=128, mean_size=11.7\n",
      "level=7, num_groups=256, mean_size=5.9\n",
      "level=8, num_groups=512, mean_size=2.9\n",
      "level=9, num_groups=1500, mean_size=1.0\n"
     ]
    }
   ],
   "source": [
    "pi_rows = np.arange(n) #np.random.permutation(n)\n",
    "hpart = {'rows':{'pi':pi_rows, 'lk':[]}, 'cols':{'pi':pi_rows, 'lk':[]}} \n",
    "# for ngroups in [2, 5, 9, 17, 33, 65, 129, 257, n+1]:\n",
    "for ngroups in [2, 5, 9, 17, 33, 65, 129, 257, 513, n+1]:\n",
    "       hpart['rows']['lk'] += [ np.linspace(0, n, ngroups, endpoint=True, dtype=int)]\n",
    "hpart['cols']['lk'] = hpart['rows']['lk']\n",
    "part_sizes = mfm.print_hpart_numgroups(hpart)\n",
    "mfm.valid_hpart(hpart)"
   ]
  },
  {
   "cell_type": "code",
   "execution_count": 5,
   "metadata": {},
   "outputs": [
    {
     "name": "stdout",
     "output_type": "stream",
     "text": [
      "signal_var=48.19268668331124, noise_var=12.381246964085253\n",
      "SNR=3.8923936194072835, signal_to_noise=4\n"
     ]
    }
   ],
   "source": [
    "true_mlr, true_sparse_F, true_D_noise = mfm.generate_mlr_model(n, hpart, ranks, signal_to_noise, debug=True)\n",
    "true_compressed_F = true_mlr.B[:, :-1]"
   ]
  },
  {
   "cell_type": "code",
   "execution_count": 6,
   "metadata": {},
   "outputs": [
    {
     "data": {
      "image/png": "[encoded data removed]",
      "text/plain": [
       "<Figure size 1000x400 with 2 Axes>"
      ]
     },
     "metadata": {},
     "output_type": "display_data"
    },
    {
     "name": "stdout",
     "output_type": "stream",
     "text": [
      "(1500, 2658)\n"
     ]
    }
   ],
   "source": [
    "plt.figure(figsize=(10, 4)) \n",
    "plt.matshow(true_sparse_F.T, aspect='auto', fignum=1, cmap='hot') \n",
    "plt.colorbar() \n",
    "plt.show()\n",
    "print(true_sparse_F.shape)"
   ]
  },
  {
   "cell_type": "code",
   "execution_count": 7,
   "metadata": {},
   "outputs": [],
   "source": [
    "filename = \"%s_r%d_%d\"%(mtype, rank, n)"
   ]
  },
  {
   "cell_type": "code",
   "execution_count": 8,
   "metadata": {},
   "outputs": [
    {
     "name": "stdout",
     "output_type": "stream",
     "text": [
      "num_levels=10, num_sparsities=512\n",
      "(512, 9) [  0   3   7  15  31  63 127 255 511]\n"
     ]
    }
   ],
   "source": [
    "row_selectors, si_groups, F_hpart, groups_all = mfm.row_col_selections(hpart, return_groups=True)"
   ]
  },
  {
   "cell_type": "code",
   "execution_count": 9,
   "metadata": {},
   "outputs": [],
   "source": [
    "F_Lm1, D = true_compressed_F+0, true_D_noise+0\n",
    "pi = F_hpart['pi']\n",
    "F_hpart['pi_inv'] = mf.inv_permutation(pi, pi)[0]\n",
    "v = np.random.randn(n)"
   ]
  },
  {
   "cell_type": "code",
   "execution_count": 10,
   "metadata": {},
   "outputs": [],
   "source": [
    "def mlr_matvec(x0, B, C, D, F_hpart, ranks, sign=1):\n",
    "    # Compute \\tilde B @ \\tilde C^T @ x0\n",
    "    if len(x0.shape) == 1: x0 = x0.reshape(-1, 1)\n",
    "    x = x0[F_hpart[\"pi\"]]\n",
    "    res = D[:, np.newaxis] * x\n",
    "    for level in range(len(F_hpart[\"lk\"])):\n",
    "        lk = F_hpart[\"lk\"][level]\n",
    "        num_blocks = lk.size - 1 \n",
    "        for block in range(num_blocks):\n",
    "            r1, r2 = lk[block], lk[block+1]\n",
    "            res[r1:r2] += sign * B[r1:r2, ranks[:level].sum():ranks[:level+1].sum()] @ \\\n",
    "                                (C[r1:r2, ranks[:level].sum():ranks[:level+1].sum()].T @ x[r1:r2])\n",
    "    return res[F_hpart[\"pi_inv\"]]"
   ]
  },
  {
   "cell_type": "markdown",
   "metadata": {},
   "source": [
    "# Test matmul"
   ]
  },
  {
   "cell_type": "code",
   "execution_count": 11,
   "metadata": {},
   "outputs": [],
   "source": [
    "pi = F_hpart['pi']\n",
    "F_hpart['pi_inv'] = mf.inv_permutation(pi, pi)[0]\n"
   ]
  },
  {
   "cell_type": "code",
   "execution_count": 12,
   "metadata": {},
   "outputs": [
    {
     "name": "stdout",
     "output_type": "stream",
     "text": [
      "PASSED\n"
     ]
    }
   ],
   "source": [
    "for _ in range(5):\n",
    "    B_Lm1 = np.random.randn(n, ranks[:-1].sum())\n",
    "    C_Lm1 = np.random.randn(n, ranks[:-1].sum())\n",
    "\n",
    "    B = np.concatenate([B_Lm1, np.sqrt(D).reshape(-1, 1)], axis=1)\n",
    "    C = np.concatenate([C_Lm1, np.sqrt(D).reshape(-1, 1)], axis=1)\n",
    "\n",
    "    rand_mlr = mf.MLRMatrix(B=B, C=C, hpart=hpart, ranks=ranks)\n",
    "    rand_mlr.construct_sparse_format()\n",
    "\n",
    "    for _ in range(100):\n",
    "        v = np.random.randn(n, 1)\n",
    "        Av = mlr_matvec(v, B_Lm1, C_Lm1, D, F_hpart, ranks)\n",
    "        reldiff = np.linalg.norm(Av - rand_mlr.matvec(v)) / np.linalg.norm(v)\n",
    "        assert reldiff < 1e-12, print(f\"{reldiff=}\")\n",
    "print(\"PASSED\")"
   ]
  },
  {
   "cell_type": "code",
   "execution_count": 13,
   "metadata": {},
   "outputs": [],
   "source": [
    "def iter_refinement_intermediate_matrices(F_Lm1, B_Lm1, C_Lm1, D, F_hpart, ranks, si, si_groups, row_selectors):\n",
    "    r1, r2 = row_selectors[si: si+2] # contiguous range for group si\n",
    "    n = F_Lm1.shape[0]\n",
    "    tilde_B_ci = mfm.get_sparse_F_si_col_sparsity(B_Lm1, ranks, F_hpart, si_groups[si]) # n x (r-1)\n",
    "    assert tilde_B_ci.shape == (n, ranks[:-1].sum())\n",
    "\n",
    "    Sigma_B_ci = mlr_matvec(tilde_B_ci, F_Lm1, F_Lm1, D, F_hpart, ranks) # n x (r-1)\n",
    "    del tilde_B_ci\n",
    "    ci_Bt_Sigma2_B_ci = Sigma_B_ci.T @ Sigma_B_ci\n",
    "\n",
    "    Sigma2_B_ci = mlr_matvec(Sigma_B_ci, F_Lm1, F_Lm1, D, F_hpart, ranks) # n x (r-1)\n",
    "    ri_Vt_ci_t = -Sigma_B_ci[r1:r2, :].T # (r-1) x (r2-r1) \n",
    "    del Sigma_B_ci\n",
    "    Sigma_inv_t_Sigma2_B_ci = mlr_matvec(Sigma2_B_ci, C_Lm1, B_Lm1, 1/D, F_hpart, ranks, sign=-1) # n x (r-1)\n",
    "    del Sigma2_B_ci\n",
    "    ri_Vt_ci_t += Sigma_inv_t_Sigma2_B_ci[r1:r2, :].T # (r-1) x (r2-r1)\n",
    "    return ri_Vt_ci_t, ci_Bt_Sigma2_B_ci, r1, r2\n",
    "\n",
    "\n",
    "def delta_iterative_refinement(F_Lm1, B_Lm1, C_Lm1, D, F_hpart, ranks, si_groups, row_selectors, t=None):\n",
    "    Delta = np.zeros(F_Lm1.shape)\n",
    "    num_sparsities = row_selectors.size - 1\n",
    "    for si in range(num_sparsities):\n",
    "        ri_Vt_ci_t, ci_W_ci, r1, r2 = iter_refinement_intermediate_matrices(F_Lm1, B_Lm1, C_Lm1, D, F_hpart, \n",
    "                                                                            ranks, si, si_groups, row_selectors)\n",
    "        Delta[r1:r2, :] = np.linalg.lstsq(ci_W_ci, ri_Vt_ci_t)[0].T\n",
    "    return Delta\n",
    "\n",
    "\n",
    "def sp_loss_iter_refinement(F_Lm1, B_Lm1, C_Lm1, D, F_hpart, ranks):\n",
    "    tilde_F = mf.convert_compressed_to_sparse(F_Lm1, F_hpart, ranks[:-1])\n",
    "    tilde_B = mf.convert_compressed_to_sparse(B_Lm1, F_hpart, ranks[:-1])\n",
    "    tilde_C = mf.convert_compressed_to_sparse(C_Lm1, F_hpart, ranks[:-1])\n",
    "    Sigma = tilde_F @ tilde_F.T + np.diag(D.flatten())\n",
    "    Sigma_inv = - tilde_B @ tilde_C.T + np.diag((1/D).flatten())\n",
    "    n = tilde_B.shape[0]\n",
    "    return np.linalg.norm(Sigma @ Sigma_inv - np.eye(n), ord=\"fro\") / np.sqrt(n), \\\n",
    "            np.linalg.norm(Sigma @ Sigma_inv.T - np.eye(n), ord=\"fro\") / np.sqrt(n)\n",
    "\n",
    "\n",
    "def als_iterative_refinement(F_Lm1, H_Lm1, D, F_hpart, ranks, si_groups, row_selectors, eps=1e-9, max_iter=20, printing=False):\n",
    "    B_Lm1 = H_Lm1 + 0\n",
    "    C_Lm1 =  H_Lm1 + 0\n",
    "    t = 0 \n",
    "    reldiff = sp_loss_iter_refinement(F_Lm1, B_Lm1, C_Lm1, D, F_hpart, ranks)\n",
    "    if printing:\n",
    "        print(f\"{reldiff=}\")\n",
    "    while reldiff[0] > eps and t < max_iter:\n",
    "        C_Lm1 += delta_iterative_refinement(F_Lm1, B_Lm1, C_Lm1, D, F_hpart, ranks, si_groups, row_selectors, t=t)\n",
    "        B_Lm1 += delta_iterative_refinement(F_Lm1, C_Lm1, B_Lm1, D, F_hpart, ranks, si_groups, row_selectors, t=t)\n",
    "        \n",
    "        reldiff = sp_loss_iter_refinement(F_Lm1, B_Lm1, C_Lm1, D, F_hpart, ranks)\n",
    "        if printing:\n",
    "            print(f\"{t=}, {reldiff=}\")\n",
    "        t += 1\n",
    "    if printing and reldiff[0] > eps:\n",
    "        print(f\"terminated with {reldiff=}\")\n",
    "    return B_Lm1, C_Lm1"
   ]
  },
  {
   "cell_type": "code",
   "execution_count": 15,
   "metadata": {},
   "outputs": [
    {
     "name": "stdout",
     "output_type": "stream",
     "text": [
      "reldiff=(2.0922541104365586e-10, 2.0922541104365586e-10)\n"
     ]
    },
    {
     "name": "stderr",
     "output_type": "stream",
     "text": [
      "/var/folders/fp/rkwhsn_57zn3tz7fw_ct6s8m0000gn/T/ipykernel_81415/852664930.py:26: FutureWarning: `rcond` parameter will change to the default of machine precision times ``max(M, N)`` where M and N are the input matrix dimensions.\n",
      "To use the future default and silence this warning we advise to pass `rcond=None`, to keep using the old, explicitly pass `rcond=-1`.\n",
      "  Delta[r1:r2, :] = np.linalg.lstsq(ci_W_ci, ri_Vt_ci_t)[0].T\n"
     ]
    },
    {
     "name": "stdout",
     "output_type": "stream",
     "text": [
      "t=0, reldiff=(1.33298793461473e-07, 1.333351193142977e-08)\n",
      "t=1, reldiff=(1.3216872657195845e-07, 1.429745771563198e-08)\n",
      "t=2, reldiff=(1.9357449003182362e-07, 2.159186253035554e-08)\n",
      "t=3, reldiff=(1.2755687435849074e-07, 1.1765700245180269e-08)\n",
      "t=4, reldiff=(5.86321305993605e-08, 9.439750869244044e-09)\n",
      "t=5, reldiff=(5.506807178393638e-08, 9.675622162284492e-09)\n",
      "t=6, reldiff=(6.966028065470668e-08, 1.212044540980047e-08)\n",
      "t=7, reldiff=(1.9311721669277749e-07, 2.555713714946831e-08)\n",
      "t=8, reldiff=(1.5131954978325927e-07, 1.6414619696908394e-08)\n",
      "t=9, reldiff=(8.786500061955624e-08, 1.1965335140959834e-08)\n",
      "t=10, reldiff=(1.428605930407071e-07, 1.554514243507418e-08)\n",
      "t=11, reldiff=(7.4813781742121e-08, 9.274550406797894e-09)\n",
      "t=12, reldiff=(1.0567320037451574e-07, 1.0403693662635779e-08)\n",
      "t=13, reldiff=(1.0646188120433052e-07, 1.4783250968203043e-08)\n",
      "t=14, reldiff=(5.658991773088003e-08, 1.0726625678972287e-08)\n",
      "t=15, reldiff=(1.081654846143428e-07, 1.1896356544116623e-08)\n",
      "t=16, reldiff=(1.1430185566531181e-07, 1.2101615386787101e-08)\n",
      "t=17, reldiff=(1.7348853351387114e-07, 2.0652850078502e-08)\n",
      "t=18, reldiff=(8.79184234784614e-08, 1.1265234927960211e-08)\n",
      "t=19, reldiff=(1.615487875973692e-07, 1.823000387319137e-08)\n",
      "terminated with reldiff=(1.615487875973692e-07, 1.823000387319137e-08)\n"
     ]
    }
   ],
   "source": [
    "true_mfm = mfm.MFModel(hpart=F_hpart, ranks=ranks, F=F_Lm1, D=D)\n",
    "true_mfm.inv_coefficients() \n",
    "\n",
    "H_Lm1 = true_mfm.H \n",
    "F_Lm1 = true_mfm.F \n",
    "D = true_mfm.D \n",
    "\n",
    "\n",
    "B_Lm1, C_Lm1 = als_iterative_refinement(F_Lm1, H_Lm1, D, F_hpart, ranks, si_groups, row_selectors, \n",
    "                                        eps=1e-16, max_iter=20, printing=True)"
   ]
  },
  {
   "cell_type": "code",
   "execution_count": null,
   "metadata": {},
   "outputs": [],
   "source": []
  }
 ],
 "metadata": {
  "kernelspec": {
   "display_name": "routing",
   "language": "python",
   "name": "python3"
  },
  "language_info": {
   "codemirror_mode": {
    "name": "ipython",
    "version": 3
   },
   "file_extension": ".py",
   "mimetype": "text/x-python",
   "name": "python",
   "nbconvert_exporter": "python",
   "pygments_lexer": "ipython3",
   "version": "3.9.16"
  }
 },
 "nbformat": 4,
 "nbformat_minor": 2
}
