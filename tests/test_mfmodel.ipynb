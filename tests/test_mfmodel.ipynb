{
 "cells": [
  {
   "cell_type": "code",
   "execution_count": 1,
   "metadata": {},
   "outputs": [
    {
     "name": "stderr",
     "output_type": "stream",
     "text": [
      "/Users/parshakova.tanya/opt/anaconda3/envs/routing/lib/python3.9/site-packages/tqdm/auto.py:22: TqdmWarning: IProgress not found. Please update jupyter and ipywidgets. See https://ipywidgets.readthedocs.io/en/stable/user_install.html\n",
      "  from .autonotebook import tqdm as notebook_tqdm\n"
     ]
    }
   ],
   "source": [
    "import numpy as np\n",
    "\n",
    "import seaborn as sns\n",
    "import matplotlib.pyplot as plt\n",
    "\n",
    "import copy, time\n",
    "import random\n",
    "import pickle\n",
    "import scipy\n",
    "\n",
    "import mlrfit as mf\n",
    "import mfmodel as mfm\n",
    "import numba as nb\n",
    "\n",
    "from scipy.sparse import coo_matrix\n",
    "from scipy.linalg import block_diag, pinvh"
   ]
  },
  {
   "cell_type": "code",
   "execution_count": 2,
   "metadata": {},
   "outputs": [],
   "source": [
    "# np.random.seed(1001)\n",
    "# random.seed(1001)"
   ]
  },
  {
   "cell_type": "markdown",
   "metadata": {},
   "source": [
    "# True model is MLR factor model with SNR = 4 \n",
    "\n",
    "Let $\\Sigma = FF^T + D$ be MLR. We generate samples using \n",
    "$$\n",
    "y = Fz + e, \\qquad z \\sim N(0, I), \\qquad N(0, D).\n",
    "$$"
   ]
  },
  {
   "cell_type": "code",
   "execution_count": 3,
   "metadata": {},
   "outputs": [],
   "source": [
    "mtype = \"small_mlr_hier\"\n",
    "n = 1000\n",
    "signal_to_noise = 4\n",
    "\n",
    "\n",
    "nsamples = 20\n",
    "L = 5\n",
    "\n",
    "\n",
    "ranks = np.array([10, 7, 5, 4, 1])\n",
    "rank = ranks.sum()"
   ]
  },
  {
   "cell_type": "code",
   "execution_count": 4,
   "metadata": {},
   "outputs": [
    {
     "name": "stdout",
     "output_type": "stream",
     "text": [
      "level=0, num_groups=1, mean_size=1000.0\n",
      "level=1, num_groups=3, mean_size=333.3\n",
      "level=2, num_groups=7, mean_size=142.9\n",
      "level=3, num_groups=16, mean_size=62.5\n",
      "level=4, num_groups=1000, mean_size=1.0\n"
     ]
    }
   ],
   "source": [
    "pi_rows = np.random.permutation(n)\n",
    "hpart = {'rows':{'pi':pi_rows, 'lk':[]}, 'cols':{'pi':pi_rows, 'lk':[]}} \n",
    "for ngroups in [2, 5, 9, 17, n+1]:\n",
    "       hpart['rows']['lk'] += [ np.linspace(0, n, ngroups, endpoint=True, dtype=int)]\n",
    "hpart['rows']['lk'][1] = np.delete(hpart['rows']['lk'][1], -2)\n",
    "hpart['rows']['lk'][2] = np.delete(hpart['rows']['lk'][2], -4)\n",
    "hpart['cols']['lk'] = hpart['rows']['lk']\n",
    "part_sizes = mfm.print_hpart_numgroups(hpart)\n",
    "mfm.valid_hpart(hpart)"
   ]
  },
  {
   "cell_type": "code",
   "execution_count": 5,
   "metadata": {},
   "outputs": [
    {
     "data": {
      "text/plain": [
       "[array([   0, 1000]),\n",
       " array([   0,  250,  500, 1000]),\n",
       " array([   0,  125,  250,  375,  500,  750,  875, 1000]),\n",
       " array([   0,   62,  125,  187,  250,  312,  375,  437,  500,  562,  625,\n",
       "         687,  750,  812,  875,  937, 1000])]"
      ]
     },
     "execution_count": 5,
     "metadata": {},
     "output_type": "execute_result"
    }
   ],
   "source": [
    "hpart['rows']['lk'][:-1]"
   ]
  },
  {
   "cell_type": "code",
   "execution_count": 6,
   "metadata": {},
   "outputs": [
    {
     "name": "stdout",
     "output_type": "stream",
     "text": [
      "signal_var=25.62634418177382, noise_var=6.372398593130684\n",
      "SNR=4.021459707400993, signal_to_noise=4\n"
     ]
    }
   ],
   "source": [
    "true_mlr, true_sparse_F, true_D_noise = mfm.generate_mlr_model(n, hpart, ranks, signal_to_noise, debug=True)\n",
    "true_compressed_F = true_mlr.B[:, :-1]"
   ]
  },
  {
   "cell_type": "code",
   "execution_count": 7,
   "metadata": {},
   "outputs": [
    {
     "data": {
      "image/png": "[encoded data removed]",
      "text/plain": [
       "<Figure size 1000x400 with 2 Axes>"
      ]
     },
     "metadata": {},
     "output_type": "display_data"
    },
    {
     "name": "stdout",
     "output_type": "stream",
     "text": [
      "(1000, 130)\n"
     ]
    }
   ],
   "source": [
    "plt.figure(figsize=(10, 4)) \n",
    "plt.matshow(true_sparse_F.T!=0, aspect='auto', fignum=1, cmap='hot') \n",
    "plt.colorbar() \n",
    "plt.show()\n",
    "print(true_sparse_F.shape)"
   ]
  },
  {
   "cell_type": "code",
   "execution_count": 8,
   "metadata": {},
   "outputs": [
    {
     "data": {
      "text/plain": [
       "numpy.ndarray"
      ]
     },
     "execution_count": 8,
     "metadata": {},
     "output_type": "execute_result"
    }
   ],
   "source": [
    "type(true_sparse_F)"
   ]
  },
  {
   "cell_type": "code",
   "execution_count": 9,
   "metadata": {},
   "outputs": [],
   "source": [
    "filename = \"%s_r%d_%d\"%(mtype, rank, n)"
   ]
  },
  {
   "cell_type": "code",
   "execution_count": 10,
   "metadata": {},
   "outputs": [
    {
     "name": "stdout",
     "output_type": "stream",
     "text": [
      "num_levels=5, num_sparsities=16\n",
      "(16, 4) [ 0  2  6 15]\n"
     ]
    }
   ],
   "source": [
    "row_selectors, si_groups, F_hpart, groups_all = mfm.row_col_selections(hpart, return_groups=True)"
   ]
  },
  {
   "cell_type": "code",
   "execution_count": 11,
   "metadata": {},
   "outputs": [],
   "source": [
    "F_Lm1, D = true_compressed_F+0, true_D_noise+0\n",
    "pi = F_hpart['pi']\n",
    "F_hpart['pi_inv'] = mf.inv_permutation(pi, pi)[0]\n",
    "v = np.random.randn(n)"
   ]
  },
  {
   "cell_type": "code",
   "execution_count": 12,
   "metadata": {},
   "outputs": [
    {
     "data": {
      "text/plain": [
       "3.025211020942249e-13"
      ]
     },
     "execution_count": 12,
     "metadata": {},
     "output_type": "execute_result"
    }
   ],
   "source": [
    "true_mlr.construct_sparse_format()\n",
    "hat_x = mfm.iterative_refinement(ranks, v[:, np.newaxis], F_Lm1, D, F_hpart, eps=1e-12, max_iter=50)\n",
    "np.linalg.norm(hat_x - np.linalg.inv(true_mlr.matrix()) @ v[:, np.newaxis])"
   ]
  },
  {
   "cell_type": "code",
   "execution_count": 13,
   "metadata": {},
   "outputs": [],
   "source": [
    "mfm_Sigma = mfm.MFModel(F=F_Lm1, D=D, hpart=F_hpart, ranks=ranks)\n",
    "\n",
    "assert true_sparse_F.shape[1] == mfm_Sigma.num_factors()"
   ]
  },
  {
   "cell_type": "markdown",
   "metadata": {},
   "source": [
    "# Linear system solve, matvec"
   ]
  },
  {
   "cell_type": "code",
   "execution_count": 14,
   "metadata": {},
   "outputs": [
    {
     "name": "stdout",
     "output_type": "stream",
     "text": [
      "solve reldiff=6.2310318940790974e-15\n",
      "solve reldiff=6.9826168024791094e-15\n",
      "solve reldiff=6.4649432780609435e-15\n",
      "solve reldiff=6.911259173011528e-15\n",
      "solve reldiff=6.413068970320047e-15\n",
      "solve reldiff=8.531794542609484e-15\n",
      "solve reldiff=6.067804273741672e-15\n",
      "solve reldiff=7.142426234143123e-15\n",
      "solve reldiff=7.782320934823927e-15\n",
      "solve reldiff=2.1085917451647602e-14\n",
      "PASSED\n"
     ]
    }
   ],
   "source": [
    "for _ in range(10):\n",
    "    v = np.random.randn(n, 1)\n",
    "    # linear system solve\n",
    "    hat_x = mfm_Sigma.solve(v, eps=1e-12, max_iter=50)\n",
    "    reldiff = np.linalg.norm(hat_x - np.linalg.solve(true_mlr.matrix(),v)) / np.linalg.norm(v)\n",
    "    print(f\"solve {reldiff=}\")\n",
    "    assert reldiff < 1e-9\n",
    "\n",
    "    # matvec\n",
    "    Av = mfm_Sigma.matvec(v)\n",
    "    reldiff = np.linalg.norm(Av - true_mlr.matvec(v)) / np.linalg.norm(v)\n",
    "    assert reldiff < 1e-9, print(f\"matvec {reldiff=}\")\n",
    "\n",
    "\n",
    "print(\"PASSED\")"
   ]
  },
  {
   "cell_type": "markdown",
   "metadata": {},
   "source": [
    "# Test $\\mathop{diag}(\\Sigma)$"
   ]
  },
  {
   "cell_type": "code",
   "execution_count": 15,
   "metadata": {},
   "outputs": [
    {
     "name": "stdout",
     "output_type": "stream",
     "text": [
      "PASSED\n"
     ]
    }
   ],
   "source": [
    "d1 = np.diag(true_mlr.matrix())\n",
    "d2 = mfm_Sigma.diag()\n",
    "assert np.allclose(d1, d2)\n",
    "\n",
    "print(\"PASSED\")"
   ]
  },
  {
   "cell_type": "markdown",
   "metadata": {},
   "source": [
    "# Test $\\Sigma$"
   ]
  },
  {
   "cell_type": "code",
   "execution_count": 16,
   "metadata": {},
   "outputs": [
    {
     "name": "stdout",
     "output_type": "stream",
     "text": [
      "PASSED\n"
     ]
    }
   ],
   "source": [
    "assert np.allclose(true_mlr.matrix(), mfm_Sigma.matrix())\n",
    "\n",
    "print(\"PASSED\")"
   ]
  },
  {
   "cell_type": "markdown",
   "metadata": {},
   "source": [
    "# EM elements"
   ]
  },
  {
   "cell_type": "code",
   "execution_count": 17,
   "metadata": {},
   "outputs": [
    {
     "name": "stdout",
     "output_type": "stream",
     "text": [
      "PASSED\n"
     ]
    }
   ],
   "source": [
    "num_sparsities = row_selectors.size - 1\n",
    "tilde_F0 = mf.convert_compressed_to_sparse(F_Lm1, F_hpart, ranks[:-1])\n",
    "D1 = np.zeros(n)\n",
    "# for si in tqdm(range(num_sparsities)):\n",
    "for si in range(num_sparsities):\n",
    "    si_col = mfm.group_to_indices(si_groups[si], part_sizes, ranks)\n",
    "    tilde_F_ci = true_sparse_F[:, si_col]\n",
    "    assert np.allclose(tilde_F_ci, mfm.get_sparse_F_si_col_sparsity(F_Lm1, ranks, F_hpart, si_groups[si]))\n",
    "\n",
    "print(\"PASSED\")"
   ]
  },
  {
   "cell_type": "code",
   "execution_count": 18,
   "metadata": {},
   "outputs": [
    {
     "name": "stdout",
     "output_type": "stream",
     "text": [
      "PASSED\n"
     ]
    }
   ],
   "source": [
    "assert np.allclose(mfm.perm_hat_Sigma(F_Lm1, D, F_hpart, ranks), mfm.perm_hat_Sigma_sp(true_sparse_F, D))\n",
    "print(\"PASSED\")"
   ]
  },
  {
   "cell_type": "code",
   "execution_count": 19,
   "metadata": {},
   "outputs": [],
   "source": [
    "C = mfm.generate_data(true_sparse_F, true_D_noise, nsamples, true_mlr)\n",
    "\n",
    "Z = (C - C.mean(axis=1, keepdims=True))[F_hpart[\"pi\"], :]\n",
    "unpermuted_A = (Z @ Z.T / (Z.shape[1]-1))[true_mlr.pi_inv_rows, :][:, true_mlr.pi_inv_cols]\n",
    "\n",
    "# permute to put clusters on diagonal\n",
    "Y = Z.T\n",
    "N = Y.shape[0]"
   ]
  },
  {
   "cell_type": "code",
   "execution_count": 20,
   "metadata": {},
   "outputs": [],
   "source": [
    "mfm_Sigma.init_FD(ranks, F_hpart, Y=Y)\n",
    "F0, D0 = mfm_Sigma.F, mfm_Sigma.D\n",
    "\n",
    "\n",
    "unpermuted_F_hpart = {\"pi_inv\":np.arange(n), \"pi\":np.arange(n), \"lk\":F_hpart[\"lk\"]}"
   ]
  },
  {
   "cell_type": "code",
   "execution_count": 21,
   "metadata": {},
   "outputs": [
    {
     "name": "stdout",
     "output_type": "stream",
     "text": [
      "t=0, obj1=-2405.668150698288\n",
      "t=5, obj1=3396.3765063899073\n",
      "7.875727084509036\n"
     ]
    },
    {
     "ename": "AssertionError",
     "evalue": "None",
     "output_type": "error",
     "traceback": [
      "\u001b[0;31m---------------------------------------------------------------------------\u001b[0m",
      "\u001b[0;31mAssertionError\u001b[0m                            Traceback (most recent call last)",
      "Cell \u001b[0;32mIn [21], line 18\u001b[0m\n\u001b[1;32m     16\u001b[0m F1 \u001b[38;5;241m=\u001b[39m mfm\u001b[38;5;241m.\u001b[39mfast_EM_get_F(F0, D0, Y, ranks, unpermuted_F_hpart, row_selectors, si_groups)\n\u001b[1;32m     17\u001b[0m F1_slow \u001b[38;5;241m=\u001b[39m mfm\u001b[38;5;241m.\u001b[39mEM_get_F(F0, lu, piv, Y, ranks, part_sizes, unpermuted_F_hpart, row_selectors, si_groups)\n\u001b[0;32m---> 18\u001b[0m \u001b[38;5;28;01massert\u001b[39;00m mf\u001b[38;5;241m.\u001b[39mrel_diff(F1, F1_slow) \u001b[38;5;241m<\u001b[39m \u001b[38;5;241m1e-6\u001b[39m, \u001b[38;5;28mprint\u001b[39m(mf\u001b[38;5;241m.\u001b[39mrel_diff(F1, F1_slow))\n\u001b[1;32m     19\u001b[0m D1 \u001b[38;5;241m=\u001b[39m mfm\u001b[38;5;241m.\u001b[39mfast_EM_get_D(F0, D0, F1, Y, ranks, unpermuted_F_hpart, row_selectors, si_groups)\n\u001b[1;32m     20\u001b[0m D1_slow \u001b[38;5;241m=\u001b[39m mfm\u001b[38;5;241m.\u001b[39mEM_get_D(F0, F1, lu, piv, Y, ranks, part_sizes, unpermuted_F_hpart, row_selectors, si_groups)\n",
      "\u001b[0;31mAssertionError\u001b[0m: None"
     ]
    }
   ],
   "source": [
    "loglikelihoods = [-np.inf]\n",
    "N = Y.shape[0]\n",
    "eps = 1e-12\n",
    "for t in range(20):\n",
    "    obj1 = mfm.fast_loglikelihood_value(F0, D0, Y, ranks, unpermuted_F_hpart)\n",
    "\n",
    "    Sigma0 = mfm.perm_hat_Sigma(F0, D0, unpermuted_F_hpart, ranks)\n",
    "    lu, piv = scipy.linalg.lu_factor(Sigma0)\n",
    "    obj2 = mfm.loglikelihood_value(Sigma0, lu, piv, Y)\n",
    "    # assert np.allclose(obj1, obj2), print(obj1, obj2)\n",
    "    \n",
    "    loglikelihoods += [obj1]\n",
    "    if t % 5 == 0:\n",
    "        print(f\"{t=}, {obj1=}\")\n",
    "\n",
    "    F1 = mfm.fast_EM_get_F(F0, D0, Y, ranks, unpermuted_F_hpart, row_selectors, si_groups)\n",
    "    F1_slow = mfm.EM_get_F(F0, lu, piv, Y, ranks, part_sizes, unpermuted_F_hpart, row_selectors, si_groups)\n",
    "    assert mf.rel_diff(F1, F1_slow) < 1e-6, print(mf.rel_diff(F1, F1_slow))\n",
    "    D1 = mfm.fast_EM_get_D(F0, D0, F1, Y, ranks, unpermuted_F_hpart, row_selectors, si_groups)\n",
    "    D1_slow = mfm.EM_get_D(F0, F1, lu, piv, Y, ranks, part_sizes, unpermuted_F_hpart, row_selectors, si_groups)\n",
    "    assert mf.rel_diff(D1, D1_slow) < 1e-5, print(mf.rel_diff(D1, D1_slow))\n",
    "    F0, D0 = F1, D1\n",
    "    assert D1.min() >= -1e-8 and loglikelihoods[-2] - 1e-8 <= loglikelihoods[-1]\n",
    "    if loglikelihoods[-1] - loglikelihoods[-2] < eps * abs(loglikelihoods[-2]):\n",
    "        print(f\"terminating at {t=}\")\n",
    "        break\n",
    "print(f\"{t=}, {obj1=}\")\n",
    "\n",
    "print(\"PASSED\")"
   ]
  },
  {
   "cell_type": "code",
   "execution_count": null,
   "metadata": {},
   "outputs": [],
   "source": [
    "def fast_EM_intermediate_matrices(F0, D0, F_hpart, Y, ranks, si, si_groups, row_selectors):\n",
    "    r1, r2 = row_selectors[si: si+2]\n",
    "    N, n = Y.shape\n",
    "    tilde_F_ci = mfm.get_sparse_F_si_col_sparsity(F0, ranks, F_hpart, si_groups[si]) # n x (r-1)\n",
    "    assert tilde_F_ci.shape == (n, ranks[:-1].sum())\n",
    "    Sigma0_inv_F_ci = np.zeros(tilde_F_ci.shape)\n",
    "    Sigma0 = mfm.perm_hat_Sigma(F0, D0, F_hpart, ranks)\n",
    "    for j in range(tilde_F_ci.shape[1]):\n",
    "        Sigma0_inv_F_ci[:, j:j+1] = mfm.iterative_refinement(ranks, tilde_F_ci[:, j:j+1], F0, D0, F_hpart, \n",
    "                                                         eps=1e-16, max_iter=10, printing=False)\n",
    "        # print(f\"{mf.rel_diff(Sigma0_inv_F_ci[:, j:j+1], np.linalg.solve(Sigma0, tilde_F_ci[:, j:j+1]))}, {j=}, {si=}\")\n",
    "    # Sigma0_inv_F_ci2 = scipy.linalg.lu_solve((lu, piv), tilde_F_ci)\n",
    "    Sigma0_inv_F_ci2 = np.linalg.solve(Sigma0, tilde_F_ci)\n",
    "    print(f\"{mf.rel_diff(Sigma0_inv_F_ci2, Sigma0_inv_F_ci)=}\")\n",
    "    F_ciT_Sigma0_inv_F_ci = tilde_F_ci.T @ Sigma0_inv_F_ci # (r-1) x (r-1)\n",
    "    del tilde_F_ci\n",
    "    Y_Sigma0_inv_F_ci = Y @ Sigma0_inv_F_ci # N x (r-1)\n",
    "    ci_B_ci = N * (np.eye(ranks[:-1].sum()) - F_ciT_Sigma0_inv_F_ci) + Y_Sigma0_inv_F_ci.T @ Y_Sigma0_inv_F_ci\n",
    "    del F_ciT_Sigma0_inv_F_ci\n",
    "    ri_At_ci_t = Y_Sigma0_inv_F_ci.T @ Y[:, r1:r2] # (r-1) x (r2-r1)\n",
    "    return ri_At_ci_t, ci_B_ci, r1, r2\n",
    "\n",
    "\n",
    "def fast_EM_get_F(F0, D0, Y, ranks, F_hpart, row_selectors, si_groups):\n",
    "    \"\"\"\n",
    "        Y: N x n has already permuted columns, ie, features ordered wrt F_hpart\n",
    "    \"\"\"\n",
    "    F1 = np.zeros(F0.shape)\n",
    "    num_sparsities = row_selectors.size - 1\n",
    "    # for si in tqdm(range(num_sparsities)):\n",
    "    for si in range(num_sparsities):\n",
    "        ri_At_ci_t, ci_B_ci, r1, r2 = fast_EM_intermediate_matrices(F0, D0, F_hpart, Y, ranks, si, si_groups, row_selectors)\n",
    "        F1[r1:r2, :] = np.linalg.solve(ci_B_ci, ri_At_ci_t).T\n",
    "    return F1"
   ]
  },
  {
   "cell_type": "code",
   "execution_count": null,
   "metadata": {},
   "outputs": [
    {
     "name": "stdout",
     "output_type": "stream",
     "text": [
      "mf.rel_diff(Sigma0_inv_F_ci2, Sigma0_inv_F_ci)=2.0507513839868657e-06\n",
      "mf.rel_diff(Sigma0_inv_F_ci2, Sigma0_inv_F_ci)=1.6113653272948848e-06\n",
      "mf.rel_diff(Sigma0_inv_F_ci2, Sigma0_inv_F_ci)=1.6328949009463312e-06\n",
      "mf.rel_diff(Sigma0_inv_F_ci2, Sigma0_inv_F_ci)=1.2794093269449418e-06\n",
      "mf.rel_diff(Sigma0_inv_F_ci2, Sigma0_inv_F_ci)=2.1631064077834383e-06\n",
      "mf.rel_diff(Sigma0_inv_F_ci2, Sigma0_inv_F_ci)=2.9340505461752337e-06\n",
      "mf.rel_diff(Sigma0_inv_F_ci2, Sigma0_inv_F_ci)=2.942905152933249e-06\n",
      "mf.rel_diff(Sigma0_inv_F_ci2, Sigma0_inv_F_ci)=3.10720769908055e-06\n",
      "mf.rel_diff(Sigma0_inv_F_ci2, Sigma0_inv_F_ci)=4.894791840459332e-06\n",
      "mf.rel_diff(Sigma0_inv_F_ci2, Sigma0_inv_F_ci)=3.795391350790543e-06\n",
      "mf.rel_diff(Sigma0_inv_F_ci2, Sigma0_inv_F_ci)=1.3113442523796366e-05\n",
      "mf.rel_diff(Sigma0_inv_F_ci2, Sigma0_inv_F_ci)=9.889433139579946e-06\n",
      "mf.rel_diff(Sigma0_inv_F_ci2, Sigma0_inv_F_ci)=1.8621440850168181e-06\n",
      "mf.rel_diff(Sigma0_inv_F_ci2, Sigma0_inv_F_ci)=1.677143284520618e-06\n",
      "mf.rel_diff(Sigma0_inv_F_ci2, Sigma0_inv_F_ci)=1.7847920700606254e-06\n",
      "mf.rel_diff(Sigma0_inv_F_ci2, Sigma0_inv_F_ci)=1.4283779848699373e-06\n",
      "15.47198071947654\n"
     ]
    },
    {
     "ename": "AssertionError",
     "evalue": "None",
     "output_type": "error",
     "traceback": [
      "\u001b[0;31m---------------------------------------------------------------------------\u001b[0m",
      "\u001b[0;31mAssertionError\u001b[0m                            Traceback (most recent call last)",
      "Cell \u001b[0;32mIn [23], line 3\u001b[0m\n\u001b[1;32m      1\u001b[0m F1 \u001b[38;5;241m=\u001b[39m fast_EM_get_F(F0, D0, Y, ranks, unpermuted_F_hpart, row_selectors, si_groups)\n\u001b[1;32m      2\u001b[0m F1_slow \u001b[38;5;241m=\u001b[39m mfm\u001b[38;5;241m.\u001b[39mEM_get_F(F0, lu, piv, Y, ranks, part_sizes, unpermuted_F_hpart, row_selectors, si_groups)\n\u001b[0;32m----> 3\u001b[0m \u001b[38;5;28;01massert\u001b[39;00m mf\u001b[38;5;241m.\u001b[39mrel_diff(F1, F1_slow) \u001b[38;5;241m<\u001b[39m \u001b[38;5;241m1e-6\u001b[39m, \u001b[38;5;28mprint\u001b[39m(mf\u001b[38;5;241m.\u001b[39mrel_diff(F1, F1_slow))\n",
      "\u001b[0;31mAssertionError\u001b[0m: None"
     ]
    }
   ],
   "source": [
    "F1 = fast_EM_get_F(F0, D0, Y, ranks, unpermuted_F_hpart, row_selectors, si_groups)\n",
    "F1_slow = mfm.EM_get_F(F0, lu, piv, Y, ranks, part_sizes, unpermuted_F_hpart, row_selectors, si_groups)\n",
    "assert mf.rel_diff(F1, F1_slow) < 1e-6, print(mf.rel_diff(F1, F1_slow))"
   ]
  },
  {
   "cell_type": "code",
   "execution_count": null,
   "metadata": {},
   "outputs": [],
   "source": [
    "tilde_F_ci = mfm.get_sparse_F_si_col_sparsity(F_Lm1, ranks, F_hpart, si_groups[15])\n",
    "plt.figure(figsize=(10, 4)) \n",
    "plt.matshow(tilde_F_ci!=0, aspect='auto', fignum=1, cmap='hot') \n",
    "plt.colorbar() \n",
    "plt.show()"
   ]
  },
  {
   "cell_type": "code",
   "execution_count": null,
   "metadata": {},
   "outputs": [
    {
     "name": "stdout",
     "output_type": "stream",
     "text": [
      "6.653757262471368e-14, j=0, si=1\n",
      "9.40274644002018e-14, j=1, si=1\n",
      "6.8178533740139e-14, j=2, si=1\n",
      "6.562517907425999e-14, j=3, si=1\n",
      "9.877483826243786e-14, j=4, si=1\n",
      "8.540197671362215e-14, j=5, si=1\n",
      "7.209383087196164e-14, j=6, si=1\n",
      "7.294676682807693e-14, j=7, si=1\n",
      "6.383696257811487e-14, j=8, si=1\n",
      "7.509564894529455e-14, j=9, si=1\n",
      "1.8571923746407675e-14, j=10, si=1\n",
      "2.1010312655788443e-14, j=11, si=1\n",
      "2.3638913905095758e-14, j=12, si=1\n",
      "2.1440758162694342e-14, j=13, si=1\n",
      "2.1476662311235817e-14, j=14, si=1\n",
      "2.678543864440726e-14, j=15, si=1\n",
      "1.8163834186313752e-14, j=16, si=1\n",
      "1.595353239244524e-14, j=17, si=1\n",
      "1.5137443302696294e-14, j=18, si=1\n",
      "1.602901746709767e-14, j=19, si=1\n",
      "2.1510783260736902e-14, j=20, si=1\n",
      "1.6566510961570615e-14, j=21, si=1\n",
      "2.1650695810117686e-14, j=22, si=1\n",
      "1.4634093992432853e-14, j=23, si=1\n",
      "1.3439618379768307e-14, j=24, si=1\n",
      "1.2101396213600405e-14, j=25, si=1\n",
      "mf.rel_diff(Sigma0_inv_F_ci2, Sigma0_inv_F_ci)=4.961150868113376e-14\n"
     ]
    }
   ],
   "source": [
    "tilde_F_ci = mfm.get_sparse_F_si_col_sparsity(F_Lm1, ranks, unpermuted_F_hpart, si_groups[si]) # n x (r-1)\n",
    "assert tilde_F_ci.shape == (n, ranks[:-1].sum())\n",
    "Sigma0_inv_F_ci = np.zeros(tilde_F_ci.shape)\n",
    "Sigma0 = mfm.perm_hat_Sigma(F_Lm1, D, unpermuted_F_hpart, ranks)\n",
    "for j in range(tilde_F_ci.shape[1]):\n",
    "    Sigma0_inv_F_ci[:, j:j+1] = mfm.iterative_refinement(ranks, tilde_F_ci[:, j:j+1], F_Lm1, D, unpermuted_F_hpart, \n",
    "                                                        eps=1e-16, max_iter=10, printing=False)\n",
    "    print(f\"{mf.rel_diff(Sigma0_inv_F_ci[:, j:j+1], np.linalg.solve(Sigma0, tilde_F_ci[:, j:j+1]))}, {j=}, {si=}\")\n",
    "# Sigma0_inv_F_ci2 = scipy.linalg.lu_solve((lu, piv), tilde_F_ci)\n",
    "Sigma0_inv_F_ci2 = np.linalg.solve(Sigma0, tilde_F_ci)\n",
    "print(f\"{mf.rel_diff(Sigma0_inv_F_ci2, Sigma0_inv_F_ci)=}\")"
   ]
  },
  {
   "cell_type": "markdown",
   "metadata": {},
   "source": [
    "# Test $\\mathop{diag}(\\Sigma)$"
   ]
  },
  {
   "cell_type": "code",
   "execution_count": null,
   "metadata": {},
   "outputs": [],
   "source": [
    "d1 = np.diag(true_mlr.matrix())\n",
    "d2 = mfm_Sigma.diag()\n",
    "assert np.allclose(d1, d2)\n",
    "\n",
    "print(\"PASSED\")"
   ]
  },
  {
   "cell_type": "code",
   "execution_count": null,
   "metadata": {},
   "outputs": [],
   "source": [
    "mf.rel_diff(F1, F1_slow)"
   ]
  },
  {
   "cell_type": "code",
   "execution_count": null,
   "metadata": {},
   "outputs": [],
   "source": []
  }
 ],
 "metadata": {
  "kernelspec": {
   "display_name": "routing",
   "language": "python",
   "name": "python3"
  },
  "language_info": {
   "codemirror_mode": {
    "name": "ipython",
    "version": 3
   },
   "file_extension": ".py",
   "mimetype": "text/x-python",
   "name": "python",
   "nbconvert_exporter": "python",
   "pygments_lexer": "ipython3",
   "version": "3.9.16"
  }
 },
 "nbformat": 4,
 "nbformat_minor": 2
}
