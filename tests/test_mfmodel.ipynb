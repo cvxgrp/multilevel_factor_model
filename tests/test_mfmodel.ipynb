{
 "cells": [
  {
   "cell_type": "code",
   "execution_count": 1,
   "metadata": {},
   "outputs": [],
   "source": [
    "import numpy as np\n",
    "\n",
    "import seaborn as sns\n",
    "import matplotlib.pyplot as plt\n",
    "\n",
    "import scipy\n",
    "\n",
    "import mlrfit as mf\n",
    "import mfmodel as mfm "
   ]
  },
  {
   "cell_type": "code",
   "execution_count": 2,
   "metadata": {},
   "outputs": [],
   "source": [
    "# np.random.seed(1001)\n",
    "# random.seed(1001)"
   ]
  },
  {
   "cell_type": "markdown",
   "metadata": {},
   "source": [
    "# True model is MLR factor model with SNR = 4 \n",
    "\n",
    "Let $\\Sigma = FF^T + D$ be MLR. We generate samples using \n",
    "$$\n",
    "y = Fz + e, \\qquad z \\sim N(0, I), \\qquad N(0, D).\n",
    "$$"
   ]
  },
  {
   "cell_type": "code",
   "execution_count": 3,
   "metadata": {},
   "outputs": [
    {
     "data": {
      "text/plain": [
       "(27, 81)"
      ]
     },
     "execution_count": 3,
     "metadata": {},
     "output_type": "execute_result"
    }
   ],
   "source": [
    "mtype = \"small_mlr_hier\"\n",
    "n = 1500\n",
    "signal_to_noise = 4\n",
    "\n",
    "L = 5\n",
    "\n",
    "\n",
    "ranks = np.array([10, 7, 5, 4, 1])\n",
    "rank = ranks.sum()\n",
    "\n",
    "nsamples = rank * 3\n",
    "rank, nsamples"
   ]
  },
  {
   "cell_type": "code",
   "execution_count": 4,
   "metadata": {},
   "outputs": [
    {
     "name": "stdout",
     "output_type": "stream",
     "text": [
      "level=0, num_groups=1, mean_size=1500.0\n",
      "level=1, num_groups=3, mean_size=500.0\n",
      "level=2, num_groups=7, mean_size=214.3\n",
      "level=3, num_groups=16, mean_size=93.8\n",
      "level=4, num_groups=1500, mean_size=1.0\n"
     ]
    }
   ],
   "source": [
    "pi_rows = np.random.permutation(n)\n",
    "hpart = {'rows':{'pi':pi_rows, 'lk':[]}, 'cols':{'pi':pi_rows, 'lk':[]}} \n",
    "for ngroups in [2, 5, 9, 17, n+1]:\n",
    "       hpart['rows']['lk'] += [ np.linspace(0, n, ngroups, endpoint=True, dtype=int)]\n",
    "hpart['rows']['lk'][1] = np.delete(hpart['rows']['lk'][1], -2)\n",
    "hpart['rows']['lk'][2] = np.delete(hpart['rows']['lk'][2], -4)\n",
    "hpart['cols']['lk'] = hpart['rows']['lk']\n",
    "part_sizes = mfm.print_hpart_numgroups(hpart)\n",
    "mfm.valid_hpart(hpart)"
   ]
  },
  {
   "cell_type": "code",
   "execution_count": 5,
   "metadata": {},
   "outputs": [
    {
     "data": {
      "text/plain": [
       "[array([   0, 1500]),\n",
       " array([   0,  375,  750, 1500]),\n",
       " array([   0,  187,  375,  562,  750, 1125, 1312, 1500]),\n",
       " array([   0,   93,  187,  281,  375,  468,  562,  656,  750,  843,  937,\n",
       "        1031, 1125, 1218, 1312, 1406, 1500])]"
      ]
     },
     "execution_count": 5,
     "metadata": {},
     "output_type": "execute_result"
    }
   ],
   "source": [
    "hpart['rows']['lk'][:-1]"
   ]
  },
  {
   "cell_type": "code",
   "execution_count": 6,
   "metadata": {},
   "outputs": [
    {
     "name": "stdout",
     "output_type": "stream",
     "text": [
      "signal_var=25.864407961194654, noise_var=6.526437982237734\n",
      "SNR=3.963020568277348, signal_to_noise=4\n"
     ]
    }
   ],
   "source": [
    "true_mlr, true_sparse_F, true_D_noise = mfm.generate_mlr_model(n, hpart, ranks, signal_to_noise, debug=True)\n",
    "true_compressed_F = true_mlr.B[:, :-1]"
   ]
  },
  {
   "cell_type": "code",
   "execution_count": 7,
   "metadata": {},
   "outputs": [
    {
     "data": {
      "text/plain": [
       "(0.017836080365355274, 12.9275451192311)"
      ]
     },
     "execution_count": 7,
     "metadata": {},
     "output_type": "execute_result"
    }
   ],
   "source": [
    "true_D_noise.min(), true_D_noise.max()"
   ]
  },
  {
   "cell_type": "code",
   "execution_count": 8,
   "metadata": {},
   "outputs": [
    {
     "data": {
      "image/png": "[encoded data removed]",
      "text/plain": [
       "<Figure size 1000x400 with 2 Axes>"
      ]
     },
     "metadata": {},
     "output_type": "display_data"
    },
    {
     "name": "stdout",
     "output_type": "stream",
     "text": [
      "(1500, 130)\n"
     ]
    }
   ],
   "source": [
    "plt.figure(figsize=(10, 4)) \n",
    "plt.matshow(true_sparse_F.T!=0, aspect='auto', fignum=1, cmap='hot') \n",
    "plt.colorbar() \n",
    "plt.show()\n",
    "print(true_sparse_F.shape)"
   ]
  },
  {
   "cell_type": "code",
   "execution_count": 9,
   "metadata": {},
   "outputs": [
    {
     "data": {
      "text/plain": [
       "(1500, 130)"
      ]
     },
     "execution_count": 9,
     "metadata": {},
     "output_type": "execute_result"
    }
   ],
   "source": [
    "true_sparse_F.shape"
   ]
  },
  {
   "cell_type": "code",
   "execution_count": 10,
   "metadata": {},
   "outputs": [],
   "source": [
    "filename = \"%s_r%d_%d\"%(mtype, rank, n)"
   ]
  },
  {
   "cell_type": "code",
   "execution_count": 11,
   "metadata": {},
   "outputs": [
    {
     "name": "stdout",
     "output_type": "stream",
     "text": [
      "num_levels=5, num_sparsities=16\n",
      "(16, 4) [ 0  2  6 15]\n"
     ]
    }
   ],
   "source": [
    "row_selectors, si_groups, F_hpart, groups_all = mfm.row_col_selections(hpart, return_groups=True)"
   ]
  },
  {
   "cell_type": "code",
   "execution_count": 12,
   "metadata": {},
   "outputs": [
    {
     "name": "stderr",
     "output_type": "stream",
     "text": [
      "/Users/parshakova.tanya/opt/anaconda3/envs/multilevel/lib/python3.11/site-packages/numpy/core/fromnumeric.py:88: RuntimeWarning: overflow encountered in reduce\n",
      "  return ufunc.reduce(obj, axis, dtype, out, **passkwargs)\n"
     ]
    }
   ],
   "source": [
    "F_Lm1, D = true_compressed_F+0, true_D_noise+0\n",
    "pi = F_hpart['pi']\n",
    "F_hpart['pi_inv'] = mf.inv_permutation(pi, pi)[0]\n",
    "v = np.random.randn(n)\n",
    "\n",
    "true_mfm = mfm.MFModel(hpart=F_hpart, ranks=ranks, F=F_Lm1, D=D)\n",
    "true_mfm.inv_coefficients(printing=True)"
   ]
  },
  {
   "cell_type": "code",
   "execution_count": 13,
   "metadata": {},
   "outputs": [
    {
     "data": {
      "text/plain": [
       "2.076076343374201e-12"
      ]
     },
     "execution_count": 13,
     "metadata": {},
     "output_type": "execute_result"
    }
   ],
   "source": [
    "true_mlr.construct_sparse_format()\n",
    "hat_x = mfm.iterative_refinement_linsolve(ranks, v[:, np.newaxis], F_Lm1, D, F_hpart, eps=1e-12, max_iter=50)\n",
    "np.linalg.norm(hat_x - np.linalg.inv(true_mlr.matrix()) @ v[:, np.newaxis])"
   ]
  },
  {
   "cell_type": "code",
   "execution_count": 14,
   "metadata": {},
   "outputs": [],
   "source": [
    "mfm_Sigma = mfm.MFModel(F=F_Lm1, D=D, hpart=F_hpart, ranks=ranks)\n",
    "mfm_Sigma.inv_coefficients(det=True)\n",
    "\n",
    "assert true_sparse_F.shape[1] == mfm_Sigma.num_factors()"
   ]
  },
  {
   "cell_type": "code",
   "execution_count": null,
   "metadata": {},
   "outputs": [],
   "source": []
  },
  {
   "cell_type": "markdown",
   "metadata": {},
   "source": [
    "# Linear system solve, matvec"
   ]
  },
  {
   "cell_type": "code",
   "execution_count": 15,
   "metadata": {},
   "outputs": [
    {
     "name": "stdout",
     "output_type": "stream",
     "text": [
      "PASSED\n"
     ]
    }
   ],
   "source": [
    "for _ in range(50):\n",
    "    v = np.random.randn(n, 1)\n",
    "    # linear system solve\n",
    "    hat_x = mfm_Sigma.solve(v, eps=1e-12, max_iter=50)\n",
    "    reldiff = np.linalg.norm(hat_x - np.linalg.solve(true_mlr.matrix(),v)) / np.linalg.norm(v)\n",
    "    # print(f\"solve {reldiff=}\")\n",
    "    assert np.allclose(reldiff, 0)\n",
    "\n",
    "    # matvec\n",
    "    Av = mfm_Sigma.matvec(v)\n",
    "    reldiff = np.linalg.norm(Av - true_mlr.matvec(v)) / np.linalg.norm(v)\n",
    "    assert reldiff < 1e-12, print(f\"matvec {reldiff=}\")\n",
    "\n",
    "\n",
    "    # Fz\n",
    "    z = np.random.randn(mfm_Sigma.num_factors(), 1)\n",
    "    Fz = mfm_Sigma.F_matvec(z)\n",
    "    reldiff = np.linalg.norm(Fz - true_sparse_F @ z) / np.linalg.norm(z)\n",
    "    assert reldiff < 1e-12, print(f\"matvec {reldiff=}\")\n",
    "\n",
    "\n",
    "print(\"PASSED\")"
   ]
  },
  {
   "cell_type": "markdown",
   "metadata": {},
   "source": [
    "# Test $\\mathop{diag}(\\Sigma)$"
   ]
  },
  {
   "cell_type": "code",
   "execution_count": 16,
   "metadata": {},
   "outputs": [
    {
     "name": "stdout",
     "output_type": "stream",
     "text": [
      "PASSED\n"
     ]
    }
   ],
   "source": [
    "d1 = np.diag(true_mlr.matrix())\n",
    "d2 = mfm_Sigma.diag()\n",
    "assert np.allclose(d1, d2)\n",
    "\n",
    "print(\"PASSED\")"
   ]
  },
  {
   "cell_type": "markdown",
   "metadata": {},
   "source": [
    "# Test $\\Sigma$"
   ]
  },
  {
   "cell_type": "code",
   "execution_count": 17,
   "metadata": {},
   "outputs": [
    {
     "name": "stdout",
     "output_type": "stream",
     "text": [
      "PASSED\n"
     ]
    }
   ],
   "source": [
    "assert np.allclose(true_mlr.matrix(), mfm_Sigma.matrix())\n",
    "\n",
    "print(\"PASSED\")"
   ]
  },
  {
   "cell_type": "code",
   "execution_count": 18,
   "metadata": {},
   "outputs": [],
   "source": [
    "def estimate_diagonal(n, A_matvec, num_samples=10000):\n",
    "    diagonal_estimates = np.zeros((n, 1))\n",
    "    qk = 0\n",
    "    for _ in range(num_samples):\n",
    "        zk = np.random.randn(n, 1)\n",
    "        # zk = np.random.choice([-1, 1], size=n) \n",
    "        Azk = A_matvec(zk)\n",
    "        diagonal_estimates += zk * Azk\n",
    "        qk = qk + (zk * zk)\n",
    "    # assert Azk.shape == diagonal_estimates.shape\n",
    "    return diagonal_estimates / qk\n",
    "\n",
    "# Example usage with a mock matrix-vector product function\n",
    "A = np.random.randn(100, 100)\n",
    "A = A @ A.T\n"
   ]
  },
  {
   "cell_type": "code",
   "execution_count": 19,
   "metadata": {},
   "outputs": [
    {
     "name": "stdout",
     "output_type": "stream",
     "text": [
      "num_samples=10, rel_diff=0.349998\n",
      "num_samples=100, rel_diff=0.086861\n",
      "num_samples=1000, rel_diff=0.034641\n",
      "num_samples=10000, rel_diff=0.009165\n",
      "num_samples=100000, rel_diff=0.002884\n",
      "num_samples=1000000, rel_diff=0.001073\n"
     ]
    }
   ],
   "source": [
    "for num_samples in [10, 100, 1000, 10000, 100000, 1000000]:\n",
    "    estimated_diag = estimate_diagonal(100, lambda x: A @ x, num_samples=num_samples)\n",
    "    print(f\"{num_samples=}, rel_diff={mf.rel_diff(np.diag(A), estimated_diag.flatten()):.6f}\")"
   ]
  },
  {
   "cell_type": "code",
   "execution_count": 20,
   "metadata": {},
   "outputs": [
    {
     "name": "stdout",
     "output_type": "stream",
     "text": [
      "num_samples=10, rel_diff=1.402965\n",
      "num_samples=100, rel_diff=0.431899\n",
      "num_samples=1000, rel_diff=0.138713\n",
      "num_samples=10000, rel_diff=0.043101\n"
     ]
    }
   ],
   "source": [
    "for num_samples in [10, 100, 1000, 10000]:\n",
    "    estimated_diag = estimate_diagonal(n, lambda x: mfm_Sigma.matvec(x), num_samples=num_samples)\n",
    "    print(f\"{num_samples=}, rel_diff={mf.rel_diff(mfm_Sigma.diag(), estimated_diag.flatten()):.6f}\")"
   ]
  },
  {
   "cell_type": "markdown",
   "metadata": {},
   "source": [
    "# EM elements"
   ]
  },
  {
   "cell_type": "code",
   "execution_count": 21,
   "metadata": {},
   "outputs": [
    {
     "name": "stdout",
     "output_type": "stream",
     "text": [
      "PASSED\n"
     ]
    }
   ],
   "source": [
    "num_sparsities = row_selectors.size - 1\n",
    "tilde_F0 = mf.convert_compressed_to_sparse(F_Lm1, F_hpart, ranks[:-1])\n",
    "D1 = np.zeros(n)\n",
    "# for si in tqdm(range(num_sparsities)):\n",
    "for si in range(num_sparsities):\n",
    "    si_col = mfm.group_to_indices(si_groups[si], part_sizes, ranks)\n",
    "    tilde_F_ci = true_sparse_F[:, si_col]\n",
    "    assert np.allclose(tilde_F_ci, mfm.get_sparse_F_si_col_sparsity(F_Lm1, ranks, F_hpart, si_groups[si]))\n",
    "\n",
    "print(\"PASSED\")"
   ]
  },
  {
   "cell_type": "code",
   "execution_count": 22,
   "metadata": {},
   "outputs": [
    {
     "name": "stdout",
     "output_type": "stream",
     "text": [
      "PASSED\n"
     ]
    }
   ],
   "source": [
    "assert np.allclose(mfm.perm_hat_Sigma(F_Lm1, D, F_hpart, ranks), mfm.perm_hat_Sigma_sp(true_sparse_F, D))\n",
    "print(\"PASSED\")"
   ]
  },
  {
   "cell_type": "code",
   "execution_count": 23,
   "metadata": {},
   "outputs": [],
   "source": [
    "E = np.random.randn(n, nsamples)\n",
    "E1 = np.diag(np.sqrt(true_D_noise)) @ E\n",
    "E2 = np.sqrt(true_D_noise)[:, None] * E\n",
    "\n",
    "assert np.allclose(E1, E2)"
   ]
  },
  {
   "cell_type": "code",
   "execution_count": 24,
   "metadata": {},
   "outputs": [],
   "source": [
    "# C = mfm.generate_data(true_sparse_F, true_D_noise, nsamples, true_mlr)\n",
    "C = mfm.sample_data(nsamples, mfm_Sigma)\n",
    "\n",
    "Z = (C - C.mean(axis=1, keepdims=True))[F_hpart[\"pi\"], :]\n",
    "unpermuted_A = (Z @ Z.T / (Z.shape[1]-1))[mfm_Sigma.pi_inv, :][:, mfm_Sigma.pi_inv]\n",
    "\n",
    "# permute to put clusters on diagonal\n",
    "Y = Z.T\n",
    "N = Y.shape[0]"
   ]
  },
  {
   "cell_type": "markdown",
   "metadata": {},
   "source": [
    "# True model loglikelihoods"
   ]
  },
  {
   "cell_type": "code",
   "execution_count": 25,
   "metadata": {},
   "outputs": [
    {
     "name": "stdout",
     "output_type": "stream",
     "text": [
      "TR: train ll=-3569.2447696231775, exp ll=-3579.681273153698\n"
     ]
    }
   ],
   "source": [
    "true_Sigma = mfm.perm_hat_Sigma_sp(true_sparse_F, true_D_noise)\n",
    "tr_lu, tr_piv = scipy.linalg.lu_factor(true_Sigma)\n",
    "true_train_obj = mfm.loglikelihood_value(true_Sigma, tr_lu, tr_piv, Y)\n",
    "exp_true_ll = mfm.exp_true_loglikelihood_value(true_Sigma)\n",
    "print(f\"TR: train ll={true_train_obj}, exp ll={exp_true_ll}\")"
   ]
  },
  {
   "cell_type": "code",
   "execution_count": 26,
   "metadata": {},
   "outputs": [],
   "source": [
    "permuted_F_hpart = {\"pi_inv\":np.arange(n), \"pi\":np.arange(n), \"lk\":F_hpart[\"lk\"]}"
   ]
  },
  {
   "cell_type": "code",
   "execution_count": 27,
   "metadata": {},
   "outputs": [
    {
     "name": "stdout",
     "output_type": "stream",
     "text": [
      "exp_true_ll=-3579.681273154112\n"
     ]
    }
   ],
   "source": [
    "row_selectors_L, si_groups_L, groups_all_L = mfm.si_row_col(hpart[\"rows\"])\n",
    "exp_true_ll = mfm.fast_exp_true_loglikelihood_value(mfm_Sigma)\n",
    "exp_true_ll2 = mfm.exp_true_loglikelihood_value(mfm_Sigma.matrix())\n",
    "exp_true_ll3 = mfm.fast_exp_loglikelihood_value(np.concatenate([true_mfm.F, np.sqrt(true_mfm.D).reshape(-1, 1)], axis=1), \n",
    "                                                        mfm_Sigma, ranks, hpart[\"rows\"], \n",
    "                                                        row_selectors, si_groups)\n",
    "assert np.allclose(exp_true_ll, exp_true_ll2)\n",
    "assert np.allclose(exp_true_ll, exp_true_ll3)\n",
    "print(f\"{exp_true_ll=}\")"
   ]
  },
  {
   "cell_type": "code",
   "execution_count": 28,
   "metadata": {},
   "outputs": [
    {
     "data": {
      "text/plain": [
       "-3579.681273153698"
      ]
     },
     "execution_count": 28,
     "metadata": {},
     "output_type": "execute_result"
    }
   ],
   "source": [
    "mfm.exp_loglikelihood_value(true_Sigma, true_Sigma, tr_lu, tr_piv)"
   ]
  },
  {
   "cell_type": "code",
   "execution_count": 29,
   "metadata": {},
   "outputs": [
    {
     "name": "stderr",
     "output_type": "stream",
     "text": [
      "/Users/parshakova.tanya/opt/anaconda3/envs/multilevel/lib/python3.11/site-packages/numpy/linalg/linalg.py:2180: RuntimeWarning: overflow encountered in det\n",
      "  r = _umath_linalg.det(a, signature=signature)\n"
     ]
    },
    {
     "data": {
      "text/plain": [
       "(inf, 0.017836080365355274, 12.9275451192311)"
      ]
     },
     "execution_count": 29,
     "metadata": {},
     "output_type": "execute_result"
    }
   ],
   "source": [
    "np.linalg.det(mfm_Sigma.matrix()), mfm_Sigma.D.min(), mfm_Sigma.D.max()"
   ]
  },
  {
   "cell_type": "code",
   "execution_count": 30,
   "metadata": {},
   "outputs": [
    {
     "data": {
      "text/plain": [
       "(inf, SlogdetResult(sign=1.0, logabsdet=2902.546946693378))"
      ]
     },
     "execution_count": 30,
     "metadata": {},
     "output_type": "execute_result"
    }
   ],
   "source": [
    "np.linalg.det(true_Sigma), np.linalg.slogdet(true_Sigma)"
   ]
  },
  {
   "cell_type": "code",
   "execution_count": 31,
   "metadata": {},
   "outputs": [
    {
     "name": "stdout",
     "output_type": "stream",
     "text": [
      "True: {'train': -3569.2447696235904, 'exp': -3579.681273154112}\n"
     ]
    }
   ],
   "source": [
    "true_train_obj = mfm.fast_loglikelihood_value(mfm_Sigma, Y[:, mfm_Sigma.pi_inv])\n",
    "true_ll = {\"train\":true_train_obj, \"exp\":exp_true_ll}\n",
    "print(f\"True: {true_ll}\")"
   ]
  },
  {
   "cell_type": "code",
   "execution_count": 32,
   "metadata": {},
   "outputs": [],
   "source": [
    "mfm_Sigma.init_FD(ranks, F_hpart, init_type=\"Y\", Y=Y)\n",
    "F0, D0 = mfm_Sigma.F, mfm_Sigma.D"
   ]
  },
  {
   "cell_type": "markdown",
   "metadata": {},
   "source": [
    "# Test $\\log \\det \\Sigma$"
   ]
  },
  {
   "cell_type": "code",
   "execution_count": 33,
   "metadata": {},
   "outputs": [
    {
     "name": "stdout",
     "output_type": "stream",
     "text": [
      "PASSED\n"
     ]
    }
   ],
   "source": [
    "for t in range(10):\n",
    "    if t == 0:\n",
    "        mfm_Sigma.init_FD(ranks, F_hpart, init_type=\"Y\", Y=Y)\n",
    "        F0, D0 = mfm_Sigma.F, mfm_Sigma.D\n",
    "    else:\n",
    "        F0, D0 = np.random.randn(mfm_Sigma.F.shape[0], mfm_Sigma.F.shape[1]), np.random.rand(n) + 1e-2\n",
    "    Sigma = mfm.perm_hat_Sigma(F0, D0, F_hpart, ranks)\n",
    "    (sign, logabsdet) = np.linalg.slogdet(Sigma)\n",
    "    assert sign == 1, print(sign, logabsdet, np.linalg.det(Sigma))\n",
    "\n",
    "    num_factors = mfm_Sigma.num_factors()\n",
    "    rescaled_sparse_F = mf.convert_compressed_to_sparse(np.power(D0, -0.5)[:, np.newaxis] * F0, \n",
    "                                                F_hpart, \n",
    "                                                ranks[:-1])\n",
    "    sigmas = scipy.sparse.linalg.svds( rescaled_sparse_F, k=num_factors-1, return_singular_vectors=False, which='LM')\n",
    "    last_sigma = scipy.sparse.linalg.svds(rescaled_sparse_F, k=1, return_singular_vectors=False, which='SM')\n",
    "\n",
    "    logdet = np.log(D0).sum() + np.log(sigmas**2 + 1).sum() + np.log(last_sigma**2 + 1).sum()\n",
    "\n",
    "    assert np.allclose(logdet, logabsdet)\n",
    "\n",
    "print(\"PASSED\")"
   ]
  },
  {
   "cell_type": "code",
   "execution_count": 34,
   "metadata": {},
   "outputs": [
    {
     "data": {
      "text/plain": [
       "(9.581743824197153, 87.01054776322222, 0.017836080365355274, 12.9275451192311)"
      ]
     },
     "execution_count": 34,
     "metadata": {},
     "output_type": "execute_result"
    }
   ],
   "source": [
    "np.diag(unpermuted_A).min(), np.diag(unpermuted_A).max(), true_D_noise.min(), true_D_noise.max()"
   ]
  },
  {
   "cell_type": "code",
   "execution_count": 35,
   "metadata": {},
   "outputs": [
    {
     "data": {
      "text/plain": [
       "True"
      ]
     },
     "execution_count": 35,
     "metadata": {},
     "output_type": "execute_result"
    }
   ],
   "source": [
    "np.allclose(true_mfm.matrix()[true_mfm.pi, :][:, true_mfm.pi], true_Sigma)"
   ]
  },
  {
   "cell_type": "code",
   "execution_count": 53,
   "metadata": {},
   "outputs": [
    {
     "name": "stderr",
     "output_type": "stream",
     "text": [
      "/Users/parshakova.tanya/opt/anaconda3/envs/multilevel/lib/python3.11/site-packages/numpy/core/fromnumeric.py:88: RuntimeWarning: overflow encountered in reduce\n",
      "  return ufunc.reduce(obj, axis, dtype, out, **passkwargs)\n"
     ]
    },
    {
     "name": "stdout",
     "output_type": "stream",
     "text": [
      "t=0, obj1=-4668.8890997166645, hist(D)=(array([620, 793,  87]), array([ 3.91134178, 15.61407971, 27.31681764, 39.01955558])), 4.472088899155369e-16, 3.7119854459677716e-16\n",
      "t=10, obj1=-3395.538583669507, hist(D)=(array([818, 609,  73]), array([ 0.06979818,  4.79388416,  9.51797013, 14.24205611])), 7.296359506919925e-14, 5.4436230147350934e-14\n",
      "t=20, obj1=-3353.9872960738994, hist(D)=(array([816, 610,  74]), array([ 0.02783418,  4.66726196,  9.30668973, 13.94611751])), 1.1142254215265995e-13, 8.956281635002865e-14\n",
      "t=30, obj1=-3333.04019176605, hist(D)=(array([769, 610, 121]), array([ 0.01732408,  4.34087107,  8.66441807, 12.98796507])), 1.29190691978826e-13, 1.321707747340355e-13\n",
      "t=40, obj1=-3319.59479922486, hist(D)=(array([756, 613, 131]), array([1.26616281e-02, 4.24695279e+00, 8.48124396e+00, 1.27155351e+01])), 1.729570930813524e-13, 1.816620993693048e-13\n",
      "t=50, obj1=-3313.083814752058, hist(D)=(array([756, 610, 134]), array([9.91074569e-03, 4.22186812e+00, 8.43382549e+00, 1.26457829e+01])), 1.627336760844434e-13, 2.1227936564105358e-13\n",
      "t=60, obj1=-3308.3950574378973, hist(D)=(array([760, 606, 134]), array([8.13076788e-03, 4.21062148e+00, 8.41311219e+00, 1.26156029e+01])), 1.598041457469462e-13, 2.000868600783994e-13\n",
      "t=70, obj1=-3304.472886849876, hist(D)=(array([766, 605, 129]), array([6.91406140e-03, 4.25250111e+00, 8.49808816e+00, 1.27436752e+01])), 1.8001400127083813e-13, 2.683187529593429e-13\n",
      "t=80, obj1=-3300.725528946055, hist(D)=(array([763, 608, 129]), array([6.04649118e-03, 4.25589167e+00, 8.50573684e+00, 1.27555820e+01])), 1.612322087336079e-13, 2.8797710460677193e-13\n",
      "t=90, obj1=-3295.8745260500637, hist(D)=(array([753, 619, 128]), array([5.42209242e-03, 4.19159850e+00, 8.37777490e+00, 1.25639513e+01])), 1.842691428418301e-13, 3.17205928333818e-13\n",
      "t=100, obj1=-3285.2498164865137, hist(D)=(array([763, 624, 113]), array([4.99946363e-03, 4.20374919e+00, 8.40249891e+00, 1.26012486e+01])), 2.639176227810073e-13, 3.567046368182363e-13\n",
      "t=110, obj1=-3278.1975577549797, hist(D)=(array([766, 620, 114]), array([4.49491741e-03, 4.19389660e+00, 8.38329829e+00, 1.25727000e+01])), 3.106223953297914e-13, 4.227930504280827e-13\n",
      "t=120, obj1=-3274.7448563544617, hist(D)=(array([767, 619, 114]), array([4.03007531e-03, 4.18993447e+00, 8.37583886e+00, 1.25617432e+01])), 3.986633972265972e-13, 5.147497625626151e-13\n",
      "t=130, obj1=-3273.1300743186257, hist(D)=(array([768, 617, 115]), array([3.64896554e-03, 4.18953367e+00, 8.37541838e+00, 1.25613031e+01])), 2.606488212909888e-13, 4.478247295373495e-13\n",
      "t=140, obj1=-3271.97415147644, hist(D)=(array([767, 618, 115]), array([3.33475046e-03, 4.18970580e+00, 8.37607686e+00, 1.25624479e+01])), 4.0675232220693347e-13, 9.56217072034466e-13\n",
      "t=150, obj1=-3271.0703745383344, hist(D)=(array([767, 618, 115]), array([3.07118925e-03, 4.18981620e+00, 8.37656120e+00, 1.25633062e+01])), 3.375468130552358e-13, 7.456141618313045e-13\n",
      "t=160, obj1=-3270.337022630347, hist(D)=(array([767, 618, 115]), array([2.84681306e-03, 4.18985655e+00, 8.37686628e+00, 1.25638760e+01])), 3.276287217919614e-13, 5.916309855918361e-13\n",
      "t=170, obj1=-3269.7271653288935, hist(D)=(array([767, 619, 114]), array([2.65338608e-03, 4.18985019e+00, 8.37704699e+00, 1.25642438e+01])), 3.97176178489287e-13, 7.463424030859652e-13\n",
      "t=180, obj1=-3269.210451509399, hist(D)=(array([767, 619, 114]), array([2.48485024e-03, 4.18981339e+00, 8.37714193e+00, 1.25644705e+01])), 3.4494274098468317e-13, 5.261950251829618e-13\n",
      "t=190, obj1=-3268.765781178511, hist(D)=(array([767, 619, 114]), array([2.33664734e-03, 4.18975653e+00, 8.37717640e+00, 1.25645963e+01])), 3.2591619244526866e-13, 6.031218035241349e-13\n",
      "t=200, obj1=-3268.37789528329, hist(D)=(array([767, 619, 114]), array([2.20527744e-03, 4.18968633e+00, 8.37716739e+00, 1.25646484e+01])), 4.815961149312281e-13, 6.267610859787932e-13\n",
      "t=210, obj1=-3268.0355493862317, hist(D)=(array([767, 619, 114]), array([2.08800633e-03, 4.18960739e+00, 8.37712677e+00, 1.25646461e+01])), 4.229194452770353e-13, 8.672888631793607e-13\n",
      "t=220, obj1=-3267.73036082846, hist(D)=(array([767, 619, 114]), array([1.98266522e-03, 4.18952291e+00, 8.37706315e+00, 1.25646034e+01])), 7.326861022959596e-13, 9.197672984248386e-13\n",
      "t=230, obj1=-3267.4560016450855, hist(D)=(array([767, 619, 114]), array([1.88751079e-03, 4.18943522e+00, 8.37698294e+00, 1.25645306e+01])), 4.584520043181752e-13, 7.27460180980505e-13\n",
      "t=240, obj1=-3267.207618486345, hist(D)=(array([767, 619, 114]), array([1.80112521e-03, 4.18934603e+00, 8.37689094e+00, 1.25644358e+01])), 2.5541233090280336e-13, 5.365910313527619e-13\n",
      "t=250, obj1=-3266.98142001935, hist(D)=(array([767, 619, 114]), array([1.72234332e-03, 4.18925659e+00, 8.37679084e+00, 1.25643251e+01])), 3.8972240293367243e-13, 7.197557763302067e-13\n",
      "t=260, obj1=-3266.7743878722595, hist(D)=(array([766, 620, 114]), array([1.65019858e-03, 4.18916783e+00, 8.37668546e+00, 1.25642031e+01])), 4.667054635601499e-13, 1.104522664997276e-12\n",
      "t=270, obj1=-3266.5840755519707, hist(D)=(array([766, 620, 114]), array([1.58388227e-03, 4.18908042e+00, 8.37657697e+00, 1.25640735e+01])), 6.410686954399049e-13, 9.887072890798283e-13\n",
      "t=280, obj1=-3266.4084680748324, hist(D)=(array([765, 621, 114]), array([1.52271232e-03, 4.18899487e+00, 8.37646704e+00, 1.25639392e+01])), 6.411276726664546e-13, 9.268403175007599e-13\n",
      "t=290, obj1=-3266.245882780833, hist(D)=(array([765, 621, 114]), array([1.46610934e-03, 4.18891153e+00, 8.37635695e+00, 1.25638024e+01])), 1.2464981180861459e-12, 1.883095090754657e-12\n",
      "t=300, obj1=-3266.094897981271, hist(D)=(array([765, 621, 114]), array([1.41357835e-03, 4.18883062e+00, 8.37624767e+00, 1.25636647e+01])), 4.605314632407923e-13, 1.2009072448713998e-12\n",
      "t=310, obj1=-3265.9543005595806, hist(D)=(array([765, 621, 114]), array([1.36469355e-03, 4.18875232e+00, 8.37613994e+00, 1.25635276e+01])), 5.661298161998001e-13, 1.0315950435658719e-12\n",
      "t=320, obj1=-3265.8230466642685, hist(D)=(array([765, 621, 114]), array([1.31908649e-03, 4.18867669e+00, 8.37603430e+00, 1.25633919e+01])), 6.59121899537919e-13, 1.1604175119165931e-12\n",
      "t=330, obj1=-3265.700231627364, hist(D)=(array([765, 621, 114]), array([1.27643750e-03, 4.18860378e+00, 8.37593113e+00, 1.25632585e+01])), 5.075812162936776e-13, 9.450654636453557e-13\n",
      "t=340, obj1=-3265.585066510049, hist(D)=(array([765, 621, 114]), array([1.23646655e-03, 4.18853358e+00, 8.37583069e+00, 1.25631278e+01])), 4.648366737617846e-13, 9.510692317917723e-13\n",
      "t=350, obj1=-3265.47685952517, hist(D)=(array([765, 621, 114]), array([1.19892827e-03, 4.18846605e+00, 8.37573317e+00, 1.25630003e+01])), 6.71011921168406e-13, 1.2679816838894117e-12\n",
      "t=360, obj1=-3265.3750011058983, hist(D)=(array([765, 621, 114]), array([1.16360671e-03, 4.18840112e+00, 8.37563864e+00, 1.25628762e+01])), 5.99627031573913e-13, 1.3838441505094676e-12\n",
      "t=370, obj1=-3265.278951765386, hist(D)=(array([765, 621, 114]), array([1.13031026e-03, 4.18833872e+00, 8.37554714e+00, 1.25627556e+01])), 5.809762331676137e-13, 1.004988480911205e-12\n",
      "t=380, obj1=-3265.1882321205376, hist(D)=(array([765, 621, 114]), array([1.09886969e-03, 4.18827877e+00, 8.37545866e+00, 1.25626386e+01])), 6.78124564374738e-13, 1.6400460053428747e-12\n",
      "t=390, obj1=-3265.102414618975, hist(D)=(array([765, 621, 114]), array([1.06913311e-03, 4.18822115e+00, 8.37537316e+00, 1.25625252e+01])), 9.574471206496177e-13, 1.3571032453988949e-12\n",
      "t=400, obj1=-3265.0211166288136, hist(D)=(array([765, 621, 114]), array([1.04096567e-03, 4.18816576e+00, 8.37529056e+00, 1.25624154e+01])), 9.160843184121005e-13, 1.4528996561848248e-12\n",
      "t=410, obj1=-3264.9439946223465, hist(D)=(array([765, 621, 114]), array([1.01424585e-03, 4.18811251e+00, 8.37521077e+00, 1.25623090e+01])), 5.932614796376974e-13, 1.1700138129950476e-12\n",
      "t=420, obj1=-3264.870739255582, hist(D)=(array([765, 621, 114]), array([9.88864709e-04, 4.18806128e+00, 8.37513370e+00, 1.25622061e+01])), 8.253538460976473e-13, 1.8949763917447775e-12\n",
      "t=430, obj1=-3264.801071179928, hist(D)=(array([765, 621, 114]), array([9.64724376e-04, 4.18801197e+00, 8.37505922e+00, 1.25621065e+01])), 1.3023485558462274e-12, 2.554246614445108e-12\n",
      "t=440, obj1=-3264.7347374622723, hist(D)=(array([765, 621, 114]), array([9.41734830e-04, 4.18796448e+00, 8.37498723e+00, 1.25620100e+01])), 1.6234279998565176e-12, 2.583375353175347e-12\n",
      "t=450, obj1=-3264.671508510508, hist(D)=(array([765, 621, 114]), array([9.19816394e-04, 4.18791871e+00, 8.37491761e+00, 1.25619165e+01])), 1.1270541105964927e-12, 2.135672319659986e-12\n",
      "t=460, obj1=-3264.611175419723, hist(D)=(array([765, 621, 114]), array([8.98895427e-04, 4.18787457e+00, 8.37485024e+00, 1.25618259e+01])), 1.2867945999066233e-12, 1.819528771310585e-12\n",
      "t=470, obj1=-3264.553547675721, hist(D)=(array([765, 621, 114]), array([8.78905184e-04, 4.18783196e+00, 8.37478502e+00, 1.25617381e+01])), 1.334558012451517e-12, 2.040142589957004e-12\n",
      "t=480, obj1=-3264.498451163054, hist(D)=(array([765, 621, 114]), array([8.59784504e-04, 4.18779081e+00, 8.37472184e+00, 1.25616529e+01])), 1.3428672557086528e-12, 2.0012548468798147e-12\n",
      "t=490, obj1=-3264.4457264223724, hist(D)=(array([765, 621, 114]), array([8.41478301e-04, 4.18775103e+00, 8.37466058e+00, 1.25615701e+01])), 1.6222825732810376e-12, 2.5982458726401367e-12\n",
      "t=500, obj1=-3264.395227128875, hist(D)=(array([765, 621, 114]), array([8.23935213e-04, 4.18771255e+00, 8.37460115e+00, 1.25614898e+01])), 1.2127729953145766e-12, 1.8442837070243964e-12\n",
      "t=510, obj1=-3264.3468187613826, hist(D)=(array([765, 621, 114]), array([8.07108433e-04, 4.18767529e+00, 8.37454346e+00, 1.25614116e+01])), 1.1861510580621424e-12, 2.2473384191186545e-12\n",
      "t=520, obj1=-3264.300377423835, hist(D)=(array([765, 621, 114]), array([7.90955195e-04, 4.18763919e+00, 8.37448742e+00, 1.25613357e+01])), 9.410608727864618e-13, 2.144328021501106e-12\n",
      "t=530, obj1=-3264.255788813353, hist(D)=(array([765, 621, 114]), array([7.75436067e-04, 4.18760419e+00, 8.37443294e+00, 1.25612617e+01])), 3.069464496954191e-12, 4.31896887711909e-12\n",
      "t=540, obj1=-3264.2129473003806, hist(D)=(array([765, 621, 114]), array([7.60513867e-04, 4.18757023e+00, 8.37437995e+00, 1.25611897e+01])), 3.162819055831445e-12, 4.640692989277101e-12\n",
      "t=550, obj1=-3264.171755119035, hist(D)=(array([765, 621, 114]), array([7.46154255e-04, 4.18753726e+00, 8.37432837e+00, 1.25611195e+01])), 1.2964798903745563e-12, 2.3867341409046983e-12\n",
      "t=560, obj1=-3264.1321216453216, hist(D)=(array([764, 622, 114]), array([7.32326818e-04, 4.18750523e+00, 8.37427813e+00, 1.25610510e+01])), 8.548268886537582e-13, 1.9038272079540754e-12\n",
      "t=570, obj1=-3264.093962749526, hist(D)=(array([764, 622, 114]), array([7.19002061e-04, 4.18747409e+00, 8.37422917e+00, 1.25609843e+01])), 1.3935395632848028e-12, 3.1806982967260965e-12\n",
      "t=580, obj1=-3264.0572002240956, hist(D)=(array([764, 622, 114]), array([7.06153714e-04, 4.18744380e+00, 8.37418144e+00, 1.25609191e+01])), 1.5692644917047718e-12, 2.2821767077168544e-12\n",
      "t=590, obj1=-3264.0217612667225, hist(D)=(array([764, 622, 114]), array([6.93756665e-04, 4.18741431e+00, 8.37413487e+00, 1.25608554e+01])), 1.1064109822213393e-12, 1.9679249873816098e-12\n",
      "t=600, obj1=-3263.987578022058, hist(D)=(array([764, 622, 114]), array([6.81786062e-04, 4.18738560e+00, 8.37408942e+00, 1.25607932e+01])), 1.2297496921150732e-12, 2.131402553672416e-12\n",
      "t=610, obj1=-3263.9545871676473, hist(D)=(array([764, 622, 114]), array([6.70222025e-04, 4.18735763e+00, 8.37404504e+00, 1.25607325e+01])), 1.3853034172846783e-12, 2.5302737600861727e-12\n",
      "t=620, obj1=-3263.92272953432, hist(D)=(array([764, 622, 114]), array([6.59041927e-04, 4.18733036e+00, 8.37400169e+00, 1.25606730e+01])), 2.0198349664356437e-12, 2.744698599502938e-12\n",
      "t=630, obj1=-3263.891949777942, hist(D)=(array([764, 622, 114]), array([6.48229025e-04, 4.18730377e+00, 8.37395932e+00, 1.25606149e+01])), 1.696289825648037e-12, 2.6910078605519903e-12\n",
      "t=640, obj1=-3263.8621960678956, hist(D)=(array([764, 622, 114]), array([6.37765020e-04, 4.18727783e+00, 8.37391789e+00, 1.25605580e+01])), 1.2799893848749281e-12, 2.1902856131485785e-12\n",
      "t=650, obj1=-3263.833419811899, hist(D)=(array([764, 622, 114]), array([6.27634148e-04, 4.18725251e+00, 8.37387738e+00, 1.25605023e+01])), 4.02028771305378e-12, 6.336720263456928e-12\n",
      "t=660, obj1=-3263.8055754091156, hist(D)=(array([764, 622, 114]), array([6.17819498e-04, 4.18722779e+00, 8.37383775e+00, 1.25604477e+01])), 1.9125474565054707e-12, 3.649784033533359e-12\n",
      "t=670, obj1=-3263.7786200216246, hist(D)=(array([764, 622, 114]), array([6.08306172e-04, 4.18720364e+00, 8.37379897e+00, 1.25603943e+01])), 1.0821937924395747e-12, 1.800189298822885e-12\n",
      "t=680, obj1=-3263.752513371259, hist(D)=(array([764, 622, 114]), array([5.99081027e-04, 4.18718004e+00, 8.37376100e+00, 1.25603420e+01])), 2.313720737370371e-12, 3.684423501083194e-12\n",
      "t=690, obj1=-3263.727217546964, hist(D)=(array([764, 622, 114]), array([5.90131156e-04, 4.18715698e+00, 8.37372383e+00, 1.25602907e+01])), 1.3048885396852463e-12, 2.194599702346422e-12\n",
      "t=700, obj1=-3263.7026968345117, hist(D)=(array([764, 622, 114]), array([5.81444605e-04, 4.18713444e+00, 8.37368743e+00, 1.25602404e+01])), 2.7127611044633968e-12, 4.72170436949708e-12\n",
      "t=710, obj1=-3263.678917557203, hist(D)=(array([764, 622, 114]), array([5.73010805e-04, 4.18711239e+00, 8.37365177e+00, 1.25601912e+01])), 3.956106255522691e-12, 5.929823226002516e-12\n",
      "t=720, obj1=-3263.6558479363307, hist(D)=(array([764, 622, 114]), array([5.64817760e-04, 4.18709083e+00, 8.37361683e+00, 1.25601428e+01])), 1.6691038726667778e-12, 3.030223193684216e-12\n",
      "t=730, obj1=-3263.633457957776, hist(D)=(array([764, 622, 114]), array([5.56855211e-04, 4.18706973e+00, 8.37358260e+00, 1.25600955e+01])), 1.443948401378178e-12, 2.835538693432548e-12\n",
      "t=740, obj1=-3263.6117192535116, hist(D)=(array([764, 622, 114]), array([5.49113347e-04, 4.18704908e+00, 8.37354904e+00, 1.25600490e+01])), 2.7947656830929495e-12, 4.521800038128146e-12\n",
      "t=750, obj1=-3263.5906049878104, hist(D)=(array([764, 622, 114]), array([5.41582994e-04, 4.18702886e+00, 8.37351615e+00, 1.25600034e+01])), 3.084939993352381e-12, 4.8566442117672054e-12\n",
      "t=760, obj1=-3263.5700897549, hist(D)=(array([764, 622, 114]), array([5.34257027e-04, 4.18700908e+00, 8.37348389e+00, 1.25599587e+01])), 3.110882598872779e-12, 4.5175527042204066e-12\n",
      "t=770, obj1=-3263.5501494865584, hist(D)=(array([764, 622, 114]), array([5.27126014e-04, 4.18698970e+00, 8.37345227e+00, 1.25599148e+01])), 2.2136980857257936e-12, 4.306978777132132e-12\n",
      "t=780, obj1=-3263.530761367136, hist(D)=(array([764, 622, 114]), array([5.20183392e-04, 4.18697072e+00, 8.37342126e+00, 1.25598718e+01])), 3.7968444848330885e-12, 6.020459945477731e-12\n",
      "t=790, obj1=-3263.511903748119, hist(D)=(array([764, 622, 114]), array([5.13418796e-04, 4.18695213e+00, 8.37339084e+00, 1.25598296e+01])), 6.0476290316594445e-12, 8.909744273955806e-12\n",
      "t=800, obj1=-3263.493556081944, hist(D)=(array([764, 622, 114]), array([5.06830988e-04, 4.18693392e+00, 8.37336101e+00, 1.25597881e+01])), 2.4114654273919937e-12, 4.4875968276111694e-12\n",
      "t=810, obj1=-3263.4756988447543, hist(D)=(array([764, 622, 114]), array([5.00407321e-04, 4.18691607e+00, 8.37333173e+00, 1.25597474e+01])), 1.420681679066456e-12, 2.657682245203349e-12\n",
      "t=820, obj1=-3263.4583134832956, hist(D)=(array([764, 622, 114]), array([4.94143835e-04, 4.18689858e+00, 8.37330302e+00, 1.25597075e+01])), 5.5927006791799724e-12, 8.636469547692027e-12\n",
      "t=830, obj1=-3263.441382349401, hist(D)=(array([764, 622, 114]), array([4.88035140e-04, 4.18688144e+00, 8.37327484e+00, 1.25596682e+01])), 3.2460122397074966e-12, 6.218323328943226e-12\n",
      "t=840, obj1=-3263.4248886443256, hist(D)=(array([764, 622, 114]), array([4.82077152e-04, 4.18686463e+00, 8.37324719e+00, 1.25596297e+01])), 5.311683496124719e-12, 7.95147368689431e-12\n",
      "t=850, obj1=-3263.4088163693596, hist(D)=(array([764, 622, 114]), array([4.76263757e-04, 4.18684816e+00, 8.37322005e+00, 1.25595919e+01])), 5.917031854141437e-12, 9.594717767161567e-12\n",
      "t=860, obj1=-3263.393150281211, hist(D)=(array([764, 622, 114]), array([4.70588428e-04, 4.18683200e+00, 8.37319342e+00, 1.25595548e+01])), 4.386798959411881e-12, 7.028308609090093e-12\n",
      "t=870, obj1=-3263.3778758493636, hist(D)=(array([764, 622, 114]), array([4.65045102e-04, 4.18681616e+00, 8.37316727e+00, 1.25595184e+01])), 2.1706126103868384e-12, 3.317422163084919e-12\n",
      "t=880, obj1=-3263.362979218328, hist(D)=(array([764, 622, 114]), array([4.59630591e-04, 4.18680062e+00, 8.37314161e+00, 1.25594826e+01])), 2.457168619674103e-12, 4.819585396311319e-12\n",
      "t=890, obj1=-3263.3484471614943, hist(D)=(array([764, 622, 114]), array([4.54340792e-04, 4.18678538e+00, 8.37311642e+00, 1.25594475e+01])), 7.87430275466474e-12, 1.2700584030383627e-11\n",
      "t=900, obj1=-3263.3342670480256, hist(D)=(array([764, 622, 114]), array([4.49170270e-04, 4.18677043e+00, 8.37309169e+00, 1.25594129e+01])), 5.148212715904583e-12, 9.415436123153957e-12\n",
      "t=910, obj1=-3263.3204268092213, hist(D)=(array([764, 622, 114]), array([4.44116592e-04, 4.18675576e+00, 8.37306740e+00, 1.25593790e+01])), 7.83681510921031e-12, 1.2011779730786162e-11\n",
      "t=920, obj1=-3263.306914915325, hist(D)=(array([764, 622, 114]), array([4.39178297e-04, 4.18674137e+00, 8.37304356e+00, 1.25593457e+01])), 6.915518926180031e-12, 1.1850667263357436e-11\n",
      "t=930, obj1=-3263.2937203284614, hist(D)=(array([764, 622, 114]), array([4.34346119e-04, 4.18672724e+00, 8.37302014e+00, 1.25593130e+01])), 5.299252617953633e-12, 8.039502769404446e-12\n",
      "t=940, obj1=-3263.280832500462, hist(D)=(array([764, 622, 114]), array([4.29619890e-04, 4.18671338e+00, 8.37299714e+00, 1.25592809e+01])), 8.370474357178761e-12, 1.3408827720063197e-11\n",
      "t=950, obj1=-3263.268241329875, hist(D)=(array([764, 622, 114]), array([4.24995244e-04, 4.18669978e+00, 8.37297456e+00, 1.25592493e+01])), 3.5407182843103666e-12, 6.347084904854305e-12\n",
      "t=960, obj1=-3263.2559371441835, hist(D)=(array([764, 622, 114]), array([4.20467580e-04, 4.18668642e+00, 8.37295238e+00, 1.25592183e+01])), 3.2502799365694635e-12, 6.175815730256758e-12\n",
      "t=970, obj1=-3263.2439106805014, hist(D)=(array([764, 622, 114]), array([4.16036375e-04, 4.18667331e+00, 8.37293059e+00, 1.25591879e+01])), 3.9489344159096215e-12, 6.366871651149356e-12\n",
      "t=980, obj1=-3263.2321530556983, hist(D)=(array([764, 622, 114]), array([4.11696651e-04, 4.18666044e+00, 8.37290918e+00, 1.25591579e+01])), 5.918538996754925e-12, 8.542679539564326e-12\n",
      "t=990, obj1=-3263.2206557522973, hist(D)=(array([764, 622, 114]), array([4.07448084e-04, 4.18664780e+00, 8.37288815e+00, 1.25591285e+01])), 8.504682908828313e-12, 1.2877495806253256e-11\n",
      "t=999, obj1=-3263.210523997039\n",
      "PASSED\n"
     ]
    }
   ],
   "source": [
    "loglikelihoods = [-np.inf]\n",
    "N = Y.shape[0]\n",
    "eps = 1e-12\n",
    "\n",
    "\n",
    "fitted_mfm = mfm.MFModel(hpart=F_hpart, ranks=ranks,) #F=F0, D=D0)\n",
    "fitted_mfm.F, fitted_mfm.D = fitted_mfm.init_FD(ranks, F_hpart, init_type=\"Y\", Y=Y)\n",
    "F0, D0 = fitted_mfm.F, fitted_mfm.D\n",
    "fitted_mfm.inv_coefficients(det=True)\n",
    "for t in range(1000):\n",
    "    obj1 = mfm.fast_loglikelihood_value(fitted_mfm, Y[:, fitted_mfm.pi_inv])\n",
    "\n",
    "    Sigma0 = mfm.perm_hat_Sigma(F0, D0, permuted_F_hpart, ranks)\n",
    "    lu, piv = scipy.linalg.lu_factor(Sigma0)\n",
    "    obj2 = mfm.loglikelihood_value(Sigma0, lu, piv, Y)\n",
    "    assert np.allclose(obj1, obj2), print(obj1, obj2)\n",
    "    \n",
    "    loglikelihoods += [obj1]\n",
    "\n",
    "    F1 = mfm.fast_EM_get_F(F0, D0, Y, ranks, permuted_F_hpart, row_selectors, si_groups)\n",
    "    F1_slow = mfm.EM_get_F(F0, lu, piv, Y, ranks, part_sizes, permuted_F_hpart, row_selectors, si_groups)\n",
    "    assert mf.rel_diff(F1, F1_slow) < 1e-8, print(mf.rel_diff(F1, F1_slow))\n",
    "    D1 = mfm.fast_EM_get_D(F0, D0, F1, Y, ranks, permuted_F_hpart, row_selectors, si_groups)\n",
    "    D1_slow = mfm.EM_get_D(F0, F1, lu, piv, Y, ranks, part_sizes, permuted_F_hpart, row_selectors, si_groups)\n",
    "    assert mf.rel_diff(D1, D1_slow) < 1e-8, print(mf.rel_diff(D1, D1_slow))\n",
    "    F0, D0 = F1, D1\n",
    "    assert D1.min() >= -1e-8 and loglikelihoods[-2] - 1e-8 <= loglikelihoods[-1]\n",
    "    fitted_mfm = mfm.MFModel(hpart=F_hpart, ranks=ranks, F=F1, D=D1)\n",
    "    fitted_mfm.inv_coefficients(printing=True, det=True)\n",
    "    if t % 10 == 0:\n",
    "        print(f\"{t=}, {obj1=}, hist(D)={np.histogram(D1, bins=3)}, {mf.rel_diff(F1, F1_slow)}, {mf.rel_diff(D1, D1_slow)}\")\n",
    "    \n",
    "        row_selectors_L, si_groups_L, groups_all_L = mfm.si_row_col(hpart[\"rows\"])\n",
    "        exp_true_ll = mfm.fast_exp_loglikelihood_value(np.concatenate([true_mfm.F, np.sqrt(true_mfm.D).reshape(-1, 1)], axis=1), \n",
    "                                                        fitted_mfm, ranks, hpart[\"rows\"], \n",
    "                                                        row_selectors, si_groups)\n",
    "        Sigma_fitted = fitted_mfm.matrix()\n",
    "        fit_lu, fit_piv = scipy.linalg.lu_factor(Sigma_fitted)\n",
    "        exp_true_ll2 = mfm.exp_loglikelihood_value(true_mfm.matrix(), Sigma_fitted, fit_lu, fit_piv)\n",
    "        assert np.allclose(exp_true_ll, exp_true_ll2), print(exp_true_ll, exp_true_ll2)\n",
    "\n",
    "        logdet = fitted_mfm.logdet\n",
    "        (sign, logabsdet) = np.linalg.slogdet(Sigma_fitted)\n",
    "        assert sign==1 and np.allclose(logdet, logabsdet), print(sign, logdet, logabsdet)\n",
    "\n",
    "    if loglikelihoods[-1] - loglikelihoods[-2] < eps * abs(loglikelihoods[-2]):\n",
    "        print(f\"terminating at {t=}\")\n",
    "        break\n",
    "\n",
    "print(f\"{t=}, {obj1=}\")\n",
    "\n",
    "print(\"PASSED\")"
   ]
  },
  {
   "cell_type": "code",
   "execution_count": null,
   "metadata": {},
   "outputs": [],
   "source": []
  },
  {
   "cell_type": "code",
   "execution_count": 37,
   "metadata": {},
   "outputs": [],
   "source": [
    "B_true = np.concatenate([true_mfm.F, np.sqrt(true_mfm.D).reshape(-1, 1)], axis=1)"
   ]
  },
  {
   "cell_type": "code",
   "execution_count": 38,
   "metadata": {},
   "outputs": [],
   "source": [
    "B_prod, C_prod, ranks_prod = mfm.mlr_mlr_matmul(fitted_mfm.inv_B, fitted_mfm.inv_C, fitted_mfm.inv_ranks, \n",
    "                                                B_true, B_true, ranks, fitted_mfm.inv_hpart)\n",
    "mlr1 = mf.MLRMatrix(B=B_prod, C=C_prod, hpart=hpart, ranks=ranks_prod)"
   ]
  },
  {
   "cell_type": "code",
   "execution_count": 39,
   "metadata": {},
   "outputs": [
    {
     "data": {
      "text/plain": [
       "True"
      ]
     },
     "execution_count": 39,
     "metadata": {},
     "output_type": "execute_result"
    }
   ],
   "source": [
    "np.allclose(mlr1.matrix(), fitted_mfm.inv() @ true_mfm.matrix())"
   ]
  },
  {
   "cell_type": "code",
   "execution_count": 40,
   "metadata": {},
   "outputs": [
    {
     "name": "stdout",
     "output_type": "stream",
     "text": [
      "548416.6458261746 548416.6458261713 3408.6116565907278\n"
     ]
    }
   ],
   "source": [
    "tr_fitted_Sigma_inv_true_Sigma = mfm.full_mlr_frob_norm(B_prod, C_prod, ranks_prod, hpart[\"rows\"], si_groups_L)**2\n",
    "print(tr_fitted_Sigma_inv_true_Sigma, np.linalg.norm(mlr1.matrix(), 'fro')**2, np.trace(mlr1.matrix()))"
   ]
  },
  {
   "cell_type": "code",
   "execution_count": 41,
   "metadata": {},
   "outputs": [
    {
     "data": {
      "text/plain": [
       "True"
      ]
     },
     "execution_count": 41,
     "metadata": {},
     "output_type": "execute_result"
    }
   ],
   "source": [
    "np.allclose(fitted_mfm.matrix() @ fitted_mfm.inv(), np.eye(n))"
   ]
  },
  {
   "cell_type": "code",
   "execution_count": 42,
   "metadata": {},
   "outputs": [
    {
     "data": {
      "image/png": "[encoded data removed]",
      "text/plain": [
       "<Figure size 1000x400 with 2 Axes>"
      ]
     },
     "metadata": {},
     "output_type": "display_data"
    }
   ],
   "source": [
    "tilde_F_ci = mfm.get_sparse_F_si_col_sparsity(F_Lm1, ranks, F_hpart, si_groups[8])\n",
    "plt.figure(figsize=(10, 4)) \n",
    "plt.matshow(tilde_F_ci!=0, aspect='auto', fignum=1, cmap='hot') \n",
    "plt.colorbar() \n",
    "plt.show()"
   ]
  },
  {
   "cell_type": "code",
   "execution_count": null,
   "metadata": {},
   "outputs": [],
   "source": []
  },
  {
   "cell_type": "code",
   "execution_count": 43,
   "metadata": {},
   "outputs": [],
   "source": [
    "import numba as nb"
   ]
  },
  {
   "cell_type": "code",
   "execution_count": 44,
   "metadata": {},
   "outputs": [],
   "source": [
    "nb.njit(parallel=True)\n",
    "def nb_get_sparse_F_si_col_sparsity(F_compressed, ranks, F_hpart, group):\n",
    "    res = np.zeros(F_compressed.shape)\n",
    "    for level in nb.prange(len(group)):\n",
    "        gi = group[level]\n",
    "        r1, r2 = F_hpart[\"lk\"][level][gi], F_hpart[\"lk\"][level][gi+1]\n",
    "        res[r1:r2, ranks[:level].sum() : ranks[:level+1].sum()] = F_compressed[r1:r2, ranks[:level].sum() : ranks[:level+1].sum()]\n",
    "    return res\n"
   ]
  },
  {
   "cell_type": "code",
   "execution_count": 45,
   "metadata": {},
   "outputs": [
    {
     "name": "stdout",
     "output_type": "stream",
     "text": [
      "56.8 μs ± 4.19 μs per loop (mean ± std. dev. of 7 runs, 10,000 loops each)\n"
     ]
    }
   ],
   "source": [
    "%timeit nb_get_sparse_F_si_col_sparsity(F_Lm1, ranks, F_hpart, si_groups[si])"
   ]
  },
  {
   "cell_type": "code",
   "execution_count": 46,
   "metadata": {},
   "outputs": [
    {
     "name": "stdout",
     "output_type": "stream",
     "text": [
      "54.9 μs ± 4.44 μs per loop (mean ± std. dev. of 7 runs, 10,000 loops each)\n"
     ]
    }
   ],
   "source": [
    "%timeit mfm.get_sparse_F_si_col_sparsity(F_Lm1, ranks, F_hpart, si_groups[si])"
   ]
  },
  {
   "cell_type": "code",
   "execution_count": 47,
   "metadata": {},
   "outputs": [
    {
     "name": "stdout",
     "output_type": "stream",
     "text": [
      "PASSED\n"
     ]
    }
   ],
   "source": [
    "for _ in range(10):\n",
    "    B1, C1 = np.random.randn(n, ranks.sum()), np.random.randn(n, ranks.sum())\n",
    "\n",
    "    mlr1 = mf.MLRMatrix(B=B1, C=C1, hpart=hpart, ranks=ranks)\n",
    "\n",
    "    row_selectors_L, si_groups_L, groups_all_L = mfm.si_row_col(hpart[\"rows\"])\n",
    "    \n",
    "    frob_norm = mfm.full_mlr_frob_norm(B1, C1, ranks, hpart[\"rows\"], si_groups_L)\n",
    "    frob_norm2 = np.linalg.norm(mlr1.matrix(), 'fro')\n",
    "\n",
    "    assert np.allclose(frob_norm2, frob_norm)\n",
    "\n",
    "    tr_val = mfm.full_mlr_trace(B1, C1, ranks, hpart[\"rows\"], row_selectors, si_groups)\n",
    "    assert np.allclose(tr_val, np.trace(mlr1.matrix()))\n",
    "\n",
    "print(\"PASSED\")"
   ]
  },
  {
   "cell_type": "code",
   "execution_count": null,
   "metadata": {},
   "outputs": [],
   "source": []
  }
 ],
 "metadata": {
  "kernelspec": {
   "display_name": "multilevel",
   "language": "python",
   "name": "python3"
  },
  "language_info": {
   "codemirror_mode": {
    "name": "ipython",
    "version": 3
   },
   "file_extension": ".py",
   "mimetype": "text/x-python",
   "name": "python",
   "nbconvert_exporter": "python",
   "pygments_lexer": "ipython3",
   "version": "3.11.8"
  }
 },
 "nbformat": 4,
 "nbformat_minor": 2
}
