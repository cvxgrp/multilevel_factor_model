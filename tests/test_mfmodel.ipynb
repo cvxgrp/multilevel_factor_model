{
 "cells": [
  {
   "cell_type": "code",
   "execution_count": 1,
   "metadata": {},
   "outputs": [],
   "source": [
    "import numpy as np\n",
    "\n",
    "import seaborn as sns\n",
    "import matplotlib.pyplot as plt\n",
    "\n",
    "import scipy\n",
    "\n",
    "import mlrfit as mf\n",
    "import mfmodel as mfm "
   ]
  },
  {
   "cell_type": "code",
   "execution_count": 2,
   "metadata": {},
   "outputs": [],
   "source": [
    "# np.random.seed(1001)\n",
    "# random.seed(1001)"
   ]
  },
  {
   "cell_type": "markdown",
   "metadata": {},
   "source": [
    "# True model is MLR factor model with SNR = 4 \n",
    "\n",
    "Let $\\Sigma = FF^T + D$ be MLR. We generate samples using \n",
    "$$\n",
    "y = Fz + e, \\qquad z \\sim N(0, I), \\qquad N(0, D).\n",
    "$$"
   ]
  },
  {
   "cell_type": "code",
   "execution_count": 3,
   "metadata": {},
   "outputs": [
    {
     "data": {
      "text/plain": [
       "(27, 81)"
      ]
     },
     "execution_count": 3,
     "metadata": {},
     "output_type": "execute_result"
    }
   ],
   "source": [
    "mtype = \"small_mlr_hier\"\n",
    "n = 1000\n",
    "signal_to_noise = 4\n",
    "\n",
    "L = 5\n",
    "\n",
    "\n",
    "ranks = np.array([10, 7, 5, 4, 1])\n",
    "rank = ranks.sum()\n",
    "\n",
    "nsamples = rank * 3\n",
    "rank, nsamples"
   ]
  },
  {
   "cell_type": "code",
   "execution_count": 4,
   "metadata": {},
   "outputs": [
    {
     "name": "stdout",
     "output_type": "stream",
     "text": [
      "level=0, num_groups=1, mean_size=1000.0\n",
      "level=1, num_groups=3, mean_size=333.3\n",
      "level=2, num_groups=7, mean_size=142.9\n",
      "level=3, num_groups=16, mean_size=62.5\n",
      "level=4, num_groups=1000, mean_size=1.0\n"
     ]
    }
   ],
   "source": [
    "pi_rows = np.random.permutation(n)\n",
    "hpart = {'rows':{'pi':pi_rows, 'lk':[]}, 'cols':{'pi':pi_rows, 'lk':[]}} \n",
    "for ngroups in [2, 5, 9, 17, n+1]:\n",
    "       hpart['rows']['lk'] += [ np.linspace(0, n, ngroups, endpoint=True, dtype=int)]\n",
    "hpart['rows']['lk'][1] = np.delete(hpart['rows']['lk'][1], -2)\n",
    "hpart['rows']['lk'][2] = np.delete(hpart['rows']['lk'][2], -4)\n",
    "hpart['cols']['lk'] = hpart['rows']['lk']\n",
    "part_sizes = mfm.print_hpart_numgroups(hpart)\n",
    "mfm.valid_hpart(hpart)"
   ]
  },
  {
   "cell_type": "code",
   "execution_count": 5,
   "metadata": {},
   "outputs": [
    {
     "data": {
      "text/plain": [
       "[array([   0, 1000]),\n",
       " array([   0,  250,  500, 1000]),\n",
       " array([   0,  125,  250,  375,  500,  750,  875, 1000]),\n",
       " array([   0,   62,  125,  187,  250,  312,  375,  437,  500,  562,  625,\n",
       "         687,  750,  812,  875,  937, 1000])]"
      ]
     },
     "execution_count": 5,
     "metadata": {},
     "output_type": "execute_result"
    }
   ],
   "source": [
    "hpart['rows']['lk'][:-1]"
   ]
  },
  {
   "cell_type": "code",
   "execution_count": 6,
   "metadata": {},
   "outputs": [
    {
     "name": "stdout",
     "output_type": "stream",
     "text": [
      "signal_var=26.011820794779936, noise_var=6.406278374882526\n",
      "SNR=4.060363798233623, signal_to_noise=4\n"
     ]
    }
   ],
   "source": [
    "true_mlr, true_sparse_F, true_D_noise = mfm.generate_mlr_model(n, hpart, ranks, signal_to_noise, debug=True)\n",
    "true_compressed_F = true_mlr.B[:, :-1]"
   ]
  },
  {
   "cell_type": "code",
   "execution_count": 7,
   "metadata": {},
   "outputs": [
    {
     "data": {
      "text/plain": [
       "(0.005126951203594061, 12.999447481114029)"
      ]
     },
     "execution_count": 7,
     "metadata": {},
     "output_type": "execute_result"
    }
   ],
   "source": [
    "true_D_noise.min(), true_D_noise.max()"
   ]
  },
  {
   "cell_type": "code",
   "execution_count": 8,
   "metadata": {},
   "outputs": [
    {
     "data": {
      "image/png": "[encoded data removed]",
      "text/plain": [
       "<Figure size 1000x400 with 2 Axes>"
      ]
     },
     "metadata": {},
     "output_type": "display_data"
    },
    {
     "name": "stdout",
     "output_type": "stream",
     "text": [
      "(1000, 130)\n"
     ]
    }
   ],
   "source": [
    "plt.figure(figsize=(10, 4)) \n",
    "plt.matshow(true_sparse_F.T!=0, aspect='auto', fignum=1, cmap='hot') \n",
    "plt.colorbar() \n",
    "plt.show()\n",
    "print(true_sparse_F.shape)"
   ]
  },
  {
   "cell_type": "code",
   "execution_count": 9,
   "metadata": {},
   "outputs": [
    {
     "data": {
      "text/plain": [
       "(1000, 130)"
      ]
     },
     "execution_count": 9,
     "metadata": {},
     "output_type": "execute_result"
    }
   ],
   "source": [
    "true_sparse_F.shape"
   ]
  },
  {
   "cell_type": "code",
   "execution_count": 10,
   "metadata": {},
   "outputs": [],
   "source": [
    "filename = \"%s_r%d_%d\"%(mtype, rank, n)"
   ]
  },
  {
   "cell_type": "code",
   "execution_count": 11,
   "metadata": {},
   "outputs": [
    {
     "name": "stdout",
     "output_type": "stream",
     "text": [
      "num_levels=5, num_sparsities=16\n",
      "(16, 4) [ 0  2  6 15]\n"
     ]
    }
   ],
   "source": [
    "row_selectors, si_groups, F_hpart, groups_all = mfm.row_col_selections(hpart, return_groups=True)"
   ]
  },
  {
   "cell_type": "code",
   "execution_count": 12,
   "metadata": {},
   "outputs": [
    {
     "name": "stderr",
     "output_type": "stream",
     "text": [
      "/Users/parshakova.tanya/opt/anaconda3/envs/multilevel/lib/python3.11/site-packages/numpy/core/fromnumeric.py:88: RuntimeWarning: overflow encountered in reduce\n",
      "  return ufunc.reduce(obj, axis, dtype, out, **passkwargs)\n"
     ]
    }
   ],
   "source": [
    "F_Lm1, D = true_compressed_F+0, true_D_noise+0\n",
    "pi = F_hpart['pi']\n",
    "F_hpart['pi_inv'] = mf.inv_permutation(pi, pi)[0]\n",
    "v = np.random.randn(n)\n",
    "\n",
    "true_mfm = mfm.MFModel(hpart=F_hpart, ranks=ranks, F=F_Lm1, D=D)\n",
    "true_mfm.inv_coefficients(printing=True)"
   ]
  },
  {
   "cell_type": "code",
   "execution_count": 13,
   "metadata": {},
   "outputs": [
    {
     "data": {
      "text/plain": [
       "6.305572379831703e-13"
      ]
     },
     "execution_count": 13,
     "metadata": {},
     "output_type": "execute_result"
    }
   ],
   "source": [
    "true_mlr.construct_sparse_format()\n",
    "hat_x = mfm.iterative_refinement_linsolve(ranks, v[:, np.newaxis], F_Lm1, D, F_hpart, eps=1e-12, max_iter=50)\n",
    "np.linalg.norm(hat_x - np.linalg.inv(true_mlr.matrix()) @ v[:, np.newaxis])"
   ]
  },
  {
   "cell_type": "code",
   "execution_count": 14,
   "metadata": {},
   "outputs": [],
   "source": [
    "mfm_Sigma = mfm.MFModel(F=F_Lm1, D=D, hpart=F_hpart, ranks=ranks)\n",
    "mfm_Sigma.inv_coefficients(det=True)\n",
    "\n",
    "assert true_sparse_F.shape[1] == mfm_Sigma.num_factors()"
   ]
  },
  {
   "cell_type": "code",
   "execution_count": null,
   "metadata": {},
   "outputs": [],
   "source": []
  },
  {
   "cell_type": "markdown",
   "metadata": {},
   "source": [
    "# Linear system solve, matvec"
   ]
  },
  {
   "cell_type": "code",
   "execution_count": 15,
   "metadata": {},
   "outputs": [
    {
     "name": "stdout",
     "output_type": "stream",
     "text": [
      "PASSED\n"
     ]
    }
   ],
   "source": [
    "for _ in range(50):\n",
    "    v = np.random.randn(n, 1)\n",
    "    # linear system solve\n",
    "    hat_x = mfm_Sigma.solve(v, eps=1e-12, max_iter=50)\n",
    "    reldiff = np.linalg.norm(hat_x - np.linalg.solve(true_mlr.matrix(),v)) / np.linalg.norm(v)\n",
    "    # print(f\"solve {reldiff=}\")\n",
    "    assert np.allclose(reldiff, 0)\n",
    "\n",
    "    # matvec\n",
    "    Av = mfm_Sigma.matvec(v)\n",
    "    reldiff = np.linalg.norm(Av - true_mlr.matvec(v)) / np.linalg.norm(v)\n",
    "    assert reldiff < 1e-12, print(f\"matvec {reldiff=}\")\n",
    "\n",
    "\n",
    "    # Fz\n",
    "    z = np.random.randn(mfm_Sigma.num_factors(), 1)\n",
    "    Fz = mfm_Sigma.F_matvec(z)\n",
    "    reldiff = np.linalg.norm(Fz - true_sparse_F @ z) / np.linalg.norm(z)\n",
    "    assert reldiff < 1e-12, print(f\"matvec {reldiff=}\")\n",
    "\n",
    "\n",
    "print(\"PASSED\")"
   ]
  },
  {
   "cell_type": "markdown",
   "metadata": {},
   "source": [
    "# Test $\\mathop{diag}(\\Sigma)$"
   ]
  },
  {
   "cell_type": "code",
   "execution_count": 16,
   "metadata": {},
   "outputs": [
    {
     "name": "stdout",
     "output_type": "stream",
     "text": [
      "PASSED\n"
     ]
    }
   ],
   "source": [
    "d1 = np.diag(true_mlr.matrix())\n",
    "d2 = mfm_Sigma.diag()\n",
    "assert np.allclose(d1, d2)\n",
    "\n",
    "print(\"PASSED\")"
   ]
  },
  {
   "cell_type": "markdown",
   "metadata": {},
   "source": [
    "# Test $\\Sigma$"
   ]
  },
  {
   "cell_type": "code",
   "execution_count": 17,
   "metadata": {},
   "outputs": [
    {
     "name": "stdout",
     "output_type": "stream",
     "text": [
      "PASSED\n"
     ]
    }
   ],
   "source": [
    "assert np.allclose(true_mlr.matrix(), mfm_Sigma.matrix())\n",
    "\n",
    "print(\"PASSED\")"
   ]
  },
  {
   "cell_type": "code",
   "execution_count": 18,
   "metadata": {},
   "outputs": [],
   "source": [
    "def estimate_diagonal(n, A_matvec, num_samples=10000):\n",
    "    diagonal_estimates = np.zeros((n, 1))\n",
    "    qk = 0\n",
    "    for _ in range(num_samples):\n",
    "        zk = np.random.randn(n, 1)\n",
    "        # zk = np.random.choice([-1, 1], size=n) \n",
    "        Azk = A_matvec(zk)\n",
    "        diagonal_estimates += zk * Azk\n",
    "        qk = qk + (zk * zk)\n",
    "    # assert Azk.shape == diagonal_estimates.shape\n",
    "    return diagonal_estimates / qk\n",
    "\n",
    "# Example usage with a mock matrix-vector product function\n",
    "A = np.random.randn(100, 100)\n",
    "A = A @ A.T\n"
   ]
  },
  {
   "cell_type": "code",
   "execution_count": 19,
   "metadata": {},
   "outputs": [
    {
     "name": "stdout",
     "output_type": "stream",
     "text": [
      "num_samples=10, rel_diff=0.352082\n",
      "num_samples=100, rel_diff=0.086311\n",
      "num_samples=1000, rel_diff=0.034964\n",
      "num_samples=10000, rel_diff=0.009967\n",
      "num_samples=100000, rel_diff=0.002761\n",
      "num_samples=1000000, rel_diff=0.000886\n"
     ]
    }
   ],
   "source": [
    "for num_samples in [10, 100, 1000, 10000, 100000, 1000000]:\n",
    "    estimated_diag = estimate_diagonal(100, lambda x: A @ x, num_samples=num_samples)\n",
    "    print(f\"{num_samples=}, rel_diff={mf.rel_diff(np.diag(A), estimated_diag.flatten()):.6f}\")"
   ]
  },
  {
   "cell_type": "code",
   "execution_count": 20,
   "metadata": {},
   "outputs": [
    {
     "name": "stdout",
     "output_type": "stream",
     "text": [
      "num_samples=10, rel_diff=1.245687\n",
      "num_samples=100, rel_diff=0.340371\n",
      "num_samples=1000, rel_diff=0.110901\n",
      "num_samples=10000, rel_diff=0.035380\n"
     ]
    }
   ],
   "source": [
    "for num_samples in [10, 100, 1000, 10000]:\n",
    "    estimated_diag = estimate_diagonal(n, lambda x: mfm_Sigma.matvec(x), num_samples=num_samples)\n",
    "    print(f\"{num_samples=}, rel_diff={mf.rel_diff(mfm_Sigma.diag(), estimated_diag.flatten()):.6f}\")"
   ]
  },
  {
   "cell_type": "markdown",
   "metadata": {},
   "source": [
    "# EM elements"
   ]
  },
  {
   "cell_type": "code",
   "execution_count": 21,
   "metadata": {},
   "outputs": [
    {
     "name": "stdout",
     "output_type": "stream",
     "text": [
      "PASSED\n"
     ]
    }
   ],
   "source": [
    "num_sparsities = row_selectors.size - 1\n",
    "tilde_F0 = mf.convert_compressed_to_sparse(F_Lm1, F_hpart, ranks[:-1])\n",
    "D1 = np.zeros(n)\n",
    "# for si in tqdm(range(num_sparsities)):\n",
    "for si in range(num_sparsities):\n",
    "    si_col = mfm.group_to_indices(si_groups[si], part_sizes, ranks)\n",
    "    tilde_F_ci = true_sparse_F[:, si_col]\n",
    "    assert np.allclose(tilde_F_ci, mfm.get_sparse_F_si_col_sparsity(F_Lm1, ranks, F_hpart, si_groups[si]))\n",
    "\n",
    "print(\"PASSED\")"
   ]
  },
  {
   "cell_type": "code",
   "execution_count": 22,
   "metadata": {},
   "outputs": [
    {
     "name": "stdout",
     "output_type": "stream",
     "text": [
      "PASSED\n"
     ]
    }
   ],
   "source": [
    "assert np.allclose(mfm.perm_hat_Sigma(F_Lm1, D, F_hpart, ranks), mfm.perm_hat_Sigma_sp(true_sparse_F, D))\n",
    "print(\"PASSED\")"
   ]
  },
  {
   "cell_type": "code",
   "execution_count": 23,
   "metadata": {},
   "outputs": [],
   "source": [
    "E = np.random.randn(n, nsamples)\n",
    "E1 = np.diag(np.sqrt(true_D_noise)) @ E\n",
    "E2 = np.sqrt(true_D_noise)[:, None] * E\n",
    "\n",
    "assert np.allclose(E1, E2)"
   ]
  },
  {
   "cell_type": "code",
   "execution_count": 24,
   "metadata": {},
   "outputs": [],
   "source": [
    "# C = mfm.generate_data(true_sparse_F, true_D_noise, nsamples, true_mlr)\n",
    "C = mfm.sample_data(nsamples, mfm_Sigma)\n",
    "\n",
    "Z = (C - C.mean(axis=1, keepdims=True))[F_hpart[\"pi\"], :]\n",
    "unpermuted_A = (Z @ Z.T / (Z.shape[1]-1))[mfm_Sigma.pi_inv, :][:, mfm_Sigma.pi_inv]\n",
    "\n",
    "# permute to put clusters on diagonal\n",
    "Y = Z.T\n",
    "N = Y.shape[0]"
   ]
  },
  {
   "cell_type": "markdown",
   "metadata": {},
   "source": [
    "# True model loglikelihoods"
   ]
  },
  {
   "cell_type": "code",
   "execution_count": 25,
   "metadata": {},
   "outputs": [
    {
     "name": "stdout",
     "output_type": "stream",
     "text": [
      "TR: train ll=-2425.9499735742647, exp ll=-2433.0883638067908\n"
     ]
    }
   ],
   "source": [
    "true_Sigma = mfm.perm_hat_Sigma_sp(true_sparse_F, true_D_noise)\n",
    "tr_lu, tr_piv = scipy.linalg.lu_factor(true_Sigma)\n",
    "true_train_obj = mfm.loglikelihood_value(true_Sigma, tr_lu, tr_piv, Y)\n",
    "exp_true_ll = mfm.exp_true_loglikelihood_value(true_Sigma)\n",
    "print(f\"TR: train ll={true_train_obj}, exp ll={exp_true_ll}\")"
   ]
  },
  {
   "cell_type": "code",
   "execution_count": 26,
   "metadata": {},
   "outputs": [],
   "source": [
    "permuted_F_hpart = {\"pi_inv\":np.arange(n), \"pi\":np.arange(n), \"lk\":F_hpart[\"lk\"]}"
   ]
  },
  {
   "cell_type": "code",
   "execution_count": 27,
   "metadata": {},
   "outputs": [
    {
     "name": "stdout",
     "output_type": "stream",
     "text": [
      "exp_true_ll=-2433.0883679077724\n"
     ]
    }
   ],
   "source": [
    "row_selectors_L, si_groups_L, groups_all_L = mfm.si_row_col(hpart[\"rows\"])\n",
    "exp_true_ll = mfm.fast_exp_true_loglikelihood_value(mfm_Sigma)\n",
    "exp_true_ll2 = mfm.exp_true_loglikelihood_value(mfm_Sigma.matrix())\n",
    "exp_true_ll3 = mfm.fast_exp_loglikelihood_value(np.concatenate([true_mfm.F, np.sqrt(true_mfm.D).reshape(-1, 1)], axis=1), \n",
    "                                                        mfm_Sigma, ranks, hpart[\"rows\"], \n",
    "                                                        row_selectors, si_groups)\n",
    "assert np.allclose(exp_true_ll, exp_true_ll2)\n",
    "assert np.allclose(exp_true_ll, exp_true_ll3)\n",
    "print(f\"{exp_true_ll=}\")"
   ]
  },
  {
   "cell_type": "code",
   "execution_count": 28,
   "metadata": {},
   "outputs": [
    {
     "data": {
      "text/plain": [
       "-2433.0883638067908"
      ]
     },
     "execution_count": 28,
     "metadata": {},
     "output_type": "execute_result"
    }
   ],
   "source": [
    "mfm.exp_loglikelihood_value(true_Sigma, true_Sigma, tr_lu, tr_piv)"
   ]
  },
  {
   "cell_type": "code",
   "execution_count": 29,
   "metadata": {},
   "outputs": [
    {
     "name": "stderr",
     "output_type": "stream",
     "text": [
      "/Users/parshakova.tanya/opt/anaconda3/envs/multilevel/lib/python3.11/site-packages/numpy/linalg/linalg.py:2180: RuntimeWarning: overflow encountered in det\n",
      "  r = _umath_linalg.det(a, signature=signature)\n"
     ]
    },
    {
     "data": {
      "text/plain": [
       "(inf, 0.005126951203594061, 12.999447481114029)"
      ]
     },
     "execution_count": 29,
     "metadata": {},
     "output_type": "execute_result"
    }
   ],
   "source": [
    "np.linalg.det(mfm_Sigma.matrix()), mfm_Sigma.D.min(), mfm_Sigma.D.max()"
   ]
  },
  {
   "cell_type": "code",
   "execution_count": 30,
   "metadata": {},
   "outputs": [
    {
     "data": {
      "text/plain": [
       "(inf, SlogdetResult(sign=1.0, logabsdet=2028.2996612042357))"
      ]
     },
     "execution_count": 30,
     "metadata": {},
     "output_type": "execute_result"
    }
   ],
   "source": [
    "np.linalg.det(true_Sigma), np.linalg.slogdet(true_Sigma)"
   ]
  },
  {
   "cell_type": "code",
   "execution_count": 31,
   "metadata": {},
   "outputs": [
    {
     "name": "stdout",
     "output_type": "stream",
     "text": [
      "True: {'train': -2425.949977675248, 'exp': -2433.0883679077724}\n"
     ]
    }
   ],
   "source": [
    "true_train_obj = mfm.fast_loglikelihood_value(mfm_Sigma, Y[:, mfm_Sigma.pi_inv])\n",
    "true_ll = {\"train\":true_train_obj, \"exp\":exp_true_ll}\n",
    "print(f\"True: {true_ll}\")"
   ]
  },
  {
   "cell_type": "code",
   "execution_count": 32,
   "metadata": {},
   "outputs": [],
   "source": [
    "mfm_Sigma.init_FD(ranks, F_hpart, init_type=\"Y\", Y=Y)\n",
    "F0, D0 = mfm_Sigma.F, mfm_Sigma.D"
   ]
  },
  {
   "cell_type": "markdown",
   "metadata": {},
   "source": [
    "# Test $\\log \\det \\Sigma$"
   ]
  },
  {
   "cell_type": "code",
   "execution_count": 33,
   "metadata": {},
   "outputs": [
    {
     "name": "stdout",
     "output_type": "stream",
     "text": [
      "PASSED\n"
     ]
    }
   ],
   "source": [
    "for t in range(10):\n",
    "    if t == 0:\n",
    "        mfm_Sigma.init_FD(ranks, F_hpart, init_type=\"Y\", Y=Y)\n",
    "        F0, D0 = mfm_Sigma.F, mfm_Sigma.D\n",
    "    else:\n",
    "        F0, D0 = np.random.randn(mfm_Sigma.F.shape[0], mfm_Sigma.F.shape[1]), np.random.rand(n) + 1e-2\n",
    "    Sigma = mfm.perm_hat_Sigma(F0, D0, F_hpart, ranks)\n",
    "    (sign, logabsdet) = np.linalg.slogdet(Sigma)\n",
    "    assert sign == 1, print(sign, logabsdet, np.linalg.det(Sigma))\n",
    "\n",
    "    num_factors = mfm_Sigma.num_factors()\n",
    "    rescaled_sparse_F = mf.convert_compressed_to_sparse(np.power(D0, -0.5)[:, np.newaxis] * F0, \n",
    "                                                F_hpart, \n",
    "                                                ranks[:-1])\n",
    "    sigmas = scipy.sparse.linalg.svds( rescaled_sparse_F, k=num_factors-1, return_singular_vectors=False, which='LM')\n",
    "    last_sigma = scipy.sparse.linalg.svds(rescaled_sparse_F, k=1, return_singular_vectors=False, which='SM')\n",
    "\n",
    "    logdet = np.log(D0).sum() + np.log(sigmas**2 + 1).sum() + np.log(last_sigma**2 + 1).sum()\n",
    "\n",
    "    assert np.allclose(logdet, logabsdet)\n",
    "\n",
    "print(\"PASSED\")"
   ]
  },
  {
   "cell_type": "code",
   "execution_count": 34,
   "metadata": {},
   "outputs": [
    {
     "data": {
      "text/plain": [
       "(7.20165039788422, 73.36930642691019, 0.005126951203594061, 12.999447481114029)"
      ]
     },
     "execution_count": 34,
     "metadata": {},
     "output_type": "execute_result"
    }
   ],
   "source": [
    "np.diag(unpermuted_A).min(), np.diag(unpermuted_A).max(), true_D_noise.min(), true_D_noise.max()"
   ]
  },
  {
   "cell_type": "code",
   "execution_count": 35,
   "metadata": {},
   "outputs": [
    {
     "data": {
      "text/plain": [
       "True"
      ]
     },
     "execution_count": 35,
     "metadata": {},
     "output_type": "execute_result"
    }
   ],
   "source": [
    "np.allclose(true_mfm.matrix()[true_mfm.pi, :][:, true_mfm.pi], true_Sigma)"
   ]
  },
  {
   "cell_type": "code",
   "execution_count": 36,
   "metadata": {},
   "outputs": [
    {
     "name": "stdout",
     "output_type": "stream",
     "text": [
      "t=0, obj1=-48219.36820865318, D1.min()=0.11626722173724811, D1.max()=33.5054244804008, 1.8475168871873095e-10, 2.4635258375202632e-11\n",
      "t=10, obj1=-2386.832988097401, D1.min()=0.13467836651676562, D1.max()=16.089375091810197, 8.804609101543522e-11, 6.642580505845707e-11\n",
      "t=20, obj1=-2332.1259193731207, D1.min()=0.056667398679235106, D1.max()=15.521599116888474, 2.4337302653824284e-10, 1.9505639043313477e-10\n",
      "t=30, obj1=-2310.487651608291, D1.min()=0.03180429707462713, D1.max()=14.469557864819397, 2.9807490631844495e-10, 3.0145586610437897e-10\n",
      "t=40, obj1=-2300.7619567636702, D1.min()=0.025807785815916837, D1.max()=13.971095016450718, 1.7778628219467972e-10, 1.4994512903739036e-10\n",
      "t=49, obj1=-2294.0506662023363\n",
      "PASSED\n"
     ]
    }
   ],
   "source": [
    "loglikelihoods = [-np.inf]\n",
    "N = Y.shape[0]\n",
    "eps = 1e-12\n",
    "\n",
    "fitted_mfm = mfm.MFModel(hpart=F_hpart, ranks=ranks, F=F0, D=D0)\n",
    "fitted_mfm.inv_coefficients(det=True)\n",
    "for t in range(50):\n",
    "    obj1 = mfm.fast_loglikelihood_value(fitted_mfm, Y[:, fitted_mfm.pi_inv])\n",
    "\n",
    "    Sigma0 = mfm.perm_hat_Sigma(F0, D0, permuted_F_hpart, ranks)\n",
    "    lu, piv = scipy.linalg.lu_factor(Sigma0)\n",
    "    obj2 = mfm.loglikelihood_value(Sigma0, lu, piv, Y)\n",
    "    assert np.allclose(obj1, obj2), print(obj1, obj2)\n",
    "    \n",
    "    loglikelihoods += [obj1]\n",
    "\n",
    "    F1 = mfm.fast_EM_get_F(F0, D0, Y, ranks, permuted_F_hpart, row_selectors, si_groups)\n",
    "    F1_slow = mfm.EM_get_F(F0, lu, piv, Y, ranks, part_sizes, permuted_F_hpart, row_selectors, si_groups)\n",
    "    assert mf.rel_diff(F1, F1_slow) < 1e-8, print(mf.rel_diff(F1, F1_slow))\n",
    "    D1 = mfm.fast_EM_get_D(F0, D0, F1, Y, ranks, permuted_F_hpart, row_selectors, si_groups)\n",
    "    D1_slow = mfm.EM_get_D(F0, F1, lu, piv, Y, ranks, part_sizes, permuted_F_hpart, row_selectors, si_groups)\n",
    "    assert mf.rel_diff(D1, D1_slow) < 1e-8, print(mf.rel_diff(D1, D1_slow))\n",
    "    F0, D0 = F1, D1\n",
    "    assert D1.min() >= -1e-8 and loglikelihoods[-2] - 1e-8 <= loglikelihoods[-1]\n",
    "    fitted_mfm = mfm.MFModel(hpart=F_hpart, ranks=ranks, F=F1, D=D1)\n",
    "    fitted_mfm.inv_coefficients(printing=True, det=True)\n",
    "    if t % 10 == 0:\n",
    "        print(f\"{t=}, {obj1=}, {D1.min()=}, {D1.max()=}, {mf.rel_diff(F1, F1_slow)}, {mf.rel_diff(D1, D1_slow)}\")\n",
    "    \n",
    "        row_selectors_L, si_groups_L, groups_all_L = mfm.si_row_col(hpart[\"rows\"])\n",
    "        exp_true_ll = mfm.fast_exp_loglikelihood_value(np.concatenate([true_mfm.F, np.sqrt(true_mfm.D).reshape(-1, 1)], axis=1), \n",
    "                                                        fitted_mfm, ranks, hpart[\"rows\"], \n",
    "                                                        row_selectors, si_groups)\n",
    "        Sigma_fitted = fitted_mfm.matrix()\n",
    "        fit_lu, fit_piv = scipy.linalg.lu_factor(Sigma_fitted)\n",
    "        exp_true_ll2 = mfm.exp_loglikelihood_value(true_mfm.matrix(), Sigma_fitted, fit_lu, fit_piv)\n",
    "        assert np.allclose(exp_true_ll, exp_true_ll2), print(exp_true_ll, exp_true_ll2)\n",
    "\n",
    "    if loglikelihoods[-1] - loglikelihoods[-2] < eps * abs(loglikelihoods[-2]):\n",
    "        print(f\"terminating at {t=}\")\n",
    "        break\n",
    "\n",
    "print(f\"{t=}, {obj1=}\")\n",
    "\n",
    "print(\"PASSED\")"
   ]
  },
  {
   "cell_type": "code",
   "execution_count": 37,
   "metadata": {},
   "outputs": [],
   "source": [
    "B_true = np.concatenate([true_mfm.F, np.sqrt(true_mfm.D).reshape(-1, 1)], axis=1)"
   ]
  },
  {
   "cell_type": "code",
   "execution_count": 38,
   "metadata": {},
   "outputs": [],
   "source": [
    "B_prod, C_prod, ranks_prod = mfm.mlr_mlr_matmul(fitted_mfm.inv_B, fitted_mfm.inv_C, fitted_mfm.inv_ranks, \n",
    "                                                B_true, B_true, ranks, fitted_mfm.inv_hpart)\n",
    "mlr1 = mf.MLRMatrix(B=B_prod, C=C_prod, hpart=hpart, ranks=ranks_prod)"
   ]
  },
  {
   "cell_type": "code",
   "execution_count": 39,
   "metadata": {},
   "outputs": [
    {
     "data": {
      "text/plain": [
       "True"
      ]
     },
     "execution_count": 39,
     "metadata": {},
     "output_type": "execute_result"
    }
   ],
   "source": [
    "np.allclose(mlr1.matrix(), fitted_mfm.inv() @ true_mfm.matrix())"
   ]
  },
  {
   "cell_type": "code",
   "execution_count": 40,
   "metadata": {},
   "outputs": [
    {
     "name": "stdout",
     "output_type": "stream",
     "text": [
      "255737.60312980748 255737.60312980702 2321.7361889930326\n"
     ]
    }
   ],
   "source": [
    "tr_fitted_Sigma_inv_true_Sigma = mfm.full_mlr_frob_norm(B_prod, C_prod, ranks_prod, hpart[\"rows\"], si_groups_L)**2\n",
    "print(tr_fitted_Sigma_inv_true_Sigma, np.linalg.norm(mlr1.matrix(), 'fro')**2, np.trace(mlr1.matrix()))"
   ]
  },
  {
   "cell_type": "code",
   "execution_count": 41,
   "metadata": {},
   "outputs": [
    {
     "data": {
      "text/plain": [
       "True"
      ]
     },
     "execution_count": 41,
     "metadata": {},
     "output_type": "execute_result"
    }
   ],
   "source": [
    "np.allclose(fitted_mfm.matrix() @ fitted_mfm.inv(), np.eye(n))"
   ]
  },
  {
   "cell_type": "code",
   "execution_count": 42,
   "metadata": {},
   "outputs": [
    {
     "data": {
      "image/png": "[encoded data removed]",
      "text/plain": [
       "<Figure size 1000x400 with 2 Axes>"
      ]
     },
     "metadata": {},
     "output_type": "display_data"
    }
   ],
   "source": [
    "tilde_F_ci = mfm.get_sparse_F_si_col_sparsity(F_Lm1, ranks, F_hpart, si_groups[8])\n",
    "plt.figure(figsize=(10, 4)) \n",
    "plt.matshow(tilde_F_ci!=0, aspect='auto', fignum=1, cmap='hot') \n",
    "plt.colorbar() \n",
    "plt.show()"
   ]
  },
  {
   "cell_type": "code",
   "execution_count": null,
   "metadata": {},
   "outputs": [],
   "source": []
  },
  {
   "cell_type": "code",
   "execution_count": 43,
   "metadata": {},
   "outputs": [],
   "source": [
    "import numba as nb"
   ]
  },
  {
   "cell_type": "code",
   "execution_count": 44,
   "metadata": {},
   "outputs": [],
   "source": [
    "nb.njit(parallel=True)\n",
    "def nb_get_sparse_F_si_col_sparsity(F_compressed, ranks, F_hpart, group):\n",
    "    res = np.zeros(F_compressed.shape)\n",
    "    for level in nb.prange(len(group)):\n",
    "        gi = group[level]\n",
    "        r1, r2 = F_hpart[\"lk\"][level][gi], F_hpart[\"lk\"][level][gi+1]\n",
    "        res[r1:r2, ranks[:level].sum() : ranks[:level+1].sum()] = F_compressed[r1:r2, ranks[:level].sum() : ranks[:level+1].sum()]\n",
    "    return res\n"
   ]
  },
  {
   "cell_type": "code",
   "execution_count": 45,
   "metadata": {},
   "outputs": [
    {
     "name": "stdout",
     "output_type": "stream",
     "text": [
      "45.6 μs ± 398 ns per loop (mean ± std. dev. of 7 runs, 10,000 loops each)\n"
     ]
    }
   ],
   "source": [
    "%timeit nb_get_sparse_F_si_col_sparsity(F_Lm1, ranks, F_hpart, si_groups[si])"
   ]
  },
  {
   "cell_type": "code",
   "execution_count": 46,
   "metadata": {},
   "outputs": [
    {
     "name": "stdout",
     "output_type": "stream",
     "text": [
      "44.6 μs ± 1 μs per loop (mean ± std. dev. of 7 runs, 10,000 loops each)\n"
     ]
    }
   ],
   "source": [
    "%timeit mfm.get_sparse_F_si_col_sparsity(F_Lm1, ranks, F_hpart, si_groups[si])"
   ]
  },
  {
   "cell_type": "code",
   "execution_count": 47,
   "metadata": {},
   "outputs": [
    {
     "name": "stdout",
     "output_type": "stream",
     "text": [
      "PASSED\n"
     ]
    }
   ],
   "source": [
    "for _ in range(10):\n",
    "    B1, C1 = np.random.randn(n, ranks.sum()), np.random.randn(n, ranks.sum())\n",
    "\n",
    "    mlr1 = mf.MLRMatrix(B=B1, C=C1, hpart=hpart, ranks=ranks)\n",
    "\n",
    "    row_selectors_L, si_groups_L, groups_all_L = mfm.si_row_col(hpart[\"rows\"])\n",
    "    \n",
    "    frob_norm = mfm.full_mlr_frob_norm(B1, C1, ranks, hpart[\"rows\"], si_groups_L)\n",
    "    frob_norm2 = np.linalg.norm(mlr1.matrix(), 'fro')\n",
    "\n",
    "    assert np.allclose(frob_norm2, frob_norm)\n",
    "\n",
    "    tr_val = mfm.full_mlr_trace(B1, C1, ranks, hpart[\"rows\"], row_selectors, si_groups)\n",
    "    assert np.allclose(tr_val, np.trace(mlr1.matrix()))\n",
    "\n",
    "print(\"PASSED\")"
   ]
  },
  {
   "cell_type": "code",
   "execution_count": null,
   "metadata": {},
   "outputs": [],
   "source": []
  }
 ],
 "metadata": {
  "kernelspec": {
   "display_name": "routing",
   "language": "python",
   "name": "python3"
  },
  "language_info": {
   "codemirror_mode": {
    "name": "ipython",
    "version": 3
   },
   "file_extension": ".py",
   "mimetype": "text/x-python",
   "name": "python",
   "nbconvert_exporter": "python",
   "pygments_lexer": "ipython3",
   "version": "3.11.8"
  }
 },
 "nbformat": 4,
 "nbformat_minor": 2
}
