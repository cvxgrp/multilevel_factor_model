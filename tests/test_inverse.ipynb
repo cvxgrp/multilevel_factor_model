{
 "cells": [
  {
   "cell_type": "code",
   "execution_count": 1,
   "metadata": {},
   "outputs": [
    {
     "name": "stderr",
     "output_type": "stream",
     "text": [
      "/Users/parshakova.tanya/opt/anaconda3/envs/routing/lib/python3.9/site-packages/tqdm/auto.py:22: TqdmWarning: IProgress not found. Please update jupyter and ipywidgets. See https://ipywidgets.readthedocs.io/en/stable/user_install.html\n",
      "  from .autonotebook import tqdm as notebook_tqdm\n"
     ]
    }
   ],
   "source": [
    "import numpy as np\n",
    "\n",
    "import seaborn as sns\n",
    "import matplotlib.pyplot as plt\n",
    "\n",
    "import copy, time\n",
    "import random\n",
    "import pickle\n",
    "import scipy\n",
    "\n",
    "import mlrfit as mf\n",
    "import hfmfit as hf\n",
    "import numba as nb\n",
    "\n",
    "from scipy.sparse import coo_matrix\n",
    "from scipy.linalg import block_diag, pinvh"
   ]
  },
  {
   "cell_type": "code",
   "execution_count": 2,
   "metadata": {},
   "outputs": [],
   "source": [
    "np.random.seed(1001)\n",
    "random.seed(1001)"
   ]
  },
  {
   "cell_type": "markdown",
   "metadata": {},
   "source": [
    "# True model is MLR factor model with SNR = 4 \n",
    "\n",
    "Let $\\Sigma = FF^T + D$ be MLR. We generate samples using \n",
    "$$\n",
    "y = Fz + e, \\qquad z \\sim N(0, I), \\qquad N(0, D).\n",
    "$$"
   ]
  },
  {
   "cell_type": "code",
   "execution_count": 3,
   "metadata": {},
   "outputs": [],
   "source": [
    "mtype = \"small_mlr_hier\"\n",
    "n = 200\n",
    "signal_to_noise = 4\n",
    "\n",
    "\n",
    "nsamples = 20\n",
    "L = 5\n",
    "\n",
    "ranks = np.array([5, 4, 3, 2, 1])\n",
    "rank = ranks.sum()"
   ]
  },
  {
   "cell_type": "code",
   "execution_count": 4,
   "metadata": {},
   "outputs": [
    {
     "name": "stdout",
     "output_type": "stream",
     "text": [
      "level=0, num_groups=1, mean_size=200.0\n",
      "level=1, num_groups=3, mean_size=66.7\n",
      "level=2, num_groups=7, mean_size=28.6\n",
      "level=3, num_groups=16, mean_size=12.5\n",
      "level=4, num_groups=200, mean_size=1.0\n"
     ]
    }
   ],
   "source": [
    "pi_rows = np.random.permutation(n)\n",
    "hpart = {'rows':{'pi':pi_rows, 'lk':[]}, 'cols':{'pi':pi_rows, 'lk':[]}} \n",
    "for ngroups in [2, 5, 9, 17, n+1]:\n",
    "       hpart['rows']['lk'] += [ np.linspace(0, n, ngroups, endpoint=True, dtype=int)]\n",
    "hpart['rows']['lk'][1] = np.delete(hpart['rows']['lk'][1], -2)\n",
    "hpart['rows']['lk'][2] = np.delete(hpart['rows']['lk'][2], -4)\n",
    "hpart['cols']['lk'] = hpart['rows']['lk']\n",
    "part_sizes = hf.print_hpart_numgroups(hpart)"
   ]
  },
  {
   "cell_type": "code",
   "execution_count": 5,
   "metadata": {},
   "outputs": [
    {
     "data": {
      "text/plain": [
       "[array([  0, 200]),\n",
       " array([  0,  50, 100, 200]),\n",
       " array([  0,  25,  50,  75, 100, 150, 175, 200]),\n",
       " array([  0,  12,  25,  37,  50,  62,  75,  87, 100, 112, 125, 137, 150,\n",
       "        162, 175, 187, 200])]"
      ]
     },
     "execution_count": 5,
     "metadata": {},
     "output_type": "execute_result"
    }
   ],
   "source": [
    "hpart['rows']['lk'][:-1]"
   ]
  },
  {
   "cell_type": "code",
   "execution_count": 6,
   "metadata": {},
   "outputs": [
    {
     "name": "stdout",
     "output_type": "stream",
     "text": [
      "signal_var=14.018864042024738, noise_var=3.7482808971794013\n",
      "SNR=3.74007829898074, signal_to_noise=4\n"
     ]
    }
   ],
   "source": [
    "true_mlr, true_sparse_F, true_D_noise = hf.generate_mlr_model(n, hpart, ranks, signal_to_noise)\n",
    "true_compressed_F = true_mlr.B[:, :-1]"
   ]
  },
  {
   "cell_type": "code",
   "execution_count": 7,
   "metadata": {},
   "outputs": [
    {
     "data": {
      "image/png": "[encoded data removed]",
      "text/plain": [
       "<Figure size 1000x400 with 2 Axes>"
      ]
     },
     "metadata": {},
     "output_type": "display_data"
    },
    {
     "name": "stdout",
     "output_type": "stream",
     "text": [
      "(200, 70)\n"
     ]
    }
   ],
   "source": [
    "plt.figure(figsize=(10, 4)) \n",
    "plt.matshow(true_sparse_F.T, aspect='auto', fignum=1, cmap='hot') \n",
    "plt.colorbar() \n",
    "plt.show()\n",
    "print(true_sparse_F.shape)"
   ]
  },
  {
   "cell_type": "code",
   "execution_count": 8,
   "metadata": {},
   "outputs": [
    {
     "data": {
      "text/plain": [
       "numpy.ndarray"
      ]
     },
     "execution_count": 8,
     "metadata": {},
     "output_type": "execute_result"
    }
   ],
   "source": [
    "type(true_sparse_F)"
   ]
  },
  {
   "cell_type": "code",
   "execution_count": 9,
   "metadata": {},
   "outputs": [],
   "source": [
    "filename = \"%s_r%d_%d\"%(mtype, rank, n)"
   ]
  },
  {
   "cell_type": "code",
   "execution_count": 10,
   "metadata": {},
   "outputs": [
    {
     "name": "stdout",
     "output_type": "stream",
     "text": [
      "num_levels=5, num_sparsities=16\n",
      "(16, 4) [ 0  2  6 15]\n"
     ]
    }
   ],
   "source": [
    "row_selectors, si_groups, F_hpart, groups_all = hf.row_col_selections(hpart, return_groups=True)"
   ]
  },
  {
   "cell_type": "code",
   "execution_count": 11,
   "metadata": {},
   "outputs": [
    {
     "name": "stdout",
     "output_type": "stream",
     "text": [
      "PASSED\n"
     ]
    }
   ],
   "source": [
    "for level_A in range(len(F_hpart[\"lk\"])): \n",
    "    for level_B in range(level_A+1):\n",
    "        lk_A = F_hpart['lk'][level_A]\n",
    "        lk_B = F_hpart['lk'][level_B]\n",
    "        A = true_compressed_F[:,ranks[:level_A].sum():ranks[:level_A+1].sum()]\n",
    "        B = true_compressed_F[:,ranks[:level_B].sum():ranks[:level_B+1].sum()]\n",
    "        \n",
    "        AtB = hf.block_diag_lk(lk_A, A).T @  hf.block_diag_lk(lk_B, B)\n",
    "        res = hf.mult_blockdiag_refined_AtB(A, lk_A, B, lk_B)\n",
    "        # res2 = jit_mult_blockdiag_refined_AtB(A, lk_A, B, lk_B)\n",
    "        # indices of groups in A that refine groups in B\n",
    "        indices_A2B = np.searchsorted(lk_A, lk_B, side='left') * ranks[level_A]\n",
    "        assert np.allclose(AtB, hf.block_diag_lk(indices_A2B, res)) \n",
    "        # assert np.allclose(AtB, block_diag_lk(indices_A2B, res2))\n",
    "\n",
    "        AAt = hf.block_diag_FFt(level_A, F_hpart, A)\n",
    "        assert np.allclose(AAt, hf.block_diag_AB(lk_A, A, A.T)) and np.allclose(AAt, hf.block_diag_lk(lk_A, A) @ hf.block_diag_lk(lk_A, A).T)\n",
    "\n",
    "print(\"PASSED\")"
   ]
  },
  {
   "cell_type": "code",
   "execution_count": 12,
   "metadata": {},
   "outputs": [],
   "source": [
    "F_Lm1, D = true_compressed_F+0, true_D_noise+0\n",
    "v = np.random.randn(n)"
   ]
  },
  {
   "cell_type": "code",
   "execution_count": null,
   "metadata": {},
   "outputs": [],
   "source": []
  },
  {
   "cell_type": "code",
   "execution_count": 13,
   "metadata": {},
   "outputs": [],
   "source": [
    "v_F_Lm1 = np.concatenate([v[:, np.newaxis], F_Lm1], axis=1)\n",
    "prev_l_recurrence = (1/D[:, np.newaxis]) * v_F_Lm1\n",
    "ranks_v = ranks + 0\n",
    "ranks_v[0] += 1\n",
    "\n",
    "sparse_v_F_lm1 = np.concatenate([v[:, np.newaxis], true_sparse_F], axis=1)\n",
    "sparse_prev_l_recurrence = (1/D[:, np.newaxis]) * sparse_v_F_lm1\n",
    "assert np.allclose(np.diag(1/D) @ true_compressed_F, prev_l_recurrence[:, 1:])\n",
    "assert np.allclose(sparse_prev_l_recurrence, hf.compressed2sparse_recurrence(prev_l_recurrence, F_hpart[\"lk\"], ranks_v))"
   ]
  },
  {
   "cell_type": "code",
   "execution_count": 14,
   "metadata": {},
   "outputs": [
    {
     "name": "stdout",
     "output_type": "stream",
     "text": [
      "level=3\n"
     ]
    },
    {
     "name": "stdout",
     "output_type": "stream",
     "text": [
      "level=2\n",
      "level=1\n",
      "PASSED\n"
     ]
    }
   ],
   "source": [
    "size_v_F_l = np.array([F_hpart[\"lk\"][l].size-1 for l in range(L-1)]) * ranks_v[:-1]\n",
    "for level in reversed(range(1, L-1)):\n",
    "    print(f\"{level=}\")\n",
    "    pl = F_hpart['lk'][level].size - 1\n",
    "    rl = ranks[level]\n",
    "    assert prev_l_recurrence.shape == (n, 1 + ranks[:level+1].sum())\n",
    "    assert np.allclose(sparse_prev_l_recurrence, hf.compressed2sparse_recurrence(prev_l_recurrence, F_hpart[\"lk\"][:level+1], ranks_v[:level+1]))\n",
    "    # M0 same sparsity as Fl\n",
    "    M0 = prev_l_recurrence[:, -ranks_v[level]:]\n",
    "\n",
    "    # M1 = M0.T @ rec_term, same sparsity as rec_term\n",
    "    M1 = np.zeros((rl * pl, 1 + ranks[:level].sum()))\n",
    "    for lp in range(level):\n",
    "        M1[:, ranks_v[:lp].sum() : ranks_v[:lp+1].sum()] = hf.mult_blockdiag_refined_AtB(M0, \n",
    "                                                                                      F_hpart['lk'][level], \n",
    "                                                                                      v_F_Lm1[:,ranks_v[:lp].sum():ranks_v[:lp+1].sum()], F_hpart['lk'][lp])\n",
    "    # check M1 computation\n",
    "    sparse_M0 = sparse_prev_l_recurrence[:, size_v_F_l[:level].sum():size_v_F_l[:level+1].sum()]\n",
    "    sparse_M1 = sparse_M0.T @ sparse_v_F_lm1[:, :size_v_F_l[:level].sum()]\n",
    "    M1_lks = [np.searchsorted(F_hpart['lk'][level], lk_B, side='left') * rl for lk_B in F_hpart['lk'][:level]]\n",
    "    assert np.allclose(sparse_M1, hf.compressed2sparse_recurrence(M1, M1_lks, ranks_v[:level]))\n",
    "    # del sparse_M0, sparse_M1\n",
    "\n",
    "\n",
    "    # M2 = (I + Fl^T M0)^{-1}, blockdiagonal with pl blocks of size (rl x rl)\n",
    "    FlTM0 = hf.mult_blockdiag_refined_AtB(v_F_Lm1[:,ranks_v[:level].sum():ranks_v[:level+1].sum()], \n",
    "                                       F_hpart['lk'][level], \n",
    "                                       M0, \n",
    "                                       F_hpart['lk'][level])\n",
    "    # check Fl^TM0 computation\n",
    "    sparse_FlTM0 = sparse_v_F_lm1[:, size_v_F_l[:level].sum():size_v_F_l[:level+1].sum()].T @ sparse_M0\n",
    "    assert np.allclose(sparse_FlTM0, hf.block_diag_lk(np.linspace(0, pl*rl, num=pl+1, endpoint=True, dtype=int), FlTM0))\n",
    "    M2 = np.zeros((pl*rl, rl))\n",
    "    for k in range(pl):\n",
    "        np.fill_diagonal(FlTM0[k*rl : (k+1)*rl], FlTM0[k*rl : (k+1)*rl].diagonal() + 1)\n",
    "        M2[k*rl : (k+1)*rl] = pinvh(FlTM0[k*rl : (k+1)*rl])\n",
    "    # check M2 computation, symmetric PD matrix\n",
    "    sparse_M2 = np.linalg.inv(np.eye(rl*pl) + sparse_FlTM0)\n",
    "    assert np.allclose(sparse_M2, hf.block_diag_lk(np.linspace(0, pl*rl, num=pl+1, endpoint=True, dtype=int), M2))\n",
    "\n",
    "\n",
    "    # M3 = M2 @ M1, same sparsity as M1\n",
    "    M3 = np.zeros((rl * pl, 1 + ranks[:level].sum()))\n",
    "    for lp in range(level):\n",
    "        M3[:, ranks_v[:lp].sum():ranks_v[:lp+1].sum()] = hf.mult_blockdiag_refined_AtB(M2, \n",
    "                                                                                    np.linspace(0, pl*rl, num=pl+1, endpoint=True, dtype=int), \n",
    "                                                                                    M1[:,ranks_v[:lp].sum():ranks_v[:lp+1].sum()], \n",
    "                                                                                    M1_lks[lp])\n",
    "    # check M3 computation\n",
    "    sparse_M3 = sparse_M2 @ sparse_M1\n",
    "    assert np.allclose(sparse_M3, hf.compressed2sparse_recurrence(M3, M1_lks, ranks_v[:level]))\n",
    "\n",
    "\n",
    "    # M4 = M0 @ M3, same sparsity as current rec_term\n",
    "    M4 = np.zeros((n, 1 + ranks[:level].sum()))\n",
    "    for lp in range(level):\n",
    "        M4[:, ranks_v[:lp].sum() : ranks_v[:lp+1].sum()] = hf.mult_blockdiag_refined_AB(M0, \n",
    "                                                                                      F_hpart[\"lk\"][level], \n",
    "                                                                                      M3[:,ranks_v[:lp].sum():ranks_v[:lp+1].sum()], \n",
    "                                                                                      M1_lks[lp])\n",
    "    # check M4 computation\n",
    "    sparse_M4 = sparse_M0 @ sparse_M3\n",
    "    assert np.allclose(sparse_M4, hf.compressed2sparse_recurrence(M4, F_hpart[\"lk\"][:level], ranks_v[:level]))\n",
    "\n",
    "\n",
    "    # M5 \n",
    "    prev_l_recurrence = prev_l_recurrence[:, :ranks_v[:level].sum()] - M4\n",
    "    # check M5 computation\n",
    "    sparse_prev_l_recurrence = sparse_prev_l_recurrence[:, :size_v_F_l[:level].sum()] - sparse_M4\n",
    "    assert np.allclose(sparse_prev_l_recurrence, hf.compressed2sparse_recurrence(prev_l_recurrence, F_hpart[\"lk\"][:level], ranks_v[:level]))\n",
    "    \n",
    "print(\"PASSED\")"
   ]
  },
  {
   "cell_type": "code",
   "execution_count": 15,
   "metadata": {},
   "outputs": [
    {
     "data": {
      "text/plain": [
       "(200, 5)"
      ]
     },
     "execution_count": 15,
     "metadata": {},
     "output_type": "execute_result"
    }
   ],
   "source": [
    "prev_l_recurrence[:, -ranks[0]:].shape"
   ]
  },
  {
   "cell_type": "code",
   "execution_count": 16,
   "metadata": {},
   "outputs": [
    {
     "name": "stdout",
     "output_type": "stream",
     "text": [
      "PASSED\n"
     ]
    }
   ],
   "source": [
    "# final level=0 \n",
    "level = 0\n",
    "pl = F_hpart['lk'][level].size - 1\n",
    "rl = ranks[level]\n",
    "assert prev_l_recurrence.shape == (n, 1 + ranks[:level+1].sum())\n",
    "assert np.allclose(sparse_prev_l_recurrence, hf.compressed2sparse_recurrence(prev_l_recurrence, F_hpart[\"lk\"][:level+1], ranks_v[:level+1]))\n",
    "# M0 same sparsity as Fl\n",
    "M0 = prev_l_recurrence[:, -ranks[level]:]\n",
    "\n",
    "# M1 = M0.T @ rec_term, same sparsity as rec_term\n",
    "M1 = hf.mult_blockdiag_refined_AtB(M0, \n",
    "                                F_hpart['lk'][level], \n",
    "                                v[:, np.newaxis], \n",
    "                                F_hpart['lk'][0])\n",
    "# check M1 computation\n",
    "sparse_M0 = sparse_prev_l_recurrence[:, 1:size_v_F_l[:level+1].sum()]\n",
    "sparse_M1 = sparse_M0.T @ v[:, np.newaxis] \n",
    "assert np.allclose(sparse_M1, M1)\n",
    "# del sparse_M0, sparse_M1\n",
    "\n",
    "\n",
    "# M2 = (I + Fl^T M0)^{-1}, blockdiagonal with pl blocks of size (rl x rl)\n",
    "FlTM0 = hf.mult_blockdiag_refined_AtB(v_F_Lm1[:,1:ranks_v[:level+1].sum()], \n",
    "                                    F_hpart['lk'][level], \n",
    "                                    M0, \n",
    "                                    F_hpart['lk'][level])\n",
    "# check Fl^TM0 computation\n",
    "sparse_FlTM0 = sparse_v_F_lm1[:, 1:size_v_F_l[:level+1].sum()].T @ sparse_M0\n",
    "assert np.allclose(sparse_FlTM0, FlTM0)\n",
    "M2 = pinvh(np.eye(rl) + FlTM0)\n",
    "# check M2 computation, symmetric PD matrix\n",
    "sparse_M2 = np.linalg.inv(np.eye(rl*pl) + sparse_FlTM0)\n",
    "assert np.allclose(sparse_M2, M2)\n",
    "\n",
    "\n",
    "# M3 = M2 @ M1, same sparsity as M1\n",
    "M3 = M2 @ M1\n",
    "# check M3 computation\n",
    "sparse_M3 = sparse_M2 @ sparse_M1\n",
    "assert np.allclose(sparse_M3, M3)\n",
    "\n",
    "\n",
    "# M4 = M0 @ M3, same sparsity as current rec_term\n",
    "M4 = M0 @ M3\n",
    "# check M4 computation\n",
    "sparse_M4 = sparse_M0 @ sparse_M3\n",
    "assert np.allclose(sparse_M4, M4)\n",
    "\n",
    "\n",
    "# M5 \n",
    "prev_l_recurrence = prev_l_recurrence[:, :1] - M4\n",
    "# check M5 computation\n",
    "sparse_prev_l_recurrence = sparse_prev_l_recurrence[:, :size_v_F_l[:level].sum()] - sparse_M4\n",
    "assert np.allclose(sparse_prev_l_recurrence, prev_l_recurrence)\n",
    "\n",
    "print(\"PASSED\")"
   ]
  },
  {
   "cell_type": "code",
   "execution_count": 17,
   "metadata": {},
   "outputs": [
    {
     "data": {
      "text/plain": [
       "(200, 1)"
      ]
     },
     "execution_count": 17,
     "metadata": {},
     "output_type": "execute_result"
    }
   ],
   "source": [
    "prev_l_recurrence.shape"
   ]
  },
  {
   "cell_type": "code",
   "execution_count": 18,
   "metadata": {},
   "outputs": [
    {
     "data": {
      "text/plain": [
       "(200, 200)"
      ]
     },
     "execution_count": 18,
     "metadata": {},
     "output_type": "execute_result"
    }
   ],
   "source": [
    "(true_sparse_F @ true_sparse_F.T + np.diag(true_D_noise)).shape"
   ]
  },
  {
   "cell_type": "code",
   "execution_count": 19,
   "metadata": {},
   "outputs": [
    {
     "data": {
      "text/plain": [
       "3.8013388916360716e-11"
      ]
     },
     "execution_count": 19,
     "metadata": {},
     "output_type": "execute_result"
    }
   ],
   "source": [
    "np.linalg.norm(prev_l_recurrence - np.linalg.inv(true_sparse_F @ true_sparse_F.T + np.diag(true_D_noise)) @ v[:, np.newaxis])"
   ]
  },
  {
   "cell_type": "code",
   "execution_count": null,
   "metadata": {},
   "outputs": [],
   "source": []
  }
 ],
 "metadata": {
  "kernelspec": {
   "display_name": "routing",
   "language": "python",
   "name": "python3"
  },
  "language_info": {
   "codemirror_mode": {
    "name": "ipython",
    "version": 3
   },
   "file_extension": ".py",
   "mimetype": "text/x-python",
   "name": "python",
   "nbconvert_exporter": "python",
   "pygments_lexer": "ipython3",
   "version": "3.9.16"
  }
 },
 "nbformat": 4,
 "nbformat_minor": 2
}
