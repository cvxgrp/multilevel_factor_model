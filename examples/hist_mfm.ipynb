{
 "cells": [
  {
   "cell_type": "code",
   "execution_count": 1,
   "id": "6d72e5d4",
   "metadata": {},
   "outputs": [
    {
     "name": "stderr",
     "output_type": "stream",
     "text": [
      "/Users/parshakova.tanya/opt/anaconda3/envs/routing/lib/python3.9/site-packages/tqdm/auto.py:22: TqdmWarning: IProgress not found. Please update jupyter and ipywidgets. See https://ipywidgets.readthedocs.io/en/stable/user_install.html\n",
      "  from .autonotebook import tqdm as notebook_tqdm\n"
     ]
    }
   ],
   "source": [
    "import numpy as np\n",
    "\n",
    "import seaborn as sns\n",
    "import matplotlib.pyplot as plt\n",
    "\n",
    "import copy, time\n",
    "import random\n",
    "import pickle\n",
    "import scipy\n",
    "\n",
    "import mlrfit as mf\n",
    "import mfmodel as mfm\n",
    "import os"
   ]
  },
  {
   "cell_type": "code",
   "execution_count": 2,
   "id": "4759ee57",
   "metadata": {},
   "outputs": [],
   "source": [
    "np.random.seed(1001)\n",
    "random.seed(1001)"
   ]
  },
  {
   "cell_type": "markdown",
   "id": "18de320e",
   "metadata": {},
   "source": [
    "# True model is MLR factor model with SNR = 4 \n",
    "\n",
    "Let $\\Sigma = FF^T + D$ be MLR. We generate samples using \n",
    "$$\n",
    "y = Fz + e, \\qquad z \\sim N(0, I), \\qquad N(0, D).\n",
    "$$"
   ]
  },
  {
   "cell_type": "code",
   "execution_count": 3,
   "id": "4fe21c39",
   "metadata": {},
   "outputs": [],
   "source": [
    "mtype = \"medium_mlr_hier\"\n",
    "n = 5000\n",
    "signal_to_noise = 4\n",
    "\n",
    "L = 5\n",
    "\n",
    "ranks = np.array([10, 4, 3, 2, 1])\n",
    "rank = ranks.sum()"
   ]
  },
  {
   "cell_type": "code",
   "execution_count": 4,
   "id": "69daa368",
   "metadata": {},
   "outputs": [
    {
     "data": {
      "text/plain": [
       "80"
      ]
     },
     "execution_count": 4,
     "metadata": {},
     "output_type": "execute_result"
    }
   ],
   "source": [
    "nsamples = 4 * rank\n",
    "nsamples"
   ]
  },
  {
   "cell_type": "code",
   "execution_count": 5,
   "id": "1b8661e6",
   "metadata": {},
   "outputs": [
    {
     "name": "stdout",
     "output_type": "stream",
     "text": [
      "level=0, num_groups=1, mean_size=5000.0\n",
      "level=1, num_groups=4, mean_size=1250.0\n",
      "level=2, num_groups=8, mean_size=625.0\n",
      "level=3, num_groups=16, mean_size=312.5\n",
      "level=4, num_groups=5000, mean_size=1.0\n"
     ]
    }
   ],
   "source": [
    "pi_rows = np.random.permutation(n)\n",
    "hpart = {'rows':{'pi':pi_rows, 'lk':[]}, 'cols':{'pi':pi_rows, 'lk':[]}} \n",
    "for ngroups in [2, 5, 9, 17, n+1]:\n",
    "       hpart['rows']['lk'] += [ np.linspace(0, n, ngroups, endpoint=True, dtype=int)]\n",
    "hpart['cols']['lk'] = hpart['rows']['lk']\n",
    "part_sizes = mfm.print_hpart_numgroups(hpart)"
   ]
  },
  {
   "cell_type": "code",
   "execution_count": 6,
   "id": "bc781a6d",
   "metadata": {},
   "outputs": [],
   "source": [
    "filename = \"%s_r%d_%d\"%(mtype, rank, n)"
   ]
  },
  {
   "cell_type": "code",
   "execution_count": 7,
   "id": "35a7ae8b",
   "metadata": {},
   "outputs": [
    {
     "name": "stdout",
     "output_type": "stream",
     "text": [
      "118.86462614087395\n",
      "153.73269580305896\n",
      "131.37967536178985\n",
      "147.43020331736807\n",
      "138.94885226538645\n",
      "183.13898430737208\n",
      "156.33071036236106\n",
      "152.94024695849112\n"
     ]
    }
   ],
   "source": [
    "folder_path = \"slurm/outputs\"\n",
    "pickle_files = [f for f in os.listdir(folder_path) if f.endswith('.pickle')]\n",
    "\n",
    "ll_distribution = {\"frob\":{\"train\":[], \"exp\":[]},\n",
    "                   \"mle\":{\"train\":[], \"exp\":[]}}\n",
    "\n",
    "for file in pickle_files:\n",
    "    file_path = os.path.join(folder_path, file)\n",
    "    with open(file_path, 'rb') as f:\n",
    "        ll_i = pickle.load(f)\n",
    "\n",
    "    print(- np.mean(ll_i[\"frob\"][\"exp\"]) + np.mean(ll_i[\"mle\"][\"exp\"]))\n",
    "    ll_distribution[\"frob\"][\"train\"] += ll_i[\"frob\"][\"train\"]\n",
    "    ll_distribution[\"frob\"][\"exp\"] += ll_i[\"frob\"][\"exp\"]\n",
    "    ll_distribution[\"mle\"][\"train\"] += ll_i[\"mle\"][\"train\"]\n",
    "    ll_distribution[\"mle\"][\"exp\"] += ll_i[\"mle\"][\"exp\"]"
   ]
  },
  {
   "cell_type": "code",
   "execution_count": 8,
   "id": "df1a9757",
   "metadata": {},
   "outputs": [
    {
     "name": "stdout",
     "output_type": "stream",
     "text": [
      "200 samples in histogram\n"
     ]
    },
    {
     "data": {
      "image/png": "[encoded data removed]",
      "text/plain": [
       "<Figure size 900x540 with 1 Axes>"
      ]
     },
     "metadata": {},
     "output_type": "display_data"
    }
   ],
   "source": [
    "plt.rcParams.update({\n",
    "    \"text.usetex\": True,\n",
    "    \"text.latex.preamble\": r\"\\usepackage{amsmath}\"\n",
    "})\n",
    "fig, axs = plt.subplots(1, 1, figsize=(5, 3), dpi=180, sharey=True)\n",
    "\n",
    "mean1, std1 = np.mean(ll_distribution[\"frob\"][\"exp\"]), np.std(ll_distribution[\"frob\"][\"exp\"])\n",
    "mean2, std2 = np.mean(ll_distribution[\"mle\"][\"exp\"]), np.std(ll_distribution[\"mle\"][\"exp\"])\n",
    "\n",
    "print(len(ll_distribution[\"frob\"][\"exp\"]), \"samples in histogram\")\n",
    "\n",
    "plt.hist(ll_distribution[\"frob\"][\"exp\"], bins=30, alpha=0.5, color='blue', label='Frob', density=True, edgecolor='black')\n",
    "plt.hist(ll_distribution[\"mle\"][\"exp\"], bins=22, alpha=0.5, color='yellow', label='MLE', density=True, edgecolor='black')\n",
    "\n",
    "plt.axvline(mean1, color='darkblue', linestyle='--', linewidth=1)\n",
    "plt.axvline(mean2, color='darkgoldenrod', linestyle='--', linewidth=1)\n",
    "\n",
    "# plt.title('Distribution of expected log-likelihoods')\n",
    "plt.xlabel(r'$\\mathbf{E} (\\ell(F, D; y))$')\n",
    "plt.ylabel('Density')\n",
    "plt.legend()\n",
    "plt.grid(color='silver', linestyle='-', linewidth=0.3)  # Adjust the color, linestyle, and linewidth\n",
    "axs.grid(True)\n",
    "plt.tight_layout()\n",
    "plt.savefig(f\"plots/hist_{filename}.pdf\", bbox_inches='tight')"
   ]
  },
  {
   "cell_type": "code",
   "execution_count": 9,
   "id": "0d73e854",
   "metadata": {},
   "outputs": [
    {
     "name": "stdout",
     "output_type": "stream",
     "text": [
      "200 samples in histogram\n"
     ]
    },
    {
     "data": {
      "image/png": "[encoded data removed]",
      "text/plain": [
       "<Figure size 900x540 with 1 Axes>"
      ]
     },
     "metadata": {},
     "output_type": "display_data"
    }
   ],
   "source": [
    "plt.rcParams.update({\n",
    "    \"text.usetex\": True,\n",
    "    \"text.latex.preamble\": r\"\\usepackage{amsmath}\"\n",
    "})\n",
    "fig, axs = plt.subplots(1, 1, figsize=(5, 3), dpi=180, sharey=True)\n",
    "\n",
    "diff = np.array(ll_distribution[\"mle\"][\"exp\"]) - np.array(ll_distribution[\"frob\"][\"exp\"])\n",
    "mean = np.mean(diff)\n",
    "\n",
    "print(len(ll_distribution[\"frob\"][\"exp\"]), \"samples in histogram\")\n",
    "plt.hist(diff, bins=30, alpha=0.5, color='green', label='MLE', density=True, edgecolor='black')\n",
    "\n",
    "plt.axvline(mean, color='darkgreen', linestyle='--', linewidth=1)\n",
    "\n",
    "# plt.title('Distribution of expected log-likelihoods')\n",
    "plt.xlabel(r'$\\mathbf{E} (\\ell(F^{\\text{MLE}}, D^{\\text{MLE}}; y))- \\mathbf{E} (\\ell(F^{\\text{Frob}}, D^{\\text{Frob}}; y))$')\n",
    "plt.ylabel('Density')\n",
    "# plt.legend()\n",
    "plt.grid(color='silver', linestyle='-', linewidth=0.3)  \n",
    "axs.grid(True)\n",
    "plt.tight_layout()\n",
    "plt.savefig(f\"plots/hist_diff_{filename}.pdf\", bbox_inches='tight')"
   ]
  },
  {
   "cell_type": "code",
   "execution_count": 26,
   "id": "fb6640df",
   "metadata": {},
   "outputs": [
    {
     "data": {
      "text/plain": [
       "0.5"
      ]
     },
     "execution_count": 26,
     "metadata": {},
     "output_type": "execute_result"
    }
   ],
   "source": [
    "diff[diff<0].size / diff.size * 100"
   ]
  },
  {
   "cell_type": "code",
   "execution_count": 27,
   "id": "263732e9",
   "metadata": {},
   "outputs": [
    {
     "data": {
      "text/plain": [
       "(147.84574931458755, 70.59046353364518)"
      ]
     },
     "execution_count": 27,
     "metadata": {},
     "output_type": "execute_result"
    }
   ],
   "source": [
    "np.mean(diff), np.std(diff)"
   ]
  },
  {
   "cell_type": "markdown",
   "id": "6bc19e8e",
   "metadata": {},
   "source": [
    "# True model loglikelihoods"
   ]
  },
  {
   "cell_type": "code",
   "execution_count": 10,
   "id": "645a5249",
   "metadata": {},
   "outputs": [
    {
     "name": "stdout",
     "output_type": "stream",
     "text": [
      "signal_var=18.914071143486378, noise_var=4.736239429102694\n",
      "SNR=3.9934786715522423, signal_to_noise=4\n",
      "num_levels=5, num_sparsities=16\n",
      "(16, 4) [ 0  3  7 15]\n"
     ]
    }
   ],
   "source": [
    "true_mlr, true_sparse_F, true_D_noise = mfm.generate_mlr_model(n, hpart, ranks, signal_to_noise)\n",
    "row_selectors, si_groups, F_hpart = mfm.row_col_selections(hpart)\n",
    "permuted_F_hpart = {\"pi_inv\":np.arange(n), \"pi\":np.arange(n), \"lk\":F_hpart[\"lk\"]}"
   ]
  },
  {
   "cell_type": "code",
   "execution_count": 11,
   "id": "ee43636b",
   "metadata": {},
   "outputs": [],
   "source": [
    "C = mfm.generate_data(true_sparse_F, true_D_noise, nsamples, true_mlr)\n",
    "Z = (C - C.mean(axis=1, keepdims=True))[hpart[\"rows\"][\"pi\"], :]\n",
    "del C\n",
    "unpermuted_A = (Z @ Z.T / (Z.shape[1]-1))[true_mlr.pi_inv_rows, :][:, true_mlr.pi_inv_cols]\n",
    "# permute to put clusters on diagonal\n",
    "Y = Z.T\n",
    "N = Y.shape[0]"
   ]
  },
  {
   "cell_type": "code",
   "execution_count": 12,
   "id": "26200d90",
   "metadata": {},
   "outputs": [
    {
     "name": "stdout",
     "output_type": "stream",
     "text": [
      "TR: train ll=-10457.12570454074, exp ll=-10473.295666185331\n"
     ]
    }
   ],
   "source": [
    "true_F, true_D = true_mlr.B[:, :-1]+0, true_D_noise+0\n",
    "true_mfm = mfm.MFModel(F=true_F, D=true_D, hpart=F_hpart, ranks=ranks)\n",
    "\n",
    "true_train_obj = mfm.fast_loglikelihood_value(true_F, true_D, Y, ranks, permuted_F_hpart,\n",
    "                                           tol1=1e-5, tol2=1e-5)\n",
    "exp_true_ll = mfm.fast_exp_true_loglikelihood_value(true_F, true_D, ranks, F_hpart,\n",
    "                                           tol1=1e-5, tol2=1e-5)\n",
    "print(f\"TR: train ll={true_train_obj}, exp ll={exp_true_ll}\")"
   ]
  },
  {
   "cell_type": "code",
   "execution_count": 19,
   "id": "b10040a3",
   "metadata": {},
   "outputs": [
    {
     "data": {
      "text/plain": [
       "82"
      ]
     },
     "execution_count": 19,
     "metadata": {},
     "output_type": "execute_result"
    }
   ],
   "source": [
    "true_mfm.num_factors()"
   ]
  },
  {
   "cell_type": "markdown",
   "id": "239e7f93",
   "metadata": {},
   "source": [
    "# Distribution of $\\mathbf{E}_y\\ell(\\theta(Y^{\\text{train}}); y)$"
   ]
  },
  {
   "cell_type": "code",
   "execution_count": 13,
   "id": "72b61a52",
   "metadata": {},
   "outputs": [],
   "source": [
    "\n",
    "# with open(f\"outputs/hist_ll_{filename}.pickle\", 'rb') as file:\n",
    "#     ll_distribution = pickle.load(file)"
   ]
  },
  {
   "cell_type": "code",
   "execution_count": 14,
   "id": "ce7fdcaf",
   "metadata": {},
   "outputs": [
    {
     "name": "stdout",
     "output_type": "stream",
     "text": [
      "t=0\n"
     ]
    },
    {
     "name": "stderr",
     "output_type": "stream",
     "text": [
      "/Users/parshakova.tanya/Documents/projects/MLR_Matrices/mlr_fitting/mlrfit/utils.py:408: NumbaPerformanceWarning: \u001b[1m\u001b[1m\u001b[1mnp.dot() is faster on contiguous arrays, called on (array(float64, 2d, A), array(float64, 2d, A))\u001b[0m\u001b[0m\u001b[0m\n",
      "  hat_A_except_level[r1:r2, c1:c2] += np.dot(B_level[r1:r2], C_level[c1:c2].T)\n"
     ]
    },
    {
     "name": "stdout",
     "output_type": "stream",
     "text": [
      "FR: train ll=-9838.76488497598, exp ll=-11905.232640045353\n",
      "ML: train ll=-9748.445789524718, exp ll=-11791.765146442502\n"
     ]
    }
   ],
   "source": [
    "for t in range(1):\n",
    "    print(f\"{t=}\")\n",
    "    C = mfm.generate_data(true_sparse_F, true_D_noise, nsamples, true_mlr)\n",
    "    Z = (C - C.mean(axis=1, keepdims=True))[hpart[\"rows\"][\"pi\"], :]\n",
    "    del C\n",
    "    unpermuted_A = (Z @ Z.T / (Z.shape[1]-1))[true_mlr.pi_inv_rows, :][:, true_mlr.pi_inv_cols]\n",
    "    # permute to put clusters on diagonal\n",
    "    Y = Z.T\n",
    "    N = Y.shape[0]\n",
    "\n",
    "    # Frobenius \n",
    "    frob_mfm, losses = mfm.fast_frob_fit_loglikehood(unpermuted_A, Y, F_hpart, hpart, ranks, printing=False, eps_ff=1e-3)\n",
    "    frob_mfm.D = np.maximum(1e-6, frob_mfm.D )\n",
    "    obj_frob = mfm.fast_loglikelihood_value(frob_mfm.F, frob_mfm.D, Y, ranks, permuted_F_hpart)\n",
    "    frob_mfm.inv_coefficients()\n",
    "    obj_frob_exp = mfm.fast_exp_loglikelihood_value(np.concatenate([true_F, np.sqrt(true_D).reshape(-1, 1)], axis=1), \n",
    "                                                            frob_mfm, ranks, hpart[\"rows\"], F_hpart, \n",
    "                                                            row_selectors, si_groups, tol1=1e-8, tol2=1e-8)\n",
    "    \n",
    "    print(f\"FR: train ll={obj_frob}, exp ll={obj_frob_exp}\")\n",
    "\n",
    "    # MLE\n",
    "    fitted_mfm, loglikelihoods = mfm.fit(Y, ranks, F_hpart, printing=False, max_iter=300, freq=100)\n",
    "    fitted_mfm.inv_coefficients()\n",
    "    obj_exp = mfm.fast_exp_loglikelihood_value(np.concatenate([true_F, np.sqrt(true_D).reshape(-1, 1)], axis=1), \n",
    "                                                            fitted_mfm, ranks, hpart[\"rows\"], F_hpart, \n",
    "                                                            row_selectors, si_groups, tol1=1e-8, tol2=1e-8)\n",
    "\n",
    "    print(f\"ML: train ll={loglikelihoods[-1]}, exp ll={obj_exp}\")"
   ]
  },
  {
   "cell_type": "code",
   "execution_count": 15,
   "id": "9077cd70",
   "metadata": {},
   "outputs": [
    {
     "data": {
      "image/png": "[encoded data removed]",
      "text/plain": [
       "<Figure size 900x540 with 1 Axes>"
      ]
     },
     "metadata": {},
     "output_type": "display_data"
    }
   ],
   "source": [
    "plt.rcParams.update({\n",
    "    \"text.usetex\": True,\n",
    "    \"text.latex.preamble\": r\"\\usepackage{amsmath}\"\n",
    "})\n",
    "fig, axs = plt.subplots(1, 1, figsize=(5, 3), dpi=180, sharey=True)\n",
    "\n",
    "ll = np.array(loglikelihoods[1:])\n",
    "# print(f\"{ranks=}, difference={(ll[-1]-obj_frobs[str(ranks)][\"train\"]):.2f}, %increase={(ll[-1]-obj_frobs[str(ranks)][\"train\"])/obj_frobs[str(ranks)][\"train\"]*100:.2f}\")\n",
    "axs.plot(ll, color='r', lw=1, label=r\"$\\text{MLE}$\")\n",
    "axs.set_xlabel('iteration')\n",
    "axs.axhline(obj_frob, 0, ll.size-1, color='b', lw=1, label=r\"$\\text{Frob}$\")\n",
    "axs.set_ylabel(r'$\\ell(F, D; Y)/N$')\n",
    "# axs.set_yscale('symlog')\n",
    "axs.set_ylim([obj_frob - 35, ll.max() + 10])\n",
    "# axs.axhline(y=true_test_obj, label='True', c='g', alpha=0.5)\n",
    "axs.grid(True)\n",
    "axs.legend()\n",
    "    # axs[i].set_title(f\"ranks$={list(ranks)}$\")\n",
    "# plt.show()\n",
    "plt.tight_layout()\n",
    "plt.savefig(f\"plots/em_{mtype}.pdf\", bbox_inches='tight')"
   ]
  },
  {
   "cell_type": "code",
   "execution_count": 18,
   "id": "7cdb644c",
   "metadata": {},
   "outputs": [
    {
     "name": "stdout",
     "output_type": "stream",
     "text": [
      "FR: train ll=-9838.76488497598, exp ll=-11905.232640045353\n",
      "ML: train ll=-9748.445789524718, exp ll=-11791.765146442502\n",
      "TR: train ll=-10457.12570454074, exp ll=-10473.295666185331\n"
     ]
    }
   ],
   "source": [
    "print(f\"FR: train ll={obj_frob}, exp ll={obj_frob_exp}\")\n",
    "print(f\"ML: train ll={loglikelihoods[-1]}, exp ll={obj_exp}\")\n",
    "print(f\"TR: train ll={true_train_obj}, exp ll={exp_true_ll}\")"
   ]
  },
  {
   "cell_type": "code",
   "execution_count": 17,
   "id": "e1495a4d",
   "metadata": {},
   "outputs": [
    {
     "data": {
      "text/plain": [
       "113.46749360285139"
      ]
     },
     "execution_count": 17,
     "metadata": {},
     "output_type": "execute_result"
    }
   ],
   "source": [
    "obj_exp - obj_frob_exp"
   ]
  },
  {
   "cell_type": "code",
   "execution_count": 29,
   "id": "8039e2c7",
   "metadata": {},
   "outputs": [
    {
     "data": {
      "text/plain": [
       "(113, 91)"
      ]
     },
     "execution_count": 29,
     "metadata": {},
     "output_type": "execute_result"
    }
   ],
   "source": [
    "-11792+11905, -9748+9839"
   ]
  },
  {
   "cell_type": "code",
   "execution_count": null,
   "id": "b932db10",
   "metadata": {},
   "outputs": [],
   "source": [
    "- np.mean(ll_distribution[\"frob\"][\"exp\"]) + np.mean(ll_distribution[\"mle\"][\"exp\"])"
   ]
  },
  {
   "cell_type": "code",
   "execution_count": null,
   "id": "6c3bb521",
   "metadata": {},
   "outputs": [],
   "source": []
  }
 ],
 "metadata": {
  "kernelspec": {
   "display_name": "Python 3 (ipykernel)",
   "language": "python",
   "name": "python3"
  },
  "language_info": {
   "codemirror_mode": {
    "name": "ipython",
    "version": 3
   },
   "file_extension": ".py",
   "mimetype": "text/x-python",
   "name": "python",
   "nbconvert_exporter": "python",
   "pygments_lexer": "ipython3",
   "version": "3.9.16"
  },
  "vscode": {
   "interpreter": {
    "hash": "cbb24b48ae2642bb0fe3c3a73dd180d2cf6b4e8df7de3f3850c06f8dd008ecd7"
   }
  }
 },
 "nbformat": 4,
 "nbformat_minor": 5
}
