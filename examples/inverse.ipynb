{
 "cells": [
  {
   "cell_type": "code",
   "execution_count": 44,
   "metadata": {},
   "outputs": [],
   "source": [
    "import numpy as np\n",
    "\n",
    "import seaborn as sns\n",
    "import matplotlib.pyplot as plt\n",
    "\n",
    "import copy, time\n",
    "import random\n",
    "import pickle\n",
    "import scipy\n",
    "\n",
    "import mlrfit as mf\n",
    "import hfmfit as hf\n",
    "\n",
    "from scipy.sparse import coo_matrix\n",
    "from scipy.linalg import block_diag"
   ]
  },
  {
   "cell_type": "code",
   "execution_count": 2,
   "metadata": {},
   "outputs": [],
   "source": [
    "np.random.seed(1001)\n",
    "random.seed(1001)"
   ]
  },
  {
   "cell_type": "markdown",
   "metadata": {},
   "source": [
    "# True model is MLR factor model with SNR = 4 \n",
    "\n",
    "Let $\\Sigma = FF^T + D$ be MLR. We generate samples using \n",
    "$$\n",
    "y = Fz + e, \\qquad z \\sim N(0, I), \\qquad N(0, D).\n",
    "$$"
   ]
  },
  {
   "cell_type": "code",
   "execution_count": 3,
   "metadata": {},
   "outputs": [],
   "source": [
    "mtype = \"small_mlr_hier\"\n",
    "n = 300\n",
    "signal_to_noise = 4\n",
    "\n",
    "\n",
    "nsamples = 20\n",
    "L = 4\n",
    "\n",
    "ranks = np.array([4, 3, 2, 1])\n",
    "rank = ranks.sum()"
   ]
  },
  {
   "cell_type": "code",
   "execution_count": 4,
   "metadata": {},
   "outputs": [
    {
     "name": "stdout",
     "output_type": "stream",
     "text": [
      "level=0, num_groups=1, mean_size=300.0\n",
      "level=1, num_groups=4, mean_size=75.0\n",
      "level=2, num_groups=8, mean_size=37.5\n",
      "level=3, num_groups=300, mean_size=1.0\n"
     ]
    }
   ],
   "source": [
    "pi_rows = np.random.permutation(n)\n",
    "hpart = {'rows':{'pi':pi_rows, 'lk':[]}, 'cols':{'pi':pi_rows, 'lk':[]}} \n",
    "for ngroups in [2, 5, 9, n+1]:\n",
    "       hpart['rows']['lk'] += [ np.linspace(0, n, ngroups, endpoint=True, dtype=int)]\n",
    "hpart['cols']['lk'] = hpart['rows']['lk']\n",
    "part_sizes = hf.print_hpart_numgroups(hpart)"
   ]
  },
  {
   "cell_type": "code",
   "execution_count": 5,
   "metadata": {},
   "outputs": [
    {
     "name": "stdout",
     "output_type": "stream",
     "text": [
      "signal_var=8.837876183246516, noise_var=2.2576120524425716\n",
      "SNR=3.9147010106030304, signal_to_noise=4\n"
     ]
    }
   ],
   "source": [
    "true_mlr, true_sparse_F, true_D_noise = hf.generate_mlr_model(n, hpart, ranks, signal_to_noise)"
   ]
  },
  {
   "cell_type": "code",
   "execution_count": 6,
   "metadata": {},
   "outputs": [
    {
     "data": {
      "image/png": "[encoded data removed]",
      "text/plain": [
       "<Figure size 1000x400 with 2 Axes>"
      ]
     },
     "metadata": {},
     "output_type": "display_data"
    },
    {
     "name": "stdout",
     "output_type": "stream",
     "text": [
      "(300, 32)\n"
     ]
    }
   ],
   "source": [
    "plt.figure(figsize=(10, 4)) \n",
    "plt.matshow(true_sparse_F.T, aspect='auto', fignum=1, cmap='hot') \n",
    "plt.colorbar() \n",
    "plt.show()\n",
    "print(true_sparse_F.shape)"
   ]
  },
  {
   "cell_type": "code",
   "execution_count": 7,
   "metadata": {},
   "outputs": [
    {
     "data": {
      "text/plain": [
       "numpy.ndarray"
      ]
     },
     "execution_count": 7,
     "metadata": {},
     "output_type": "execute_result"
    }
   ],
   "source": [
    "type(true_sparse_F)"
   ]
  },
  {
   "cell_type": "code",
   "execution_count": 8,
   "metadata": {},
   "outputs": [],
   "source": [
    "filename = \"%s_r%d_%d\"%(mtype, rank, n)"
   ]
  },
  {
   "cell_type": "code",
   "execution_count": 9,
   "metadata": {},
   "outputs": [
    {
     "name": "stdout",
     "output_type": "stream",
     "text": [
      "num_levels=4, num_sparsities=8\n",
      "(8, 3) [0 3 7]\n"
     ]
    }
   ],
   "source": [
    "row_selectors, si_groups, F_hpart, groups_all = hf.row_col_selections(hpart, return_groups=True)"
   ]
  },
  {
   "cell_type": "code",
   "execution_count": 34,
   "metadata": {},
   "outputs": [],
   "source": [
    "def convert_compressed_to_sparse(B:np.ndarray, hp_entry:mf.EntryHpartDict, ranks:np.ndarray, mtype='csc'):\n",
    "    # tilde_F0 = convert_compressed_to_sparse(F0, F_hpart, ranks[:-1])\n",
    "    data, i_idx, j_idx = [], [], []\n",
    "    col_count = 0\n",
    "    num_levels = len(hp_entry['lk'])\n",
    "    for level in range(num_levels):\n",
    "        # B_level = B[:,ranks[:level].sum():ranks[:level+1].sum()]\n",
    "        num_blocks = len(hp_entry['lk'][level])-1\n",
    "        for block in range(num_blocks):\n",
    "            r1, r2 = hp_entry['lk'][level][block], hp_entry['lk'][level][block+1]\n",
    "            data += [B[:,ranks[:level].sum():ranks[:level+1].sum()][r1:r2].flatten(order='C')]\n",
    "            i_idx += [np.tile(np.arange(r1, r2), [ranks[level],1]).flatten(order='F')]\n",
    "            j_idx += [np.tile(np.arange(col_count, col_count+ranks[level]), [r2-r1])]\n",
    "            col_count += ranks[level]\n",
    "    data = np.concatenate(data, axis=0)\n",
    "    i_idx = np.concatenate(i_idx, axis=0)\n",
    "    j_idx = np.concatenate(j_idx, axis=0)\n",
    "\n",
    "    s = sum([(len(hp_entry['lk'][level])-1)*ranks[level] for level in range(num_levels)])\n",
    "    tilde_B = coo_matrix((data, (i_idx, j_idx)), shape=(B.shape[0], s))\n",
    "    if mtype == 'csc':\n",
    "        tilde_B = tilde_B.tocsc()\n",
    "    elif mtype == 'csr':\n",
    "        tilde_B = tilde_B.tocsr()\n",
    "    return tilde_B\n"
   ]
  },
  {
   "cell_type": "code",
   "execution_count": null,
   "metadata": {},
   "outputs": [],
   "source": [
    "def mult_blockdiag_refined2(A, lk_A, B, lk_B):\n",
    "    # multiply blockdiagonal matrix by blockdiagonal matrix\n",
    "    # with A having column sparity that is a refinement of B row sparsity\n",
    "    # A, B given in compressed format\n",
    "    assert lk_A.size >= lk_B.size and lk_B[-1] == B.shape[0] and lk_A[-1] in A.shape\n",
    "    num_blocks_B = lk_B.size - 1\n",
    "    indices_A2B = np.searchsorted(lk_A, lk_B, side='right')\n",
    "    res = []\n",
    "    # decide whether make A block diagonal by splitting rows or columns\n",
    "    if lk_A[-1] == A.shape[0]:\n",
    "        for block_B in range(num_blocks_B):\n",
    "            for a in range(lk_A[indices_A2B[block_B]-1 : indices_A2B[block_B + 1]].size-1):\n",
    "                A_lk = A[lk_A[indices_A2B[block_B]-1 + a] : lk_A[indices_A2B[block_B] + a]]\n",
    "                B_lk = B[lk_A[indices_A2B[block_B]-1 + a] : lk_A[indices_A2B[block_B] + a]]\n",
    "                res += [A_lk @ B_lk]\n",
    "                del A_lk, B_lk\n",
    "    if lk_A[-1] == A.shape[0]:\n",
    "        return np.concatenate(res, axis=0)\n",
    "    else:\n",
    "        return np.concatenate(res, axis=1)"
   ]
  },
  {
   "cell_type": "code",
   "execution_count": 104,
   "metadata": {},
   "outputs": [],
   "source": [
    "def block_diag_AB(lk:np.array, A:np.ndarray, B:np.ndarray):\n",
    "    # return blockdiagonal(A) @ blockdiagonal(B)\n",
    "    res = []\n",
    "    num_blocks = lk.size - 1\n",
    "    for block in range(num_blocks):\n",
    "        r1, r2 = lk[block], lk[block+1]\n",
    "        res += [ A[r1:r2] @ B[:, r1:r2] ]\n",
    "    return block_diag(*res)\n",
    "\n",
    "\n",
    "def block_diag_lk(lk:np.array, A:np.ndarray):\n",
    "    # return blockdiagonal(A)\n",
    "    res = []\n",
    "    num_blocks = lk.size - 1\n",
    "    for block in range(num_blocks):\n",
    "        r1, r2 = lk[block], lk[block+1]\n",
    "        res += [ A[r1:r2]]\n",
    "    return block_diag(*res)\n",
    "\n",
    "\n",
    "def mult_blockdiag_refined_AtB(A, lk_A, B, lk_B):\n",
    "    # multiply blockdiagonal matrix by blockdiagonal matrix\n",
    "    # with At having column sparity that is a refinement of B row sparsity\n",
    "    # A, B given in compressed format\n",
    "    assert lk_A.size >= lk_B.size and lk_B[-1] == B.shape[0] and lk_A[-1] in A.shape\n",
    "    num_blocks_A = lk_A.size - 1\n",
    "    res = np.zeros((A.shape[1] * (lk_A.size - 1), B.shape[1]))\n",
    "    # decide whether make A block diagonal by splitting rows or columns\n",
    "    for block_A in range(num_blocks_A):\n",
    "        r1, r2 = lk_A[block_A], lk_A[block_A+1]\n",
    "        res[block_A * A.shape[1] : (block_A+1) * A.shape[1]] = A[r1:r2].T @ B[r1:r2]\n",
    "    return res"
   ]
  },
  {
   "cell_type": "code",
   "execution_count": 105,
   "metadata": {},
   "outputs": [
    {
     "data": {
      "text/plain": [
       "(array([  0,  37,  75, 112, 150, 187, 225, 262, 300]),\n",
       " array([  0,  75, 150, 225, 300]))"
      ]
     },
     "execution_count": 105,
     "metadata": {},
     "output_type": "execute_result"
    }
   ],
   "source": [
    "lk_A = F_hpart['lk'][2]\n",
    "lk_B = F_hpart['lk'][1]\n",
    "lk_A, lk_B"
   ]
  },
  {
   "cell_type": "code",
   "execution_count": 106,
   "metadata": {},
   "outputs": [],
   "source": [
    "A = true_sparse_F[:,ranks[:2].sum():ranks[:2+1].sum()]\n",
    "B = true_sparse_F[:,ranks[:1].sum():ranks[:1+1].sum()]"
   ]
  },
  {
   "cell_type": "code",
   "execution_count": 109,
   "metadata": {},
   "outputs": [],
   "source": [
    "AtB = block_diag_lk(lk_A, A).T @  block_diag_lk(lk_B, B)\n",
    "res = mult_blockdiag_refined_AtB(A, lk_A, B, lk_B)\n",
    "assert np.allclose(AtB, block_diag_lk(lk_B, res))"
   ]
  },
  {
   "cell_type": "code",
   "execution_count": 52,
   "metadata": {},
   "outputs": [],
   "source": [
    "AAt = hf.block_diag_FFt(2, F_hpart, A)\n",
    "assert np.allclose(AAt, block_diag_AB(lk_A, A, A.T)) and np.allclose(AAt, block_diag_lk(lk_A, A) @  block_diag_lk(lk_A, A).T)"
   ]
  },
  {
   "cell_type": "code",
   "execution_count": 30,
   "metadata": {},
   "outputs": [
    {
     "data": {
      "text/plain": [
       "array([1, 3, 5, 7, 9])"
      ]
     },
     "execution_count": 30,
     "metadata": {},
     "output_type": "execute_result"
    }
   ],
   "source": [
    "# indices of groups in A that refine groups in B\n",
    "indices_A2B = np.searchsorted(lk_A, lk_B, side='right')\n",
    "indices_A2B"
   ]
  },
  {
   "cell_type": "code",
   "execution_count": 32,
   "metadata": {},
   "outputs": [
    {
     "name": "stdout",
     "output_type": "stream",
     "text": [
      "[ 0 37]\n",
      "[ 75 112]\n",
      "[150 187]\n",
      "[225 262]\n"
     ]
    }
   ],
   "source": [
    "for b in range(indices_A2B.size-1):\n",
    "    print(lk_A[indices_A2B[b]-1 : indices_A2B[b+1]][:-1])"
   ]
  },
  {
   "cell_type": "code",
   "execution_count": null,
   "metadata": {},
   "outputs": [],
   "source": []
  }
 ],
 "metadata": {
  "kernelspec": {
   "display_name": "routing",
   "language": "python",
   "name": "python3"
  },
  "language_info": {
   "codemirror_mode": {
    "name": "ipython",
    "version": 3
   },
   "file_extension": ".py",
   "mimetype": "text/x-python",
   "name": "python",
   "nbconvert_exporter": "python",
   "pygments_lexer": "ipython3",
   "version": "3.9.16"
  }
 },
 "nbformat": 4,
 "nbformat_minor": 2
}
