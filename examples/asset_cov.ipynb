{
 "cells": [
  {
   "cell_type": "code",
   "execution_count": 1,
   "id": "6d72e5d4",
   "metadata": {},
   "outputs": [
    {
     "name": "stderr",
     "output_type": "stream",
     "text": [
      "/Users/parshakova.tanya/opt/anaconda3/envs/routing/lib/python3.9/site-packages/tqdm/auto.py:22: TqdmWarning: IProgress not found. Please update jupyter and ipywidgets. See https://ipywidgets.readthedocs.io/en/stable/user_install.html\n",
      "  from .autonotebook import tqdm as notebook_tqdm\n"
     ]
    }
   ],
   "source": [
    "import numpy as np\n",
    "\n",
    "import seaborn as sns\n",
    "import matplotlib.pyplot as plt\n",
    "\n",
    "import copy, time\n",
    "import random\n",
    "import pickle\n",
    "import scipy\n",
    "\n",
    "import mlrfit as mf\n",
    "import mfmodel as mfm\n",
    "from tqdm import tqdm"
   ]
  },
  {
   "cell_type": "code",
   "execution_count": 2,
   "id": "4759ee57",
   "metadata": {},
   "outputs": [],
   "source": [
    "np.random.seed(1001)\n",
    "random.seed(1001)"
   ]
  },
  {
   "attachments": {},
   "cell_type": "markdown",
   "id": "573d6bef",
   "metadata": {},
   "source": [
    "#  Matrix definition"
   ]
  },
  {
   "cell_type": "code",
   "execution_count": 3,
   "id": "b435696c",
   "metadata": {},
   "outputs": [
    {
     "name": "stdout",
     "output_type": "stream",
     "text": [
      "level=0, 1\n",
      "level=1, 11\n",
      "level=2, 24\n",
      "level=3, 69\n",
      "level=4, 157\n",
      "level=5, 5000\n"
     ]
    }
   ],
   "source": [
    "rank = 30\n",
    "mtype = 'assetcov_gics'\n",
    "\n",
    "with open(\"../../mlr_fitting_private/data_finance/crsp_gics_5k_hpart.pkl\", \"rb\") as f:\n",
    "       gics_hpart = pickle.load(f)\n",
    "\n",
    "with open('../../mlr_fitting_private/data_finance/crsp_gics_5k_C.npy', 'rb') as f:\n",
    "       C = np.load(f)\n",
    "\n",
    "m = n = gics_hpart['rows']['pi'].size\n",
    "part_sizes = []\n",
    "for level in range(len(gics_hpart['rows']['lk'])):\n",
    "    part_sizes += [gics_hpart['rows']['lk'][level].size-1]\n",
    "    print(f\"{level=}, {gics_hpart['rows']['lk'][level].size-1}\")\n",
    "\n",
    "Z = mf.demean_clip(C)\n",
    "# features are presented in general order\n",
    "unpermuted_A = Z @ Z.T / (Z.shape[1]-1)"
   ]
  },
  {
   "cell_type": "code",
   "execution_count": 4,
   "id": "ec47e802",
   "metadata": {},
   "outputs": [
    {
     "data": {
      "text/plain": [
       "array([1.80995933, 0.24351866, 0.17073495, 0.11152992, 0.08905731,\n",
       "       0.080994  , 0.06320885, 0.05705067, 0.05527067, 0.05144684])"
      ]
     },
     "execution_count": 4,
     "metadata": {},
     "output_type": "execute_result"
    }
   ],
   "source": [
    "np.sort(np.abs(np.linalg.eigvalsh(unpermuted_A)))[::-1][:10]"
   ]
  },
  {
   "cell_type": "code",
   "execution_count": 5,
   "id": "ad91bc93",
   "metadata": {},
   "outputs": [
    {
     "data": {
      "text/plain": [
       "(array([99,  0,  0,  0,  0,  0,  0,  1]),\n",
       " array([0.02193369, 0.24543689, 0.4689401 , 0.6924433 , 0.91594651,\n",
       "        1.13944971, 1.36295292, 1.58645612, 1.80995933]))"
      ]
     },
     "execution_count": 5,
     "metadata": {},
     "output_type": "execute_result"
    }
   ],
   "source": [
    "np.histogram(np.sort(np.abs(np.linalg.eigvalsh(unpermuted_A)))[::-1][:100], bins=8)"
   ]
  },
  {
   "cell_type": "code",
   "execution_count": 6,
   "id": "a6bc7fe2",
   "metadata": {},
   "outputs": [
    {
     "data": {
      "text/plain": [
       "((5000, 300),\n",
       " (5000, 5000),\n",
       " -0.001839477534559251,\n",
       " 0.014836883129622934,\n",
       " 0.0002737358427138843,\n",
       " 0.00025728376347159727)"
      ]
     },
     "execution_count": 6,
     "metadata": {},
     "output_type": "execute_result"
    }
   ],
   "source": [
    "C.shape, unpermuted_A.shape, unpermuted_A.min(), unpermuted_A.max(), unpermuted_A.mean(), unpermuted_A.std()"
   ]
  },
  {
   "cell_type": "code",
   "execution_count": 7,
   "id": "80d79e96",
   "metadata": {},
   "outputs": [],
   "source": [
    "filename = \"%s_r%d_%d\"%(mtype, rank, n)"
   ]
  },
  {
   "cell_type": "code",
   "execution_count": 8,
   "id": "1e847bb2",
   "metadata": {},
   "outputs": [],
   "source": [
    "# GICS hierarchy\n",
    "num_levels = len(gics_hpart['rows']['lk'])"
   ]
  },
  {
   "cell_type": "code",
   "execution_count": null,
   "id": "5b56ffdf",
   "metadata": {},
   "outputs": [],
   "source": [
    "# permute to put clusters on diagonal\n",
    "Y = Z[gics_hpart[\"rows\"][\"pi\"], :].T\n",
    "N = Y.shape[0]"
   ]
  },
  {
   "cell_type": "code",
   "execution_count": 10,
   "id": "8e62bfa5",
   "metadata": {},
   "outputs": [
    {
     "data": {
      "text/plain": [
       "(-0.00027599359051962765,\n",
       " 1.7531290483245723,\n",
       " -0.6189932233333333,\n",
       " -0.0006269800000000001)"
      ]
     },
     "execution_count": 10,
     "metadata": {},
     "output_type": "execute_result"
    }
   ],
   "source": [
    "Y.mean(), Y.max(), Y.min(), np.median(Y)"
   ]
  },
  {
   "cell_type": "code",
   "execution_count": 10,
   "id": "bd12da2b",
   "metadata": {},
   "outputs": [
    {
     "name": "stdout",
     "output_type": "stream",
     "text": [
      "num_levels=6, num_sparsities=157\n",
      "(157, 5) [  0  10  23  68 156]\n"
     ]
    }
   ],
   "source": [
    "row_selectors, si_groups, F_hpart = mfm.row_col_selections(gics_hpart)"
   ]
  },
  {
   "cell_type": "code",
   "execution_count": null,
   "id": "c1fd88fe",
   "metadata": {},
   "outputs": [],
   "source": []
  },
  {
   "cell_type": "code",
   "execution_count": 11,
   "id": "cd73c648",
   "metadata": {},
   "outputs": [],
   "source": [
    "obj_frobs = {}\n",
    "obj_mle = {}"
   ]
  },
  {
   "cell_type": "markdown",
   "id": "27e0c7b4",
   "metadata": {},
   "source": [
    "# $[29, 0, 0, 0, 0, 1]$"
   ]
  },
  {
   "cell_type": "code",
   "execution_count": 12,
   "id": "27cd707a",
   "metadata": {},
   "outputs": [],
   "source": [
    "ranks = np.array([rank-1, 0, 0, 0, 0, 1])"
   ]
  },
  {
   "cell_type": "markdown",
   "id": "3c7a6002",
   "metadata": {},
   "source": [
    "# Frobenius norm"
   ]
  },
  {
   "cell_type": "code",
   "execution_count": 13,
   "id": "c081176e",
   "metadata": {},
   "outputs": [
    {
     "name": "stderr",
     "output_type": "stream",
     "text": [
      "/Users/parshakova.tanya/Documents/projects/MLR_Matrices/mlr_fitting/mlrfit/utils.py:408: NumbaPerformanceWarning: \u001b[1m\u001b[1m\u001b[1mnp.dot() is faster on contiguous arrays, called on (array(float64, 2d, A), array(float64, 2d, A))\u001b[0m\u001b[0m\u001b[0m\n",
      "  hat_A_except_level[r1:r2, c1:c2] += np.dot(B_level[r1:r2], C_level[c1:c2].T)\n"
     ]
    },
    {
     "name": "stdout",
     "output_type": "stream",
     "text": [
      "itr=0, 0.1541325347909012, [29  0  0  0  0  1]\n",
      "itr=1, 0.1541325347909012, [29  0  0  0  0  1]\n",
      "itr=1, 0.15379449543341234, [29  0  0  0  0  1], time_v_epoch=5.398721218109131, time_loss=0.3282480239868164\n",
      "itr=2, 0.15379249118337152, [29  0  0  0  0  1], time_v_epoch=5.476085901260376, time_loss=0.40348196029663086\n",
      "FR: obj_frob = 11808.872096245648\n",
      "mf.rel_diff(hat_A.matrix(), den=A)=0.15379235173974629 \n",
      "np.linalg.slogdet(hat_A.matrix())=(1.0, -37702.343185018195)\n"
     ]
    }
   ],
   "source": [
    "obj_frobs[str(ranks)] = mfm.frob_fit_loglikehood(unpermuted_A, Y, F_hpart, gics_hpart, ranks, printing=True, eps_ff=1e-3)"
   ]
  },
  {
   "cell_type": "markdown",
   "id": "fbf1efb0",
   "metadata": {},
   "source": [
    "# MLE"
   ]
  },
  {
   "cell_type": "code",
   "execution_count": 14,
   "id": "45986bdf",
   "metadata": {},
   "outputs": [
    {
     "name": "stdout",
     "output_type": "stream",
     "text": [
      "t=0, obj=-5372.454935431251\n",
      "t=50, obj=11904.572004989695\n",
      "t=99, obj=11905.189933020913\n",
      "32.53751658632977 (1.0, -37995.63677865609)\n"
     ]
    }
   ],
   "source": [
    "loglikelihoods, F0, D0 = mfm.em_algorithm(n, Y, part_sizes, F_hpart, row_selectors, si_groups, \n",
    "                                         ranks, max_iter=100, eps=1e-8, printing=True, \n",
    "                                         F0=np.random.randn(n, rank-1), \n",
    "                                         D0=np.square(np.random.rand(n))+1)\n",
    "\n",
    "Sigma0 = mfm.perm_hat_Sigma(F0, D0, F_hpart, ranks)\n",
    "print(mf.rel_diff(Sigma0, den=unpermuted_A[F_hpart[\"pi\"], :][:, F_hpart[\"pi\"]]), np.linalg.slogdet(Sigma0))\n",
    "obj_mle[str(ranks)] = np.array(loglikelihoods)"
   ]
  },
  {
   "cell_type": "markdown",
   "id": "3b698ea2",
   "metadata": {},
   "source": [
    "# $[14, 6, 4, 3, 2, 1]$"
   ]
  },
  {
   "cell_type": "code",
   "execution_count": 15,
   "id": "4e995e15",
   "metadata": {},
   "outputs": [],
   "source": [
    "ranks = np.array([14, 6, 4, 3, 2, 1])"
   ]
  },
  {
   "cell_type": "markdown",
   "id": "707ad0d2",
   "metadata": {},
   "source": [
    "# Frobenius norm"
   ]
  },
  {
   "cell_type": "code",
   "execution_count": 16,
   "id": "3ff1afeb",
   "metadata": {},
   "outputs": [
    {
     "name": "stdout",
     "output_type": "stream",
     "text": [
      "itr=0, 0.16617119653534937, [14  6  4  3  2  1]\n",
      "itr=1, 0.16617119653534937, [14  6  4  3  2  1]\n",
      "itr=1, 0.16493897439347802, [14  6  4  3  2  1], time_v_epoch=5.645741701126099, time_loss=0.33407115936279297\n",
      "itr=2, 0.16482424552301322, [14  6  4  3  2  1], time_v_epoch=8.150538921356201, time_loss=0.3450169563293457\n",
      "FR: obj_frob = 11955.956851218816\n",
      "mf.rel_diff(hat_A.matrix(), den=A)=0.16479092911663543 \n",
      "np.linalg.slogdet(hat_A.matrix())=(1.0, -38056.193412982)\n"
     ]
    }
   ],
   "source": [
    "# Frobenius norm\n",
    "obj_frobs[str(ranks)] = mfm.frob_fit_loglikehood(unpermuted_A, Y, F_hpart, gics_hpart, ranks, printing=True, eps_ff=1e-3)"
   ]
  },
  {
   "cell_type": "code",
   "execution_count": 17,
   "id": "75ec43f6",
   "metadata": {},
   "outputs": [],
   "source": [
    "# LR             0.16178478761767232\n",
    "# LR+D           0.1537922868665804"
   ]
  },
  {
   "cell_type": "markdown",
   "id": "0532b130",
   "metadata": {},
   "source": [
    "# MLE"
   ]
  },
  {
   "cell_type": "code",
   "execution_count": 18,
   "id": "05882875",
   "metadata": {},
   "outputs": [
    {
     "name": "stdout",
     "output_type": "stream",
     "text": [
      "t=0, obj=-6498.263822822442\n",
      "t=50, obj=12105.393429477026\n",
      "t=99, obj=12112.426422430344\n",
      "6.147128903870216 (1.0, -38409.02905043134)\n"
     ]
    }
   ],
   "source": [
    "loglikelihoods, F0, D0 = mfm.em_algorithm(n, Y, part_sizes, F_hpart, row_selectors, si_groups, \n",
    "                                         ranks, max_iter=100, eps=1e-8, printing=True, \n",
    "                                         F0=np.random.randn(n, rank-1), \n",
    "                                         D0=np.square(np.random.rand(n))+1)\n",
    "\n",
    "Sigma0 = mfm.perm_hat_Sigma(F0, D0, F_hpart, ranks)\n",
    "print(mf.rel_diff(Sigma0, den=unpermuted_A[F_hpart[\"pi\"], :][:, F_hpart[\"pi\"]]), np.linalg.slogdet(Sigma0))\n",
    "obj_mle[str(ranks)] = np.array(loglikelihoods)"
   ]
  },
  {
   "cell_type": "code",
   "execution_count": 28,
   "id": "7f246e09",
   "metadata": {},
   "outputs": [
    {
     "data": {
      "text/plain": [
       "156.4695712115281"
      ]
     },
     "execution_count": 28,
     "metadata": {},
     "output_type": "execute_result"
    }
   ],
   "source": [
    "# hier MLE \n",
    "(12112.426422430344 - 11955.956851218816)"
   ]
  },
  {
   "cell_type": "code",
   "execution_count": 31,
   "id": "f824f40c",
   "metadata": {},
   "outputs": [
    {
     "data": {
      "text/plain": [
       "(156, 96)"
      ]
     },
     "execution_count": 31,
     "metadata": {},
     "output_type": "execute_result"
    }
   ],
   "source": [
    "12112 - 11956, 11905 - 11809"
   ]
  },
  {
   "cell_type": "code",
   "execution_count": 29,
   "id": "7429a6c6",
   "metadata": {},
   "outputs": [
    {
     "data": {
      "text/plain": [
       "96.31783677526437"
      ]
     },
     "execution_count": 29,
     "metadata": {},
     "output_type": "execute_result"
    }
   ],
   "source": [
    "# factor MLE\n",
    "11905.189933020913 - 11808.872096245648"
   ]
  },
  {
   "cell_type": "code",
   "execution_count": 27,
   "id": "a90b036c",
   "metadata": {},
   "outputs": [
    {
     "name": "stdout",
     "output_type": "stream",
     "text": [
      "ranks=array([29,  0,  0,  0,  0,  1]), difference=96.32, %increase=0.82\n",
      "ranks=array([14,  6,  4,  3,  2,  1]), difference=156.47, %increase=1.31\n"
     ]
    },
    {
     "data": {
      "image/png": "[encoded data removed]",
      "text/plain": [
       "<Figure size 1440x540 with 2 Axes>"
      ]
     },
     "metadata": {},
     "output_type": "display_data"
    }
   ],
   "source": [
    "rs = [np.array([rank-1, 0, 0, 0, 0, 1]), np.array([14, 6, 4, 3, 2, 1])]\n",
    "# ll_all = [ll_factor, ll_hier]\n",
    "plt.rcParams.update({\n",
    "    \"text.usetex\": True,\n",
    "    \"text.latex.preamble\": r\"\\usepackage{amsmath}\"\n",
    "})\n",
    "ylim = [obj_mle[str(rs[1])].max()-400, obj_mle[str(rs[1])].max() + 100]\n",
    "fig, axs = plt.subplots(1, 2, figsize=(8, 3), dpi=180, sharey=True)\n",
    "for i in range(2):\n",
    "    ranks = rs[i]\n",
    "    ll = obj_mle[str(rs[i])]\n",
    "    print(f\"{ranks=}, difference={(ll[-1]-obj_frobs[str(ranks)]):.2f}, %increase={(ll[-1]-obj_frobs[str(ranks)])/obj_frobs[str(ranks)]*100:.2f}\")\n",
    "    axs[i].plot(np.maximum(1, ll), color='r', lw=1, label=r\"$\\text{MLE}$\")\n",
    "    axs[i].set_xlabel('iteration')\n",
    "    axs[i].hlines(obj_frobs[str(ranks)], 0, ll.size-1, color='b', lw=1, label=r\"$\\text{Frob}$\")\n",
    "    axs[i].set_ylabel(r'$\\ell(F, D; Y)/N$')\n",
    "    axs[i].set_yscale('log')\n",
    "    axs[i].set_ylim(ylim)\n",
    "    axs[i].grid(True)\n",
    "    axs[i].legend()\n",
    "    # axs[i].set_title(f\"ranks$={list(ranks)}$\")\n",
    "# plt.show()\n",
    "plt.tight_layout()\n",
    "# fig.suptitle(\"Observed data log-likelihood\", fontsize=16, y=1.05)\n",
    "plt.savefig(f\"plots/em_{mtype}.pdf\", bbox_inches='tight')"
   ]
  },
  {
   "cell_type": "code",
   "execution_count": null,
   "id": "21422ef4",
   "metadata": {},
   "outputs": [],
   "source": [
    "with open(f\"outputs/em_{mtype}.pickle\", 'wb') as handle:\n",
    "    lls = {\"mle\":obj_mle,  \"frob\":obj_frobs}\n",
    "    pickle.dump(lls, handle, protocol=pickle.HIGHEST_PROTOCOL)"
   ]
  },
  {
   "cell_type": "code",
   "execution_count": null,
   "id": "1c80bf25",
   "metadata": {},
   "outputs": [],
   "source": [
    "with open(f\"outputs/em_{mtype}.pickle\", 'rb') as handle:\n",
    "    mlls = pickle.load(handle)"
   ]
  },
  {
   "cell_type": "code",
   "execution_count": null,
   "id": "aa181ff5",
   "metadata": {},
   "outputs": [],
   "source": [
    "mlls.keys()"
   ]
  },
  {
   "cell_type": "code",
   "execution_count": 32,
   "id": "ee502d45",
   "metadata": {},
   "outputs": [
    {
     "data": {
      "text/plain": [
       "(5000, 697)"
      ]
     },
     "execution_count": 32,
     "metadata": {},
     "output_type": "execute_result"
    }
   ],
   "source": [
    "mf.convert_compressed_to_sparse(F0, F_hpart, ranks[:-1]).toarray().shape"
   ]
  },
  {
   "cell_type": "code",
   "execution_count": null,
   "id": "f20f2d8e",
   "metadata": {},
   "outputs": [],
   "source": []
  }
 ],
 "metadata": {
  "kernelspec": {
   "display_name": "Python 3 (ipykernel)",
   "language": "python",
   "name": "python3"
  },
  "language_info": {
   "codemirror_mode": {
    "name": "ipython",
    "version": 3
   },
   "file_extension": ".py",
   "mimetype": "text/x-python",
   "name": "python",
   "nbconvert_exporter": "python",
   "pygments_lexer": "ipython3",
   "version": "3.9.16"
  },
  "vscode": {
   "interpreter": {
    "hash": "cbb24b48ae2642bb0fe3c3a73dd180d2cf6b4e8df7de3f3850c06f8dd008ecd7"
   }
  }
 },
 "nbformat": 4,
 "nbformat_minor": 5
}
