{
 "cells": [
  {
   "cell_type": "code",
   "execution_count": 1,
   "id": "6d72e5d4",
   "metadata": {},
   "outputs": [],
   "source": [
    "import numpy as np\n",
    "\n",
    "import seaborn as sns\n",
    "import matplotlib.pyplot as plt\n",
    "\n",
    "import random\n",
    "import pickle\n",
    "\n",
    "import mlrfit as mf\n",
    "import mfmodel as mfm"
   ]
  },
  {
   "cell_type": "code",
   "execution_count": 2,
   "id": "4759ee57",
   "metadata": {},
   "outputs": [],
   "source": [
    "np.random.seed(1001)\n",
    "random.seed(1001)"
   ]
  },
  {
   "attachments": {},
   "cell_type": "markdown",
   "id": "573d6bef",
   "metadata": {},
   "source": [
    "#  Matrix definition"
   ]
  },
  {
   "cell_type": "code",
   "execution_count": 3,
   "id": "b435696c",
   "metadata": {},
   "outputs": [
    {
     "name": "stdout",
     "output_type": "stream",
     "text": [
      "level=0, 1\n",
      "level=1, 11\n",
      "level=2, 24\n",
      "level=3, 69\n",
      "level=4, 157\n",
      "level=5, 5000\n"
     ]
    }
   ],
   "source": [
    "rank = 30\n",
    "mtype = 'assetcov_gics'\n",
    "\n",
    "with open(\"../../mlr_fitting_private/data_finance/crsp_gics_5k_hpart.pkl\", \"rb\") as f:\n",
    "       gics_hpart = pickle.load(f)\n",
    "\n",
    "with open('../../mlr_fitting_private/data_finance/crsp_gics_5k_C.npy', 'rb') as f:\n",
    "       C = np.load(f)\n",
    "\n",
    "m = n = gics_hpart['rows']['pi'].size\n",
    "part_sizes = []\n",
    "for level in range(len(gics_hpart['rows']['lk'])):\n",
    "    part_sizes += [gics_hpart['rows']['lk'][level].size-1]\n",
    "    print(f\"{level=}, {gics_hpart['rows']['lk'][level].size-1}\")\n",
    "\n",
    "Z = mf.demean_clip(C)\n",
    "# features are presented in general order\n",
    "unpermuted_A = Z @ Z.T / (Z.shape[1]-1)"
   ]
  },
  {
   "cell_type": "code",
   "execution_count": 4,
   "id": "ec47e802",
   "metadata": {},
   "outputs": [
    {
     "data": {
      "text/plain": [
       "array([1.80995933, 0.24351866, 0.17073495, 0.11152992, 0.08905731,\n",
       "       0.080994  , 0.06320885, 0.05705067, 0.05527067, 0.05144684])"
      ]
     },
     "execution_count": 4,
     "metadata": {},
     "output_type": "execute_result"
    }
   ],
   "source": [
    "np.sort(np.abs(np.linalg.eigvalsh(unpermuted_A)))[::-1][:10]"
   ]
  },
  {
   "cell_type": "code",
   "execution_count": 5,
   "id": "ad91bc93",
   "metadata": {},
   "outputs": [
    {
     "data": {
      "text/plain": [
       "(array([99,  0,  0,  0,  0,  0,  0,  1]),\n",
       " array([0.02193369, 0.24543689, 0.4689401 , 0.6924433 , 0.91594651,\n",
       "        1.13944971, 1.36295292, 1.58645612, 1.80995933]))"
      ]
     },
     "execution_count": 5,
     "metadata": {},
     "output_type": "execute_result"
    }
   ],
   "source": [
    "np.histogram(np.sort(np.abs(np.linalg.eigvalsh(unpermuted_A)))[::-1][:100], bins=8)"
   ]
  },
  {
   "cell_type": "code",
   "execution_count": 6,
   "id": "a6bc7fe2",
   "metadata": {},
   "outputs": [
    {
     "data": {
      "text/plain": [
       "((5000, 300),\n",
       " (5000, 5000),\n",
       " -0.0018394775345592505,\n",
       " 0.014836883129622934,\n",
       " 0.0002737358427138843,\n",
       " 0.00025728376347159727)"
      ]
     },
     "execution_count": 6,
     "metadata": {},
     "output_type": "execute_result"
    }
   ],
   "source": [
    "C.shape, unpermuted_A.shape, unpermuted_A.min(), unpermuted_A.max(), unpermuted_A.mean(), unpermuted_A.std()"
   ]
  },
  {
   "cell_type": "code",
   "execution_count": 7,
   "id": "80d79e96",
   "metadata": {},
   "outputs": [],
   "source": [
    "filename = \"%s_r%d_%d\"%(mtype, rank, n)"
   ]
  },
  {
   "cell_type": "code",
   "execution_count": 8,
   "id": "1e847bb2",
   "metadata": {},
   "outputs": [],
   "source": [
    "# GICS hierarchy\n",
    "num_levels = len(gics_hpart['rows']['lk'])"
   ]
  },
  {
   "cell_type": "code",
   "execution_count": 9,
   "id": "5b56ffdf",
   "metadata": {},
   "outputs": [],
   "source": [
    "# permute to put clusters on diagonal\n",
    "Y = Z[gics_hpart[\"rows\"][\"pi\"], :].T\n",
    "N = Y.shape[0]"
   ]
  },
  {
   "cell_type": "code",
   "execution_count": 10,
   "id": "8e62bfa5",
   "metadata": {},
   "outputs": [
    {
     "data": {
      "text/plain": [
       "(-0.00027599359051962765,\n",
       " 1.7531290483245723,\n",
       " -0.6189932233333333,\n",
       " -0.0006269800000000001)"
      ]
     },
     "execution_count": 10,
     "metadata": {},
     "output_type": "execute_result"
    }
   ],
   "source": [
    "Y.mean(), Y.max(), Y.min(), np.median(Y)"
   ]
  },
  {
   "cell_type": "code",
   "execution_count": 11,
   "id": "bd12da2b",
   "metadata": {},
   "outputs": [
    {
     "name": "stdout",
     "output_type": "stream",
     "text": [
      "num_levels=6, num_sparsities=157\n",
      "(157, 5) [  0  10  23  68 156]\n"
     ]
    }
   ],
   "source": [
    "row_selectors, si_groups, F_hpart = mfm.row_col_selections(gics_hpart)"
   ]
  },
  {
   "cell_type": "code",
   "execution_count": 12,
   "id": "cd73c648",
   "metadata": {},
   "outputs": [],
   "source": [
    "obj_frobs = {}\n",
    "obj_mle = {}"
   ]
  },
  {
   "cell_type": "code",
   "execution_count": 32,
   "id": "25a84d2f",
   "metadata": {},
   "outputs": [],
   "source": [
    "rs = [np.array([rank-1, 0, 0, 0, 0, 1]), np.array([14, 6, 4, 3, 2, 1])]"
   ]
  },
  {
   "cell_type": "markdown",
   "id": "27e0c7b4",
   "metadata": {},
   "source": [
    "# $[29, 0, 0, 0, 0, 1]$"
   ]
  },
  {
   "cell_type": "code",
   "execution_count": 33,
   "id": "27cd707a",
   "metadata": {},
   "outputs": [],
   "source": [
    "ranks = np.array([rank-1, 0, 0, 0, 0, 1])"
   ]
  },
  {
   "cell_type": "markdown",
   "id": "3c7a6002",
   "metadata": {},
   "source": [
    "# Frobenius norm"
   ]
  },
  {
   "cell_type": "code",
   "execution_count": 36,
   "id": "c081176e",
   "metadata": {},
   "outputs": [
    {
     "name": "stdout",
     "output_type": "stream",
     "text": [
      "itr=0, 0.15413253479090114, [29  0  0  0  0  1]\n",
      "itr=1, 0.15413253479090114, [29  0  0  0  0  1]\n",
      "itr=1, 0.15379449543341234, [29  0  0  0  0  1], time_v_epoch=5.935118913650513, time_loss=0.3497762680053711\n",
      "itr=2, 0.15379249118337154, [29  0  0  0  0  1], time_v_epoch=6.220486164093018, time_loss=0.3461587429046631\n"
     ]
    }
   ],
   "source": [
    "frob_mfm, obj_frobs[str(ranks)] = mfm.fast_frob_fit_loglikehood(unpermuted_A, Y, F_hpart, gics_hpart, ranks, printing=True, eps_ff=1e-3)"
   ]
  },
  {
   "cell_type": "code",
   "execution_count": 38,
   "id": "d45e4b11",
   "metadata": {},
   "outputs": [
    {
     "name": "stdout",
     "output_type": "stream",
     "text": [
      "11808.786318780743\n"
     ]
    }
   ],
   "source": [
    "frob_mfm.D = np.maximum(1e-7, frob_mfm.D)\n",
    "frob_mfm.inv_coefficients(det=True)\n",
    "obj_frobs[str(ranks)] = mfm.fast_loglikelihood_value(frob_mfm, Y[:, frob_mfm.pi_inv])\n",
    "print(obj_frobs[str(ranks)])"
   ]
  },
  {
   "cell_type": "markdown",
   "id": "fbf1efb0",
   "metadata": {},
   "source": [
    "# MLE"
   ]
  },
  {
   "cell_type": "code",
   "execution_count": 15,
   "id": "c4af9b0b",
   "metadata": {},
   "outputs": [
    {
     "data": {
      "text/plain": [
       "((300, 5000), 30, 6, 5, array([29,  0,  0,  0,  0,  1]))"
      ]
     },
     "execution_count": 15,
     "metadata": {},
     "output_type": "execute_result"
    }
   ],
   "source": [
    "Y.shape, ranks.sum(), ranks.size, len(F_hpart['lk']), ranks"
   ]
  },
  {
   "cell_type": "code",
   "execution_count": 16,
   "id": "45986bdf",
   "metadata": {},
   "outputs": [
    {
     "name": "stdout",
     "output_type": "stream",
     "text": [
      "t=0, obj=11242.516812283353\n",
      "t=50, obj=11900.029648538446\n",
      "t=100, obj=11902.778367217352\n",
      "t=149, obj=11903.996539443515\n",
      "0.8279336320991988 SlogdetResult(sign=1.0, logabsdet=-38007.46301356835)\n"
     ]
    }
   ],
   "source": [
    "fitted_mfm, loglikelihoods = mfm.fit(Y, ranks, F_hpart, printing=True, max_iter=150, freq=50)\n",
    "\n",
    "Sigma0 = fitted_mfm.matrix()\n",
    "print(mf.rel_diff(Sigma0, den=unpermuted_A), np.linalg.slogdet(Sigma0))\n",
    "obj_mle[str(ranks)] = np.array(loglikelihoods)"
   ]
  },
  {
   "cell_type": "markdown",
   "id": "3b698ea2",
   "metadata": {},
   "source": [
    "# $[14, 6, 4, 3, 2, 1]$"
   ]
  },
  {
   "cell_type": "code",
   "execution_count": 39,
   "id": "4e995e15",
   "metadata": {},
   "outputs": [],
   "source": [
    "ranks = np.array([14, 6, 4, 3, 2, 1])"
   ]
  },
  {
   "cell_type": "markdown",
   "id": "707ad0d2",
   "metadata": {},
   "source": [
    "# Frobenius norm"
   ]
  },
  {
   "cell_type": "code",
   "execution_count": 40,
   "id": "3ff1afeb",
   "metadata": {},
   "outputs": [
    {
     "name": "stdout",
     "output_type": "stream",
     "text": [
      "itr=0, 0.16617119653534934, [14  6  4  3  2  1]\n",
      "itr=1, 0.16617119653534934, [14  6  4  3  2  1]\n",
      "itr=1, 0.164938974393478, [14  6  4  3  2  1], time_v_epoch=5.790932893753052, time_loss=0.3631429672241211\n",
      "itr=2, 0.16482424552301322, [14  6  4  3  2  1], time_v_epoch=5.71517014503479, time_loss=0.3501861095428467\n"
     ]
    }
   ],
   "source": [
    "# Frobenius norm\n",
    "frob_mfm, obj_frobs[str(ranks)] = mfm.fast_frob_fit_loglikehood(unpermuted_A, Y, F_hpart, gics_hpart, ranks, printing=True, eps_ff=1e-3)"
   ]
  },
  {
   "cell_type": "code",
   "execution_count": 41,
   "id": "d136bff9",
   "metadata": {},
   "outputs": [
    {
     "name": "stdout",
     "output_type": "stream",
     "text": [
      "11954.550735399755\n"
     ]
    },
    {
     "name": "stderr",
     "output_type": "stream",
     "text": [
      "/Users/parshakova.tanya/opt/anaconda3/envs/multilevel/lib/python3.11/site-packages/numpy/core/fromnumeric.py:88: RuntimeWarning: overflow encountered in reduce\n",
      "  return ufunc.reduce(obj, axis, dtype, out, **passkwargs)\n",
      "/Users/parshakova.tanya/Documents/projects/MLR_Matrices/multilevel_factor_model/mfmodel/mfmodel.py:279: RuntimeWarning: invalid value encountered in scalar multiply\n",
      "  determinant *= np.prod(Chol_Vl)\n"
     ]
    }
   ],
   "source": [
    "frob_mfm.D = np.maximum(1e-7, frob_mfm.D)\n",
    "frob_mfm.inv_coefficients(det=True)\n",
    "obj_frobs[str(ranks)] = mfm.fast_loglikelihood_value(frob_mfm, Y[:, frob_mfm.pi_inv])\n",
    "print(obj_frobs[str(ranks)])"
   ]
  },
  {
   "cell_type": "code",
   "execution_count": 19,
   "id": "75ec43f6",
   "metadata": {},
   "outputs": [],
   "source": [
    "# LR             0.16178478761767232\n",
    "# LR+D           0.1537922868665804"
   ]
  },
  {
   "cell_type": "markdown",
   "id": "0532b130",
   "metadata": {},
   "source": [
    "# MLE"
   ]
  },
  {
   "cell_type": "code",
   "execution_count": 20,
   "id": "05882875",
   "metadata": {},
   "outputs": [
    {
     "name": "stdout",
     "output_type": "stream",
     "text": [
      "t=0, obj=11173.291086299849\n",
      "t=50, obj=12103.519690368776\n",
      "t=100, obj=12110.75635464078\n",
      "t=149, obj=12113.402504665293\n",
      "0.8497169166592247 SlogdetResult(sign=1.0, logabsdet=-38429.44393570138)\n"
     ]
    }
   ],
   "source": [
    "fitted_mfm, loglikelihoods = mfm.fit(Y, ranks, F_hpart, printing=True, max_iter=150, freq=50)\n",
    "\n",
    "Sigma0 = fitted_mfm.matrix()\n",
    "print(mf.rel_diff(Sigma0, den=unpermuted_A), np.linalg.slogdet(Sigma0))\n",
    "obj_mle[str(ranks)] = np.array(loglikelihoods)"
   ]
  },
  {
   "cell_type": "code",
   "execution_count": 46,
   "id": "dfcbc99a",
   "metadata": {},
   "outputs": [
    {
     "name": "stdout",
     "output_type": "stream",
     "text": [
      "[29  0  0  0  0  1], obj_mle[k][-1]-obj_frobs[k] = 95.21022066277146, 95\n",
      "[14  6  4  3  2  1], obj_mle[k][-1]-obj_frobs[k] = 158.85176926553868, 159\n"
     ]
    }
   ],
   "source": [
    "for k in obj_frobs.keys():\n",
    "    print(f\"{k}, {obj_mle[k][-1]-obj_frobs[k] = }, {int(obj_mle[k][-1]) - int(obj_frobs[k])}\")\n",
    "    obj_mle[k] = np.array(obj_mle[k])\n",
    "    obj_frobs[k] = np.array(obj_frobs[k])"
   ]
  },
  {
   "cell_type": "code",
   "execution_count": 47,
   "id": "a90b036c",
   "metadata": {},
   "outputs": [
    {
     "name": "stdout",
     "output_type": "stream",
     "text": [
      "ranks='[29  0  0  0  0  1]', difference=95.21, %increase=0.81\n",
      "ranks='[14  6  4  3  2  1]', difference=158.85, %increase=1.33\n"
     ]
    },
    {
     "data": {
      "image/png": "[encoded data removed]",
      "text/plain": [
       "<Figure size 1440x540 with 2 Axes>"
      ]
     },
     "metadata": {},
     "output_type": "display_data"
    }
   ],
   "source": [
    "rs = list(obj_mle.keys())\n",
    "# ll_all = [ll_factor, ll_hier]\n",
    "plt.rcParams.update({\n",
    "    \"text.usetex\": True,\n",
    "    \"text.latex.preamble\": r\"\\usepackage{amsmath}\"\n",
    "})\n",
    "ylim = [obj_frobs[str(rs[0])].max()-50, obj_mle[str(rs[1])].max() + 50]\n",
    "fig, axs = plt.subplots(1, 2, figsize=(8, 3), dpi=180, sharey=True)\n",
    "for i in range(2):\n",
    "    ranks = rs[i]\n",
    "    ll = obj_mle[str(rs[i])]\n",
    "    print(f\"{ranks=}, difference={(ll[-1]-obj_frobs[str(ranks)]):.2f}, %increase={(ll[-1]-obj_frobs[str(ranks)])/obj_frobs[str(ranks)]*100:.2f}\")\n",
    "    axs[i].plot(np.maximum(1, ll), color='r', lw=1, label=r\"$\\text{MLE}$\")\n",
    "    axs[i].set_xlabel('iteration')\n",
    "    axs[i].hlines(obj_frobs[str(ranks)], 0, ll.size-1, color='b', lw=1, label=r\"$\\text{Frob}$\")\n",
    "    axs[i].set_ylabel(r'$\\ell(F, D; Y)/N$')\n",
    "    axs[i].set_yscale('log')\n",
    "    axs[i].set_ylim(ylim)\n",
    "    axs[i].grid(True)\n",
    "    axs[i].legend()\n",
    "    # axs[i].set_title(f\"ranks$={list(ranks)}$\")\n",
    "# plt.show()\n",
    "plt.tight_layout()\n",
    "# fig.suptitle(\"Observed data log-likelihood\", fontsize=16, y=1.05)\n",
    "plt.savefig(f\"plots/em_{mtype}.pdf\", bbox_inches='tight')"
   ]
  },
  {
   "cell_type": "code",
   "execution_count": 48,
   "id": "21422ef4",
   "metadata": {},
   "outputs": [],
   "source": [
    "with open(f\"outputs/em_{mtype}.pickle\", 'wb') as handle:\n",
    "    lls = {\"mle\":obj_mle,  \"frob\":obj_frobs}\n",
    "    pickle.dump(lls, handle, protocol=pickle.HIGHEST_PROTOCOL)"
   ]
  },
  {
   "cell_type": "code",
   "execution_count": 49,
   "id": "1c80bf25",
   "metadata": {},
   "outputs": [],
   "source": [
    "with open(f\"outputs/em_{mtype}.pickle\", 'rb') as handle:\n",
    "    mlls = pickle.load(handle)"
   ]
  },
  {
   "cell_type": "code",
   "execution_count": 50,
   "id": "f20f2d8e",
   "metadata": {},
   "outputs": [
    {
     "data": {
      "text/plain": [
       "dict_keys(['mle', 'frob'])"
      ]
     },
     "execution_count": 50,
     "metadata": {},
     "output_type": "execute_result"
    }
   ],
   "source": [
    "mlls.keys()"
   ]
  },
  {
   "cell_type": "code",
   "execution_count": null,
   "id": "f2bd46b1",
   "metadata": {},
   "outputs": [],
   "source": []
  }
 ],
 "metadata": {
  "kernelspec": {
   "display_name": "Python 3 (ipykernel)",
   "language": "python",
   "name": "python3"
  },
  "language_info": {
   "codemirror_mode": {
    "name": "ipython",
    "version": 3
   },
   "file_extension": ".py",
   "mimetype": "text/x-python",
   "name": "python",
   "nbconvert_exporter": "python",
   "pygments_lexer": "ipython3",
   "version": "3.11.8"
  },
  "vscode": {
   "interpreter": {
    "hash": "cbb24b48ae2642bb0fe3c3a73dd180d2cf6b4e8df7de3f3850c06f8dd008ecd7"
   }
  }
 },
 "nbformat": 4,
 "nbformat_minor": 5
}
