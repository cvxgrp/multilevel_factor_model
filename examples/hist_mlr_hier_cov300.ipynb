{
 "cells": [
  {
   "cell_type": "code",
   "execution_count": 1,
   "id": "6d72e5d4",
   "metadata": {},
   "outputs": [
    {
     "name": "stderr",
     "output_type": "stream",
     "text": [
      "/Users/parshakova.tanya/opt/anaconda3/envs/routing/lib/python3.9/site-packages/tqdm/auto.py:22: TqdmWarning: IProgress not found. Please update jupyter and ipywidgets. See https://ipywidgets.readthedocs.io/en/stable/user_install.html\n",
      "  from .autonotebook import tqdm as notebook_tqdm\n"
     ]
    }
   ],
   "source": [
    "import numpy as np\n",
    "\n",
    "import seaborn as sns\n",
    "import matplotlib.pyplot as plt\n",
    "\n",
    "import copy, time\n",
    "import random\n",
    "import pickle\n",
    "import scipy\n",
    "\n",
    "import mlrfit as mf\n",
    "import hfmfit as hf"
   ]
  },
  {
   "cell_type": "code",
   "execution_count": 2,
   "id": "4759ee57",
   "metadata": {},
   "outputs": [],
   "source": [
    "np.random.seed(1001)\n",
    "random.seed(1001)"
   ]
  },
  {
   "cell_type": "markdown",
   "id": "18de320e",
   "metadata": {},
   "source": [
    "# True model is MLR factor model with SNR = 4 \n",
    "\n",
    "Let $\\Sigma = FF^T + D$ be MLR. We generate samples using \n",
    "$$\n",
    "y = Fz + e, \\qquad z \\sim N(0, I), \\qquad N(0, D).\n",
    "$$"
   ]
  },
  {
   "cell_type": "code",
   "execution_count": 3,
   "id": "4fe21c39",
   "metadata": {},
   "outputs": [],
   "source": [
    "mtype = \"small_mlr_hier\"\n",
    "n = 300\n",
    "signal_to_noise = 4\n",
    "\n",
    "\n",
    "nsamples = 20\n",
    "L = 4\n",
    "\n",
    "ranks = np.array([4, 3, 2, 1])\n",
    "rank = ranks.sum()"
   ]
  },
  {
   "cell_type": "code",
   "execution_count": 4,
   "id": "1b8661e6",
   "metadata": {},
   "outputs": [
    {
     "name": "stdout",
     "output_type": "stream",
     "text": [
      "level=0, num_groups=1, mean_size=300.0\n",
      "level=1, num_groups=4, mean_size=75.0\n",
      "level=2, num_groups=8, mean_size=37.5\n",
      "level=3, num_groups=300, mean_size=1.0\n"
     ]
    }
   ],
   "source": [
    "pi_rows = np.random.permutation(n)\n",
    "hpart = {'rows':{'pi':pi_rows, 'lk':[]}, 'cols':{'pi':pi_rows, 'lk':[]}} \n",
    "for ngroups in [2, 5, 9, n+1]:\n",
    "       hpart['rows']['lk'] += [ np.linspace(0, n, ngroups, endpoint=True, dtype=int)]\n",
    "hpart['cols']['lk'] = hpart['rows']['lk']\n",
    "part_sizes = hf.print_hpart_numgroups(hpart)"
   ]
  },
  {
   "cell_type": "code",
   "execution_count": 5,
   "id": "4573f094",
   "metadata": {},
   "outputs": [
    {
     "name": "stdout",
     "output_type": "stream",
     "text": [
      "signal_var=8.837876183246516, noise_var=2.2576120524425716\n",
      "SNR=3.9147010106030304, signal_to_noise=4\n"
     ]
    }
   ],
   "source": [
    "true_mlr, true_sparse_F, true_D_noise = hf.generate_mlr_model(n, hpart, ranks, signal_to_noise)"
   ]
  },
  {
   "cell_type": "code",
   "execution_count": 6,
   "id": "56adf3f1",
   "metadata": {},
   "outputs": [
    {
     "data": {
      "image/png": "[encoded data removed]",
      "text/plain": [
       "<Figure size 1000x400 with 2 Axes>"
      ]
     },
     "metadata": {},
     "output_type": "display_data"
    },
    {
     "name": "stdout",
     "output_type": "stream",
     "text": [
      "(300, 32)\n"
     ]
    }
   ],
   "source": [
    "plt.figure(figsize=(10, 4)) \n",
    "plt.matshow(true_sparse_F.T, aspect='auto', fignum=1, cmap='hot') \n",
    "plt.colorbar() \n",
    "plt.show()\n",
    "print(true_sparse_F.shape)"
   ]
  },
  {
   "cell_type": "code",
   "execution_count": 7,
   "id": "90205a49",
   "metadata": {},
   "outputs": [
    {
     "data": {
      "text/plain": [
       "numpy.ndarray"
      ]
     },
     "execution_count": 7,
     "metadata": {},
     "output_type": "execute_result"
    }
   ],
   "source": [
    "type(true_sparse_F)"
   ]
  },
  {
   "cell_type": "code",
   "execution_count": 9,
   "id": "bc781a6d",
   "metadata": {},
   "outputs": [],
   "source": [
    "filename = \"%s_r%d_%d\"%(mtype, rank, n)"
   ]
  },
  {
   "cell_type": "code",
   "execution_count": 10,
   "id": "3c491ea8",
   "metadata": {},
   "outputs": [
    {
     "name": "stdout",
     "output_type": "stream",
     "text": [
      "num_levels=4, num_sparsities=8\n",
      "(8, 3) [0 3 7]\n"
     ]
    }
   ],
   "source": [
    "row_selectors, si_groups, F_hpart = hf.row_col_selections(hpart)"
   ]
  },
  {
   "cell_type": "markdown",
   "id": "5640e3da",
   "metadata": {},
   "source": [
    "# True model loglikelihoods"
   ]
  },
  {
   "cell_type": "code",
   "execution_count": 14,
   "id": "65285351",
   "metadata": {},
   "outputs": [
    {
     "name": "stdout",
     "output_type": "stream",
     "text": [
      "TR: train ll=-559.1507748088661, exp ll=-566.1412192162936\n"
     ]
    }
   ],
   "source": [
    "C = hf.generate_data(true_sparse_F, true_D_noise, nsamples, true_mlr)\n",
    "Z = (C - C.mean(axis=1, keepdims=True))[hpart[\"rows\"][\"pi\"], :]\n",
    "del C\n",
    "unpermuted_A = (Z @ Z.T / (Z.shape[1]-1))[true_mlr.pi_inv_rows, :][:, true_mlr.pi_inv_cols]\n",
    "# permute to put clusters on diagonal\n",
    "Y = Z.T\n",
    "N = Y.shape[0]\n",
    "\n",
    "true_Sigma = hf.perm_hat_Sigma_sp(true_sparse_F, true_D_noise)\n",
    "tr_lu, tr_piv = scipy.linalg.lu_factor(true_Sigma)\n",
    "true_train_obj = hf.loglikelihood_value(true_Sigma, tr_lu, tr_piv, Y)\n",
    "exp_true_ll = hf.exp_true_loglikelihood_value(true_Sigma)\n",
    "print(f\"TR: train ll={true_train_obj}, exp ll={exp_true_ll}\")"
   ]
  },
  {
   "cell_type": "code",
   "execution_count": 15,
   "id": "c47ec743",
   "metadata": {},
   "outputs": [],
   "source": [
    "assert np.allclose(exp_true_ll, hf.exp_loglikelihood_value(true_Sigma, true_Sigma, tr_lu, tr_piv))"
   ]
  },
  {
   "cell_type": "code",
   "execution_count": 16,
   "id": "d69bab8b",
   "metadata": {},
   "outputs": [
    {
     "data": {
      "text/plain": [
       "((1.0, 280.9193185097838), (300, 32))"
      ]
     },
     "execution_count": 16,
     "metadata": {},
     "output_type": "execute_result"
    }
   ],
   "source": [
    "np.linalg.slogdet(true_Sigma), true_sparse_F.shape"
   ]
  },
  {
   "cell_type": "markdown",
   "id": "d4cc586c",
   "metadata": {},
   "source": [
    "# Distribution of $\\mathbf{E}_y\\ell(\\theta(Y^{\\text{train}}); y)$"
   ]
  },
  {
   "cell_type": "code",
   "execution_count": 17,
   "id": "72b61a52",
   "metadata": {},
   "outputs": [],
   "source": [
    "ll_distribution = {\"frob\":{\"train\":[], \"exp\":[]},\n",
    "                   \"mle\":{\"train\":[], \"exp\":[]}}"
   ]
  },
  {
   "cell_type": "code",
   "execution_count": 49,
   "id": "ce7fdcaf",
   "metadata": {},
   "outputs": [
    {
     "name": "stdout",
     "output_type": "stream",
     "text": [
      "t=0\n",
      "FR: train ll=-496.18348457293206, exp ll=-1354.1583594983877, losses[-1]=0.3876368384519186\n",
      "ML: train ll=-450.49566775685224, exp ll=-1201.4661122331124\n",
      "t=1\n",
      "FR: train ll=-493.6466977893409, exp ll=-1136.8355217943385, losses[-1]=0.32778325355216187\n",
      "ML: train ll=-457.79878032220756, exp ll=-1116.4723128475866\n",
      "t=2\n",
      "FR: train ll=-498.0060211214366, exp ll=-1526.0192300259698, losses[-1]=0.363159034866746\n",
      "ML: train ll=-449.2063117074752, exp ll=-1279.7228418900177\n",
      "t=3\n",
      "FR: train ll=-490.18687899257156, exp ll=-1172.6265292806265, losses[-1]=0.373125377453875\n",
      "ML: train ll=-452.9724354685086, exp ll=-1332.3692212159904\n",
      "t=4\n",
      "FR: train ll=-505.93012426968016, exp ll=-1557.1892473603496, losses[-1]=0.3422445889466911\n",
      "ML: train ll=-449.1697115514623, exp ll=-1173.1854691584683\n",
      "t=5\n",
      "FR: train ll=-499.27086835042854, exp ll=-1157.1043608206273, losses[-1]=0.34115754239046053\n",
      "ML: train ll=-451.47118798930205, exp ll=-1142.3852280911206\n",
      "t=6\n",
      "FR: train ll=-490.4178891847646, exp ll=-1229.7837559393945, losses[-1]=0.29554032846104134\n",
      "ML: train ll=-455.9096428912638, exp ll=-1178.4776750104454\n",
      "t=7\n",
      "FR: train ll=-500.6613671779407, exp ll=-1255.5790530227694, losses[-1]=0.372319373418835\n",
      "ML: train ll=-449.5266665258041, exp ll=-1149.0921857546991\n",
      "t=8\n",
      "FR: train ll=-499.461800291492, exp ll=-1533.5304923995964, losses[-1]=0.285249065195117\n",
      "ML: train ll=-450.7418321089084, exp ll=-1217.0760515018865\n",
      "t=9\n",
      "FR: train ll=-506.0708733379026, exp ll=-1175.5614877893877, losses[-1]=0.34432097869042994\n",
      "ML: train ll=-456.5161937024732, exp ll=-1067.0947226566493\n",
      "t=10\n",
      "FR: train ll=-497.7192949672437, exp ll=-1238.157393450049, losses[-1]=0.33724917506232827\n",
      "ML: train ll=-450.9594364564324, exp ll=-1099.4232065458152\n",
      "t=11\n",
      "FR: train ll=-496.4941052492385, exp ll=-1197.9617096948, losses[-1]=0.35576052106681094\n",
      "ML: train ll=-460.26652830619753, exp ll=-1196.8344686900703\n",
      "t=12\n",
      "FR: train ll=-492.78557143952605, exp ll=-1274.384608747967, losses[-1]=0.34977176017411477\n",
      "ML: train ll=-453.88570948765135, exp ll=-1125.9369882701794\n",
      "t=13\n",
      "FR: train ll=-502.3096692457522, exp ll=-1158.0342024642912, losses[-1]=0.35203864805298746\n",
      "ML: train ll=-455.1664816589899, exp ll=-1065.230829870473\n",
      "t=14\n",
      "FR: train ll=-497.6597426451987, exp ll=-1277.57067738493, losses[-1]=0.34896971701812596\n",
      "ML: train ll=-452.9824215260978, exp ll=-1147.4056905639507\n",
      "t=15\n",
      "FR: train ll=-503.031927308205, exp ll=-1348.482508213016, losses[-1]=0.3392055873938825\n",
      "ML: train ll=-455.5379153642298, exp ll=-1131.4802507115774\n",
      "t=16\n",
      "FR: train ll=-487.04775897633516, exp ll=-1220.1434147937864, losses[-1]=0.3604495637847014\n",
      "ML: train ll=-452.97357899513173, exp ll=-1180.2799040035495\n",
      "t=17\n",
      "FR: train ll=-484.6350258106886, exp ll=-1187.6372482683678, losses[-1]=0.3806738036185342\n",
      "ML: train ll=-452.15930157763796, exp ll=-1172.594326372514\n",
      "t=18\n",
      "FR: train ll=-534.3614420570864, exp ll=-1623.5412916832133, losses[-1]=0.3314324496459343\n",
      "ML: train ll=-452.76256875178143, exp ll=-1261.7864066537488\n",
      "t=19\n",
      "FR: train ll=-538.2094209196499, exp ll=-1452.3455909081904, losses[-1]=0.35811082696108354\n",
      "ML: train ll=-460.28563358334884, exp ll=-1077.747920373653\n",
      "t=20\n",
      "FR: train ll=-482.07203998551677, exp ll=-1150.3427476067263, losses[-1]=0.4045590742347314\n",
      "ML: train ll=-451.9538618283674, exp ll=-1147.9713340074702\n",
      "t=21\n",
      "FR: train ll=-491.9137332206941, exp ll=-1375.695800805862, losses[-1]=0.3513386044668304\n",
      "ML: train ll=-441.9656235623115, exp ll=-1153.205942440723\n",
      "t=22\n",
      "FR: train ll=-487.28193721988845, exp ll=-1475.4327212108094, losses[-1]=0.35607897632042895\n",
      "ML: train ll=-437.16105033418125, exp ll=-1493.5060152612582\n",
      "t=23\n",
      "FR: train ll=-551.5081800252538, exp ll=-2322.319204989937, losses[-1]=0.30943128918512164\n",
      "ML: train ll=-450.00394567111096, exp ll=-1444.6493691928733\n",
      "t=24\n",
      "FR: train ll=-499.31538849966336, exp ll=-1410.085648347911, losses[-1]=0.3330263483825278\n",
      "ML: train ll=-447.74434160099736, exp ll=-1213.5202202598061\n",
      "t=25\n",
      "FR: train ll=-494.32665408804917, exp ll=-1103.0083131668848, losses[-1]=0.3604221057893873\n",
      "ML: train ll=-466.2158385766499, exp ll=-1276.390662455217\n",
      "t=26\n",
      "FR: train ll=-506.7992500446304, exp ll=-1292.161066024561, losses[-1]=0.3550892645661814\n",
      "ML: train ll=-454.78830897363184, exp ll=-1129.8461432239503\n",
      "t=27\n",
      "FR: train ll=-506.56490783185654, exp ll=-1459.601305958806, losses[-1]=0.37512720718778847\n",
      "ML: train ll=-442.3531701652488, exp ll=-1195.758723815325\n",
      "t=28\n",
      "FR: train ll=-507.88248591434547, exp ll=-1267.547414656949, losses[-1]=0.3975526080855375\n",
      "ML: train ll=-458.62672335976794, exp ll=-1086.6375746313522\n",
      "t=29\n",
      "FR: train ll=-490.5430511224355, exp ll=-1148.4925373798667, losses[-1]=0.34347920900341766\n",
      "ML: train ll=-451.89338225836144, exp ll=-1091.7832471589786\n",
      "t=30\n",
      "FR: train ll=-499.25398177570713, exp ll=-1121.0344541139086, losses[-1]=0.32766130585668457\n",
      "ML: train ll=-458.64146247058, exp ll=-1091.7026289817095\n",
      "t=31\n",
      "FR: train ll=-553.3140200593173, exp ll=-1498.4743565560616, losses[-1]=0.3463769433475988\n",
      "ML: train ll=-454.46484347130206, exp ll=-1120.0750036685183\n",
      "t=32\n",
      "FR: train ll=-515.3440692108595, exp ll=-1260.9347819273407, losses[-1]=0.39245577487360894\n",
      "ML: train ll=-460.6672444230614, exp ll=-1059.6449240450288\n",
      "t=33\n",
      "FR: train ll=-494.32055556482027, exp ll=-1189.6651216884989, losses[-1]=0.3471114720582743\n",
      "ML: train ll=-450.2576549246155, exp ll=-1202.7069392736432\n",
      "t=34\n",
      "FR: train ll=-496.56014091542386, exp ll=-1365.1561129650913, losses[-1]=0.37379448556909967\n",
      "ML: train ll=-453.96881013290977, exp ll=-1141.9956289994168\n",
      "t=35\n",
      "FR: train ll=-511.9186000376385, exp ll=-1345.7576097638682, losses[-1]=0.32951898705466914\n",
      "ML: train ll=-450.3242702614558, exp ll=-1149.4686567342064\n",
      "t=36\n",
      "FR: train ll=-494.79249819613267, exp ll=-1127.4841678067178, losses[-1]=0.3888691777642672\n",
      "ML: train ll=-460.2980037317294, exp ll=-1076.4114070917544\n",
      "t=37\n",
      "FR: train ll=-484.3468947975959, exp ll=-1071.5135714002001, losses[-1]=0.3190988138245124\n",
      "ML: train ll=-453.42235911202516, exp ll=-1122.5383234153903\n",
      "t=38\n",
      "FR: train ll=-485.25471227600804, exp ll=-1245.8282872561372, losses[-1]=0.3085516471526684\n",
      "ML: train ll=-443.2774585584122, exp ll=-1201.352139579506\n",
      "t=39\n",
      "FR: train ll=-481.54692472922216, exp ll=-1176.5499249490663, losses[-1]=0.34710060228891493\n",
      "ML: train ll=-449.9537557319043, exp ll=-1151.7589812230271\n",
      "t=40\n",
      "FR: train ll=-500.148803731429, exp ll=-1285.565619963835, losses[-1]=0.34097145777583915\n",
      "ML: train ll=-446.67219594370727, exp ll=-1154.8476008381535\n",
      "t=41\n",
      "FR: train ll=-492.6933079836243, exp ll=-1207.579931642063, losses[-1]=0.38596533798247123\n",
      "ML: train ll=-455.7969834831364, exp ll=-1224.895855884225\n",
      "t=42\n",
      "FR: train ll=-498.65654980785814, exp ll=-1318.2046526693794, losses[-1]=0.3866922887149304\n",
      "ML: train ll=-451.179854337997, exp ll=-1087.030705186543\n",
      "t=43\n",
      "FR: train ll=-486.2488103908252, exp ll=-1157.5842884402716, losses[-1]=0.31546976152725\n",
      "ML: train ll=-453.78273136947854, exp ll=-1108.6945891878604\n",
      "t=44\n",
      "FR: train ll=-490.91978769344087, exp ll=-1151.3293308105176, losses[-1]=0.32824688049984385\n",
      "ML: train ll=-460.99318778191156, exp ll=-1149.6187962460972\n",
      "t=45\n",
      "FR: train ll=-488.5467618429444, exp ll=-1285.5190353205423, losses[-1]=0.35411098408611696\n",
      "ML: train ll=-447.69530344037537, exp ll=-1207.0102766674418\n",
      "t=46\n",
      "FR: train ll=-507.30027079670447, exp ll=-1486.7290439839717, losses[-1]=0.33859631538321294\n",
      "ML: train ll=-448.3184637524497, exp ll=-1234.7715342400647\n",
      "t=47\n",
      "FR: train ll=-512.6038382238179, exp ll=-1383.7675638016945, losses[-1]=0.351192504679553\n",
      "ML: train ll=-449.71156677176106, exp ll=-1039.5618953541384\n",
      "t=48\n",
      "FR: train ll=-496.10956629185705, exp ll=-1615.2310219965977, losses[-1]=0.3290563064970103\n",
      "ML: train ll=-449.3278972128076, exp ll=-1171.2527542990767\n",
      "t=49\n",
      "FR: train ll=-494.25185128036975, exp ll=-1426.26738817157, losses[-1]=0.3078814111789324\n",
      "ML: train ll=-445.8010050299901, exp ll=-1288.342574787388\n",
      "t=50\n",
      "FR: train ll=-512.2958003882403, exp ll=-1401.3632138521625, losses[-1]=0.35799941086855297\n",
      "ML: train ll=-454.16513487752127, exp ll=-1163.9164735715585\n",
      "t=51\n",
      "FR: train ll=-481.40694768731083, exp ll=-1279.2175436292882, losses[-1]=0.31297078391596606\n",
      "ML: train ll=-441.78287753880994, exp ll=-1153.1102654108613\n",
      "t=52\n",
      "FR: train ll=-498.05287526193825, exp ll=-1559.293905793278, losses[-1]=0.3221959378915752\n",
      "ML: train ll=-450.91750036115116, exp ll=-1213.9288174659523\n",
      "t=53\n",
      "FR: train ll=-509.92829227755584, exp ll=-1388.4161115873496, losses[-1]=0.3355084786861258\n",
      "ML: train ll=-457.9524138135165, exp ll=-1112.9119631383487\n",
      "t=54\n",
      "FR: train ll=-494.8818449471839, exp ll=-1253.6064250477698, losses[-1]=0.3040835686840062\n",
      "ML: train ll=-455.61556188648655, exp ll=-1209.184671639488\n",
      "t=55\n",
      "FR: train ll=-614.8730334643718, exp ll=-1793.0337399534824, losses[-1]=0.32000716666426754\n",
      "ML: train ll=-453.22778034578033, exp ll=-1190.0975616581777\n",
      "t=56\n",
      "FR: train ll=-492.8626519333152, exp ll=-1240.0389294251315, losses[-1]=0.30427259875397783\n",
      "ML: train ll=-457.0660396840611, exp ll=-1231.7508407058422\n",
      "t=57\n",
      "FR: train ll=-493.68330333252453, exp ll=-1481.1255809819286, losses[-1]=0.33680664698296525\n",
      "ML: train ll=-447.41338276384295, exp ll=-1283.1279455515437\n",
      "t=58\n",
      "FR: train ll=-494.9065064118519, exp ll=-1369.7882059980188, losses[-1]=0.3721622386164781\n",
      "ML: train ll=-447.8249328056037, exp ll=-1303.6218628957513\n",
      "t=59\n",
      "FR: train ll=-494.45582760733816, exp ll=-1180.3353238158586, losses[-1]=0.3239241710651135\n",
      "ML: train ll=-454.3115146312779, exp ll=-1028.4450748263675\n",
      "t=60\n",
      "FR: train ll=-549.034605025754, exp ll=-1610.8215462893784, losses[-1]=0.33386418380753036\n",
      "ML: train ll=-451.8879019773138, exp ll=-1134.9891936851232\n",
      "t=61\n",
      "FR: train ll=-487.27288953716817, exp ll=-1189.4903028204458, losses[-1]=0.36199150479394737\n",
      "ML: train ll=-441.0716331843376, exp ll=-1186.0156357460692\n",
      "t=62\n",
      "FR: train ll=-506.11774517947225, exp ll=-1224.3000966697489, losses[-1]=0.3402754646192904\n",
      "ML: train ll=-456.6867030590932, exp ll=-1101.3022887365864\n",
      "t=63\n",
      "FR: train ll=-513.3120078097043, exp ll=-1383.7439746316145, losses[-1]=0.3339287664953768\n",
      "ML: train ll=-452.3774820891552, exp ll=-1140.6496897862214\n",
      "t=64\n",
      "FR: train ll=-489.93068773677425, exp ll=-1114.1693128533605, losses[-1]=0.3259604276374399\n",
      "ML: train ll=-453.3189357272705, exp ll=-1071.8907915768414\n",
      "t=65\n",
      "FR: train ll=-705.1688111774163, exp ll=-2865.022684558757, losses[-1]=0.3464111611916079\n",
      "ML: train ll=-453.9087016692753, exp ll=-1177.2195052105653\n",
      "t=66\n",
      "FR: train ll=-524.660038381229, exp ll=-1417.2946394743758, losses[-1]=0.3812761828805693\n",
      "ML: train ll=-451.4309594587188, exp ll=-1084.6942117983485\n",
      "t=67\n",
      "FR: train ll=-569.2737876565354, exp ll=-1755.9058070380129, losses[-1]=0.2935500430291436\n",
      "ML: train ll=-451.82672246986283, exp ll=-1195.1269559934872\n",
      "t=68\n",
      "FR: train ll=-486.35383047306806, exp ll=-1292.393184621792, losses[-1]=0.3542781989663116\n",
      "ML: train ll=-446.1691957306969, exp ll=-1292.6791229375722\n",
      "t=69\n",
      "FR: train ll=-479.94969545807226, exp ll=-1312.3386671413866, losses[-1]=0.2734984501389265\n",
      "ML: train ll=-450.4650278499722, exp ll=-1232.9556876304114\n",
      "t=70\n",
      "FR: train ll=-515.6048240417584, exp ll=-1418.3667570484015, losses[-1]=0.38242197541438927\n",
      "ML: train ll=-461.1739817901342, exp ll=-1298.3715236790301\n",
      "t=71\n",
      "FR: train ll=-504.3320557041463, exp ll=-1476.2891487223078, losses[-1]=0.36235743604725174\n",
      "ML: train ll=-452.42924080847007, exp ll=-1152.460228341547\n",
      "t=72\n",
      "FR: train ll=-491.2495334410589, exp ll=-1302.3834026375985, losses[-1]=0.32603602545047805\n",
      "ML: train ll=-448.0777715763676, exp ll=-1377.918388938466\n",
      "t=73\n",
      "FR: train ll=-503.7602914914249, exp ll=-1295.8689051068764, losses[-1]=0.3752421798077042\n",
      "ML: train ll=-448.8368084693017, exp ll=-1082.43027772643\n",
      "t=74\n",
      "FR: train ll=-512.9807461892257, exp ll=-1415.8583683148827, losses[-1]=0.3320351501779819\n",
      "ML: train ll=-448.6510669987824, exp ll=-1154.050493775254\n",
      "t=75\n",
      "FR: train ll=-510.5699642654341, exp ll=-1549.657357636462, losses[-1]=0.37956071668101443\n",
      "ML: train ll=-449.28877149147047, exp ll=-1334.7227598580198\n",
      "t=76\n",
      "FR: train ll=-492.69233241704035, exp ll=-1151.9881147563015, losses[-1]=0.3262792921709641\n",
      "ML: train ll=-454.1181570023035, exp ll=-1104.2058880137934\n",
      "t=77\n",
      "FR: train ll=-496.4217881529077, exp ll=-1181.3448898537742, losses[-1]=0.33947496434497376\n",
      "ML: train ll=-453.5034712181415, exp ll=-1166.7385002428246\n",
      "t=78\n",
      "FR: train ll=-506.5518202797962, exp ll=-1260.8821717461883, losses[-1]=0.3536786771557335\n",
      "ML: train ll=-452.965530744102, exp ll=-1099.6727893376415\n",
      "t=79\n",
      "FR: train ll=-528.4526657932049, exp ll=-1518.9082905721798, losses[-1]=0.38053891069553886\n",
      "ML: train ll=-464.130341110266, exp ll=-1279.0529252067977\n",
      "t=80\n",
      "FR: train ll=-495.6451999413463, exp ll=-1525.4039016076433, losses[-1]=0.29750485144253686\n",
      "ML: train ll=-448.205867297362, exp ll=-1238.4355427667447\n",
      "t=81\n",
      "FR: train ll=-507.307293315687, exp ll=-1289.0146418735992, losses[-1]=0.391857283183115\n",
      "ML: train ll=-457.4904831426982, exp ll=-1133.963050130469\n",
      "t=82\n",
      "FR: train ll=-491.2450478278291, exp ll=-1226.3223800381543, losses[-1]=0.2763088463228166\n",
      "ML: train ll=-458.2454822517887, exp ll=-1043.9869958652944\n",
      "t=83\n",
      "FR: train ll=-534.7787962968457, exp ll=-1571.5764007514654, losses[-1]=0.35349407059650606\n",
      "ML: train ll=-454.7655650413402, exp ll=-1095.862363243119\n",
      "t=84\n",
      "FR: train ll=-494.5082084682218, exp ll=-1124.2326536900116, losses[-1]=0.3265835269402938\n",
      "ML: train ll=-454.12072740713603, exp ll=-998.9815226581675\n",
      "t=85\n",
      "FR: train ll=-509.39066602802933, exp ll=-1421.08010512774, losses[-1]=0.3721375843750876\n",
      "ML: train ll=-444.22474481888366, exp ll=-1138.9663264472513\n",
      "t=86\n",
      "FR: train ll=-482.22955167172984, exp ll=-1156.369388106779, losses[-1]=0.36072733694014314\n",
      "ML: train ll=-452.18157158590896, exp ll=-1198.681843244176\n",
      "t=87\n",
      "FR: train ll=-501.6244269971602, exp ll=-1504.9658059679464, losses[-1]=0.3277366234581908\n",
      "ML: train ll=-445.530935751062, exp ll=-1226.7930373695892\n",
      "t=88\n",
      "FR: train ll=-532.5933336151556, exp ll=-1422.8473971541969, losses[-1]=0.36616561646180246\n",
      "ML: train ll=-452.0488114875778, exp ll=-1147.803905540101\n",
      "t=89\n",
      "FR: train ll=-475.81782188090045, exp ll=-1183.4023181408486, losses[-1]=0.35867195199132784\n",
      "ML: train ll=-444.8229488878087, exp ll=-1159.3398749342662\n",
      "t=90\n",
      "FR: train ll=-496.71928505513534, exp ll=-1202.0644185760184, losses[-1]=0.31999939144457235\n",
      "ML: train ll=-452.926110453364, exp ll=-1099.4455549201048\n",
      "t=91\n",
      "FR: train ll=-518.5346951776979, exp ll=-1422.7388756934529, losses[-1]=0.37750392210678013\n",
      "ML: train ll=-445.7294503242632, exp ll=-1119.3516418229683\n",
      "t=92\n",
      "FR: train ll=-511.04012612447923, exp ll=-1241.025581192233, losses[-1]=0.3947780840674435\n",
      "ML: train ll=-470.0171058645721, exp ll=-1129.0952897041816\n",
      "t=93\n",
      "FR: train ll=-517.2298985161623, exp ll=-1399.4102475333093, losses[-1]=0.29616827842318716\n",
      "ML: train ll=-457.37113203498285, exp ll=-1163.2149881205073\n",
      "t=94\n",
      "FR: train ll=-505.6447254911801, exp ll=-1511.3034068508728, losses[-1]=0.39163366288444135\n",
      "ML: train ll=-454.4982549680759, exp ll=-1207.3628365640152\n",
      "t=95\n",
      "FR: train ll=-493.049468023118, exp ll=-1123.345266380599, losses[-1]=0.2991552350517535\n",
      "ML: train ll=-459.7861099090489, exp ll=-1064.4438481870538\n",
      "t=96\n",
      "FR: train ll=-483.9872141519736, exp ll=-1210.163732600182, losses[-1]=0.37257349466714146\n",
      "ML: train ll=-456.27974173751034, exp ll=-1211.220293668032\n",
      "t=97\n",
      "FR: train ll=-507.28996981687817, exp ll=-1152.000837751563, losses[-1]=0.28279614739354236\n",
      "ML: train ll=-461.02221299579435, exp ll=-1049.175099978403\n",
      "t=98\n",
      "FR: train ll=-503.4902637206707, exp ll=-1196.1272867483985, losses[-1]=0.33162329317630973\n",
      "ML: train ll=-458.5543650689957, exp ll=-1087.6063011378976\n",
      "t=99\n",
      "FR: train ll=-557.2645268964865, exp ll=-2187.3800307034526, losses[-1]=0.3290278212760522\n",
      "ML: train ll=-449.50171943647183, exp ll=-1255.3430086539804\n"
     ]
    }
   ],
   "source": [
    "for t in range(200):\n",
    "    print(f\"{t=}\")\n",
    "    C = hf.generate_data(true_sparse_F, true_D_noise, nsamples, true_mlr)\n",
    "    Z = (C - C.mean(axis=1, keepdims=True))[hpart[\"rows\"][\"pi\"], :]\n",
    "    del C\n",
    "    unpermuted_A = (Z @ Z.T / (Z.shape[1]-1))[true_mlr.pi_inv_rows, :][:, true_mlr.pi_inv_cols]\n",
    "    # permute to put clusters on diagonal\n",
    "    Y = Z.T\n",
    "    N = Y.shape[0]\n",
    "\n",
    "    # Frobenius \n",
    "    hat_A = mf.MLRMatrix()\n",
    "    hat_A.hpart = hpart\n",
    "    losses = hat_A.factor_fit(unpermuted_A, ranks, hat_A.hpart, eps_ff=1e-3, PSD=True, freq=1, \\\n",
    "                                    printing=False, max_iters_ff=50, symm=True)\n",
    "    F_frob, D_frob = hat_A.B[:, :-1], np.square(hat_A.B[:, -1])\n",
    "    Sigma_frob = hf.perm_hat_Sigma(F_frob, D_frob, F_hpart, ranks)\n",
    "    frob_lu, frob_piv = scipy.linalg.lu_factor(Sigma_frob)\n",
    "    obj_frob = hf.loglikelihood_value(Sigma_frob, frob_lu, frob_piv, Y)\n",
    "    exp_obj_frob = hf.exp_loglikelihood_value(true_Sigma, Sigma_frob, frob_lu, frob_piv)\n",
    "    print(f\"FR: train ll={obj_frob}, exp ll={exp_obj_frob}, {losses[-1]=}\")\n",
    "    ll_distribution[\"frob\"][\"train\"] += [obj_frob]\n",
    "    ll_distribution[\"frob\"][\"exp\"] += [exp_obj_frob]\n",
    "\n",
    "    # MLE\n",
    "    loglikelihoods, F0, D0 = hf.em_algorithm(n, Y, part_sizes, F_hpart, row_selectors, si_groups, \n",
    "                                         ranks, max_iter=100, eps=1e-8, printing=False, freq=1) \n",
    "    Sigma0 = hf.perm_hat_Sigma(F0, D0, F_hpart, ranks)\n",
    "    mle_lu, mle_piv = scipy.linalg.lu_factor(Sigma0)\n",
    "    exp_mle_obj = hf.exp_loglikelihood_value(true_Sigma, Sigma0, mle_lu, mle_piv)\n",
    "    print(f\"ML: train ll={loglikelihoods[-1]}, exp ll={exp_mle_obj}\")\n",
    "    ll_distribution[\"mle\"][\"train\"] += [loglikelihoods[-1]]\n",
    "    ll_distribution[\"mle\"][\"exp\"] += [exp_mle_obj]"
   ]
  },
  {
   "cell_type": "code",
   "execution_count": 62,
   "id": "cea82273",
   "metadata": {},
   "outputs": [],
   "source": [
    "with open(f\"outputs/hist_ll_{filename}.pickle\", 'wb') as handle:\n",
    "    pickle.dump(ll_distribution, handle, protocol=pickle.HIGHEST_PROTOCOL)"
   ]
  },
  {
   "cell_type": "code",
   "execution_count": 64,
   "id": "2fbbad44",
   "metadata": {},
   "outputs": [
    {
     "data": {
      "image/png": "[encoded data removed]",
      "text/plain": [
       "<Figure size 900x540 with 1 Axes>"
      ]
     },
     "metadata": {},
     "output_type": "display_data"
    }
   ],
   "source": [
    "plt.rcParams.update({\n",
    "    \"text.usetex\": True,\n",
    "    \"text.latex.preamble\": r\"\\usepackage{amsmath}\"\n",
    "})\n",
    "fig, axs = plt.subplots(1, 1, figsize=(5, 3), dpi=180, sharey=True)\n",
    "\n",
    "mean1, std1 = np.mean(ll_distribution[\"frob\"][\"exp\"]), np.std(ll_distribution[\"frob\"][\"exp\"])\n",
    "mean2, std2 = np.mean(ll_distribution[\"mle\"][\"exp\"]), np.std(ll_distribution[\"mle\"][\"exp\"])\n",
    "\n",
    "plt.hist(ll_distribution[\"frob\"][\"exp\"], bins=40, alpha=0.5, color='blue', label='Frob', density=True, edgecolor='black')\n",
    "plt.hist(ll_distribution[\"mle\"][\"exp\"], bins=10, alpha=0.5, color='yellow', label='MLE', density=True, edgecolor='black')\n",
    "\n",
    "plt.axvline(mean1, color='darkblue', linestyle='--', linewidth=1)\n",
    "plt.axvline(mean2, color='darkgoldenrod', linestyle='--', linewidth=1)\n",
    "\n",
    "# plt.title('Distribution of expected log-likelihoods')\n",
    "plt.xlabel(r'$\\mathbf{E}_y \\ell(F, D; y)$')\n",
    "plt.ylabel('fraction')\n",
    "plt.legend()\n",
    "\n",
    "axs.grid(True)\n",
    "plt.tight_layout()\n",
    "plt.savefig(f\"plots/hist_{filename}.pdf\", bbox_inches='tight')"
   ]
  },
  {
   "cell_type": "code",
   "execution_count": null,
   "id": "d4dfc782",
   "metadata": {},
   "outputs": [],
   "source": []
  },
  {
   "cell_type": "code",
   "execution_count": null,
   "id": "e58b0987",
   "metadata": {},
   "outputs": [],
   "source": []
  }
 ],
 "metadata": {
  "kernelspec": {
   "display_name": "Python 3 (ipykernel)",
   "language": "python",
   "name": "python3"
  },
  "language_info": {
   "codemirror_mode": {
    "name": "ipython",
    "version": 3
   },
   "file_extension": ".py",
   "mimetype": "text/x-python",
   "name": "python",
   "nbconvert_exporter": "python",
   "pygments_lexer": "ipython3",
   "version": "3.9.16"
  },
  "vscode": {
   "interpreter": {
    "hash": "cbb24b48ae2642bb0fe3c3a73dd180d2cf6b4e8df7de3f3850c06f8dd008ecd7"
   }
  }
 },
 "nbformat": 4,
 "nbformat_minor": 5
}
