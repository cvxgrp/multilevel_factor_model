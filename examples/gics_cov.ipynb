{
 "cells": [
  {
   "cell_type": "code",
   "execution_count": 1,
   "id": "6d72e5d4",
   "metadata": {},
   "outputs": [
    {
     "name": "stderr",
     "output_type": "stream",
     "text": [
      "/Users/parshakova.tanya/opt/anaconda3/envs/routing/lib/python3.9/site-packages/tqdm/auto.py:22: TqdmWarning: IProgress not found. Please update jupyter and ipywidgets. See https://ipywidgets.readthedocs.io/en/stable/user_install.html\n",
      "  from .autonotebook import tqdm as notebook_tqdm\n"
     ]
    }
   ],
   "source": [
    "import numpy as np\n",
    "\n",
    "import seaborn as sns\n",
    "import matplotlib.pyplot as plt\n",
    "\n",
    "import copy, time\n",
    "import random\n",
    "import pickle\n",
    "import scipy\n",
    "\n",
    "import mlrfit as mf\n",
    "import hfmfit as hf\n",
    "from tqdm import tqdm"
   ]
  },
  {
   "cell_type": "code",
   "execution_count": 2,
   "id": "4759ee57",
   "metadata": {},
   "outputs": [],
   "source": [
    "np.random.seed(1001)\n",
    "random.seed(1001)"
   ]
  },
  {
   "attachments": {},
   "cell_type": "markdown",
   "id": "573d6bef",
   "metadata": {},
   "source": [
    "#  Matrix definition"
   ]
  },
  {
   "cell_type": "code",
   "execution_count": 3,
   "id": "b435696c",
   "metadata": {},
   "outputs": [
    {
     "name": "stdout",
     "output_type": "stream",
     "text": [
      "level=0, 1\n",
      "level=1, 11\n",
      "level=2, 24\n",
      "level=3, 69\n",
      "level=4, 157\n",
      "level=5, 5000\n"
     ]
    }
   ],
   "source": [
    "rank = 30\n",
    "mtype = 'assetcov_gics'\n",
    "\n",
    "with open(\"../../mlr_fitting_private/data_finance/crsp_gics_5k_hpart.pkl\", \"rb\") as f:\n",
    "       gics_hpart = pickle.load(f)\n",
    "\n",
    "with open('../../mlr_fitting_private/data_finance/crsp_gics_5k_C.npy', 'rb') as f:\n",
    "       C = np.load(f)\n",
    "\n",
    "m = n = gics_hpart['rows']['pi'].size\n",
    "part_sizes = []\n",
    "for level in range(len(gics_hpart['rows']['lk'])):\n",
    "    part_sizes += [gics_hpart['rows']['lk'][level].size-1]\n",
    "    print(f\"{level=}, {gics_hpart['rows']['lk'][level].size-1}\")\n",
    "\n",
    "Z = mf.demean_clip(C)\n",
    "A = Z @ Z.T / (Z.shape[1]-1)"
   ]
  },
  {
   "cell_type": "code",
   "execution_count": 4,
   "id": "ec47e802",
   "metadata": {},
   "outputs": [
    {
     "data": {
      "text/plain": [
       "array([1.80995933, 0.24351866, 0.17073495, 0.11152992, 0.08905731,\n",
       "       0.080994  , 0.06320885, 0.05705067, 0.05527067, 0.05144684])"
      ]
     },
     "execution_count": 4,
     "metadata": {},
     "output_type": "execute_result"
    }
   ],
   "source": [
    "np.sort(np.abs(np.linalg.eigvalsh(A)))[::-1][:10]"
   ]
  },
  {
   "cell_type": "code",
   "execution_count": 5,
   "id": "ad91bc93",
   "metadata": {},
   "outputs": [
    {
     "data": {
      "text/plain": [
       "(array([99,  0,  0,  0,  0,  0,  0,  1]),\n",
       " array([0.02193369, 0.24543689, 0.4689401 , 0.6924433 , 0.91594651,\n",
       "        1.13944971, 1.36295292, 1.58645612, 1.80995933]))"
      ]
     },
     "execution_count": 5,
     "metadata": {},
     "output_type": "execute_result"
    }
   ],
   "source": [
    "np.histogram(np.sort(np.abs(np.linalg.eigvalsh(A)))[::-1][:100], bins=8)"
   ]
  },
  {
   "cell_type": "code",
   "execution_count": 6,
   "id": "d07fff32",
   "metadata": {},
   "outputs": [],
   "source": [
    "# U, Vt, sigmas = mf.frob_low_rank(A)\n",
    "# frob_losses = np.zeros(m)\n",
    "# normalization = np.linalg.norm(A, ord='fro')\n",
    "# sigmas2 = (sigmas**2)[::-1]\n",
    "# frob_losses = np.concatenate([(np.cumsum(sigmas2)**0.5)[::-1][1:] / normalization, np.array([0])])\n",
    "# mf.plot_frob_error_rank(frob_losses)"
   ]
  },
  {
   "cell_type": "code",
   "execution_count": 7,
   "id": "a6bc7fe2",
   "metadata": {},
   "outputs": [
    {
     "data": {
      "text/plain": [
       "((5000, 300),\n",
       " (5000, 5000),\n",
       " -0.001839477534559251,\n",
       " 0.014836883129622934,\n",
       " 0.0002737358427138843,\n",
       " 0.00025728376347159727)"
      ]
     },
     "execution_count": 7,
     "metadata": {},
     "output_type": "execute_result"
    }
   ],
   "source": [
    "C.shape, A.shape, A.min(), A.max(), A.mean(), A.std()"
   ]
  },
  {
   "cell_type": "code",
   "execution_count": null,
   "id": "8e62bfa5",
   "metadata": {},
   "outputs": [],
   "source": []
  },
  {
   "cell_type": "code",
   "execution_count": 8,
   "id": "80d79e96",
   "metadata": {},
   "outputs": [],
   "source": [
    "filename = \"%s_r%d_%d\"%(mtype, rank, n)"
   ]
  },
  {
   "cell_type": "code",
   "execution_count": 9,
   "id": "1e847bb2",
   "metadata": {},
   "outputs": [],
   "source": [
    "# GICS hierarchy\n",
    "num_levels = len(gics_hpart['rows']['lk'])"
   ]
  },
  {
   "cell_type": "code",
   "execution_count": 10,
   "id": "5b56ffdf",
   "metadata": {},
   "outputs": [],
   "source": [
    "# permute to put clusters on diagonal\n",
    "Y = Z[gics_hpart[\"rows\"][\"pi\"], :].T\n",
    "N = Y.shape[0]"
   ]
  },
  {
   "cell_type": "code",
   "execution_count": 11,
   "id": "bd12da2b",
   "metadata": {},
   "outputs": [
    {
     "name": "stdout",
     "output_type": "stream",
     "text": [
      "num_levels=6, num_sparsities=157\n",
      "(157, 5) [  0  10  23  68 156]\n"
     ]
    }
   ],
   "source": [
    "row_selectors, si_groups, F_hpart = hf.row_col_selections(gics_hpart)"
   ]
  },
  {
   "cell_type": "markdown",
   "id": "3c7a6002",
   "metadata": {},
   "source": [
    "# MLR with Frobenius norm"
   ]
  },
  {
   "cell_type": "code",
   "execution_count": 12,
   "id": "cd73c648",
   "metadata": {},
   "outputs": [],
   "source": [
    "obj_frobs = {}"
   ]
  },
  {
   "cell_type": "code",
   "execution_count": 13,
   "id": "c081176e",
   "metadata": {},
   "outputs": [
    {
     "name": "stderr",
     "output_type": "stream",
     "text": [
      "/Users/parshakova.tanya/Documents/projects/MLR_Matrices/mlr_fitting/mlrfit/utils.py:408: NumbaPerformanceWarning: \u001b[1m\u001b[1m\u001b[1mnp.dot() is faster on contiguous arrays, called on (array(float64, 2d, A), array(float64, 2d, A))\u001b[0m\u001b[0m\u001b[0m\n",
      "  hat_A_except_level[r1:r2, c1:c2] += np.dot(B_level[r1:r2], C_level[c1:c2].T)\n"
     ]
    },
    {
     "name": "stdout",
     "output_type": "stream",
     "text": [
      "itr=0, 0.1541325347909012, [29  0  0  0  0  1]\n",
      "itr=1, 0.1541325347909012, [29  0  0  0  0  1]\n",
      "itr=1, 0.15379449543341234, [29  0  0  0  0  1], time_v_epoch=5.646223068237305, time_loss=0.31926393508911133\n",
      "itr=2, 0.15379249118337152, [29  0  0  0  0  1], time_v_epoch=6.082866907119751, time_loss=0.3087780475616455\n",
      "obj_frob = 11808.872096245648\n"
     ]
    }
   ],
   "source": [
    "hat_A = mf.MLRMatrix()\n",
    "hat_A.hpart = gics_hpart\n",
    "ranks = np.array([rank-1, 0, 0, 0, 0, 1])\n",
    "losses = hat_A.factor_fit(A, ranks, hat_A.hpart, eps_ff=1e-3, PSD=True, freq=1, \\\n",
    "                                printing=True, max_iters_ff=50, symm=True)\n",
    "\n",
    "\n",
    "F_frob, D_frob = hat_A.B[:, :-1], np.square(hat_A.B[:, -1])\n",
    "Sigma_frob = hf.perm_hat_Sigma(F_frob, D_frob, F_hpart, ranks)\n",
    "lu, piv = scipy.linalg.lu_factor(Sigma_frob)\n",
    "obj_frob = hf.loglikelihood_value(Sigma_frob, lu, piv, Y)\n",
    "print(f\"{obj_frob = }\")\n",
    "obj_frobs[str(ranks)] = obj_frob\n"
   ]
  },
  {
   "cell_type": "code",
   "execution_count": 14,
   "id": "32e493bb",
   "metadata": {},
   "outputs": [
    {
     "data": {
      "text/plain": [
       "0.15379235173974629"
      ]
     },
     "execution_count": 14,
     "metadata": {},
     "output_type": "execute_result"
    }
   ],
   "source": [
    "mf.rel_diff(hat_A.matrix(), den=A)"
   ]
  },
  {
   "cell_type": "code",
   "execution_count": 15,
   "id": "3ff1afeb",
   "metadata": {},
   "outputs": [
    {
     "name": "stdout",
     "output_type": "stream",
     "text": [
      "30\n",
      "itr=0, 0.16617119653534937, [14  6  4  3  2  1]\n",
      "itr=1, 0.16617119653534937, [14  6  4  3  2  1]\n",
      "itr=1, 0.16493897439347802, [14  6  4  3  2  1], time_v_epoch=5.6623148918151855, time_loss=0.4334108829498291\n",
      "itr=2, 0.16482424552301322, [14  6  4  3  2  1], time_v_epoch=5.377481937408447, time_loss=0.31839776039123535\n",
      "obj_frob = 11955.956851218816\n"
     ]
    }
   ],
   "source": [
    "# ranks = mf.uniform_capped_ranks(rank, gics_hpart) \n",
    "ranks = np.array([14, 6, 4, 3, 2, 1])\n",
    "print(ranks.sum())\n",
    "hat_A = mf.MLRMatrix()\n",
    "hat_A.hpart = gics_hpart\n",
    "losses = hat_A.factor_fit(A, ranks, hat_A.hpart, eps_ff=1e-3, PSD=True, freq=1, \\\n",
    "                                printing=True, max_iters_ff=50, symm=True)\n",
    "\n",
    "F_frob, D_frob = hat_A.B[:, :-1], np.square(hat_A.B[:, -1])\n",
    "Sigma_frob = hf.perm_hat_Sigma(F_frob, D_frob, F_hpart, ranks)\n",
    "lu, piv = scipy.linalg.lu_factor(Sigma_frob)\n",
    "obj_frob = hf.loglikelihood_value(Sigma_frob, lu, piv, Y)\n",
    "print(f\"{obj_frob = }\")\n",
    "obj_frobs[str(ranks)] = obj_frob"
   ]
  },
  {
   "cell_type": "code",
   "execution_count": 16,
   "id": "2dd3380d",
   "metadata": {},
   "outputs": [
    {
     "data": {
      "text/plain": [
       "0.16479092911663543"
      ]
     },
     "execution_count": 16,
     "metadata": {},
     "output_type": "execute_result"
    }
   ],
   "source": [
    "mf.rel_diff(hat_A.matrix(), den=A)"
   ]
  },
  {
   "cell_type": "code",
   "execution_count": 17,
   "id": "75ec43f6",
   "metadata": {},
   "outputs": [],
   "source": [
    "# LR             0.16178478761767232\n",
    "# LR+D           0.1537922868665804"
   ]
  },
  {
   "cell_type": "markdown",
   "id": "e93ba113",
   "metadata": {},
   "source": [
    "# EM algorithm"
   ]
  },
  {
   "cell_type": "code",
   "execution_count": null,
   "id": "a2ef0ed0",
   "metadata": {},
   "outputs": [],
   "source": []
  },
  {
   "cell_type": "markdown",
   "id": "8d4fb1e6",
   "metadata": {},
   "source": [
    "# MLR initialization"
   ]
  },
  {
   "cell_type": "code",
   "execution_count": 18,
   "id": "4faf9edb",
   "metadata": {},
   "outputs": [],
   "source": [
    "# loglikelihoods = [-np.inf]\n",
    "# F0, D0 = hat_A.B[:, :-1], np.square(hat_A.B[:, -1])\n",
    "\n",
    "# for t in range(80):\n",
    "#     Sigma0 = perm_hat_Sigma(F0, D0, F_hpart, ranks)\n",
    "#     lu, piv = scipy.linalg.lu_factor(Sigma0)\n",
    "#     obj = loglikelihood_value(Sigma0, lu, piv, Y)\n",
    "#     loglikelihoods += [obj]\n",
    "#     print(f\"{t=}, {obj=}\")\n",
    "#     F1 = EM_get_F(F0, lu, piv, Y, ranks, part_sizes, F_hpart, row_selectors, si_groups)\n",
    "#     D1 = EM_get_D(F0, F1, lu, piv, Y, ranks, part_sizes, F_hpart, row_selectors, si_groups)\n",
    "#     F0, D0 = F1, D1\n",
    "#     assert D1.min() >= -1e-8 and loglikelihoods[-2] - 1e-8 <= loglikelihoods[-1]"
   ]
  },
  {
   "cell_type": "markdown",
   "id": "a326cac2",
   "metadata": {},
   "source": [
    "# Random initialization"
   ]
  },
  {
   "cell_type": "code",
   "execution_count": 19,
   "id": "bab4b62a",
   "metadata": {},
   "outputs": [],
   "source": [
    "loglikelihoods = [-np.inf]\n",
    "ranks = np.array([14, 6, 4, 3, 2, 1])\n",
    "F0, D0 = np.random.randn(n, rank-1), np.square(np.random.rand(n)) + 1"
   ]
  },
  {
   "cell_type": "code",
   "execution_count": 20,
   "id": "74f6235a",
   "metadata": {},
   "outputs": [
    {
     "name": "stdout",
     "output_type": "stream",
     "text": [
      "t=0, obj=-6485.641221344158\n",
      "t=50, obj=12107.44814607437\n"
     ]
    }
   ],
   "source": [
    "for t in range(100):\n",
    "    Sigma0 = hf.perm_hat_Sigma(F0, D0, F_hpart, ranks)\n",
    "    lu, piv = scipy.linalg.lu_factor(Sigma0)\n",
    "    obj = hf.loglikelihood_value(Sigma0, lu, piv, Y)\n",
    "    loglikelihoods += [obj]\n",
    "    if t % 50 == 0:\n",
    "        print(f\"{t=}, {obj=}\")\n",
    "    F1 = hf.EM_get_F(F0, lu, piv, Y, ranks, part_sizes, F_hpart, row_selectors, si_groups)\n",
    "    D1 = hf.EM_get_D(F0, F1, lu, piv, Y, ranks, part_sizes, F_hpart, row_selectors, si_groups)\n",
    "    F0, D0 = F1, D1\n",
    "    assert D1.min() >= -1e-8 and loglikelihoods[-2] - 1e-8 <= loglikelihoods[-1]"
   ]
  },
  {
   "cell_type": "code",
   "execution_count": 21,
   "id": "32e1b0b0",
   "metadata": {},
   "outputs": [],
   "source": [
    "ll_hier = np.copy(np.array(loglikelihoods))"
   ]
  },
  {
   "cell_type": "code",
   "execution_count": 22,
   "id": "7f246e09",
   "metadata": {},
   "outputs": [
    {
     "data": {
      "text/plain": [
       "164.59943873161137"
      ]
     },
     "execution_count": 22,
     "metadata": {},
     "output_type": "execute_result"
    }
   ],
   "source": [
    "(12111.61302037138-11947.013581639769)"
   ]
  },
  {
   "cell_type": "code",
   "execution_count": 23,
   "id": "c809675a",
   "metadata": {},
   "outputs": [
    {
     "data": {
      "text/plain": [
       "11.40950952328808"
      ]
     },
     "execution_count": 23,
     "metadata": {},
     "output_type": "execute_result"
    }
   ],
   "source": [
    "Sigma0 = hf.perm_hat_Sigma(F0, D0, F_hpart, ranks)\n",
    "mf.rel_diff(Sigma0, den=A[hat_A.pi_rows, :][:, hat_A.pi_cols]) #mf.rel_diff(Sigma0[hat_A.pi_inv_rows, :][:, hat_A.pi_inv_cols], den=A)"
   ]
  },
  {
   "cell_type": "code",
   "execution_count": null,
   "id": "5ec06c7a",
   "metadata": {},
   "outputs": [],
   "source": []
  },
  {
   "cell_type": "code",
   "execution_count": 24,
   "id": "1d8bb352",
   "metadata": {},
   "outputs": [],
   "source": [
    "loglikelihoods = [-np.inf]\n",
    "ranks = np.array([rank-1, 0, 0, 0, 0, 1])\n",
    "F0, D0 = np.random.randn(n, rank-1), np.square(np.random.rand(n)) + 1"
   ]
  },
  {
   "cell_type": "code",
   "execution_count": 25,
   "id": "d5657c3c",
   "metadata": {},
   "outputs": [
    {
     "name": "stdout",
     "output_type": "stream",
     "text": [
      "t=0, obj=-5380.380367585958\n",
      "t=50, obj=11904.42823184209\n"
     ]
    }
   ],
   "source": [
    "max_iter = 100\n",
    "for t in range(max_iter):\n",
    "    Sigma0 = hf.perm_hat_Sigma(F0, D0, F_hpart, ranks)\n",
    "    lu, piv = scipy.linalg.lu_factor(Sigma0)\n",
    "    obj = hf.loglikelihood_value(Sigma0, lu, piv, Y)\n",
    "    loglikelihoods += [obj]\n",
    "    if t % 50 == 0:\n",
    "        print(f\"{t=}, {obj=}\")\n",
    "    F1 = hf.EM_get_F(F0, lu, piv, Y, ranks, part_sizes, F_hpart, row_selectors, si_groups)\n",
    "    D1 = hf.EM_get_D(F0, F1, lu, piv, Y, ranks, part_sizes, F_hpart, row_selectors, si_groups)\n",
    "    F0, D0 = F1, D1\n",
    "    assert D1.min() >= -1e-8 and loglikelihoods[-2] - 1e-8 <= loglikelihoods[-1]"
   ]
  },
  {
   "cell_type": "code",
   "execution_count": 26,
   "id": "7429a6c6",
   "metadata": {},
   "outputs": [
    {
     "data": {
      "text/plain": [
       "96.53328366115238"
      ]
     },
     "execution_count": 26,
     "metadata": {},
     "output_type": "execute_result"
    }
   ],
   "source": [
    "11905.103228657465 - 11808.569944996312"
   ]
  },
  {
   "cell_type": "code",
   "execution_count": 27,
   "id": "cec6870a",
   "metadata": {},
   "outputs": [
    {
     "data": {
      "text/plain": [
       "31.977597050955012"
      ]
     },
     "execution_count": 27,
     "metadata": {},
     "output_type": "execute_result"
    }
   ],
   "source": [
    "Sigma0 = hf.perm_hat_Sigma(F0, D0, F_hpart, ranks)\n",
    "mf.rel_diff(Sigma0, den=A[hat_A.pi_rows, :][:, hat_A.pi_cols]) #mf.rel_diff(Sigma0[hat_A.pi_inv_rows, :][:, hat_A.pi_inv_cols], den=A)"
   ]
  },
  {
   "cell_type": "code",
   "execution_count": 28,
   "id": "ce19f566",
   "metadata": {},
   "outputs": [],
   "source": [
    "ll_factor = np.copy(np.array(loglikelihoods))"
   ]
  },
  {
   "cell_type": "code",
   "execution_count": 29,
   "id": "591699e9",
   "metadata": {},
   "outputs": [
    {
     "data": {
      "text/plain": [
       "(96, 157)"
      ]
     },
     "execution_count": 29,
     "metadata": {},
     "output_type": "execute_result"
    }
   ],
   "source": [
    "11905-11809, 12112-11955"
   ]
  },
  {
   "cell_type": "code",
   "execution_count": 37,
   "id": "a90b036c",
   "metadata": {},
   "outputs": [
    {
     "name": "stdout",
     "output_type": "stream",
     "text": [
      "ranks=array([29,  0,  0,  0,  0,  1]), difference=95.01, %increase=0.80\n",
      "ranks=array([14,  6,  4,  3,  2,  1]), difference=147.96, %increase=1.24\n"
     ]
    },
    {
     "data": {
      "image/png": "[encoded data removed]",
      "text/plain": [
       "<Figure size 1440x540 with 2 Axes>"
      ]
     },
     "metadata": {},
     "output_type": "display_data"
    }
   ],
   "source": [
    "rs = [np.array([rank-1, 0, 0, 0, 0, 1]), np.array([14, 6, 4, 3, 2, 1])]\n",
    "ll_all = [ll_factor, ll_hier]\n",
    "plt.rcParams.update({\n",
    "    \"text.usetex\": True,\n",
    "    \"text.latex.preamble\": r\"\\usepackage{amsmath}\"\n",
    "})\n",
    "fig, axs = plt.subplots(1, 2, figsize=(8, 3), dpi=180, sharey=True)\n",
    "for i in range(2):\n",
    "    ranks = rs[i]\n",
    "    ll = ll_all[i][:40]\n",
    "    print(f\"{ranks=}, difference={(ll[-1]-obj_frobs[str(ranks)]):.2f}, %increase={(ll[-1]-obj_frobs[str(ranks)])/obj_frobs[str(ranks)]*100:.2f}\")\n",
    "    axs[i].plot(np.maximum(1, ll), color='r', lw=1, label=r\"$\\text{ML}$\")\n",
    "    axs[i].set_xlabel('iteration')\n",
    "    axs[i].hlines(obj_frobs[str(ranks)], 0, ll.size-1, color='b', lw=1, label=r\"$\\text{Frob}$\")\n",
    "    axs[i].set_ylabel(r'$\\ell(F, D; Y)/N$')\n",
    "    axs[i].set_yscale('log')\n",
    "    axs[i].set_ylim([ll.max()-800, ll.max() + 200])\n",
    "    axs[i].grid(True)\n",
    "    axs[i].legend()\n",
    "    # axs[i].set_title(f\"ranks$={list(ranks)}$\")\n",
    "# plt.show()\n",
    "plt.tight_layout()\n",
    "# fig.suptitle(\"Observed data log-likelihood\", fontsize=16, y=1.05)\n",
    "plt.savefig(f\"plots/em_{mtype}.pdf\", bbox_inches='tight')"
   ]
  },
  {
   "cell_type": "code",
   "execution_count": 31,
   "id": "21422ef4",
   "metadata": {},
   "outputs": [],
   "source": [
    "with open(f\"outputs/em_{mtype}.pickle\", 'wb') as handle:\n",
    "    lls = {\"factor\":ll_factor, \"hier\":ll_hier, \"frob\":obj_frobs}\n",
    "    pickle.dump(lls, handle, protocol=pickle.HIGHEST_PROTOCOL)"
   ]
  },
  {
   "cell_type": "code",
   "execution_count": 32,
   "id": "1c80bf25",
   "metadata": {},
   "outputs": [],
   "source": [
    "with open(\"em_gics.pickle\", 'rb') as handle:\n",
    "    mlls = pickle.load(handle)"
   ]
  },
  {
   "cell_type": "code",
   "execution_count": 33,
   "id": "aa181ff5",
   "metadata": {},
   "outputs": [
    {
     "data": {
      "text/plain": [
       "dict_keys(['hier', 'frob'])"
      ]
     },
     "execution_count": 33,
     "metadata": {},
     "output_type": "execute_result"
    }
   ],
   "source": [
    "mlls.keys()"
   ]
  },
  {
   "cell_type": "code",
   "execution_count": 34,
   "id": "2694dce9",
   "metadata": {},
   "outputs": [],
   "source": [
    "# fig, ax = plt.subplots(figsize=(8, 16), dpi=120)\n",
    "# cax = ax.matshow(F1.T[:, 400:800], cmap='hot')\n",
    "# fig.colorbar(cax)\n",
    "# plt.show()"
   ]
  }
 ],
 "metadata": {
  "kernelspec": {
   "display_name": "Python 3 (ipykernel)",
   "language": "python",
   "name": "python3"
  },
  "language_info": {
   "codemirror_mode": {
    "name": "ipython",
    "version": 3
   },
   "file_extension": ".py",
   "mimetype": "text/x-python",
   "name": "python",
   "nbconvert_exporter": "python",
   "pygments_lexer": "ipython3",
   "version": "3.9.16"
  },
  "vscode": {
   "interpreter": {
    "hash": "cbb24b48ae2642bb0fe3c3a73dd180d2cf6b4e8df7de3f3850c06f8dd008ecd7"
   }
  }
 },
 "nbformat": 4,
 "nbformat_minor": 5
}
