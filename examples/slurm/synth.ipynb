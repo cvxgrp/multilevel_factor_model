{
 "cells": [
  {
   "cell_type": "code",
   "execution_count": 1,
   "metadata": {},
   "outputs": [
    {
     "name": "stderr",
     "output_type": "stream",
     "text": [
      "/Users/parshakova.tanya/opt/anaconda3/envs/routing/lib/python3.9/site-packages/tqdm/auto.py:22: TqdmWarning: IProgress not found. Please update jupyter and ipywidgets. See https://ipywidgets.readthedocs.io/en/stable/user_install.html\n",
      "  from .autonotebook import tqdm as notebook_tqdm\n"
     ]
    }
   ],
   "source": [
    "import numpy as np\n",
    "import random\n",
    "\n",
    "import timeit, warnings, argparse, os\n",
    "\n",
    "import mfmodel as mfm\n",
    "import numba as nb\n",
    "import pickle\n",
    "import glob \n",
    "\n",
    "\n",
    "\n",
    "np.random.seed(1001)\n",
    "random.seed(1001)"
   ]
  },
  {
   "cell_type": "code",
   "execution_count": 5,
   "metadata": {},
   "outputs": [
    {
     "name": "stdout",
     "output_type": "stream",
     "text": [
      "outputs/large_smfm_n200_rank16_L6.pickle\n",
      "[-540.3401516097272, -486.7854713193293, -481.58005093382474, -479.92180763925865, -479.0450596807236, -478.3985117839018, -477.8744648427707, -477.44155467131606, -477.1002117234322, -476.84982456776453]\n"
     ]
    }
   ],
   "source": [
    "mtype = \"large_smfm_n\"\n",
    "search_pattern = os.path.join(\"outputs/\", f'*{mtype}*.pickle')\n",
    "matching_files = sorted(glob.glob(search_pattern))\n",
    "\n",
    "for fname in matching_files:\n",
    "        print(fname)\n",
    "        with open(fname, 'rb') as handle:\n",
    "                d1 = pickle.load(handle)\n",
    "                print(d1[\"ll\"])"
   ]
  },
  {
   "cell_type": "code",
   "execution_count": 7,
   "metadata": {},
   "outputs": [
    {
     "data": {
      "text/plain": [
       "((200,), (200, 15))"
      ]
     },
     "execution_count": 7,
     "metadata": {},
     "output_type": "execute_result"
    }
   ],
   "source": [
    "d1[\"true_D\"].shape, d1[\"true_F\"].shape"
   ]
  },
  {
   "cell_type": "code",
   "execution_count": 8,
   "metadata": {},
   "outputs": [
    {
     "data": {
      "text/plain": [
       "{'train': -500.4229518301105, 'exp': -502.3862610812729}"
      ]
     },
     "execution_count": 8,
     "metadata": {},
     "output_type": "execute_result"
    }
   ],
   "source": [
    "d1[\"true_ll\"]"
   ]
  },
  {
   "cell_type": "code",
   "execution_count": null,
   "metadata": {},
   "outputs": [],
   "source": []
  }
 ],
 "metadata": {
  "kernelspec": {
   "display_name": "routing",
   "language": "python",
   "name": "python3"
  },
  "language_info": {
   "codemirror_mode": {
    "name": "ipython",
    "version": 3
   },
   "file_extension": ".py",
   "mimetype": "text/x-python",
   "name": "python",
   "nbconvert_exporter": "python",
   "pygments_lexer": "ipython3",
   "version": "3.9.16"
  }
 },
 "nbformat": 4,
 "nbformat_minor": 2
}
